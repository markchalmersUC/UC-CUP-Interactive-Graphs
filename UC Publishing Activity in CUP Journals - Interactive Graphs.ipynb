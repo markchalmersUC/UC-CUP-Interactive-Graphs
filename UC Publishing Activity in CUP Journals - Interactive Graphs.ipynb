{
 "cells": [
  {
   "cell_type": "markdown",
   "metadata": {},
   "source": [
    "# UC Publishing Activity in CUP Journals\n",
    "## Interactive Graphs"
   ]
  },
  {
   "cell_type": "markdown",
   "metadata": {},
   "source": [
    "# Getting Started:\n",
    "\n",
    "## Click the box of code below and run it. You can either press the \"Run\" button at the top of the browser while the below cell is selected or select the cell and press Shift and Enter"
   ]
  },
  {
   "cell_type": "code",
   "execution_count": 30,
   "metadata": {},
   "outputs": [],
   "source": [
    "#These lines load in the packages used for data manipulation and plotting\n",
    "\n",
    "import pandas as pd\n",
    "import plotly.express as px\n",
    "import plotly.graph_objects as go\n",
    "import pickle5 as pickle\n",
    "\n",
    "#This line loads in the data\n",
    "\n",
    "with open(\"publication_df.pickle\", \"rb\") as fh:\n",
    "    publication_df = pickle.load(fh)\n",
    "\n",
    "new_df2 = publication_df[(publication_df['year'] >= 1990)]"
   ]
  },
  {
   "cell_type": "markdown",
   "metadata": {},
   "source": [
    "## Run the below box to see the number of publications per year going back to 1990\n",
    "\n",
    "Hover over the plot to see the number of publications that year. You can select ranges by dragging over an area. Double click to go back to default view. "
   ]
  },
  {
   "cell_type": "code",
   "execution_count": 31,
   "metadata": {},
   "outputs": [
    {
     "data": {
      "application/vnd.plotly.v1+json": {
       "config": {
        "plotlyServerURL": "https://plot.ly"
       },
       "data": [
        {
         "alignmentgroup": "True",
         "hovertemplate": "counts=%{marker.color}<br>year=%{y}<extra></extra>",
         "legendgroup": "",
         "marker": {
          "color": [
           37,
           30,
           21,
           20,
           19,
           16,
           16,
           16,
           14,
           13,
           12,
           12,
           11,
           11,
           10,
           9,
           8,
           8,
           8,
           8,
           7,
           6,
           6,
           5,
           5,
           5,
           4,
           4,
           3,
           2,
           2,
           1
          ],
          "coloraxis": "coloraxis",
          "pattern": {
           "shape": ""
          }
         },
         "name": "",
         "offsetgroup": "",
         "orientation": "h",
         "showlegend": false,
         "textposition": "auto",
         "type": "bar",
         "x": [
          37,
          30,
          21,
          20,
          19,
          16,
          16,
          16,
          14,
          13,
          12,
          12,
          11,
          11,
          10,
          9,
          8,
          8,
          8,
          8,
          7,
          6,
          6,
          5,
          5,
          5,
          4,
          4,
          3,
          2,
          2,
          1
         ],
         "xaxis": "x",
         "y": [
          2020,
          2021,
          2016,
          2009,
          2012,
          2019,
          2018,
          2015,
          2011,
          2017,
          2004,
          2013,
          2014,
          2005,
          2000,
          2003,
          1996,
          2008,
          1995,
          2010,
          2007,
          2006,
          1992,
          1999,
          1998,
          1993,
          2001,
          1997,
          1990,
          1991,
          1994,
          2002
         ],
         "yaxis": "y"
        }
       ],
       "layout": {
        "barmode": "relative",
        "coloraxis": {
         "colorbar": {
          "title": {
           "text": "counts"
          }
         },
         "colorscale": [
          [
           0,
           "#0d0887"
          ],
          [
           0.1111111111111111,
           "#46039f"
          ],
          [
           0.2222222222222222,
           "#7201a8"
          ],
          [
           0.3333333333333333,
           "#9c179e"
          ],
          [
           0.4444444444444444,
           "#bd3786"
          ],
          [
           0.5555555555555556,
           "#d8576b"
          ],
          [
           0.6666666666666666,
           "#ed7953"
          ],
          [
           0.7777777777777778,
           "#fb9f3a"
          ],
          [
           0.8888888888888888,
           "#fdca26"
          ],
          [
           1,
           "#f0f921"
          ]
         ]
        },
        "height": 1200,
        "legend": {
         "tracegroupgap": 0
        },
        "template": {
         "data": {
          "bar": [
           {
            "error_x": {
             "color": "#2a3f5f"
            },
            "error_y": {
             "color": "#2a3f5f"
            },
            "marker": {
             "line": {
              "color": "#E5ECF6",
              "width": 0.5
             },
             "pattern": {
              "fillmode": "overlay",
              "size": 10,
              "solidity": 0.2
             }
            },
            "type": "bar"
           }
          ],
          "barpolar": [
           {
            "marker": {
             "line": {
              "color": "#E5ECF6",
              "width": 0.5
             },
             "pattern": {
              "fillmode": "overlay",
              "size": 10,
              "solidity": 0.2
             }
            },
            "type": "barpolar"
           }
          ],
          "carpet": [
           {
            "aaxis": {
             "endlinecolor": "#2a3f5f",
             "gridcolor": "white",
             "linecolor": "white",
             "minorgridcolor": "white",
             "startlinecolor": "#2a3f5f"
            },
            "baxis": {
             "endlinecolor": "#2a3f5f",
             "gridcolor": "white",
             "linecolor": "white",
             "minorgridcolor": "white",
             "startlinecolor": "#2a3f5f"
            },
            "type": "carpet"
           }
          ],
          "choropleth": [
           {
            "colorbar": {
             "outlinewidth": 0,
             "ticks": ""
            },
            "type": "choropleth"
           }
          ],
          "contour": [
           {
            "colorbar": {
             "outlinewidth": 0,
             "ticks": ""
            },
            "colorscale": [
             [
              0,
              "#0d0887"
             ],
             [
              0.1111111111111111,
              "#46039f"
             ],
             [
              0.2222222222222222,
              "#7201a8"
             ],
             [
              0.3333333333333333,
              "#9c179e"
             ],
             [
              0.4444444444444444,
              "#bd3786"
             ],
             [
              0.5555555555555556,
              "#d8576b"
             ],
             [
              0.6666666666666666,
              "#ed7953"
             ],
             [
              0.7777777777777778,
              "#fb9f3a"
             ],
             [
              0.8888888888888888,
              "#fdca26"
             ],
             [
              1,
              "#f0f921"
             ]
            ],
            "type": "contour"
           }
          ],
          "contourcarpet": [
           {
            "colorbar": {
             "outlinewidth": 0,
             "ticks": ""
            },
            "type": "contourcarpet"
           }
          ],
          "heatmap": [
           {
            "colorbar": {
             "outlinewidth": 0,
             "ticks": ""
            },
            "colorscale": [
             [
              0,
              "#0d0887"
             ],
             [
              0.1111111111111111,
              "#46039f"
             ],
             [
              0.2222222222222222,
              "#7201a8"
             ],
             [
              0.3333333333333333,
              "#9c179e"
             ],
             [
              0.4444444444444444,
              "#bd3786"
             ],
             [
              0.5555555555555556,
              "#d8576b"
             ],
             [
              0.6666666666666666,
              "#ed7953"
             ],
             [
              0.7777777777777778,
              "#fb9f3a"
             ],
             [
              0.8888888888888888,
              "#fdca26"
             ],
             [
              1,
              "#f0f921"
             ]
            ],
            "type": "heatmap"
           }
          ],
          "heatmapgl": [
           {
            "colorbar": {
             "outlinewidth": 0,
             "ticks": ""
            },
            "colorscale": [
             [
              0,
              "#0d0887"
             ],
             [
              0.1111111111111111,
              "#46039f"
             ],
             [
              0.2222222222222222,
              "#7201a8"
             ],
             [
              0.3333333333333333,
              "#9c179e"
             ],
             [
              0.4444444444444444,
              "#bd3786"
             ],
             [
              0.5555555555555556,
              "#d8576b"
             ],
             [
              0.6666666666666666,
              "#ed7953"
             ],
             [
              0.7777777777777778,
              "#fb9f3a"
             ],
             [
              0.8888888888888888,
              "#fdca26"
             ],
             [
              1,
              "#f0f921"
             ]
            ],
            "type": "heatmapgl"
           }
          ],
          "histogram": [
           {
            "marker": {
             "pattern": {
              "fillmode": "overlay",
              "size": 10,
              "solidity": 0.2
             }
            },
            "type": "histogram"
           }
          ],
          "histogram2d": [
           {
            "colorbar": {
             "outlinewidth": 0,
             "ticks": ""
            },
            "colorscale": [
             [
              0,
              "#0d0887"
             ],
             [
              0.1111111111111111,
              "#46039f"
             ],
             [
              0.2222222222222222,
              "#7201a8"
             ],
             [
              0.3333333333333333,
              "#9c179e"
             ],
             [
              0.4444444444444444,
              "#bd3786"
             ],
             [
              0.5555555555555556,
              "#d8576b"
             ],
             [
              0.6666666666666666,
              "#ed7953"
             ],
             [
              0.7777777777777778,
              "#fb9f3a"
             ],
             [
              0.8888888888888888,
              "#fdca26"
             ],
             [
              1,
              "#f0f921"
             ]
            ],
            "type": "histogram2d"
           }
          ],
          "histogram2dcontour": [
           {
            "colorbar": {
             "outlinewidth": 0,
             "ticks": ""
            },
            "colorscale": [
             [
              0,
              "#0d0887"
             ],
             [
              0.1111111111111111,
              "#46039f"
             ],
             [
              0.2222222222222222,
              "#7201a8"
             ],
             [
              0.3333333333333333,
              "#9c179e"
             ],
             [
              0.4444444444444444,
              "#bd3786"
             ],
             [
              0.5555555555555556,
              "#d8576b"
             ],
             [
              0.6666666666666666,
              "#ed7953"
             ],
             [
              0.7777777777777778,
              "#fb9f3a"
             ],
             [
              0.8888888888888888,
              "#fdca26"
             ],
             [
              1,
              "#f0f921"
             ]
            ],
            "type": "histogram2dcontour"
           }
          ],
          "mesh3d": [
           {
            "colorbar": {
             "outlinewidth": 0,
             "ticks": ""
            },
            "type": "mesh3d"
           }
          ],
          "parcoords": [
           {
            "line": {
             "colorbar": {
              "outlinewidth": 0,
              "ticks": ""
             }
            },
            "type": "parcoords"
           }
          ],
          "pie": [
           {
            "automargin": true,
            "type": "pie"
           }
          ],
          "scatter": [
           {
            "marker": {
             "colorbar": {
              "outlinewidth": 0,
              "ticks": ""
             }
            },
            "type": "scatter"
           }
          ],
          "scatter3d": [
           {
            "line": {
             "colorbar": {
              "outlinewidth": 0,
              "ticks": ""
             }
            },
            "marker": {
             "colorbar": {
              "outlinewidth": 0,
              "ticks": ""
             }
            },
            "type": "scatter3d"
           }
          ],
          "scattercarpet": [
           {
            "marker": {
             "colorbar": {
              "outlinewidth": 0,
              "ticks": ""
             }
            },
            "type": "scattercarpet"
           }
          ],
          "scattergeo": [
           {
            "marker": {
             "colorbar": {
              "outlinewidth": 0,
              "ticks": ""
             }
            },
            "type": "scattergeo"
           }
          ],
          "scattergl": [
           {
            "marker": {
             "colorbar": {
              "outlinewidth": 0,
              "ticks": ""
             }
            },
            "type": "scattergl"
           }
          ],
          "scattermapbox": [
           {
            "marker": {
             "colorbar": {
              "outlinewidth": 0,
              "ticks": ""
             }
            },
            "type": "scattermapbox"
           }
          ],
          "scatterpolar": [
           {
            "marker": {
             "colorbar": {
              "outlinewidth": 0,
              "ticks": ""
             }
            },
            "type": "scatterpolar"
           }
          ],
          "scatterpolargl": [
           {
            "marker": {
             "colorbar": {
              "outlinewidth": 0,
              "ticks": ""
             }
            },
            "type": "scatterpolargl"
           }
          ],
          "scatterternary": [
           {
            "marker": {
             "colorbar": {
              "outlinewidth": 0,
              "ticks": ""
             }
            },
            "type": "scatterternary"
           }
          ],
          "surface": [
           {
            "colorbar": {
             "outlinewidth": 0,
             "ticks": ""
            },
            "colorscale": [
             [
              0,
              "#0d0887"
             ],
             [
              0.1111111111111111,
              "#46039f"
             ],
             [
              0.2222222222222222,
              "#7201a8"
             ],
             [
              0.3333333333333333,
              "#9c179e"
             ],
             [
              0.4444444444444444,
              "#bd3786"
             ],
             [
              0.5555555555555556,
              "#d8576b"
             ],
             [
              0.6666666666666666,
              "#ed7953"
             ],
             [
              0.7777777777777778,
              "#fb9f3a"
             ],
             [
              0.8888888888888888,
              "#fdca26"
             ],
             [
              1,
              "#f0f921"
             ]
            ],
            "type": "surface"
           }
          ],
          "table": [
           {
            "cells": {
             "fill": {
              "color": "#EBF0F8"
             },
             "line": {
              "color": "white"
             }
            },
            "header": {
             "fill": {
              "color": "#C8D4E3"
             },
             "line": {
              "color": "white"
             }
            },
            "type": "table"
           }
          ]
         },
         "layout": {
          "annotationdefaults": {
           "arrowcolor": "#2a3f5f",
           "arrowhead": 0,
           "arrowwidth": 1
          },
          "autotypenumbers": "strict",
          "coloraxis": {
           "colorbar": {
            "outlinewidth": 0,
            "ticks": ""
           }
          },
          "colorscale": {
           "diverging": [
            [
             0,
             "#8e0152"
            ],
            [
             0.1,
             "#c51b7d"
            ],
            [
             0.2,
             "#de77ae"
            ],
            [
             0.3,
             "#f1b6da"
            ],
            [
             0.4,
             "#fde0ef"
            ],
            [
             0.5,
             "#f7f7f7"
            ],
            [
             0.6,
             "#e6f5d0"
            ],
            [
             0.7,
             "#b8e186"
            ],
            [
             0.8,
             "#7fbc41"
            ],
            [
             0.9,
             "#4d9221"
            ],
            [
             1,
             "#276419"
            ]
           ],
           "sequential": [
            [
             0,
             "#0d0887"
            ],
            [
             0.1111111111111111,
             "#46039f"
            ],
            [
             0.2222222222222222,
             "#7201a8"
            ],
            [
             0.3333333333333333,
             "#9c179e"
            ],
            [
             0.4444444444444444,
             "#bd3786"
            ],
            [
             0.5555555555555556,
             "#d8576b"
            ],
            [
             0.6666666666666666,
             "#ed7953"
            ],
            [
             0.7777777777777778,
             "#fb9f3a"
            ],
            [
             0.8888888888888888,
             "#fdca26"
            ],
            [
             1,
             "#f0f921"
            ]
           ],
           "sequentialminus": [
            [
             0,
             "#0d0887"
            ],
            [
             0.1111111111111111,
             "#46039f"
            ],
            [
             0.2222222222222222,
             "#7201a8"
            ],
            [
             0.3333333333333333,
             "#9c179e"
            ],
            [
             0.4444444444444444,
             "#bd3786"
            ],
            [
             0.5555555555555556,
             "#d8576b"
            ],
            [
             0.6666666666666666,
             "#ed7953"
            ],
            [
             0.7777777777777778,
             "#fb9f3a"
            ],
            [
             0.8888888888888888,
             "#fdca26"
            ],
            [
             1,
             "#f0f921"
            ]
           ]
          },
          "colorway": [
           "#636efa",
           "#EF553B",
           "#00cc96",
           "#ab63fa",
           "#FFA15A",
           "#19d3f3",
           "#FF6692",
           "#B6E880",
           "#FF97FF",
           "#FECB52"
          ],
          "font": {
           "color": "#2a3f5f"
          },
          "geo": {
           "bgcolor": "white",
           "lakecolor": "white",
           "landcolor": "#E5ECF6",
           "showlakes": true,
           "showland": true,
           "subunitcolor": "white"
          },
          "hoverlabel": {
           "align": "left"
          },
          "hovermode": "closest",
          "mapbox": {
           "style": "light"
          },
          "paper_bgcolor": "white",
          "plot_bgcolor": "#E5ECF6",
          "polar": {
           "angularaxis": {
            "gridcolor": "white",
            "linecolor": "white",
            "ticks": ""
           },
           "bgcolor": "#E5ECF6",
           "radialaxis": {
            "gridcolor": "white",
            "linecolor": "white",
            "ticks": ""
           }
          },
          "scene": {
           "xaxis": {
            "backgroundcolor": "#E5ECF6",
            "gridcolor": "white",
            "gridwidth": 2,
            "linecolor": "white",
            "showbackground": true,
            "ticks": "",
            "zerolinecolor": "white"
           },
           "yaxis": {
            "backgroundcolor": "#E5ECF6",
            "gridcolor": "white",
            "gridwidth": 2,
            "linecolor": "white",
            "showbackground": true,
            "ticks": "",
            "zerolinecolor": "white"
           },
           "zaxis": {
            "backgroundcolor": "#E5ECF6",
            "gridcolor": "white",
            "gridwidth": 2,
            "linecolor": "white",
            "showbackground": true,
            "ticks": "",
            "zerolinecolor": "white"
           }
          },
          "shapedefaults": {
           "line": {
            "color": "#2a3f5f"
           }
          },
          "ternary": {
           "aaxis": {
            "gridcolor": "white",
            "linecolor": "white",
            "ticks": ""
           },
           "baxis": {
            "gridcolor": "white",
            "linecolor": "white",
            "ticks": ""
           },
           "bgcolor": "#E5ECF6",
           "caxis": {
            "gridcolor": "white",
            "linecolor": "white",
            "ticks": ""
           }
          },
          "title": {
           "x": 0.05
          },
          "xaxis": {
           "automargin": true,
           "gridcolor": "white",
           "linecolor": "white",
           "ticks": "",
           "title": {
            "standoff": 15
           },
           "zerolinecolor": "white",
           "zerolinewidth": 2
          },
          "yaxis": {
           "automargin": true,
           "gridcolor": "white",
           "linecolor": "white",
           "ticks": "",
           "title": {
            "standoff": 15
           },
           "zerolinecolor": "white",
           "zerolinewidth": 2
          }
         }
        },
        "title": {
         "text": "UC Publications in CUP Journals since 1990"
        },
        "width": 600,
        "xaxis": {
         "anchor": "y",
         "domain": [
          0,
          1
         ],
         "title": {
          "text": "counts"
         }
        },
        "yaxis": {
         "anchor": "x",
         "domain": [
          0,
          1
         ],
         "title": {
          "text": "year"
         }
        }
       }
      },
      "text/html": [
       "<div>                            <div id=\"756c9781-bb6c-445c-8173-53dd967d2389\" class=\"plotly-graph-div\" style=\"height:1200px; width:600px;\"></div>            <script type=\"text/javascript\">                require([\"plotly\"], function(Plotly) {                    window.PLOTLYENV=window.PLOTLYENV || {};                                    if (document.getElementById(\"756c9781-bb6c-445c-8173-53dd967d2389\")) {                    Plotly.newPlot(                        \"756c9781-bb6c-445c-8173-53dd967d2389\",                        [{\"alignmentgroup\":\"True\",\"hovertemplate\":\"counts=%{marker.color}<br>year=%{y}<extra></extra>\",\"legendgroup\":\"\",\"marker\":{\"color\":[37,30,21,20,19,16,16,16,14,13,12,12,11,11,10,9,8,8,8,8,7,6,6,5,5,5,4,4,3,2,2,1],\"coloraxis\":\"coloraxis\",\"pattern\":{\"shape\":\"\"}},\"name\":\"\",\"offsetgroup\":\"\",\"orientation\":\"h\",\"showlegend\":false,\"textposition\":\"auto\",\"type\":\"bar\",\"x\":[37,30,21,20,19,16,16,16,14,13,12,12,11,11,10,9,8,8,8,8,7,6,6,5,5,5,4,4,3,2,2,1],\"xaxis\":\"x\",\"y\":[2020,2021,2016,2009,2012,2019,2018,2015,2011,2017,2004,2013,2014,2005,2000,2003,1996,2008,1995,2010,2007,2006,1992,1999,1998,1993,2001,1997,1990,1991,1994,2002],\"yaxis\":\"y\"}],                        {\"barmode\":\"relative\",\"coloraxis\":{\"colorbar\":{\"title\":{\"text\":\"counts\"}},\"colorscale\":[[0.0,\"#0d0887\"],[0.1111111111111111,\"#46039f\"],[0.2222222222222222,\"#7201a8\"],[0.3333333333333333,\"#9c179e\"],[0.4444444444444444,\"#bd3786\"],[0.5555555555555556,\"#d8576b\"],[0.6666666666666666,\"#ed7953\"],[0.7777777777777778,\"#fb9f3a\"],[0.8888888888888888,\"#fdca26\"],[1.0,\"#f0f921\"]]},\"height\":1200,\"legend\":{\"tracegroupgap\":0},\"template\":{\"data\":{\"bar\":[{\"error_x\":{\"color\":\"#2a3f5f\"},\"error_y\":{\"color\":\"#2a3f5f\"},\"marker\":{\"line\":{\"color\":\"#E5ECF6\",\"width\":0.5},\"pattern\":{\"fillmode\":\"overlay\",\"size\":10,\"solidity\":0.2}},\"type\":\"bar\"}],\"barpolar\":[{\"marker\":{\"line\":{\"color\":\"#E5ECF6\",\"width\":0.5},\"pattern\":{\"fillmode\":\"overlay\",\"size\":10,\"solidity\":0.2}},\"type\":\"barpolar\"}],\"carpet\":[{\"aaxis\":{\"endlinecolor\":\"#2a3f5f\",\"gridcolor\":\"white\",\"linecolor\":\"white\",\"minorgridcolor\":\"white\",\"startlinecolor\":\"#2a3f5f\"},\"baxis\":{\"endlinecolor\":\"#2a3f5f\",\"gridcolor\":\"white\",\"linecolor\":\"white\",\"minorgridcolor\":\"white\",\"startlinecolor\":\"#2a3f5f\"},\"type\":\"carpet\"}],\"choropleth\":[{\"colorbar\":{\"outlinewidth\":0,\"ticks\":\"\"},\"type\":\"choropleth\"}],\"contour\":[{\"colorbar\":{\"outlinewidth\":0,\"ticks\":\"\"},\"colorscale\":[[0.0,\"#0d0887\"],[0.1111111111111111,\"#46039f\"],[0.2222222222222222,\"#7201a8\"],[0.3333333333333333,\"#9c179e\"],[0.4444444444444444,\"#bd3786\"],[0.5555555555555556,\"#d8576b\"],[0.6666666666666666,\"#ed7953\"],[0.7777777777777778,\"#fb9f3a\"],[0.8888888888888888,\"#fdca26\"],[1.0,\"#f0f921\"]],\"type\":\"contour\"}],\"contourcarpet\":[{\"colorbar\":{\"outlinewidth\":0,\"ticks\":\"\"},\"type\":\"contourcarpet\"}],\"heatmap\":[{\"colorbar\":{\"outlinewidth\":0,\"ticks\":\"\"},\"colorscale\":[[0.0,\"#0d0887\"],[0.1111111111111111,\"#46039f\"],[0.2222222222222222,\"#7201a8\"],[0.3333333333333333,\"#9c179e\"],[0.4444444444444444,\"#bd3786\"],[0.5555555555555556,\"#d8576b\"],[0.6666666666666666,\"#ed7953\"],[0.7777777777777778,\"#fb9f3a\"],[0.8888888888888888,\"#fdca26\"],[1.0,\"#f0f921\"]],\"type\":\"heatmap\"}],\"heatmapgl\":[{\"colorbar\":{\"outlinewidth\":0,\"ticks\":\"\"},\"colorscale\":[[0.0,\"#0d0887\"],[0.1111111111111111,\"#46039f\"],[0.2222222222222222,\"#7201a8\"],[0.3333333333333333,\"#9c179e\"],[0.4444444444444444,\"#bd3786\"],[0.5555555555555556,\"#d8576b\"],[0.6666666666666666,\"#ed7953\"],[0.7777777777777778,\"#fb9f3a\"],[0.8888888888888888,\"#fdca26\"],[1.0,\"#f0f921\"]],\"type\":\"heatmapgl\"}],\"histogram\":[{\"marker\":{\"pattern\":{\"fillmode\":\"overlay\",\"size\":10,\"solidity\":0.2}},\"type\":\"histogram\"}],\"histogram2d\":[{\"colorbar\":{\"outlinewidth\":0,\"ticks\":\"\"},\"colorscale\":[[0.0,\"#0d0887\"],[0.1111111111111111,\"#46039f\"],[0.2222222222222222,\"#7201a8\"],[0.3333333333333333,\"#9c179e\"],[0.4444444444444444,\"#bd3786\"],[0.5555555555555556,\"#d8576b\"],[0.6666666666666666,\"#ed7953\"],[0.7777777777777778,\"#fb9f3a\"],[0.8888888888888888,\"#fdca26\"],[1.0,\"#f0f921\"]],\"type\":\"histogram2d\"}],\"histogram2dcontour\":[{\"colorbar\":{\"outlinewidth\":0,\"ticks\":\"\"},\"colorscale\":[[0.0,\"#0d0887\"],[0.1111111111111111,\"#46039f\"],[0.2222222222222222,\"#7201a8\"],[0.3333333333333333,\"#9c179e\"],[0.4444444444444444,\"#bd3786\"],[0.5555555555555556,\"#d8576b\"],[0.6666666666666666,\"#ed7953\"],[0.7777777777777778,\"#fb9f3a\"],[0.8888888888888888,\"#fdca26\"],[1.0,\"#f0f921\"]],\"type\":\"histogram2dcontour\"}],\"mesh3d\":[{\"colorbar\":{\"outlinewidth\":0,\"ticks\":\"\"},\"type\":\"mesh3d\"}],\"parcoords\":[{\"line\":{\"colorbar\":{\"outlinewidth\":0,\"ticks\":\"\"}},\"type\":\"parcoords\"}],\"pie\":[{\"automargin\":true,\"type\":\"pie\"}],\"scatter\":[{\"marker\":{\"colorbar\":{\"outlinewidth\":0,\"ticks\":\"\"}},\"type\":\"scatter\"}],\"scatter3d\":[{\"line\":{\"colorbar\":{\"outlinewidth\":0,\"ticks\":\"\"}},\"marker\":{\"colorbar\":{\"outlinewidth\":0,\"ticks\":\"\"}},\"type\":\"scatter3d\"}],\"scattercarpet\":[{\"marker\":{\"colorbar\":{\"outlinewidth\":0,\"ticks\":\"\"}},\"type\":\"scattercarpet\"}],\"scattergeo\":[{\"marker\":{\"colorbar\":{\"outlinewidth\":0,\"ticks\":\"\"}},\"type\":\"scattergeo\"}],\"scattergl\":[{\"marker\":{\"colorbar\":{\"outlinewidth\":0,\"ticks\":\"\"}},\"type\":\"scattergl\"}],\"scattermapbox\":[{\"marker\":{\"colorbar\":{\"outlinewidth\":0,\"ticks\":\"\"}},\"type\":\"scattermapbox\"}],\"scatterpolar\":[{\"marker\":{\"colorbar\":{\"outlinewidth\":0,\"ticks\":\"\"}},\"type\":\"scatterpolar\"}],\"scatterpolargl\":[{\"marker\":{\"colorbar\":{\"outlinewidth\":0,\"ticks\":\"\"}},\"type\":\"scatterpolargl\"}],\"scatterternary\":[{\"marker\":{\"colorbar\":{\"outlinewidth\":0,\"ticks\":\"\"}},\"type\":\"scatterternary\"}],\"surface\":[{\"colorbar\":{\"outlinewidth\":0,\"ticks\":\"\"},\"colorscale\":[[0.0,\"#0d0887\"],[0.1111111111111111,\"#46039f\"],[0.2222222222222222,\"#7201a8\"],[0.3333333333333333,\"#9c179e\"],[0.4444444444444444,\"#bd3786\"],[0.5555555555555556,\"#d8576b\"],[0.6666666666666666,\"#ed7953\"],[0.7777777777777778,\"#fb9f3a\"],[0.8888888888888888,\"#fdca26\"],[1.0,\"#f0f921\"]],\"type\":\"surface\"}],\"table\":[{\"cells\":{\"fill\":{\"color\":\"#EBF0F8\"},\"line\":{\"color\":\"white\"}},\"header\":{\"fill\":{\"color\":\"#C8D4E3\"},\"line\":{\"color\":\"white\"}},\"type\":\"table\"}]},\"layout\":{\"annotationdefaults\":{\"arrowcolor\":\"#2a3f5f\",\"arrowhead\":0,\"arrowwidth\":1},\"autotypenumbers\":\"strict\",\"coloraxis\":{\"colorbar\":{\"outlinewidth\":0,\"ticks\":\"\"}},\"colorscale\":{\"diverging\":[[0,\"#8e0152\"],[0.1,\"#c51b7d\"],[0.2,\"#de77ae\"],[0.3,\"#f1b6da\"],[0.4,\"#fde0ef\"],[0.5,\"#f7f7f7\"],[0.6,\"#e6f5d0\"],[0.7,\"#b8e186\"],[0.8,\"#7fbc41\"],[0.9,\"#4d9221\"],[1,\"#276419\"]],\"sequential\":[[0.0,\"#0d0887\"],[0.1111111111111111,\"#46039f\"],[0.2222222222222222,\"#7201a8\"],[0.3333333333333333,\"#9c179e\"],[0.4444444444444444,\"#bd3786\"],[0.5555555555555556,\"#d8576b\"],[0.6666666666666666,\"#ed7953\"],[0.7777777777777778,\"#fb9f3a\"],[0.8888888888888888,\"#fdca26\"],[1.0,\"#f0f921\"]],\"sequentialminus\":[[0.0,\"#0d0887\"],[0.1111111111111111,\"#46039f\"],[0.2222222222222222,\"#7201a8\"],[0.3333333333333333,\"#9c179e\"],[0.4444444444444444,\"#bd3786\"],[0.5555555555555556,\"#d8576b\"],[0.6666666666666666,\"#ed7953\"],[0.7777777777777778,\"#fb9f3a\"],[0.8888888888888888,\"#fdca26\"],[1.0,\"#f0f921\"]]},\"colorway\":[\"#636efa\",\"#EF553B\",\"#00cc96\",\"#ab63fa\",\"#FFA15A\",\"#19d3f3\",\"#FF6692\",\"#B6E880\",\"#FF97FF\",\"#FECB52\"],\"font\":{\"color\":\"#2a3f5f\"},\"geo\":{\"bgcolor\":\"white\",\"lakecolor\":\"white\",\"landcolor\":\"#E5ECF6\",\"showlakes\":true,\"showland\":true,\"subunitcolor\":\"white\"},\"hoverlabel\":{\"align\":\"left\"},\"hovermode\":\"closest\",\"mapbox\":{\"style\":\"light\"},\"paper_bgcolor\":\"white\",\"plot_bgcolor\":\"#E5ECF6\",\"polar\":{\"angularaxis\":{\"gridcolor\":\"white\",\"linecolor\":\"white\",\"ticks\":\"\"},\"bgcolor\":\"#E5ECF6\",\"radialaxis\":{\"gridcolor\":\"white\",\"linecolor\":\"white\",\"ticks\":\"\"}},\"scene\":{\"xaxis\":{\"backgroundcolor\":\"#E5ECF6\",\"gridcolor\":\"white\",\"gridwidth\":2,\"linecolor\":\"white\",\"showbackground\":true,\"ticks\":\"\",\"zerolinecolor\":\"white\"},\"yaxis\":{\"backgroundcolor\":\"#E5ECF6\",\"gridcolor\":\"white\",\"gridwidth\":2,\"linecolor\":\"white\",\"showbackground\":true,\"ticks\":\"\",\"zerolinecolor\":\"white\"},\"zaxis\":{\"backgroundcolor\":\"#E5ECF6\",\"gridcolor\":\"white\",\"gridwidth\":2,\"linecolor\":\"white\",\"showbackground\":true,\"ticks\":\"\",\"zerolinecolor\":\"white\"}},\"shapedefaults\":{\"line\":{\"color\":\"#2a3f5f\"}},\"ternary\":{\"aaxis\":{\"gridcolor\":\"white\",\"linecolor\":\"white\",\"ticks\":\"\"},\"baxis\":{\"gridcolor\":\"white\",\"linecolor\":\"white\",\"ticks\":\"\"},\"bgcolor\":\"#E5ECF6\",\"caxis\":{\"gridcolor\":\"white\",\"linecolor\":\"white\",\"ticks\":\"\"}},\"title\":{\"x\":0.05},\"xaxis\":{\"automargin\":true,\"gridcolor\":\"white\",\"linecolor\":\"white\",\"ticks\":\"\",\"title\":{\"standoff\":15},\"zerolinecolor\":\"white\",\"zerolinewidth\":2},\"yaxis\":{\"automargin\":true,\"gridcolor\":\"white\",\"linecolor\":\"white\",\"ticks\":\"\",\"title\":{\"standoff\":15},\"zerolinecolor\":\"white\",\"zerolinewidth\":2}}},\"title\":{\"text\":\"UC Publications in CUP Journals since 1990\"},\"width\":600,\"xaxis\":{\"anchor\":\"y\",\"domain\":[0.0,1.0],\"title\":{\"text\":\"counts\"}},\"yaxis\":{\"anchor\":\"x\",\"domain\":[0.0,1.0],\"title\":{\"text\":\"year\"}}},                        {\"responsive\": true}                    ).then(function(){\n",
       "                            \n",
       "var gd = document.getElementById('756c9781-bb6c-445c-8173-53dd967d2389');\n",
       "var x = new MutationObserver(function (mutations, observer) {{\n",
       "        var display = window.getComputedStyle(gd).display;\n",
       "        if (!display || display === 'none') {{\n",
       "            console.log([gd, 'removed!']);\n",
       "            Plotly.purge(gd);\n",
       "            observer.disconnect();\n",
       "        }}\n",
       "}});\n",
       "\n",
       "// Listen for the removal of the full notebook cells\n",
       "var notebookContainer = gd.closest('#notebook-container');\n",
       "if (notebookContainer) {{\n",
       "    x.observe(notebookContainer, {childList: true});\n",
       "}}\n",
       "\n",
       "// Listen for the clearing of the current output cell\n",
       "var outputEl = gd.closest('.output');\n",
       "if (outputEl) {{\n",
       "    x.observe(outputEl, {childList: true});\n",
       "}}\n",
       "\n",
       "                        })                };                });            </script>        </div>"
      ]
     },
     "metadata": {},
     "output_type": "display_data"
    }
   ],
   "source": [
    "new_df = new_df2['year'].value_counts().rename_axis('year').reset_index(name='counts')\n",
    "\n",
    "fig_test = px.bar(new_df, y=\"year\", x=\"counts\", color=\"counts\", \n",
    "                  title=\"UC Publications in CUP Journals since 1990\",\n",
    "                 orientation = 'h',width=600, height=1200, )\n",
    "fig_test.show()"
   ]
  },
  {
   "cell_type": "markdown",
   "metadata": {},
   "source": [
    "### Note: running the below line you can explore the publication info for any given year, just change the year value\n",
    "\n",
    "For example, if you want to see the publications from 2016, change 1995 to 2016 in the line below"
   ]
  },
  {
   "cell_type": "code",
   "execution_count": 37,
   "metadata": {},
   "outputs": [
    {
     "data": {
      "text/html": [
       "<div>\n",
       "<style scoped>\n",
       "    .dataframe tbody tr th:only-of-type {\n",
       "        vertical-align: middle;\n",
       "    }\n",
       "\n",
       "    .dataframe tbody tr th {\n",
       "        vertical-align: top;\n",
       "    }\n",
       "\n",
       "    .dataframe thead th {\n",
       "        text-align: right;\n",
       "    }\n",
       "</style>\n",
       "<table border=\"1\" class=\"dataframe\">\n",
       "  <thead>\n",
       "    <tr style=\"text-align: right;\">\n",
       "      <th></th>\n",
       "      <th>authors</th>\n",
       "      <th>title</th>\n",
       "      <th>concepts</th>\n",
       "      <th>pub_id</th>\n",
       "      <th>category_for</th>\n",
       "      <th>times_cited</th>\n",
       "      <th>year</th>\n",
       "      <th>open_access_categories_v2</th>\n",
       "      <th>journal.id</th>\n",
       "      <th>journal.title</th>\n",
       "      <th>...</th>\n",
       "      <th>aff_city_id</th>\n",
       "      <th>aff_country</th>\n",
       "      <th>aff_country_code</th>\n",
       "      <th>aff_state</th>\n",
       "      <th>aff_state_code</th>\n",
       "      <th>researcher_id</th>\n",
       "      <th>first_name</th>\n",
       "      <th>last_name</th>\n",
       "      <th>oa_status</th>\n",
       "      <th>oa_status_2</th>\n",
       "    </tr>\n",
       "  </thead>\n",
       "  <tbody>\n",
       "    <tr>\n",
       "      <th>398</th>\n",
       "      <td>[{'raw_affiliation': ['University of Cincinnat...</td>\n",
       "      <td>Reminiscences; General of the Army Douglas Mac...</td>\n",
       "      <td>[VIII, index, General, maps, McGraw, MacArthur...</td>\n",
       "      <td>pub.1069714714</td>\n",
       "      <td>NaN</td>\n",
       "      <td>0</td>\n",
       "      <td>1965</td>\n",
       "      <td>[closed]</td>\n",
       "      <td>jour.1123672</td>\n",
       "      <td>The Journal of Asian Studies</td>\n",
       "      <td>...</td>\n",
       "      <td>4508722.0</td>\n",
       "      <td>United States</td>\n",
       "      <td>US</td>\n",
       "      <td>Ohio</td>\n",
       "      <td>US-OH</td>\n",
       "      <td>ur.013526600141.25</td>\n",
       "      <td>harold m.</td>\n",
       "      <td>vinacke</td>\n",
       "      <td>closed</td>\n",
       "      <td>closed</td>\n",
       "    </tr>\n",
       "    <tr>\n",
       "      <th>399</th>\n",
       "      <td>[{'raw_affiliation': ['University of Cincinnat...</td>\n",
       "      <td>The Rise and Fall of Western Colonialism: A Hi...</td>\n",
       "      <td>[early nineteenth century, Western colonialism...</td>\n",
       "      <td>pub.1070712499</td>\n",
       "      <td>[{'id': '3577', 'name': '2002 Cultural Studies...</td>\n",
       "      <td>0</td>\n",
       "      <td>1965</td>\n",
       "      <td>[closed]</td>\n",
       "      <td>jour.1041487</td>\n",
       "      <td>The Americas A Quarterly Review of Latin Ameri...</td>\n",
       "      <td>...</td>\n",
       "      <td>4508722.0</td>\n",
       "      <td>United States</td>\n",
       "      <td>US</td>\n",
       "      <td>Ohio</td>\n",
       "      <td>US-OH</td>\n",
       "      <td>ur.012721272371.07</td>\n",
       "      <td>herbert f.</td>\n",
       "      <td>curry</td>\n",
       "      <td>closed</td>\n",
       "      <td>closed</td>\n",
       "    </tr>\n",
       "    <tr>\n",
       "      <th>400</th>\n",
       "      <td>[{'raw_affiliation': ['University of Cincinnat...</td>\n",
       "      <td>On the compatibility of the recent solar paral...</td>\n",
       "      <td>NaN</td>\n",
       "      <td>pub.1027632258</td>\n",
       "      <td>NaN</td>\n",
       "      <td>2</td>\n",
       "      <td>1965</td>\n",
       "      <td>[oa_all, gold]</td>\n",
       "      <td>jour.1159373</td>\n",
       "      <td>Symposium - International Astronomical Union</td>\n",
       "      <td>...</td>\n",
       "      <td>4508722.0</td>\n",
       "      <td>United States</td>\n",
       "      <td>US</td>\n",
       "      <td>Ohio</td>\n",
       "      <td>US-OH</td>\n",
       "      <td>ur.010453766071.56</td>\n",
       "      <td>eugene</td>\n",
       "      <td>rabe</td>\n",
       "      <td>gold</td>\n",
       "      <td>open</td>\n",
       "    </tr>\n",
       "  </tbody>\n",
       "</table>\n",
       "<p>3 rows × 37 columns</p>\n",
       "</div>"
      ],
      "text/plain": [
       "                                               authors  \\\n",
       "398  [{'raw_affiliation': ['University of Cincinnat...   \n",
       "399  [{'raw_affiliation': ['University of Cincinnat...   \n",
       "400  [{'raw_affiliation': ['University of Cincinnat...   \n",
       "\n",
       "                                                 title  \\\n",
       "398  Reminiscences; General of the Army Douglas Mac...   \n",
       "399  The Rise and Fall of Western Colonialism: A Hi...   \n",
       "400  On the compatibility of the recent solar paral...   \n",
       "\n",
       "                                              concepts          pub_id  \\\n",
       "398  [VIII, index, General, maps, McGraw, MacArthur...  pub.1069714714   \n",
       "399  [early nineteenth century, Western colonialism...  pub.1070712499   \n",
       "400                                                NaN  pub.1027632258   \n",
       "\n",
       "                                          category_for  times_cited  year  \\\n",
       "398                                                NaN            0  1965   \n",
       "399  [{'id': '3577', 'name': '2002 Cultural Studies...            0  1965   \n",
       "400                                                NaN            2  1965   \n",
       "\n",
       "    open_access_categories_v2    journal.id  \\\n",
       "398                  [closed]  jour.1123672   \n",
       "399                  [closed]  jour.1041487   \n",
       "400            [oa_all, gold]  jour.1159373   \n",
       "\n",
       "                                         journal.title  ...  aff_city_id  \\\n",
       "398                       The Journal of Asian Studies  ...    4508722.0   \n",
       "399  The Americas A Quarterly Review of Latin Ameri...  ...    4508722.0   \n",
       "400       Symposium - International Astronomical Union  ...    4508722.0   \n",
       "\n",
       "       aff_country aff_country_code aff_state aff_state_code  \\\n",
       "398  United States               US      Ohio          US-OH   \n",
       "399  United States               US      Ohio          US-OH   \n",
       "400  United States               US      Ohio          US-OH   \n",
       "\n",
       "          researcher_id  first_name last_name oa_status oa_status_2  \n",
       "398  ur.013526600141.25   harold m.   vinacke    closed      closed  \n",
       "399  ur.012721272371.07  herbert f.     curry    closed      closed  \n",
       "400  ur.010453766071.56      eugene      rabe      gold        open  \n",
       "\n",
       "[3 rows x 37 columns]"
      ]
     },
     "execution_count": 37,
     "metadata": {},
     "output_type": "execute_result"
    }
   ],
   "source": [
    "publication_df[publication_df['year']==1965]"
   ]
  },
  {
   "cell_type": "markdown",
   "metadata": {},
   "source": [
    "## Run the below box to see the number of publications per journal going back to 1990\n",
    "\n",
    "Hover over the plot to see the number of publications in that journal during this time range. You can select ranges by dragging over an area. Double click to go back to default view. "
   ]
  },
  {
   "cell_type": "code",
   "execution_count": 32,
   "metadata": {},
   "outputs": [
    {
     "data": {
      "application/vnd.plotly.v1+json": {
       "config": {
        "plotlyServerURL": "https://plot.ly"
       },
       "data": [
        {
         "alignmentgroup": "True",
         "hovertemplate": "counts=%{marker.color}<br>journal.title=%{y}<extra></extra>",
         "legendgroup": "",
         "marker": {
          "color": [
           2,
           2,
           2,
           2,
           2,
           2,
           2,
           2,
           2,
           2,
           2,
           2,
           2,
           2,
           2,
           2,
           2,
           2,
           2,
           2,
           2,
           2,
           2,
           2,
           2,
           2,
           2,
           3,
           3,
           3,
           3,
           3,
           3,
           3,
           3,
           3,
           3,
           3,
           3,
           3,
           4,
           4,
           4,
           4,
           4,
           4,
           4,
           5,
           5,
           5,
           5,
           6,
           7,
           7,
           7,
           8,
           8,
           10,
           13,
           13,
           16,
           17,
           18,
           31
          ],
          "coloraxis": "coloraxis",
          "pattern": {
           "shape": ""
          }
         },
         "name": "",
         "offsetgroup": "",
         "orientation": "h",
         "showlegend": false,
         "textposition": "auto",
         "type": "bar",
         "x": [
          2,
          2,
          2,
          2,
          2,
          2,
          2,
          2,
          2,
          2,
          2,
          2,
          2,
          2,
          2,
          2,
          2,
          2,
          2,
          2,
          2,
          2,
          2,
          2,
          2,
          2,
          2,
          3,
          3,
          3,
          3,
          3,
          3,
          3,
          3,
          3,
          3,
          3,
          3,
          3,
          4,
          4,
          4,
          4,
          4,
          4,
          4,
          5,
          5,
          5,
          5,
          6,
          7,
          7,
          7,
          8,
          8,
          10,
          13,
          13,
          16,
          17,
          18,
          31
         ],
         "xaxis": "x",
         "y": [
          "The Classical Quarterly",
          "Language and Cognition",
          "Geological Magazine",
          "Symposium - International Astronomical Union",
          "Disaster Medicine and Public Health Preparedness",
          "Environmental Conservation",
          "The Classical Review",
          "Radiocarbon",
          "Journal of Policy History",
          "Microscopy Today",
          "Slavic Review",
          "Advances in Archaeological Practice",
          "Du Bois Review Social Science Research on Race",
          "The Journal of Laryngology and Otology",
          "Austrian History Yearbook",
          "Proceedings of The Nutrition Society",
          "Journal of American Studies",
          "The Americas A Quarterly Review of Latin American History",
          "Twin Research and Human Genetics",
          "Public Health Nutrition",
          "Proceedings of the Royal Society of Edinburgh Section A Mathematics",
          "Parasitology",
          "American Political Science Review",
          "The Journal of Hellenic Studies",
          "Church History",
          "ReCALL",
          "Nineteenth-Century Music Review",
          "Journal of Fluid Mechanics",
          "Journal of Developmental Origins of Health and Disease",
          "The Annual of the British School at Athens",
          "Journal of Applied Probability",
          "Renaissance Quarterly",
          "Antiquity",
          "Journal of British Studies",
          "Proceedings of the International Astronomical Union",
          "Palliative & Supportive Care",
          "Ergodic Theory and Dynamical Systems",
          "Journal of Financial and Quantitative Analysis",
          "Albion A Quarterly Journal Concerned with British Studies",
          "Canadian Journal of Neurological Sciences / Journal Canadien des Sciences Neurologiques",
          "Law and History Review",
          "Epidemiology and Infection",
          "Perspectives on Politics",
          "Development and Psychopathology",
          "Psychological Medicine",
          "American Antiquity",
          "Robotica",
          "Industrial and Organizational Psychology",
          "Journal of Roman Archaeology",
          "The Journal of Asian Studies",
          "Latin American Antiquity",
          "Prehospital and Disaster Medicine",
          "Politics and Religion",
          "British Journal Of Nutrition",
          "Microscopy and Microanalysis",
          "Journal of Clinical and Translational Science",
          "Paleobiology",
          "Journal of Paleontology",
          "CNS Spectrums",
          "Quaternary Research",
          "Behavioral and Brain Sciences",
          "Journal of the International Neuropsychological Society",
          "Infection Control and Hospital Epidemiology",
          "Cardiology in the Young"
         ],
         "yaxis": "y"
        }
       ],
       "layout": {
        "barmode": "relative",
        "coloraxis": {
         "colorbar": {
          "title": {
           "text": "counts"
          }
         },
         "colorscale": [
          [
           0,
           "#0d0887"
          ],
          [
           0.1111111111111111,
           "#46039f"
          ],
          [
           0.2222222222222222,
           "#7201a8"
          ],
          [
           0.3333333333333333,
           "#9c179e"
          ],
          [
           0.4444444444444444,
           "#bd3786"
          ],
          [
           0.5555555555555556,
           "#d8576b"
          ],
          [
           0.6666666666666666,
           "#ed7953"
          ],
          [
           0.7777777777777778,
           "#fb9f3a"
          ],
          [
           0.8888888888888888,
           "#fdca26"
          ],
          [
           1,
           "#f0f921"
          ]
         ]
        },
        "height": 1200,
        "legend": {
         "tracegroupgap": 0
        },
        "template": {
         "data": {
          "bar": [
           {
            "error_x": {
             "color": "#2a3f5f"
            },
            "error_y": {
             "color": "#2a3f5f"
            },
            "marker": {
             "line": {
              "color": "#E5ECF6",
              "width": 0.5
             },
             "pattern": {
              "fillmode": "overlay",
              "size": 10,
              "solidity": 0.2
             }
            },
            "type": "bar"
           }
          ],
          "barpolar": [
           {
            "marker": {
             "line": {
              "color": "#E5ECF6",
              "width": 0.5
             },
             "pattern": {
              "fillmode": "overlay",
              "size": 10,
              "solidity": 0.2
             }
            },
            "type": "barpolar"
           }
          ],
          "carpet": [
           {
            "aaxis": {
             "endlinecolor": "#2a3f5f",
             "gridcolor": "white",
             "linecolor": "white",
             "minorgridcolor": "white",
             "startlinecolor": "#2a3f5f"
            },
            "baxis": {
             "endlinecolor": "#2a3f5f",
             "gridcolor": "white",
             "linecolor": "white",
             "minorgridcolor": "white",
             "startlinecolor": "#2a3f5f"
            },
            "type": "carpet"
           }
          ],
          "choropleth": [
           {
            "colorbar": {
             "outlinewidth": 0,
             "ticks": ""
            },
            "type": "choropleth"
           }
          ],
          "contour": [
           {
            "colorbar": {
             "outlinewidth": 0,
             "ticks": ""
            },
            "colorscale": [
             [
              0,
              "#0d0887"
             ],
             [
              0.1111111111111111,
              "#46039f"
             ],
             [
              0.2222222222222222,
              "#7201a8"
             ],
             [
              0.3333333333333333,
              "#9c179e"
             ],
             [
              0.4444444444444444,
              "#bd3786"
             ],
             [
              0.5555555555555556,
              "#d8576b"
             ],
             [
              0.6666666666666666,
              "#ed7953"
             ],
             [
              0.7777777777777778,
              "#fb9f3a"
             ],
             [
              0.8888888888888888,
              "#fdca26"
             ],
             [
              1,
              "#f0f921"
             ]
            ],
            "type": "contour"
           }
          ],
          "contourcarpet": [
           {
            "colorbar": {
             "outlinewidth": 0,
             "ticks": ""
            },
            "type": "contourcarpet"
           }
          ],
          "heatmap": [
           {
            "colorbar": {
             "outlinewidth": 0,
             "ticks": ""
            },
            "colorscale": [
             [
              0,
              "#0d0887"
             ],
             [
              0.1111111111111111,
              "#46039f"
             ],
             [
              0.2222222222222222,
              "#7201a8"
             ],
             [
              0.3333333333333333,
              "#9c179e"
             ],
             [
              0.4444444444444444,
              "#bd3786"
             ],
             [
              0.5555555555555556,
              "#d8576b"
             ],
             [
              0.6666666666666666,
              "#ed7953"
             ],
             [
              0.7777777777777778,
              "#fb9f3a"
             ],
             [
              0.8888888888888888,
              "#fdca26"
             ],
             [
              1,
              "#f0f921"
             ]
            ],
            "type": "heatmap"
           }
          ],
          "heatmapgl": [
           {
            "colorbar": {
             "outlinewidth": 0,
             "ticks": ""
            },
            "colorscale": [
             [
              0,
              "#0d0887"
             ],
             [
              0.1111111111111111,
              "#46039f"
             ],
             [
              0.2222222222222222,
              "#7201a8"
             ],
             [
              0.3333333333333333,
              "#9c179e"
             ],
             [
              0.4444444444444444,
              "#bd3786"
             ],
             [
              0.5555555555555556,
              "#d8576b"
             ],
             [
              0.6666666666666666,
              "#ed7953"
             ],
             [
              0.7777777777777778,
              "#fb9f3a"
             ],
             [
              0.8888888888888888,
              "#fdca26"
             ],
             [
              1,
              "#f0f921"
             ]
            ],
            "type": "heatmapgl"
           }
          ],
          "histogram": [
           {
            "marker": {
             "pattern": {
              "fillmode": "overlay",
              "size": 10,
              "solidity": 0.2
             }
            },
            "type": "histogram"
           }
          ],
          "histogram2d": [
           {
            "colorbar": {
             "outlinewidth": 0,
             "ticks": ""
            },
            "colorscale": [
             [
              0,
              "#0d0887"
             ],
             [
              0.1111111111111111,
              "#46039f"
             ],
             [
              0.2222222222222222,
              "#7201a8"
             ],
             [
              0.3333333333333333,
              "#9c179e"
             ],
             [
              0.4444444444444444,
              "#bd3786"
             ],
             [
              0.5555555555555556,
              "#d8576b"
             ],
             [
              0.6666666666666666,
              "#ed7953"
             ],
             [
              0.7777777777777778,
              "#fb9f3a"
             ],
             [
              0.8888888888888888,
              "#fdca26"
             ],
             [
              1,
              "#f0f921"
             ]
            ],
            "type": "histogram2d"
           }
          ],
          "histogram2dcontour": [
           {
            "colorbar": {
             "outlinewidth": 0,
             "ticks": ""
            },
            "colorscale": [
             [
              0,
              "#0d0887"
             ],
             [
              0.1111111111111111,
              "#46039f"
             ],
             [
              0.2222222222222222,
              "#7201a8"
             ],
             [
              0.3333333333333333,
              "#9c179e"
             ],
             [
              0.4444444444444444,
              "#bd3786"
             ],
             [
              0.5555555555555556,
              "#d8576b"
             ],
             [
              0.6666666666666666,
              "#ed7953"
             ],
             [
              0.7777777777777778,
              "#fb9f3a"
             ],
             [
              0.8888888888888888,
              "#fdca26"
             ],
             [
              1,
              "#f0f921"
             ]
            ],
            "type": "histogram2dcontour"
           }
          ],
          "mesh3d": [
           {
            "colorbar": {
             "outlinewidth": 0,
             "ticks": ""
            },
            "type": "mesh3d"
           }
          ],
          "parcoords": [
           {
            "line": {
             "colorbar": {
              "outlinewidth": 0,
              "ticks": ""
             }
            },
            "type": "parcoords"
           }
          ],
          "pie": [
           {
            "automargin": true,
            "type": "pie"
           }
          ],
          "scatter": [
           {
            "marker": {
             "colorbar": {
              "outlinewidth": 0,
              "ticks": ""
             }
            },
            "type": "scatter"
           }
          ],
          "scatter3d": [
           {
            "line": {
             "colorbar": {
              "outlinewidth": 0,
              "ticks": ""
             }
            },
            "marker": {
             "colorbar": {
              "outlinewidth": 0,
              "ticks": ""
             }
            },
            "type": "scatter3d"
           }
          ],
          "scattercarpet": [
           {
            "marker": {
             "colorbar": {
              "outlinewidth": 0,
              "ticks": ""
             }
            },
            "type": "scattercarpet"
           }
          ],
          "scattergeo": [
           {
            "marker": {
             "colorbar": {
              "outlinewidth": 0,
              "ticks": ""
             }
            },
            "type": "scattergeo"
           }
          ],
          "scattergl": [
           {
            "marker": {
             "colorbar": {
              "outlinewidth": 0,
              "ticks": ""
             }
            },
            "type": "scattergl"
           }
          ],
          "scattermapbox": [
           {
            "marker": {
             "colorbar": {
              "outlinewidth": 0,
              "ticks": ""
             }
            },
            "type": "scattermapbox"
           }
          ],
          "scatterpolar": [
           {
            "marker": {
             "colorbar": {
              "outlinewidth": 0,
              "ticks": ""
             }
            },
            "type": "scatterpolar"
           }
          ],
          "scatterpolargl": [
           {
            "marker": {
             "colorbar": {
              "outlinewidth": 0,
              "ticks": ""
             }
            },
            "type": "scatterpolargl"
           }
          ],
          "scatterternary": [
           {
            "marker": {
             "colorbar": {
              "outlinewidth": 0,
              "ticks": ""
             }
            },
            "type": "scatterternary"
           }
          ],
          "surface": [
           {
            "colorbar": {
             "outlinewidth": 0,
             "ticks": ""
            },
            "colorscale": [
             [
              0,
              "#0d0887"
             ],
             [
              0.1111111111111111,
              "#46039f"
             ],
             [
              0.2222222222222222,
              "#7201a8"
             ],
             [
              0.3333333333333333,
              "#9c179e"
             ],
             [
              0.4444444444444444,
              "#bd3786"
             ],
             [
              0.5555555555555556,
              "#d8576b"
             ],
             [
              0.6666666666666666,
              "#ed7953"
             ],
             [
              0.7777777777777778,
              "#fb9f3a"
             ],
             [
              0.8888888888888888,
              "#fdca26"
             ],
             [
              1,
              "#f0f921"
             ]
            ],
            "type": "surface"
           }
          ],
          "table": [
           {
            "cells": {
             "fill": {
              "color": "#EBF0F8"
             },
             "line": {
              "color": "white"
             }
            },
            "header": {
             "fill": {
              "color": "#C8D4E3"
             },
             "line": {
              "color": "white"
             }
            },
            "type": "table"
           }
          ]
         },
         "layout": {
          "annotationdefaults": {
           "arrowcolor": "#2a3f5f",
           "arrowhead": 0,
           "arrowwidth": 1
          },
          "autotypenumbers": "strict",
          "coloraxis": {
           "colorbar": {
            "outlinewidth": 0,
            "ticks": ""
           }
          },
          "colorscale": {
           "diverging": [
            [
             0,
             "#8e0152"
            ],
            [
             0.1,
             "#c51b7d"
            ],
            [
             0.2,
             "#de77ae"
            ],
            [
             0.3,
             "#f1b6da"
            ],
            [
             0.4,
             "#fde0ef"
            ],
            [
             0.5,
             "#f7f7f7"
            ],
            [
             0.6,
             "#e6f5d0"
            ],
            [
             0.7,
             "#b8e186"
            ],
            [
             0.8,
             "#7fbc41"
            ],
            [
             0.9,
             "#4d9221"
            ],
            [
             1,
             "#276419"
            ]
           ],
           "sequential": [
            [
             0,
             "#0d0887"
            ],
            [
             0.1111111111111111,
             "#46039f"
            ],
            [
             0.2222222222222222,
             "#7201a8"
            ],
            [
             0.3333333333333333,
             "#9c179e"
            ],
            [
             0.4444444444444444,
             "#bd3786"
            ],
            [
             0.5555555555555556,
             "#d8576b"
            ],
            [
             0.6666666666666666,
             "#ed7953"
            ],
            [
             0.7777777777777778,
             "#fb9f3a"
            ],
            [
             0.8888888888888888,
             "#fdca26"
            ],
            [
             1,
             "#f0f921"
            ]
           ],
           "sequentialminus": [
            [
             0,
             "#0d0887"
            ],
            [
             0.1111111111111111,
             "#46039f"
            ],
            [
             0.2222222222222222,
             "#7201a8"
            ],
            [
             0.3333333333333333,
             "#9c179e"
            ],
            [
             0.4444444444444444,
             "#bd3786"
            ],
            [
             0.5555555555555556,
             "#d8576b"
            ],
            [
             0.6666666666666666,
             "#ed7953"
            ],
            [
             0.7777777777777778,
             "#fb9f3a"
            ],
            [
             0.8888888888888888,
             "#fdca26"
            ],
            [
             1,
             "#f0f921"
            ]
           ]
          },
          "colorway": [
           "#636efa",
           "#EF553B",
           "#00cc96",
           "#ab63fa",
           "#FFA15A",
           "#19d3f3",
           "#FF6692",
           "#B6E880",
           "#FF97FF",
           "#FECB52"
          ],
          "font": {
           "color": "#2a3f5f"
          },
          "geo": {
           "bgcolor": "white",
           "lakecolor": "white",
           "landcolor": "#E5ECF6",
           "showlakes": true,
           "showland": true,
           "subunitcolor": "white"
          },
          "hoverlabel": {
           "align": "left"
          },
          "hovermode": "closest",
          "mapbox": {
           "style": "light"
          },
          "paper_bgcolor": "white",
          "plot_bgcolor": "#E5ECF6",
          "polar": {
           "angularaxis": {
            "gridcolor": "white",
            "linecolor": "white",
            "ticks": ""
           },
           "bgcolor": "#E5ECF6",
           "radialaxis": {
            "gridcolor": "white",
            "linecolor": "white",
            "ticks": ""
           }
          },
          "scene": {
           "xaxis": {
            "backgroundcolor": "#E5ECF6",
            "gridcolor": "white",
            "gridwidth": 2,
            "linecolor": "white",
            "showbackground": true,
            "ticks": "",
            "zerolinecolor": "white"
           },
           "yaxis": {
            "backgroundcolor": "#E5ECF6",
            "gridcolor": "white",
            "gridwidth": 2,
            "linecolor": "white",
            "showbackground": true,
            "ticks": "",
            "zerolinecolor": "white"
           },
           "zaxis": {
            "backgroundcolor": "#E5ECF6",
            "gridcolor": "white",
            "gridwidth": 2,
            "linecolor": "white",
            "showbackground": true,
            "ticks": "",
            "zerolinecolor": "white"
           }
          },
          "shapedefaults": {
           "line": {
            "color": "#2a3f5f"
           }
          },
          "ternary": {
           "aaxis": {
            "gridcolor": "white",
            "linecolor": "white",
            "ticks": ""
           },
           "baxis": {
            "gridcolor": "white",
            "linecolor": "white",
            "ticks": ""
           },
           "bgcolor": "#E5ECF6",
           "caxis": {
            "gridcolor": "white",
            "linecolor": "white",
            "ticks": ""
           }
          },
          "title": {
           "x": 0.05
          },
          "xaxis": {
           "automargin": true,
           "gridcolor": "white",
           "linecolor": "white",
           "ticks": "",
           "title": {
            "standoff": 15
           },
           "zerolinecolor": "white",
           "zerolinewidth": 2
          },
          "yaxis": {
           "automargin": true,
           "gridcolor": "white",
           "linecolor": "white",
           "ticks": "",
           "title": {
            "standoff": 15
           },
           "zerolinecolor": "white",
           "zerolinewidth": 2
          }
         }
        },
        "title": {
         "text": "Most Published in CUP Journals since 1990"
        },
        "width": 600,
        "xaxis": {
         "anchor": "y",
         "domain": [
          0,
          1
         ],
         "title": {
          "text": "counts"
         }
        },
        "yaxis": {
         "anchor": "x",
         "domain": [
          0,
          1
         ],
         "title": {
          "text": "journal.title"
         }
        }
       }
      },
      "text/html": [
       "<div>                            <div id=\"bd4b0ddc-1040-4d71-9e58-0fddfbe04dd6\" class=\"plotly-graph-div\" style=\"height:1200px; width:600px;\"></div>            <script type=\"text/javascript\">                require([\"plotly\"], function(Plotly) {                    window.PLOTLYENV=window.PLOTLYENV || {};                                    if (document.getElementById(\"bd4b0ddc-1040-4d71-9e58-0fddfbe04dd6\")) {                    Plotly.newPlot(                        \"bd4b0ddc-1040-4d71-9e58-0fddfbe04dd6\",                        [{\"alignmentgroup\":\"True\",\"hovertemplate\":\"counts=%{marker.color}<br>journal.title=%{y}<extra></extra>\",\"legendgroup\":\"\",\"marker\":{\"color\":[2,2,2,2,2,2,2,2,2,2,2,2,2,2,2,2,2,2,2,2,2,2,2,2,2,2,2,3,3,3,3,3,3,3,3,3,3,3,3,3,4,4,4,4,4,4,4,5,5,5,5,6,7,7,7,8,8,10,13,13,16,17,18,31],\"coloraxis\":\"coloraxis\",\"pattern\":{\"shape\":\"\"}},\"name\":\"\",\"offsetgroup\":\"\",\"orientation\":\"h\",\"showlegend\":false,\"textposition\":\"auto\",\"type\":\"bar\",\"x\":[2,2,2,2,2,2,2,2,2,2,2,2,2,2,2,2,2,2,2,2,2,2,2,2,2,2,2,3,3,3,3,3,3,3,3,3,3,3,3,3,4,4,4,4,4,4,4,5,5,5,5,6,7,7,7,8,8,10,13,13,16,17,18,31],\"xaxis\":\"x\",\"y\":[\"The Classical Quarterly\",\"Language and Cognition\",\"Geological Magazine\",\"Symposium - International Astronomical Union\",\"Disaster Medicine and Public Health Preparedness\",\"Environmental Conservation\",\"The Classical Review\",\"Radiocarbon\",\"Journal of Policy History\",\"Microscopy Today\",\"Slavic Review\",\"Advances in Archaeological Practice\",\"Du Bois Review Social Science Research on Race\",\"The Journal of Laryngology and Otology\",\"Austrian History Yearbook\",\"Proceedings of The Nutrition Society\",\"Journal of American Studies\",\"The Americas A Quarterly Review of Latin American History\",\"Twin Research and Human Genetics\",\"Public Health Nutrition\",\"Proceedings of the Royal Society of Edinburgh Section A Mathematics\",\"Parasitology\",\"American Political Science Review\",\"The Journal of Hellenic Studies\",\"Church History\",\"ReCALL\",\"Nineteenth-Century Music Review\",\"Journal of Fluid Mechanics\",\"Journal of Developmental Origins of Health and Disease\",\"The Annual of the British School at Athens\",\"Journal of Applied Probability\",\"Renaissance Quarterly\",\"Antiquity\",\"Journal of British Studies\",\"Proceedings of the International Astronomical Union\",\"Palliative & Supportive Care\",\"Ergodic Theory and Dynamical Systems\",\"Journal of Financial and Quantitative Analysis\",\"Albion A Quarterly Journal Concerned with British Studies\",\"Canadian Journal of Neurological Sciences / Journal Canadien des Sciences Neurologiques\",\"Law and History Review\",\"Epidemiology and Infection\",\"Perspectives on Politics\",\"Development and Psychopathology\",\"Psychological Medicine\",\"American Antiquity\",\"Robotica\",\"Industrial and Organizational Psychology\",\"Journal of Roman Archaeology\",\"The Journal of Asian Studies\",\"Latin American Antiquity\",\"Prehospital and Disaster Medicine\",\"Politics and Religion\",\"British Journal Of Nutrition\",\"Microscopy and Microanalysis\",\"Journal of Clinical and Translational Science\",\"Paleobiology\",\"Journal of Paleontology\",\"CNS Spectrums\",\"Quaternary Research\",\"Behavioral and Brain Sciences\",\"Journal of the International Neuropsychological Society\",\"Infection Control and Hospital Epidemiology\",\"Cardiology in the Young\"],\"yaxis\":\"y\"}],                        {\"barmode\":\"relative\",\"coloraxis\":{\"colorbar\":{\"title\":{\"text\":\"counts\"}},\"colorscale\":[[0.0,\"#0d0887\"],[0.1111111111111111,\"#46039f\"],[0.2222222222222222,\"#7201a8\"],[0.3333333333333333,\"#9c179e\"],[0.4444444444444444,\"#bd3786\"],[0.5555555555555556,\"#d8576b\"],[0.6666666666666666,\"#ed7953\"],[0.7777777777777778,\"#fb9f3a\"],[0.8888888888888888,\"#fdca26\"],[1.0,\"#f0f921\"]]},\"height\":1200,\"legend\":{\"tracegroupgap\":0},\"template\":{\"data\":{\"bar\":[{\"error_x\":{\"color\":\"#2a3f5f\"},\"error_y\":{\"color\":\"#2a3f5f\"},\"marker\":{\"line\":{\"color\":\"#E5ECF6\",\"width\":0.5},\"pattern\":{\"fillmode\":\"overlay\",\"size\":10,\"solidity\":0.2}},\"type\":\"bar\"}],\"barpolar\":[{\"marker\":{\"line\":{\"color\":\"#E5ECF6\",\"width\":0.5},\"pattern\":{\"fillmode\":\"overlay\",\"size\":10,\"solidity\":0.2}},\"type\":\"barpolar\"}],\"carpet\":[{\"aaxis\":{\"endlinecolor\":\"#2a3f5f\",\"gridcolor\":\"white\",\"linecolor\":\"white\",\"minorgridcolor\":\"white\",\"startlinecolor\":\"#2a3f5f\"},\"baxis\":{\"endlinecolor\":\"#2a3f5f\",\"gridcolor\":\"white\",\"linecolor\":\"white\",\"minorgridcolor\":\"white\",\"startlinecolor\":\"#2a3f5f\"},\"type\":\"carpet\"}],\"choropleth\":[{\"colorbar\":{\"outlinewidth\":0,\"ticks\":\"\"},\"type\":\"choropleth\"}],\"contour\":[{\"colorbar\":{\"outlinewidth\":0,\"ticks\":\"\"},\"colorscale\":[[0.0,\"#0d0887\"],[0.1111111111111111,\"#46039f\"],[0.2222222222222222,\"#7201a8\"],[0.3333333333333333,\"#9c179e\"],[0.4444444444444444,\"#bd3786\"],[0.5555555555555556,\"#d8576b\"],[0.6666666666666666,\"#ed7953\"],[0.7777777777777778,\"#fb9f3a\"],[0.8888888888888888,\"#fdca26\"],[1.0,\"#f0f921\"]],\"type\":\"contour\"}],\"contourcarpet\":[{\"colorbar\":{\"outlinewidth\":0,\"ticks\":\"\"},\"type\":\"contourcarpet\"}],\"heatmap\":[{\"colorbar\":{\"outlinewidth\":0,\"ticks\":\"\"},\"colorscale\":[[0.0,\"#0d0887\"],[0.1111111111111111,\"#46039f\"],[0.2222222222222222,\"#7201a8\"],[0.3333333333333333,\"#9c179e\"],[0.4444444444444444,\"#bd3786\"],[0.5555555555555556,\"#d8576b\"],[0.6666666666666666,\"#ed7953\"],[0.7777777777777778,\"#fb9f3a\"],[0.8888888888888888,\"#fdca26\"],[1.0,\"#f0f921\"]],\"type\":\"heatmap\"}],\"heatmapgl\":[{\"colorbar\":{\"outlinewidth\":0,\"ticks\":\"\"},\"colorscale\":[[0.0,\"#0d0887\"],[0.1111111111111111,\"#46039f\"],[0.2222222222222222,\"#7201a8\"],[0.3333333333333333,\"#9c179e\"],[0.4444444444444444,\"#bd3786\"],[0.5555555555555556,\"#d8576b\"],[0.6666666666666666,\"#ed7953\"],[0.7777777777777778,\"#fb9f3a\"],[0.8888888888888888,\"#fdca26\"],[1.0,\"#f0f921\"]],\"type\":\"heatmapgl\"}],\"histogram\":[{\"marker\":{\"pattern\":{\"fillmode\":\"overlay\",\"size\":10,\"solidity\":0.2}},\"type\":\"histogram\"}],\"histogram2d\":[{\"colorbar\":{\"outlinewidth\":0,\"ticks\":\"\"},\"colorscale\":[[0.0,\"#0d0887\"],[0.1111111111111111,\"#46039f\"],[0.2222222222222222,\"#7201a8\"],[0.3333333333333333,\"#9c179e\"],[0.4444444444444444,\"#bd3786\"],[0.5555555555555556,\"#d8576b\"],[0.6666666666666666,\"#ed7953\"],[0.7777777777777778,\"#fb9f3a\"],[0.8888888888888888,\"#fdca26\"],[1.0,\"#f0f921\"]],\"type\":\"histogram2d\"}],\"histogram2dcontour\":[{\"colorbar\":{\"outlinewidth\":0,\"ticks\":\"\"},\"colorscale\":[[0.0,\"#0d0887\"],[0.1111111111111111,\"#46039f\"],[0.2222222222222222,\"#7201a8\"],[0.3333333333333333,\"#9c179e\"],[0.4444444444444444,\"#bd3786\"],[0.5555555555555556,\"#d8576b\"],[0.6666666666666666,\"#ed7953\"],[0.7777777777777778,\"#fb9f3a\"],[0.8888888888888888,\"#fdca26\"],[1.0,\"#f0f921\"]],\"type\":\"histogram2dcontour\"}],\"mesh3d\":[{\"colorbar\":{\"outlinewidth\":0,\"ticks\":\"\"},\"type\":\"mesh3d\"}],\"parcoords\":[{\"line\":{\"colorbar\":{\"outlinewidth\":0,\"ticks\":\"\"}},\"type\":\"parcoords\"}],\"pie\":[{\"automargin\":true,\"type\":\"pie\"}],\"scatter\":[{\"marker\":{\"colorbar\":{\"outlinewidth\":0,\"ticks\":\"\"}},\"type\":\"scatter\"}],\"scatter3d\":[{\"line\":{\"colorbar\":{\"outlinewidth\":0,\"ticks\":\"\"}},\"marker\":{\"colorbar\":{\"outlinewidth\":0,\"ticks\":\"\"}},\"type\":\"scatter3d\"}],\"scattercarpet\":[{\"marker\":{\"colorbar\":{\"outlinewidth\":0,\"ticks\":\"\"}},\"type\":\"scattercarpet\"}],\"scattergeo\":[{\"marker\":{\"colorbar\":{\"outlinewidth\":0,\"ticks\":\"\"}},\"type\":\"scattergeo\"}],\"scattergl\":[{\"marker\":{\"colorbar\":{\"outlinewidth\":0,\"ticks\":\"\"}},\"type\":\"scattergl\"}],\"scattermapbox\":[{\"marker\":{\"colorbar\":{\"outlinewidth\":0,\"ticks\":\"\"}},\"type\":\"scattermapbox\"}],\"scatterpolar\":[{\"marker\":{\"colorbar\":{\"outlinewidth\":0,\"ticks\":\"\"}},\"type\":\"scatterpolar\"}],\"scatterpolargl\":[{\"marker\":{\"colorbar\":{\"outlinewidth\":0,\"ticks\":\"\"}},\"type\":\"scatterpolargl\"}],\"scatterternary\":[{\"marker\":{\"colorbar\":{\"outlinewidth\":0,\"ticks\":\"\"}},\"type\":\"scatterternary\"}],\"surface\":[{\"colorbar\":{\"outlinewidth\":0,\"ticks\":\"\"},\"colorscale\":[[0.0,\"#0d0887\"],[0.1111111111111111,\"#46039f\"],[0.2222222222222222,\"#7201a8\"],[0.3333333333333333,\"#9c179e\"],[0.4444444444444444,\"#bd3786\"],[0.5555555555555556,\"#d8576b\"],[0.6666666666666666,\"#ed7953\"],[0.7777777777777778,\"#fb9f3a\"],[0.8888888888888888,\"#fdca26\"],[1.0,\"#f0f921\"]],\"type\":\"surface\"}],\"table\":[{\"cells\":{\"fill\":{\"color\":\"#EBF0F8\"},\"line\":{\"color\":\"white\"}},\"header\":{\"fill\":{\"color\":\"#C8D4E3\"},\"line\":{\"color\":\"white\"}},\"type\":\"table\"}]},\"layout\":{\"annotationdefaults\":{\"arrowcolor\":\"#2a3f5f\",\"arrowhead\":0,\"arrowwidth\":1},\"autotypenumbers\":\"strict\",\"coloraxis\":{\"colorbar\":{\"outlinewidth\":0,\"ticks\":\"\"}},\"colorscale\":{\"diverging\":[[0,\"#8e0152\"],[0.1,\"#c51b7d\"],[0.2,\"#de77ae\"],[0.3,\"#f1b6da\"],[0.4,\"#fde0ef\"],[0.5,\"#f7f7f7\"],[0.6,\"#e6f5d0\"],[0.7,\"#b8e186\"],[0.8,\"#7fbc41\"],[0.9,\"#4d9221\"],[1,\"#276419\"]],\"sequential\":[[0.0,\"#0d0887\"],[0.1111111111111111,\"#46039f\"],[0.2222222222222222,\"#7201a8\"],[0.3333333333333333,\"#9c179e\"],[0.4444444444444444,\"#bd3786\"],[0.5555555555555556,\"#d8576b\"],[0.6666666666666666,\"#ed7953\"],[0.7777777777777778,\"#fb9f3a\"],[0.8888888888888888,\"#fdca26\"],[1.0,\"#f0f921\"]],\"sequentialminus\":[[0.0,\"#0d0887\"],[0.1111111111111111,\"#46039f\"],[0.2222222222222222,\"#7201a8\"],[0.3333333333333333,\"#9c179e\"],[0.4444444444444444,\"#bd3786\"],[0.5555555555555556,\"#d8576b\"],[0.6666666666666666,\"#ed7953\"],[0.7777777777777778,\"#fb9f3a\"],[0.8888888888888888,\"#fdca26\"],[1.0,\"#f0f921\"]]},\"colorway\":[\"#636efa\",\"#EF553B\",\"#00cc96\",\"#ab63fa\",\"#FFA15A\",\"#19d3f3\",\"#FF6692\",\"#B6E880\",\"#FF97FF\",\"#FECB52\"],\"font\":{\"color\":\"#2a3f5f\"},\"geo\":{\"bgcolor\":\"white\",\"lakecolor\":\"white\",\"landcolor\":\"#E5ECF6\",\"showlakes\":true,\"showland\":true,\"subunitcolor\":\"white\"},\"hoverlabel\":{\"align\":\"left\"},\"hovermode\":\"closest\",\"mapbox\":{\"style\":\"light\"},\"paper_bgcolor\":\"white\",\"plot_bgcolor\":\"#E5ECF6\",\"polar\":{\"angularaxis\":{\"gridcolor\":\"white\",\"linecolor\":\"white\",\"ticks\":\"\"},\"bgcolor\":\"#E5ECF6\",\"radialaxis\":{\"gridcolor\":\"white\",\"linecolor\":\"white\",\"ticks\":\"\"}},\"scene\":{\"xaxis\":{\"backgroundcolor\":\"#E5ECF6\",\"gridcolor\":\"white\",\"gridwidth\":2,\"linecolor\":\"white\",\"showbackground\":true,\"ticks\":\"\",\"zerolinecolor\":\"white\"},\"yaxis\":{\"backgroundcolor\":\"#E5ECF6\",\"gridcolor\":\"white\",\"gridwidth\":2,\"linecolor\":\"white\",\"showbackground\":true,\"ticks\":\"\",\"zerolinecolor\":\"white\"},\"zaxis\":{\"backgroundcolor\":\"#E5ECF6\",\"gridcolor\":\"white\",\"gridwidth\":2,\"linecolor\":\"white\",\"showbackground\":true,\"ticks\":\"\",\"zerolinecolor\":\"white\"}},\"shapedefaults\":{\"line\":{\"color\":\"#2a3f5f\"}},\"ternary\":{\"aaxis\":{\"gridcolor\":\"white\",\"linecolor\":\"white\",\"ticks\":\"\"},\"baxis\":{\"gridcolor\":\"white\",\"linecolor\":\"white\",\"ticks\":\"\"},\"bgcolor\":\"#E5ECF6\",\"caxis\":{\"gridcolor\":\"white\",\"linecolor\":\"white\",\"ticks\":\"\"}},\"title\":{\"x\":0.05},\"xaxis\":{\"automargin\":true,\"gridcolor\":\"white\",\"linecolor\":\"white\",\"ticks\":\"\",\"title\":{\"standoff\":15},\"zerolinecolor\":\"white\",\"zerolinewidth\":2},\"yaxis\":{\"automargin\":true,\"gridcolor\":\"white\",\"linecolor\":\"white\",\"ticks\":\"\",\"title\":{\"standoff\":15},\"zerolinecolor\":\"white\",\"zerolinewidth\":2}}},\"title\":{\"text\":\"Most Published in CUP Journals since 1990\"},\"width\":600,\"xaxis\":{\"anchor\":\"y\",\"domain\":[0.0,1.0],\"title\":{\"text\":\"counts\"}},\"yaxis\":{\"anchor\":\"x\",\"domain\":[0.0,1.0],\"title\":{\"text\":\"journal.title\"}}},                        {\"responsive\": true}                    ).then(function(){\n",
       "                            \n",
       "var gd = document.getElementById('bd4b0ddc-1040-4d71-9e58-0fddfbe04dd6');\n",
       "var x = new MutationObserver(function (mutations, observer) {{\n",
       "        var display = window.getComputedStyle(gd).display;\n",
       "        if (!display || display === 'none') {{\n",
       "            console.log([gd, 'removed!']);\n",
       "            Plotly.purge(gd);\n",
       "            observer.disconnect();\n",
       "        }}\n",
       "}});\n",
       "\n",
       "// Listen for the removal of the full notebook cells\n",
       "var notebookContainer = gd.closest('#notebook-container');\n",
       "if (notebookContainer) {{\n",
       "    x.observe(notebookContainer, {childList: true});\n",
       "}}\n",
       "\n",
       "// Listen for the clearing of the current output cell\n",
       "var outputEl = gd.closest('.output');\n",
       "if (outputEl) {{\n",
       "    x.observe(outputEl, {childList: true});\n",
       "}}\n",
       "\n",
       "                        })                };                });            </script>        </div>"
      ]
     },
     "metadata": {},
     "output_type": "display_data"
    }
   ],
   "source": [
    "journals_df = new_df2['journal.title'].value_counts().rename_axis('journal.title').reset_index(name='counts')\n",
    "\n",
    "journals_df = journals_df[journals_df[\"counts\"] > 1].sort_values(by=\"counts\")\n",
    "\n",
    "fig_test = px.bar(journals_df, y=\"journal.title\", x=\"counts\", color=\"counts\", \n",
    "                  title=\"Most Published in CUP Journals since 1990\", \n",
    "\n",
    "                  orientation = 'h', width=600, height=1200)\n",
    "\n",
    "\n",
    "fig_test.show()"
   ]
  },
  {
   "cell_type": "markdown",
   "metadata": {},
   "source": [
    "## Run the below box to see the number of publications per year colored by journal title. \n",
    "Hover over the colored stacks to see the journal title and number of publications per year per journal. You can select ranges by dragging over an area. Double click to go back to default view. "
   ]
  },
  {
   "cell_type": "code",
   "execution_count": 33,
   "metadata": {},
   "outputs": [
    {
     "data": {
      "application/vnd.plotly.v1+json": {
       "config": {
        "plotlyServerURL": "https://plot.ly"
       },
       "data": [
        {
         "alignmentgroup": "True",
         "hovertemplate": "journal.title=American Political Science Review<br>year=%{x}<br>size=%{y}<extra></extra>",
         "legendgroup": "American Political Science Review",
         "marker": {
          "color": "#636efa",
          "pattern": {
           "shape": ""
          }
         },
         "name": "American Political Science Review",
         "offsetgroup": "American Political Science Review",
         "orientation": "v",
         "showlegend": true,
         "textposition": "auto",
         "type": "bar",
         "x": [
          1990,
          1994
         ],
         "xaxis": "x",
         "y": [
          1,
          1
         ],
         "yaxis": "y"
        },
        {
         "alignmentgroup": "True",
         "hovertemplate": "journal.title=Slavic Review<br>year=%{x}<br>size=%{y}<extra></extra>",
         "legendgroup": "Slavic Review",
         "marker": {
          "color": "#EF553B",
          "pattern": {
           "shape": ""
          }
         },
         "name": "Slavic Review",
         "offsetgroup": "Slavic Review",
         "orientation": "v",
         "showlegend": true,
         "textposition": "auto",
         "type": "bar",
         "x": [
          1990,
          2020
         ],
         "xaxis": "x",
         "y": [
          1,
          1
         ],
         "yaxis": "y"
        },
        {
         "alignmentgroup": "True",
         "hovertemplate": "journal.title=The Journal of the Australian Mathematical Society Series B Applied Mathematics<br>year=%{x}<br>size=%{y}<extra></extra>",
         "legendgroup": "The Journal of the Australian Mathematical Society Series B Applied Mathematics",
         "marker": {
          "color": "#00cc96",
          "pattern": {
           "shape": ""
          }
         },
         "name": "The Journal of the Australian Mathematical Society Series B Applied Mathematics",
         "offsetgroup": "The Journal of the Australian Mathematical Society Series B Applied Mathematics",
         "orientation": "v",
         "showlegend": true,
         "textposition": "auto",
         "type": "bar",
         "x": [
          1990
         ],
         "xaxis": "x",
         "y": [
          1
         ],
         "yaxis": "y"
        },
        {
         "alignmentgroup": "True",
         "hovertemplate": "journal.title=Behavioral and Brain Sciences<br>year=%{x}<br>size=%{y}<extra></extra>",
         "legendgroup": "Behavioral and Brain Sciences",
         "marker": {
          "color": "#ab63fa",
          "pattern": {
           "shape": ""
          }
         },
         "name": "Behavioral and Brain Sciences",
         "offsetgroup": "Behavioral and Brain Sciences",
         "orientation": "v",
         "showlegend": true,
         "textposition": "auto",
         "type": "bar",
         "x": [
          1991,
          1993,
          1998,
          2001,
          2003,
          2004,
          2005,
          2011,
          2013,
          2015,
          2016,
          2018,
          2019,
          2020,
          2021
         ],
         "xaxis": "x",
         "y": [
          1,
          1,
          2,
          1,
          1,
          1,
          1,
          1,
          1,
          1,
          1,
          1,
          1,
          1,
          1
         ],
         "yaxis": "y"
        },
        {
         "alignmentgroup": "True",
         "hovertemplate": "journal.title=Infection Control and Hospital Epidemiology<br>year=%{x}<br>size=%{y}<extra></extra>",
         "legendgroup": "Infection Control and Hospital Epidemiology",
         "marker": {
          "color": "#FFA15A",
          "pattern": {
           "shape": ""
          }
         },
         "name": "Infection Control and Hospital Epidemiology",
         "offsetgroup": "Infection Control and Hospital Epidemiology",
         "orientation": "v",
         "showlegend": true,
         "textposition": "auto",
         "type": "bar",
         "x": [
          1991,
          1992,
          1995,
          1998,
          1999,
          2000,
          2001,
          2004,
          2012,
          2018,
          2019,
          2020,
          2021
         ],
         "xaxis": "x",
         "y": [
          1,
          1,
          2,
          1,
          1,
          1,
          1,
          1,
          1,
          2,
          1,
          4,
          1
         ],
         "yaxis": "y"
        },
        {
         "alignmentgroup": "True",
         "hovertemplate": "journal.title=Fetal and Maternal Medicine Review<br>year=%{x}<br>size=%{y}<extra></extra>",
         "legendgroup": "Fetal and Maternal Medicine Review",
         "marker": {
          "color": "#19d3f3",
          "pattern": {
           "shape": ""
          }
         },
         "name": "Fetal and Maternal Medicine Review",
         "offsetgroup": "Fetal and Maternal Medicine Review",
         "orientation": "v",
         "showlegend": true,
         "textposition": "auto",
         "type": "bar",
         "x": [
          1992
         ],
         "xaxis": "x",
         "y": [
          1
         ],
         "yaxis": "y"
        },
        {
         "alignmentgroup": "True",
         "hovertemplate": "journal.title=International Labor and Working-Class History<br>year=%{x}<br>size=%{y}<extra></extra>",
         "legendgroup": "International Labor and Working-Class History",
         "marker": {
          "color": "#FF6692",
          "pattern": {
           "shape": ""
          }
         },
         "name": "International Labor and Working-Class History",
         "offsetgroup": "International Labor and Working-Class History",
         "orientation": "v",
         "showlegend": true,
         "textposition": "auto",
         "type": "bar",
         "x": [
          1992
         ],
         "xaxis": "x",
         "y": [
          1
         ],
         "yaxis": "y"
        },
        {
         "alignmentgroup": "True",
         "hovertemplate": "journal.title=Journal of Policy History<br>year=%{x}<br>size=%{y}<extra></extra>",
         "legendgroup": "Journal of Policy History",
         "marker": {
          "color": "#B6E880",
          "pattern": {
           "shape": ""
          }
         },
         "name": "Journal of Policy History",
         "offsetgroup": "Journal of Policy History",
         "orientation": "v",
         "showlegend": true,
         "textposition": "auto",
         "type": "bar",
         "x": [
          1992,
          2020
         ],
         "xaxis": "x",
         "y": [
          1,
          1
         ],
         "yaxis": "y"
        },
        {
         "alignmentgroup": "True",
         "hovertemplate": "journal.title=Latin American Antiquity<br>year=%{x}<br>size=%{y}<extra></extra>",
         "legendgroup": "Latin American Antiquity",
         "marker": {
          "color": "#FF97FF",
          "pattern": {
           "shape": ""
          }
         },
         "name": "Latin American Antiquity",
         "offsetgroup": "Latin American Antiquity",
         "orientation": "v",
         "showlegend": true,
         "textposition": "auto",
         "type": "bar",
         "x": [
          1992,
          2012,
          2015,
          2018,
          2019
         ],
         "xaxis": "x",
         "y": [
          1,
          1,
          1,
          1,
          1
         ],
         "yaxis": "y"
        },
        {
         "alignmentgroup": "True",
         "hovertemplate": "journal.title=The Journal of Economic History<br>year=%{x}<br>size=%{y}<extra></extra>",
         "legendgroup": "The Journal of Economic History",
         "marker": {
          "color": "#FECB52",
          "pattern": {
           "shape": ""
          }
         },
         "name": "The Journal of Economic History",
         "offsetgroup": "The Journal of Economic History",
         "orientation": "v",
         "showlegend": true,
         "textposition": "auto",
         "type": "bar",
         "x": [
          1992
         ],
         "xaxis": "x",
         "y": [
          1
         ],
         "yaxis": "y"
        },
        {
         "alignmentgroup": "True",
         "hovertemplate": "journal.title=International Psychogeriatrics<br>year=%{x}<br>size=%{y}<extra></extra>",
         "legendgroup": "International Psychogeriatrics",
         "marker": {
          "color": "#636efa",
          "pattern": {
           "shape": ""
          }
         },
         "name": "International Psychogeriatrics",
         "offsetgroup": "International Psychogeriatrics",
         "orientation": "v",
         "showlegend": true,
         "textposition": "auto",
         "type": "bar",
         "x": [
          1993
         ],
         "xaxis": "x",
         "y": [
          1
         ],
         "yaxis": "y"
        },
        {
         "alignmentgroup": "True",
         "hovertemplate": "journal.title=Prehospital and Disaster Medicine<br>year=%{x}<br>size=%{y}<extra></extra>",
         "legendgroup": "Prehospital and Disaster Medicine",
         "marker": {
          "color": "#EF553B",
          "pattern": {
           "shape": ""
          }
         },
         "name": "Prehospital and Disaster Medicine",
         "offsetgroup": "Prehospital and Disaster Medicine",
         "orientation": "v",
         "showlegend": true,
         "textposition": "auto",
         "type": "bar",
         "x": [
          1993,
          1995,
          1996,
          2010,
          2011
         ],
         "xaxis": "x",
         "y": [
          1,
          1,
          2,
          1,
          1
         ],
         "yaxis": "y"
        },
        {
         "alignmentgroup": "True",
         "hovertemplate": "journal.title=Quaternary Research<br>year=%{x}<br>size=%{y}<extra></extra>",
         "legendgroup": "Quaternary Research",
         "marker": {
          "color": "#00cc96",
          "pattern": {
           "shape": ""
          }
         },
         "name": "Quaternary Research",
         "offsetgroup": "Quaternary Research",
         "orientation": "v",
         "showlegend": true,
         "textposition": "auto",
         "type": "bar",
         "x": [
          1993,
          1997,
          2010,
          2011,
          2014,
          2015,
          2019,
          2020,
          2021
         ],
         "xaxis": "x",
         "y": [
          1,
          1,
          1,
          3,
          1,
          1,
          2,
          2,
          1
         ],
         "yaxis": "y"
        },
        {
         "alignmentgroup": "True",
         "hovertemplate": "journal.title=Robotica<br>year=%{x}<br>size=%{y}<extra></extra>",
         "legendgroup": "Robotica",
         "marker": {
          "color": "#ab63fa",
          "pattern": {
           "shape": ""
          }
         },
         "name": "Robotica",
         "offsetgroup": "Robotica",
         "orientation": "v",
         "showlegend": true,
         "textposition": "auto",
         "type": "bar",
         "x": [
          1993,
          2004,
          2013,
          2019
         ],
         "xaxis": "x",
         "y": [
          1,
          1,
          1,
          1
         ],
         "yaxis": "y"
        },
        {
         "alignmentgroup": "True",
         "hovertemplate": "journal.title=Proceedings of the Edinburgh Mathematical Society<br>year=%{x}<br>size=%{y}<extra></extra>",
         "legendgroup": "Proceedings of the Edinburgh Mathematical Society",
         "marker": {
          "color": "#FFA15A",
          "pattern": {
           "shape": ""
          }
         },
         "name": "Proceedings of the Edinburgh Mathematical Society",
         "offsetgroup": "Proceedings of the Edinburgh Mathematical Society",
         "orientation": "v",
         "showlegend": true,
         "textposition": "auto",
         "type": "bar",
         "x": [
          1994
         ],
         "xaxis": "x",
         "y": [
          1
         ],
         "yaxis": "y"
        },
        {
         "alignmentgroup": "True",
         "hovertemplate": "journal.title=Advances in X-ray Analysis<br>year=%{x}<br>size=%{y}<extra></extra>",
         "legendgroup": "Advances in X-ray Analysis",
         "marker": {
          "color": "#19d3f3",
          "pattern": {
           "shape": ""
          }
         },
         "name": "Advances in X-ray Analysis",
         "offsetgroup": "Advances in X-ray Analysis",
         "orientation": "v",
         "showlegend": true,
         "textposition": "auto",
         "type": "bar",
         "x": [
          1995
         ],
         "xaxis": "x",
         "y": [
          1
         ],
         "yaxis": "y"
        },
        {
         "alignmentgroup": "True",
         "hovertemplate": "journal.title=Journal of Paleontology<br>year=%{x}<br>size=%{y}<extra></extra>",
         "legendgroup": "Journal of Paleontology",
         "marker": {
          "color": "#FF6692",
          "pattern": {
           "shape": ""
          }
         },
         "name": "Journal of Paleontology",
         "offsetgroup": "Journal of Paleontology",
         "orientation": "v",
         "showlegend": true,
         "textposition": "auto",
         "type": "bar",
         "x": [
          1995,
          2000,
          2006,
          2009,
          2012,
          2014,
          2015,
          2018,
          2020
         ],
         "xaxis": "x",
         "y": [
          1,
          1,
          1,
          2,
          1,
          1,
          1,
          1,
          1
         ],
         "yaxis": "y"
        },
        {
         "alignmentgroup": "True",
         "hovertemplate": "journal.title=Journal of the Australian Mathematical Society Series A Pure Mathematics and Statistics<br>year=%{x}<br>size=%{y}<extra></extra>",
         "legendgroup": "Journal of the Australian Mathematical Society Series A Pure Mathematics and Statistics",
         "marker": {
          "color": "#B6E880",
          "pattern": {
           "shape": ""
          }
         },
         "name": "Journal of the Australian Mathematical Society Series A Pure Mathematics and Statistics",
         "offsetgroup": "Journal of the Australian Mathematical Society Series A Pure Mathematics and Statistics",
         "orientation": "v",
         "showlegend": true,
         "textposition": "auto",
         "type": "bar",
         "x": [
          1995
         ],
         "xaxis": "x",
         "y": [
          1
         ],
         "yaxis": "y"
        },
        {
         "alignmentgroup": "True",
         "hovertemplate": "journal.title=Law and History Review<br>year=%{x}<br>size=%{y}<extra></extra>",
         "legendgroup": "Law and History Review",
         "marker": {
          "color": "#FF97FF",
          "pattern": {
           "shape": ""
          }
         },
         "name": "Law and History Review",
         "offsetgroup": "Law and History Review",
         "orientation": "v",
         "showlegend": true,
         "textposition": "auto",
         "type": "bar",
         "x": [
          1995,
          2000,
          2004,
          2007
         ],
         "xaxis": "x",
         "y": [
          1,
          1,
          1,
          1
         ],
         "yaxis": "y"
        },
        {
         "alignmentgroup": "True",
         "hovertemplate": "journal.title=Microscopy and Microanalysis<br>year=%{x}<br>size=%{y}<extra></extra>",
         "legendgroup": "Microscopy and Microanalysis",
         "marker": {
          "color": "#FECB52",
          "pattern": {
           "shape": ""
          }
         },
         "name": "Microscopy and Microanalysis",
         "offsetgroup": "Microscopy and Microanalysis",
         "orientation": "v",
         "showlegend": true,
         "textposition": "auto",
         "type": "bar",
         "x": [
          1995,
          2005,
          2009,
          2012,
          2014,
          2016,
          2017
         ],
         "xaxis": "x",
         "y": [
          1,
          1,
          1,
          1,
          1,
          1,
          1
         ],
         "yaxis": "y"
        },
        {
         "alignmentgroup": "True",
         "hovertemplate": "journal.title=AJS Review<br>year=%{x}<br>size=%{y}<extra></extra>",
         "legendgroup": "AJS Review",
         "marker": {
          "color": "#636efa",
          "pattern": {
           "shape": ""
          }
         },
         "name": "AJS Review",
         "offsetgroup": "AJS Review",
         "orientation": "v",
         "showlegend": true,
         "textposition": "auto",
         "type": "bar",
         "x": [
          1996
         ],
         "xaxis": "x",
         "y": [
          1
         ],
         "yaxis": "y"
        },
        {
         "alignmentgroup": "True",
         "hovertemplate": "journal.title=Albion A Quarterly Journal Concerned with British Studies<br>year=%{x}<br>size=%{y}<extra></extra>",
         "legendgroup": "Albion A Quarterly Journal Concerned with British Studies",
         "marker": {
          "color": "#EF553B",
          "pattern": {
           "shape": ""
          }
         },
         "name": "Albion A Quarterly Journal Concerned with British Studies",
         "offsetgroup": "Albion A Quarterly Journal Concerned with British Studies",
         "orientation": "v",
         "showlegend": true,
         "textposition": "auto",
         "type": "bar",
         "x": [
          1996,
          2001,
          2003
         ],
         "xaxis": "x",
         "y": [
          1,
          1,
          1
         ],
         "yaxis": "y"
        },
        {
         "alignmentgroup": "True",
         "hovertemplate": "journal.title=Church History<br>year=%{x}<br>size=%{y}<extra></extra>",
         "legendgroup": "Church History",
         "marker": {
          "color": "#00cc96",
          "pattern": {
           "shape": ""
          }
         },
         "name": "Church History",
         "offsetgroup": "Church History",
         "orientation": "v",
         "showlegend": true,
         "textposition": "auto",
         "type": "bar",
         "x": [
          1996,
          2021
         ],
         "xaxis": "x",
         "y": [
          1,
          1
         ],
         "yaxis": "y"
        },
        {
         "alignmentgroup": "True",
         "hovertemplate": "journal.title=Journal of the International Neuropsychological Society<br>year=%{x}<br>size=%{y}<extra></extra>",
         "legendgroup": "Journal of the International Neuropsychological Society",
         "marker": {
          "color": "#ab63fa",
          "pattern": {
           "shape": ""
          }
         },
         "name": "Journal of the International Neuropsychological Society",
         "offsetgroup": "Journal of the International Neuropsychological Society",
         "orientation": "v",
         "showlegend": true,
         "textposition": "auto",
         "type": "bar",
         "x": [
          1996,
          1999,
          2003,
          2004,
          2005,
          2008,
          2009,
          2011,
          2012,
          2016,
          2019,
          2021
         ],
         "xaxis": "x",
         "y": [
          1,
          1,
          1,
          2,
          3,
          1,
          2,
          1,
          2,
          1,
          1,
          1
         ],
         "yaxis": "y"
        },
        {
         "alignmentgroup": "True",
         "hovertemplate": "journal.title=Symposium - International Astronomical Union<br>year=%{x}<br>size=%{y}<extra></extra>",
         "legendgroup": "Symposium - International Astronomical Union",
         "marker": {
          "color": "#FFA15A",
          "pattern": {
           "shape": ""
          }
         },
         "name": "Symposium - International Astronomical Union",
         "offsetgroup": "Symposium - International Astronomical Union",
         "orientation": "v",
         "showlegend": true,
         "textposition": "auto",
         "type": "bar",
         "x": [
          1996,
          2004
         ],
         "xaxis": "x",
         "y": [
          1,
          1
         ],
         "yaxis": "y"
        },
        {
         "alignmentgroup": "True",
         "hovertemplate": "journal.title=Zygote<br>year=%{x}<br>size=%{y}<extra></extra>",
         "legendgroup": "Zygote",
         "marker": {
          "color": "#19d3f3",
          "pattern": {
           "shape": ""
          }
         },
         "name": "Zygote",
         "offsetgroup": "Zygote",
         "orientation": "v",
         "showlegend": true,
         "textposition": "auto",
         "type": "bar",
         "x": [
          1996
         ],
         "xaxis": "x",
         "y": [
          1
         ],
         "yaxis": "y"
        },
        {
         "alignmentgroup": "True",
         "hovertemplate": "journal.title=Ergodic Theory and Dynamical Systems<br>year=%{x}<br>size=%{y}<extra></extra>",
         "legendgroup": "Ergodic Theory and Dynamical Systems",
         "marker": {
          "color": "#FF6692",
          "pattern": {
           "shape": ""
          }
         },
         "name": "Ergodic Theory and Dynamical Systems",
         "offsetgroup": "Ergodic Theory and Dynamical Systems",
         "orientation": "v",
         "showlegend": true,
         "textposition": "auto",
         "type": "bar",
         "x": [
          1997,
          2000,
          2001
         ],
         "xaxis": "x",
         "y": [
          1,
          1,
          1
         ],
         "yaxis": "y"
        },
        {
         "alignmentgroup": "True",
         "hovertemplate": "journal.title=Journal of Tropical Ecology<br>year=%{x}<br>size=%{y}<extra></extra>",
         "legendgroup": "Journal of Tropical Ecology",
         "marker": {
          "color": "#B6E880",
          "pattern": {
           "shape": ""
          }
         },
         "name": "Journal of Tropical Ecology",
         "offsetgroup": "Journal of Tropical Ecology",
         "orientation": "v",
         "showlegend": true,
         "textposition": "auto",
         "type": "bar",
         "x": [
          1997
         ],
         "xaxis": "x",
         "y": [
          1
         ],
         "yaxis": "y"
        },
        {
         "alignmentgroup": "True",
         "hovertemplate": "journal.title=Proceedings of the Royal Society of Edinburgh Section A Mathematics<br>year=%{x}<br>size=%{y}<extra></extra>",
         "legendgroup": "Proceedings of the Royal Society of Edinburgh Section A Mathematics",
         "marker": {
          "color": "#FF97FF",
          "pattern": {
           "shape": ""
          }
         },
         "name": "Proceedings of the Royal Society of Edinburgh Section A Mathematics",
         "offsetgroup": "Proceedings of the Royal Society of Edinburgh Section A Mathematics",
         "orientation": "v",
         "showlegend": true,
         "textposition": "auto",
         "type": "bar",
         "x": [
          1997,
          2017
         ],
         "xaxis": "x",
         "y": [
          1,
          1
         ],
         "yaxis": "y"
        },
        {
         "alignmentgroup": "True",
         "hovertemplate": "journal.title=Proceedings of The Nutrition Society<br>year=%{x}<br>size=%{y}<extra></extra>",
         "legendgroup": "Proceedings of The Nutrition Society",
         "marker": {
          "color": "#FECB52",
          "pattern": {
           "shape": ""
          }
         },
         "name": "Proceedings of The Nutrition Society",
         "offsetgroup": "Proceedings of The Nutrition Society",
         "orientation": "v",
         "showlegend": true,
         "textposition": "auto",
         "type": "bar",
         "x": [
          1998,
          2000
         ],
         "xaxis": "x",
         "y": [
          1,
          1
         ],
         "yaxis": "y"
        },
        {
         "alignmentgroup": "True",
         "hovertemplate": "journal.title=The Annual of the British School at Athens<br>year=%{x}<br>size=%{y}<extra></extra>",
         "legendgroup": "The Annual of the British School at Athens",
         "marker": {
          "color": "#636efa",
          "pattern": {
           "shape": ""
          }
         },
         "name": "The Annual of the British School at Athens",
         "offsetgroup": "The Annual of the British School at Athens",
         "orientation": "v",
         "showlegend": true,
         "textposition": "auto",
         "type": "bar",
         "x": [
          1998,
          1999,
          2013
         ],
         "xaxis": "x",
         "y": [
          1,
          1,
          1
         ],
         "yaxis": "y"
        },
        {
         "alignmentgroup": "True",
         "hovertemplate": "journal.title=CNS Spectrums<br>year=%{x}<br>size=%{y}<extra></extra>",
         "legendgroup": "CNS Spectrums",
         "marker": {
          "color": "#EF553B",
          "pattern": {
           "shape": ""
          }
         },
         "name": "CNS Spectrums",
         "offsetgroup": "CNS Spectrums",
         "orientation": "v",
         "showlegend": true,
         "textposition": "auto",
         "type": "bar",
         "x": [
          1999,
          2006,
          2009,
          2013,
          2015,
          2016,
          2020,
          2021
         ],
         "xaxis": "x",
         "y": [
          1,
          1,
          1,
          3,
          1,
          1,
          2,
          3
         ],
         "yaxis": "y"
        },
        {
         "alignmentgroup": "True",
         "hovertemplate": "journal.title=Journal of Roman Archaeology<br>year=%{x}<br>size=%{y}<extra></extra>",
         "legendgroup": "Journal of Roman Archaeology",
         "marker": {
          "color": "#00cc96",
          "pattern": {
           "shape": ""
          }
         },
         "name": "Journal of Roman Archaeology",
         "offsetgroup": "Journal of Roman Archaeology",
         "orientation": "v",
         "showlegend": true,
         "textposition": "auto",
         "type": "bar",
         "x": [
          1999,
          2003,
          2008,
          2012,
          2013
         ],
         "xaxis": "x",
         "y": [
          1,
          1,
          1,
          1,
          1
         ],
         "yaxis": "y"
        },
        {
         "alignmentgroup": "True",
         "hovertemplate": "journal.title=British Journal of Political Science<br>year=%{x}<br>size=%{y}<extra></extra>",
         "legendgroup": "British Journal of Political Science",
         "marker": {
          "color": "#ab63fa",
          "pattern": {
           "shape": ""
          }
         },
         "name": "British Journal of Political Science",
         "offsetgroup": "British Journal of Political Science",
         "orientation": "v",
         "showlegend": true,
         "textposition": "auto",
         "type": "bar",
         "x": [
          2000
         ],
         "xaxis": "x",
         "y": [
          1
         ],
         "yaxis": "y"
        },
        {
         "alignmentgroup": "True",
         "hovertemplate": "journal.title=Environmental Conservation<br>year=%{x}<br>size=%{y}<extra></extra>",
         "legendgroup": "Environmental Conservation",
         "marker": {
          "color": "#FFA15A",
          "pattern": {
           "shape": ""
          }
         },
         "name": "Environmental Conservation",
         "offsetgroup": "Environmental Conservation",
         "orientation": "v",
         "showlegend": true,
         "textposition": "auto",
         "type": "bar",
         "x": [
          2000,
          2008
         ],
         "xaxis": "x",
         "y": [
          1,
          1
         ],
         "yaxis": "y"
        },
        {
         "alignmentgroup": "True",
         "hovertemplate": "journal.title=Journal of Fluid Mechanics<br>year=%{x}<br>size=%{y}<extra></extra>",
         "legendgroup": "Journal of Fluid Mechanics",
         "marker": {
          "color": "#19d3f3",
          "pattern": {
           "shape": ""
          }
         },
         "name": "Journal of Fluid Mechanics",
         "offsetgroup": "Journal of Fluid Mechanics",
         "orientation": "v",
         "showlegend": true,
         "textposition": "auto",
         "type": "bar",
         "x": [
          2000,
          2018,
          2020
         ],
         "xaxis": "x",
         "y": [
          1,
          1,
          1
         ],
         "yaxis": "y"
        },
        {
         "alignmentgroup": "True",
         "hovertemplate": "journal.title=Political Science and Politics<br>year=%{x}<br>size=%{y}<extra></extra>",
         "legendgroup": "Political Science and Politics",
         "marker": {
          "color": "#FF6692",
          "pattern": {
           "shape": ""
          }
         },
         "name": "Political Science and Politics",
         "offsetgroup": "Political Science and Politics",
         "orientation": "v",
         "showlegend": true,
         "textposition": "auto",
         "type": "bar",
         "x": [
          2000
         ],
         "xaxis": "x",
         "y": [
          1
         ],
         "yaxis": "y"
        },
        {
         "alignmentgroup": "True",
         "hovertemplate": "journal.title=The Journal of African History<br>year=%{x}<br>size=%{y}<extra></extra>",
         "legendgroup": "The Journal of African History",
         "marker": {
          "color": "#B6E880",
          "pattern": {
           "shape": ""
          }
         },
         "name": "The Journal of African History",
         "offsetgroup": "The Journal of African History",
         "orientation": "v",
         "showlegend": true,
         "textposition": "auto",
         "type": "bar",
         "x": [
          2000
         ],
         "xaxis": "x",
         "y": [
          1
         ],
         "yaxis": "y"
        },
        {
         "alignmentgroup": "True",
         "hovertemplate": "journal.title=The Americas A Quarterly Review of Latin American History<br>year=%{x}<br>size=%{y}<extra></extra>",
         "legendgroup": "The Americas A Quarterly Review of Latin American History",
         "marker": {
          "color": "#FF97FF",
          "pattern": {
           "shape": ""
          }
         },
         "name": "The Americas A Quarterly Review of Latin American History",
         "offsetgroup": "The Americas A Quarterly Review of Latin American History",
         "orientation": "v",
         "showlegend": true,
         "textposition": "auto",
         "type": "bar",
         "x": [
          2002,
          2009
         ],
         "xaxis": "x",
         "y": [
          1,
          1
         ],
         "yaxis": "y"
        },
        {
         "alignmentgroup": "True",
         "hovertemplate": "journal.title=Artificial intelligence for engineering design analysis and manufacturing<br>year=%{x}<br>size=%{y}<extra></extra>",
         "legendgroup": "Artificial intelligence for engineering design analysis and manufacturing",
         "marker": {
          "color": "#FECB52",
          "pattern": {
           "shape": ""
          }
         },
         "name": "Artificial intelligence for engineering design analysis and manufacturing",
         "offsetgroup": "Artificial intelligence for engineering design analysis and manufacturing",
         "orientation": "v",
         "showlegend": true,
         "textposition": "auto",
         "type": "bar",
         "x": [
          2003
         ],
         "xaxis": "x",
         "y": [
          1
         ],
         "yaxis": "y"
        },
        {
         "alignmentgroup": "True",
         "hovertemplate": "journal.title=Palliative & Supportive Care<br>year=%{x}<br>size=%{y}<extra></extra>",
         "legendgroup": "Palliative & Supportive Care",
         "marker": {
          "color": "#636efa",
          "pattern": {
           "shape": ""
          }
         },
         "name": "Palliative & Supportive Care",
         "offsetgroup": "Palliative & Supportive Care",
         "orientation": "v",
         "showlegend": true,
         "textposition": "auto",
         "type": "bar",
         "x": [
          2003,
          2004,
          2020
         ],
         "xaxis": "x",
         "y": [
          1,
          1,
          1
         ],
         "yaxis": "y"
        },
        {
         "alignmentgroup": "True",
         "hovertemplate": "journal.title=Renaissance Quarterly<br>year=%{x}<br>size=%{y}<extra></extra>",
         "legendgroup": "Renaissance Quarterly",
         "marker": {
          "color": "#EF553B",
          "pattern": {
           "shape": ""
          }
         },
         "name": "Renaissance Quarterly",
         "offsetgroup": "Renaissance Quarterly",
         "orientation": "v",
         "showlegend": true,
         "textposition": "auto",
         "type": "bar",
         "x": [
          2003,
          2013,
          2017
         ],
         "xaxis": "x",
         "y": [
          1,
          1,
          1
         ],
         "yaxis": "y"
        },
        {
         "alignmentgroup": "True",
         "hovertemplate": "journal.title=State Politics & Policy Quarterly<br>year=%{x}<br>size=%{y}<extra></extra>",
         "legendgroup": "State Politics & Policy Quarterly",
         "marker": {
          "color": "#00cc96",
          "pattern": {
           "shape": ""
          }
         },
         "name": "State Politics & Policy Quarterly",
         "offsetgroup": "State Politics & Policy Quarterly",
         "orientation": "v",
         "showlegend": true,
         "textposition": "auto",
         "type": "bar",
         "x": [
          2003
         ],
         "xaxis": "x",
         "y": [
          1
         ],
         "yaxis": "y"
        },
        {
         "alignmentgroup": "True",
         "hovertemplate": "journal.title=The Journal of Modern African Studies<br>year=%{x}<br>size=%{y}<extra></extra>",
         "legendgroup": "The Journal of Modern African Studies",
         "marker": {
          "color": "#ab63fa",
          "pattern": {
           "shape": ""
          }
         },
         "name": "The Journal of Modern African Studies",
         "offsetgroup": "The Journal of Modern African Studies",
         "orientation": "v",
         "showlegend": true,
         "textposition": "auto",
         "type": "bar",
         "x": [
          2003
         ],
         "xaxis": "x",
         "y": [
          1
         ],
         "yaxis": "y"
        },
        {
         "alignmentgroup": "True",
         "hovertemplate": "journal.title=Antiquity<br>year=%{x}<br>size=%{y}<extra></extra>",
         "legendgroup": "Antiquity",
         "marker": {
          "color": "#FFA15A",
          "pattern": {
           "shape": ""
          }
         },
         "name": "Antiquity",
         "offsetgroup": "Antiquity",
         "orientation": "v",
         "showlegend": true,
         "textposition": "auto",
         "type": "bar",
         "x": [
          2004,
          2009,
          2011
         ],
         "xaxis": "x",
         "y": [
          1,
          1,
          1
         ],
         "yaxis": "y"
        },
        {
         "alignmentgroup": "True",
         "hovertemplate": "journal.title=British Journal Of Nutrition<br>year=%{x}<br>size=%{y}<extra></extra>",
         "legendgroup": "British Journal Of Nutrition",
         "marker": {
          "color": "#19d3f3",
          "pattern": {
           "shape": ""
          }
         },
         "name": "British Journal Of Nutrition",
         "offsetgroup": "British Journal Of Nutrition",
         "orientation": "v",
         "showlegend": true,
         "textposition": "auto",
         "type": "bar",
         "x": [
          2004,
          2005,
          2007,
          2009,
          2011,
          2019
         ],
         "xaxis": "x",
         "y": [
          1,
          1,
          1,
          1,
          1,
          2
         ],
         "yaxis": "y"
        },
        {
         "alignmentgroup": "True",
         "hovertemplate": "journal.title=Powder Diffraction<br>year=%{x}<br>size=%{y}<extra></extra>",
         "legendgroup": "Powder Diffraction",
         "marker": {
          "color": "#FF6692",
          "pattern": {
           "shape": ""
          }
         },
         "name": "Powder Diffraction",
         "offsetgroup": "Powder Diffraction",
         "orientation": "v",
         "showlegend": true,
         "textposition": "auto",
         "type": "bar",
         "x": [
          2004
         ],
         "xaxis": "x",
         "y": [
          1
         ],
         "yaxis": "y"
        },
        {
         "alignmentgroup": "True",
         "hovertemplate": "journal.title=Twin Research and Human Genetics<br>year=%{x}<br>size=%{y}<extra></extra>",
         "legendgroup": "Twin Research and Human Genetics",
         "marker": {
          "color": "#B6E880",
          "pattern": {
           "shape": ""
          }
         },
         "name": "Twin Research and Human Genetics",
         "offsetgroup": "Twin Research and Human Genetics",
         "orientation": "v",
         "showlegend": true,
         "textposition": "auto",
         "type": "bar",
         "x": [
          2004,
          2015
         ],
         "xaxis": "x",
         "y": [
          1,
          1
         ],
         "yaxis": "y"
        },
        {
         "alignmentgroup": "True",
         "hovertemplate": "journal.title=Austrian History Yearbook<br>year=%{x}<br>size=%{y}<extra></extra>",
         "legendgroup": "Austrian History Yearbook",
         "marker": {
          "color": "#FF97FF",
          "pattern": {
           "shape": ""
          }
         },
         "name": "Austrian History Yearbook",
         "offsetgroup": "Austrian History Yearbook",
         "orientation": "v",
         "showlegend": true,
         "textposition": "auto",
         "type": "bar",
         "x": [
          2005,
          2007
         ],
         "xaxis": "x",
         "y": [
          1,
          1
         ],
         "yaxis": "y"
        },
        {
         "alignmentgroup": "True",
         "hovertemplate": "journal.title=Geological Magazine<br>year=%{x}<br>size=%{y}<extra></extra>",
         "legendgroup": "Geological Magazine",
         "marker": {
          "color": "#FECB52",
          "pattern": {
           "shape": ""
          }
         },
         "name": "Geological Magazine",
         "offsetgroup": "Geological Magazine",
         "orientation": "v",
         "showlegend": true,
         "textposition": "auto",
         "type": "bar",
         "x": [
          2005,
          2016
         ],
         "xaxis": "x",
         "y": [
          1,
          1
         ],
         "yaxis": "y"
        },
        {
         "alignmentgroup": "True",
         "hovertemplate": "journal.title=Microscopy Today<br>year=%{x}<br>size=%{y}<extra></extra>",
         "legendgroup": "Microscopy Today",
         "marker": {
          "color": "#636efa",
          "pattern": {
           "shape": ""
          }
         },
         "name": "Microscopy Today",
         "offsetgroup": "Microscopy Today",
         "orientation": "v",
         "showlegend": true,
         "textposition": "auto",
         "type": "bar",
         "x": [
          2005,
          2017
         ],
         "xaxis": "x",
         "y": [
          1,
          1
         ],
         "yaxis": "y"
        },
        {
         "alignmentgroup": "True",
         "hovertemplate": "journal.title=Nineteenth-Century Music Review<br>year=%{x}<br>size=%{y}<extra></extra>",
         "legendgroup": "Nineteenth-Century Music Review",
         "marker": {
          "color": "#EF553B",
          "pattern": {
           "shape": ""
          }
         },
         "name": "Nineteenth-Century Music Review",
         "offsetgroup": "Nineteenth-Century Music Review",
         "orientation": "v",
         "showlegend": true,
         "textposition": "auto",
         "type": "bar",
         "x": [
          2005,
          2011
         ],
         "xaxis": "x",
         "y": [
          1,
          1
         ],
         "yaxis": "y"
        },
        {
         "alignmentgroup": "True",
         "hovertemplate": "journal.title=Organised Sound<br>year=%{x}<br>size=%{y}<extra></extra>",
         "legendgroup": "Organised Sound",
         "marker": {
          "color": "#00cc96",
          "pattern": {
           "shape": ""
          }
         },
         "name": "Organised Sound",
         "offsetgroup": "Organised Sound",
         "orientation": "v",
         "showlegend": true,
         "textposition": "auto",
         "type": "bar",
         "x": [
          2005
         ],
         "xaxis": "x",
         "y": [
          1
         ],
         "yaxis": "y"
        },
        {
         "alignmentgroup": "True",
         "hovertemplate": "journal.title=Enterprise & Society<br>year=%{x}<br>size=%{y}<extra></extra>",
         "legendgroup": "Enterprise & Society",
         "marker": {
          "color": "#ab63fa",
          "pattern": {
           "shape": ""
          }
         },
         "name": "Enterprise & Society",
         "offsetgroup": "Enterprise & Society",
         "orientation": "v",
         "showlegend": true,
         "textposition": "auto",
         "type": "bar",
         "x": [
          2006
         ],
         "xaxis": "x",
         "y": [
          1
         ],
         "yaxis": "y"
        },
        {
         "alignmentgroup": "True",
         "hovertemplate": "journal.title=Epidemiology and Infection<br>year=%{x}<br>size=%{y}<extra></extra>",
         "legendgroup": "Epidemiology and Infection",
         "marker": {
          "color": "#FFA15A",
          "pattern": {
           "shape": ""
          }
         },
         "name": "Epidemiology and Infection",
         "offsetgroup": "Epidemiology and Infection",
         "orientation": "v",
         "showlegend": true,
         "textposition": "auto",
         "type": "bar",
         "x": [
          2006,
          2013,
          2019,
          2020
         ],
         "xaxis": "x",
         "y": [
          1,
          1,
          1,
          1
         ],
         "yaxis": "y"
        },
        {
         "alignmentgroup": "True",
         "hovertemplate": "journal.title=Language in Society<br>year=%{x}<br>size=%{y}<extra></extra>",
         "legendgroup": "Language in Society",
         "marker": {
          "color": "#19d3f3",
          "pattern": {
           "shape": ""
          }
         },
         "name": "Language in Society",
         "offsetgroup": "Language in Society",
         "orientation": "v",
         "showlegend": true,
         "textposition": "auto",
         "type": "bar",
         "x": [
          2006
         ],
         "xaxis": "x",
         "y": [
          1
         ],
         "yaxis": "y"
        },
        {
         "alignmentgroup": "True",
         "hovertemplate": "journal.title=Paleobiology<br>year=%{x}<br>size=%{y}<extra></extra>",
         "legendgroup": "Paleobiology",
         "marker": {
          "color": "#FF6692",
          "pattern": {
           "shape": ""
          }
         },
         "name": "Paleobiology",
         "offsetgroup": "Paleobiology",
         "orientation": "v",
         "showlegend": true,
         "textposition": "auto",
         "type": "bar",
         "x": [
          2006,
          2009,
          2012,
          2015,
          2017,
          2018,
          2020
         ],
         "xaxis": "x",
         "y": [
          1,
          2,
          1,
          1,
          1,
          1,
          1
         ],
         "yaxis": "y"
        },
        {
         "alignmentgroup": "True",
         "hovertemplate": "journal.title=Central European History<br>year=%{x}<br>size=%{y}<extra></extra>",
         "legendgroup": "Central European History",
         "marker": {
          "color": "#B6E880",
          "pattern": {
           "shape": ""
          }
         },
         "name": "Central European History",
         "offsetgroup": "Central European History",
         "orientation": "v",
         "showlegend": true,
         "textposition": "auto",
         "type": "bar",
         "x": [
          2007
         ],
         "xaxis": "x",
         "y": [
          1
         ],
         "yaxis": "y"
        },
        {
         "alignmentgroup": "True",
         "hovertemplate": "journal.title=European Psychiatry<br>year=%{x}<br>size=%{y}<extra></extra>",
         "legendgroup": "European Psychiatry",
         "marker": {
          "color": "#FF97FF",
          "pattern": {
           "shape": ""
          }
         },
         "name": "European Psychiatry",
         "offsetgroup": "European Psychiatry",
         "orientation": "v",
         "showlegend": true,
         "textposition": "auto",
         "type": "bar",
         "x": [
          2007
         ],
         "xaxis": "x",
         "y": [
          1
         ],
         "yaxis": "y"
        },
        {
         "alignmentgroup": "True",
         "hovertemplate": "journal.title=ReCALL<br>year=%{x}<br>size=%{y}<extra></extra>",
         "legendgroup": "ReCALL",
         "marker": {
          "color": "#FECB52",
          "pattern": {
           "shape": ""
          }
         },
         "name": "ReCALL",
         "offsetgroup": "ReCALL",
         "orientation": "v",
         "showlegend": true,
         "textposition": "auto",
         "type": "bar",
         "x": [
          2007,
          2017
         ],
         "xaxis": "x",
         "y": [
          1,
          1
         ],
         "yaxis": "y"
        },
        {
         "alignmentgroup": "True",
         "hovertemplate": "journal.title=Science in Context<br>year=%{x}<br>size=%{y}<extra></extra>",
         "legendgroup": "Science in Context",
         "marker": {
          "color": "#636efa",
          "pattern": {
           "shape": ""
          }
         },
         "name": "Science in Context",
         "offsetgroup": "Science in Context",
         "orientation": "v",
         "showlegend": true,
         "textposition": "auto",
         "type": "bar",
         "x": [
          2007
         ],
         "xaxis": "x",
         "y": [
          1
         ],
         "yaxis": "y"
        },
        {
         "alignmentgroup": "True",
         "hovertemplate": "journal.title=American Antiquity<br>year=%{x}<br>size=%{y}<extra></extra>",
         "legendgroup": "American Antiquity",
         "marker": {
          "color": "#EF553B",
          "pattern": {
           "shape": ""
          }
         },
         "name": "American Antiquity",
         "offsetgroup": "American Antiquity",
         "orientation": "v",
         "showlegend": true,
         "textposition": "auto",
         "type": "bar",
         "x": [
          2008,
          2010,
          2016,
          2020
         ],
         "xaxis": "x",
         "y": [
          1,
          1,
          1,
          1
         ],
         "yaxis": "y"
        },
        {
         "alignmentgroup": "True",
         "hovertemplate": "journal.title=Cardiology in the Young<br>year=%{x}<br>size=%{y}<extra></extra>",
         "legendgroup": "Cardiology in the Young",
         "marker": {
          "color": "#00cc96",
          "pattern": {
           "shape": ""
          }
         },
         "name": "Cardiology in the Young",
         "offsetgroup": "Cardiology in the Young",
         "orientation": "v",
         "showlegend": true,
         "textposition": "auto",
         "type": "bar",
         "x": [
          2008,
          2009,
          2012,
          2015,
          2016,
          2018,
          2019,
          2020,
          2021
         ],
         "xaxis": "x",
         "y": [
          1,
          1,
          1,
          3,
          1,
          1,
          2,
          7,
          14
         ],
         "yaxis": "y"
        },
        {
         "alignmentgroup": "True",
         "hovertemplate": "journal.title=Economics and Philosophy<br>year=%{x}<br>size=%{y}<extra></extra>",
         "legendgroup": "Economics and Philosophy",
         "marker": {
          "color": "#ab63fa",
          "pattern": {
           "shape": ""
          }
         },
         "name": "Economics and Philosophy",
         "offsetgroup": "Economics and Philosophy",
         "orientation": "v",
         "showlegend": true,
         "textposition": "auto",
         "type": "bar",
         "x": [
          2008
         ],
         "xaxis": "x",
         "y": [
          1
         ],
         "yaxis": "y"
        },
        {
         "alignmentgroup": "True",
         "hovertemplate": "journal.title=Journal of British Studies<br>year=%{x}<br>size=%{y}<extra></extra>",
         "legendgroup": "Journal of British Studies",
         "marker": {
          "color": "#FFA15A",
          "pattern": {
           "shape": ""
          }
         },
         "name": "Journal of British Studies",
         "offsetgroup": "Journal of British Studies",
         "orientation": "v",
         "showlegend": true,
         "textposition": "auto",
         "type": "bar",
         "x": [
          2008,
          2009,
          2013
         ],
         "xaxis": "x",
         "y": [
          1,
          1,
          1
         ],
         "yaxis": "y"
        },
        {
         "alignmentgroup": "True",
         "hovertemplate": "journal.title=Perspectives on Politics<br>year=%{x}<br>size=%{y}<extra></extra>",
         "legendgroup": "Perspectives on Politics",
         "marker": {
          "color": "#19d3f3",
          "pattern": {
           "shape": ""
          }
         },
         "name": "Perspectives on Politics",
         "offsetgroup": "Perspectives on Politics",
         "orientation": "v",
         "showlegend": true,
         "textposition": "auto",
         "type": "bar",
         "x": [
          2008,
          2015,
          2019,
          2020
         ],
         "xaxis": "x",
         "y": [
          1,
          1,
          1,
          1
         ],
         "yaxis": "y"
        },
        {
         "alignmentgroup": "True",
         "hovertemplate": "journal.title=Advances in Applied Probability<br>year=%{x}<br>size=%{y}<extra></extra>",
         "legendgroup": "Advances in Applied Probability",
         "marker": {
          "color": "#FF6692",
          "pattern": {
           "shape": ""
          }
         },
         "name": "Advances in Applied Probability",
         "offsetgroup": "Advances in Applied Probability",
         "orientation": "v",
         "showlegend": true,
         "textposition": "auto",
         "type": "bar",
         "x": [
          2009
         ],
         "xaxis": "x",
         "y": [
          1
         ],
         "yaxis": "y"
        },
        {
         "alignmentgroup": "True",
         "hovertemplate": "journal.title=Canadian Journal of Philosophy<br>year=%{x}<br>size=%{y}<extra></extra>",
         "legendgroup": "Canadian Journal of Philosophy",
         "marker": {
          "color": "#B6E880",
          "pattern": {
           "shape": ""
          }
         },
         "name": "Canadian Journal of Philosophy",
         "offsetgroup": "Canadian Journal of Philosophy",
         "orientation": "v",
         "showlegend": true,
         "textposition": "auto",
         "type": "bar",
         "x": [
          2009
         ],
         "xaxis": "x",
         "y": [
          1
         ],
         "yaxis": "y"
        },
        {
         "alignmentgroup": "True",
         "hovertemplate": "journal.title=Development and Psychopathology<br>year=%{x}<br>size=%{y}<extra></extra>",
         "legendgroup": "Development and Psychopathology",
         "marker": {
          "color": "#FF97FF",
          "pattern": {
           "shape": ""
          }
         },
         "name": "Development and Psychopathology",
         "offsetgroup": "Development and Psychopathology",
         "orientation": "v",
         "showlegend": true,
         "textposition": "auto",
         "type": "bar",
         "x": [
          2009,
          2012,
          2014
         ],
         "xaxis": "x",
         "y": [
          1,
          2,
          1
         ],
         "yaxis": "y"
        },
        {
         "alignmentgroup": "True",
         "hovertemplate": "journal.title=Journal of Financial and Quantitative Analysis<br>year=%{x}<br>size=%{y}<extra></extra>",
         "legendgroup": "Journal of Financial and Quantitative Analysis",
         "marker": {
          "color": "#FECB52",
          "pattern": {
           "shape": ""
          }
         },
         "name": "Journal of Financial and Quantitative Analysis",
         "offsetgroup": "Journal of Financial and Quantitative Analysis",
         "orientation": "v",
         "showlegend": true,
         "textposition": "auto",
         "type": "bar",
         "x": [
          2009,
          2014,
          2015
         ],
         "xaxis": "x",
         "y": [
          1,
          1,
          1
         ],
         "yaxis": "y"
        },
        {
         "alignmentgroup": "True",
         "hovertemplate": "journal.title=Management and Organization Review<br>year=%{x}<br>size=%{y}<extra></extra>",
         "legendgroup": "Management and Organization Review",
         "marker": {
          "color": "#636efa",
          "pattern": {
           "shape": ""
          }
         },
         "name": "Management and Organization Review",
         "offsetgroup": "Management and Organization Review",
         "orientation": "v",
         "showlegend": true,
         "textposition": "auto",
         "type": "bar",
         "x": [
          2009
         ],
         "xaxis": "x",
         "y": [
          1
         ],
         "yaxis": "y"
        },
        {
         "alignmentgroup": "True",
         "hovertemplate": "journal.title=Parasitology<br>year=%{x}<br>size=%{y}<extra></extra>",
         "legendgroup": "Parasitology",
         "marker": {
          "color": "#EF553B",
          "pattern": {
           "shape": ""
          }
         },
         "name": "Parasitology",
         "offsetgroup": "Parasitology",
         "orientation": "v",
         "showlegend": true,
         "textposition": "auto",
         "type": "bar",
         "x": [
          2009,
          2020
         ],
         "xaxis": "x",
         "y": [
          1,
          1
         ],
         "yaxis": "y"
        },
        {
         "alignmentgroup": "True",
         "hovertemplate": "journal.title=Proceedings of the International Astronomical Union<br>year=%{x}<br>size=%{y}<extra></extra>",
         "legendgroup": "Proceedings of the International Astronomical Union",
         "marker": {
          "color": "#00cc96",
          "pattern": {
           "shape": ""
          }
         },
         "name": "Proceedings of the International Astronomical Union",
         "offsetgroup": "Proceedings of the International Astronomical Union",
         "orientation": "v",
         "showlegend": true,
         "textposition": "auto",
         "type": "bar",
         "x": [
          2009,
          2012,
          2016
         ],
         "xaxis": "x",
         "y": [
          1,
          1,
          1
         ],
         "yaxis": "y"
        },
        {
         "alignmentgroup": "True",
         "hovertemplate": "journal.title=Canadian Journal of Neurological Sciences / Journal Canadien des Sciences Neurologiques<br>year=%{x}<br>size=%{y}<extra></extra>",
         "legendgroup": "Canadian Journal of Neurological Sciences / Journal Canadien des Sciences Neurologiques",
         "marker": {
          "color": "#ab63fa",
          "pattern": {
           "shape": ""
          }
         },
         "name": "Canadian Journal of Neurological Sciences / Journal Canadien des Sciences Neurologiques",
         "offsetgroup": "Canadian Journal of Neurological Sciences / Journal Canadien des Sciences Neurologiques",
         "orientation": "v",
         "showlegend": true,
         "textposition": "auto",
         "type": "bar",
         "x": [
          2010,
          2012,
          2017
         ],
         "xaxis": "x",
         "y": [
          1,
          1,
          1
         ],
         "yaxis": "y"
        },
        {
         "alignmentgroup": "True",
         "hovertemplate": "journal.title=Industrial and Organizational Psychology<br>year=%{x}<br>size=%{y}<extra></extra>",
         "legendgroup": "Industrial and Organizational Psychology",
         "marker": {
          "color": "#FFA15A",
          "pattern": {
           "shape": ""
          }
         },
         "name": "Industrial and Organizational Psychology",
         "offsetgroup": "Industrial and Organizational Psychology",
         "orientation": "v",
         "showlegend": true,
         "textposition": "auto",
         "type": "bar",
         "x": [
          2010,
          2012,
          2013,
          2016
         ],
         "xaxis": "x",
         "y": [
          1,
          2,
          1,
          1
         ],
         "yaxis": "y"
        },
        {
         "alignmentgroup": "True",
         "hovertemplate": "journal.title=Journal of Developmental Origins of Health and Disease<br>year=%{x}<br>size=%{y}<extra></extra>",
         "legendgroup": "Journal of Developmental Origins of Health and Disease",
         "marker": {
          "color": "#19d3f3",
          "pattern": {
           "shape": ""
          }
         },
         "name": "Journal of Developmental Origins of Health and Disease",
         "offsetgroup": "Journal of Developmental Origins of Health and Disease",
         "orientation": "v",
         "showlegend": true,
         "textposition": "auto",
         "type": "bar",
         "x": [
          2010,
          2020
         ],
         "xaxis": "x",
         "y": [
          2,
          1
         ],
         "yaxis": "y"
        },
        {
         "alignmentgroup": "True",
         "hovertemplate": "journal.title=Language and Cognition<br>year=%{x}<br>size=%{y}<extra></extra>",
         "legendgroup": "Language and Cognition",
         "marker": {
          "color": "#FF6692",
          "pattern": {
           "shape": ""
          }
         },
         "name": "Language and Cognition",
         "offsetgroup": "Language and Cognition",
         "orientation": "v",
         "showlegend": true,
         "textposition": "auto",
         "type": "bar",
         "x": [
          2010,
          2016
         ],
         "xaxis": "x",
         "y": [
          1,
          1
         ],
         "yaxis": "y"
        },
        {
         "alignmentgroup": "True",
         "hovertemplate": "journal.title=Antarctic Science<br>year=%{x}<br>size=%{y}<extra></extra>",
         "legendgroup": "Antarctic Science",
         "marker": {
          "color": "#B6E880",
          "pattern": {
           "shape": ""
          }
         },
         "name": "Antarctic Science",
         "offsetgroup": "Antarctic Science",
         "orientation": "v",
         "showlegend": true,
         "textposition": "auto",
         "type": "bar",
         "x": [
          2011
         ],
         "xaxis": "x",
         "y": [
          1
         ],
         "yaxis": "y"
        },
        {
         "alignmentgroup": "True",
         "hovertemplate": "journal.title=Behavioural and Cognitive Psychotherapy<br>year=%{x}<br>size=%{y}<extra></extra>",
         "legendgroup": "Behavioural and Cognitive Psychotherapy",
         "marker": {
          "color": "#FF97FF",
          "pattern": {
           "shape": ""
          }
         },
         "name": "Behavioural and Cognitive Psychotherapy",
         "offsetgroup": "Behavioural and Cognitive Psychotherapy",
         "orientation": "v",
         "showlegend": true,
         "textposition": "auto",
         "type": "bar",
         "x": [
          2011
         ],
         "xaxis": "x",
         "y": [
          1
         ],
         "yaxis": "y"
        },
        {
         "alignmentgroup": "True",
         "hovertemplate": "journal.title=Du Bois Review Social Science Research on Race<br>year=%{x}<br>size=%{y}<extra></extra>",
         "legendgroup": "Du Bois Review Social Science Research on Race",
         "marker": {
          "color": "#FECB52",
          "pattern": {
           "shape": ""
          }
         },
         "name": "Du Bois Review Social Science Research on Race",
         "offsetgroup": "Du Bois Review Social Science Research on Race",
         "orientation": "v",
         "showlegend": true,
         "textposition": "auto",
         "type": "bar",
         "x": [
          2011,
          2020
         ],
         "xaxis": "x",
         "y": [
          1,
          1
         ],
         "yaxis": "y"
        },
        {
         "alignmentgroup": "True",
         "hovertemplate": "journal.title=Journal of Materials Research<br>year=%{x}<br>size=%{y}<extra></extra>",
         "legendgroup": "Journal of Materials Research",
         "marker": {
          "color": "#636efa",
          "pattern": {
           "shape": ""
          }
         },
         "name": "Journal of Materials Research",
         "offsetgroup": "Journal of Materials Research",
         "orientation": "v",
         "showlegend": true,
         "textposition": "auto",
         "type": "bar",
         "x": [
          2011
         ],
         "xaxis": "x",
         "y": [
          1
         ],
         "yaxis": "y"
        },
        {
         "alignmentgroup": "True",
         "hovertemplate": "journal.title=The Journal of Laryngology and Otology<br>year=%{x}<br>size=%{y}<extra></extra>",
         "legendgroup": "The Journal of Laryngology and Otology",
         "marker": {
          "color": "#EF553B",
          "pattern": {
           "shape": ""
          }
         },
         "name": "The Journal of Laryngology and Otology",
         "offsetgroup": "The Journal of Laryngology and Otology",
         "orientation": "v",
         "showlegend": true,
         "textposition": "auto",
         "type": "bar",
         "x": [
          2011,
          2018
         ],
         "xaxis": "x",
         "y": [
          1,
          1
         ],
         "yaxis": "y"
        },
        {
         "alignmentgroup": "True",
         "hovertemplate": "journal.title=Earth and Environmental Science Transactions of the Royal Society of Edinburgh<br>year=%{x}<br>size=%{y}<extra></extra>",
         "legendgroup": "Earth and Environmental Science Transactions of the Royal Society of Edinburgh",
         "marker": {
          "color": "#00cc96",
          "pattern": {
           "shape": ""
          }
         },
         "name": "Earth and Environmental Science Transactions of the Royal Society of Edinburgh",
         "offsetgroup": "Earth and Environmental Science Transactions of the Royal Society of Edinburgh",
         "orientation": "v",
         "showlegend": true,
         "textposition": "auto",
         "type": "bar",
         "x": [
          2012
         ],
         "xaxis": "x",
         "y": [
          1
         ],
         "yaxis": "y"
        },
        {
         "alignmentgroup": "True",
         "hovertemplate": "journal.title=Journal of Applied Probability<br>year=%{x}<br>size=%{y}<extra></extra>",
         "legendgroup": "Journal of Applied Probability",
         "marker": {
          "color": "#ab63fa",
          "pattern": {
           "shape": ""
          }
         },
         "name": "Journal of Applied Probability",
         "offsetgroup": "Journal of Applied Probability",
         "orientation": "v",
         "showlegend": true,
         "textposition": "auto",
         "type": "bar",
         "x": [
          2012,
          2015,
          2016
         ],
         "xaxis": "x",
         "y": [
          1,
          1,
          1
         ],
         "yaxis": "y"
        },
        {
         "alignmentgroup": "True",
         "hovertemplate": "journal.title=Public Health Nutrition<br>year=%{x}<br>size=%{y}<extra></extra>",
         "legendgroup": "Public Health Nutrition",
         "marker": {
          "color": "#FFA15A",
          "pattern": {
           "shape": ""
          }
         },
         "name": "Public Health Nutrition",
         "offsetgroup": "Public Health Nutrition",
         "orientation": "v",
         "showlegend": true,
         "textposition": "auto",
         "type": "bar",
         "x": [
          2012,
          2014
         ],
         "xaxis": "x",
         "y": [
          1,
          1
         ],
         "yaxis": "y"
        },
        {
         "alignmentgroup": "True",
         "hovertemplate": "journal.title=The Classical Quarterly<br>year=%{x}<br>size=%{y}<extra></extra>",
         "legendgroup": "The Classical Quarterly",
         "marker": {
          "color": "#19d3f3",
          "pattern": {
           "shape": ""
          }
         },
         "name": "The Classical Quarterly",
         "offsetgroup": "The Classical Quarterly",
         "orientation": "v",
         "showlegend": true,
         "textposition": "auto",
         "type": "bar",
         "x": [
          2012,
          2015
         ],
         "xaxis": "x",
         "y": [
          1,
          1
         ],
         "yaxis": "y"
        },
        {
         "alignmentgroup": "True",
         "hovertemplate": "journal.title=Bulletin of the Australian Mathematical Society<br>year=%{x}<br>size=%{y}<extra></extra>",
         "legendgroup": "Bulletin of the Australian Mathematical Society",
         "marker": {
          "color": "#FF6692",
          "pattern": {
           "shape": ""
          }
         },
         "name": "Bulletin of the Australian Mathematical Society",
         "offsetgroup": "Bulletin of the Australian Mathematical Society",
         "orientation": "v",
         "showlegend": true,
         "textposition": "auto",
         "type": "bar",
         "x": [
          2013
         ],
         "xaxis": "x",
         "y": [
          1
         ],
         "yaxis": "y"
        },
        {
         "alignmentgroup": "True",
         "hovertemplate": "journal.title=Cambridge Archaeological Journal<br>year=%{x}<br>size=%{y}<extra></extra>",
         "legendgroup": "Cambridge Archaeological Journal",
         "marker": {
          "color": "#B6E880",
          "pattern": {
           "shape": ""
          }
         },
         "name": "Cambridge Archaeological Journal",
         "offsetgroup": "Cambridge Archaeological Journal",
         "orientation": "v",
         "showlegend": true,
         "textposition": "auto",
         "type": "bar",
         "x": [
          2014
         ],
         "xaxis": "x",
         "y": [
          1
         ],
         "yaxis": "y"
        },
        {
         "alignmentgroup": "True",
         "hovertemplate": "journal.title=Expert Reviews in Molecular Medicine<br>year=%{x}<br>size=%{y}<extra></extra>",
         "legendgroup": "Expert Reviews in Molecular Medicine",
         "marker": {
          "color": "#FF97FF",
          "pattern": {
           "shape": ""
          }
         },
         "name": "Expert Reviews in Molecular Medicine",
         "offsetgroup": "Expert Reviews in Molecular Medicine",
         "orientation": "v",
         "showlegend": true,
         "textposition": "auto",
         "type": "bar",
         "x": [
          2014
         ],
         "xaxis": "x",
         "y": [
          1
         ],
         "yaxis": "y"
        },
        {
         "alignmentgroup": "True",
         "hovertemplate": "journal.title=Journal of American Studies<br>year=%{x}<br>size=%{y}<extra></extra>",
         "legendgroup": "Journal of American Studies",
         "marker": {
          "color": "#FECB52",
          "pattern": {
           "shape": ""
          }
         },
         "name": "Journal of American Studies",
         "offsetgroup": "Journal of American Studies",
         "orientation": "v",
         "showlegend": true,
         "textposition": "auto",
         "type": "bar",
         "x": [
          2014,
          2015
         ],
         "xaxis": "x",
         "y": [
          1,
          1
         ],
         "yaxis": "y"
        },
        {
         "alignmentgroup": "True",
         "hovertemplate": "journal.title=Royal Institute of Philosophy Supplement<br>year=%{x}<br>size=%{y}<extra></extra>",
         "legendgroup": "Royal Institute of Philosophy Supplement",
         "marker": {
          "color": "#636efa",
          "pattern": {
           "shape": ""
          }
         },
         "name": "Royal Institute of Philosophy Supplement",
         "offsetgroup": "Royal Institute of Philosophy Supplement",
         "orientation": "v",
         "showlegend": true,
         "textposition": "auto",
         "type": "bar",
         "x": [
          2014
         ],
         "xaxis": "x",
         "y": [
          1
         ],
         "yaxis": "y"
        },
        {
         "alignmentgroup": "True",
         "hovertemplate": "journal.title=The Journal of Asian Studies<br>year=%{x}<br>size=%{y}<extra></extra>",
         "legendgroup": "The Journal of Asian Studies",
         "marker": {
          "color": "#EF553B",
          "pattern": {
           "shape": ""
          }
         },
         "name": "The Journal of Asian Studies",
         "offsetgroup": "The Journal of Asian Studies",
         "orientation": "v",
         "showlegend": true,
         "textposition": "auto",
         "type": "bar",
         "x": [
          2014,
          2016,
          2019,
          2020,
          2021
         ],
         "xaxis": "x",
         "y": [
          1,
          1,
          1,
          1,
          1
         ],
         "yaxis": "y"
        },
        {
         "alignmentgroup": "True",
         "hovertemplate": "journal.title=Politics and Religion<br>year=%{x}<br>size=%{y}<extra></extra>",
         "legendgroup": "Politics and Religion",
         "marker": {
          "color": "#00cc96",
          "pattern": {
           "shape": ""
          }
         },
         "name": "Politics and Religion",
         "offsetgroup": "Politics and Religion",
         "orientation": "v",
         "showlegend": true,
         "textposition": "auto",
         "type": "bar",
         "x": [
          2015,
          2016,
          2017,
          2020
         ],
         "xaxis": "x",
         "y": [
          1,
          2,
          3,
          1
         ],
         "yaxis": "y"
        },
        {
         "alignmentgroup": "True",
         "hovertemplate": "journal.title=Advances in Archaeological Practice<br>year=%{x}<br>size=%{y}<extra></extra>",
         "legendgroup": "Advances in Archaeological Practice",
         "marker": {
          "color": "#ab63fa",
          "pattern": {
           "shape": ""
          }
         },
         "name": "Advances in Archaeological Practice",
         "offsetgroup": "Advances in Archaeological Practice",
         "orientation": "v",
         "showlegend": true,
         "textposition": "auto",
         "type": "bar",
         "x": [
          2016
         ],
         "xaxis": "x",
         "y": [
          2
         ],
         "yaxis": "y"
        },
        {
         "alignmentgroup": "True",
         "hovertemplate": "journal.title=Psychological Medicine<br>year=%{x}<br>size=%{y}<extra></extra>",
         "legendgroup": "Psychological Medicine",
         "marker": {
          "color": "#FFA15A",
          "pattern": {
           "shape": ""
          }
         },
         "name": "Psychological Medicine",
         "offsetgroup": "Psychological Medicine",
         "orientation": "v",
         "showlegend": true,
         "textposition": "auto",
         "type": "bar",
         "x": [
          2016,
          2020,
          2021
         ],
         "xaxis": "x",
         "y": [
          1,
          1,
          2
         ],
         "yaxis": "y"
        },
        {
         "alignmentgroup": "True",
         "hovertemplate": "journal.title=Radiocarbon<br>year=%{x}<br>size=%{y}<extra></extra>",
         "legendgroup": "Radiocarbon",
         "marker": {
          "color": "#19d3f3",
          "pattern": {
           "shape": ""
          }
         },
         "name": "Radiocarbon",
         "offsetgroup": "Radiocarbon",
         "orientation": "v",
         "showlegend": true,
         "textposition": "auto",
         "type": "bar",
         "x": [
          2016,
          2021
         ],
         "xaxis": "x",
         "y": [
          1,
          1
         ],
         "yaxis": "y"
        },
        {
         "alignmentgroup": "True",
         "hovertemplate": "journal.title=The Classical Review<br>year=%{x}<br>size=%{y}<extra></extra>",
         "legendgroup": "The Classical Review",
         "marker": {
          "color": "#FF6692",
          "pattern": {
           "shape": ""
          }
         },
         "name": "The Classical Review",
         "offsetgroup": "The Classical Review",
         "orientation": "v",
         "showlegend": true,
         "textposition": "auto",
         "type": "bar",
         "x": [
          2016,
          2020
         ],
         "xaxis": "x",
         "y": [
          1,
          1
         ],
         "yaxis": "y"
        },
        {
         "alignmentgroup": "True",
         "hovertemplate": "journal.title=The Journal of Hellenic Studies<br>year=%{x}<br>size=%{y}<extra></extra>",
         "legendgroup": "The Journal of Hellenic Studies",
         "marker": {
          "color": "#B6E880",
          "pattern": {
           "shape": ""
          }
         },
         "name": "The Journal of Hellenic Studies",
         "offsetgroup": "The Journal of Hellenic Studies",
         "orientation": "v",
         "showlegend": true,
         "textposition": "auto",
         "type": "bar",
         "x": [
          2016
         ],
         "xaxis": "x",
         "y": [
          2
         ],
         "yaxis": "y"
        },
        {
         "alignmentgroup": "True",
         "hovertemplate": "journal.title=International Journal Middle East Studies<br>year=%{x}<br>size=%{y}<extra></extra>",
         "legendgroup": "International Journal Middle East Studies",
         "marker": {
          "color": "#FF97FF",
          "pattern": {
           "shape": ""
          }
         },
         "name": "International Journal Middle East Studies",
         "offsetgroup": "International Journal Middle East Studies",
         "orientation": "v",
         "showlegend": true,
         "textposition": "auto",
         "type": "bar",
         "x": [
          2017
         ],
         "xaxis": "x",
         "y": [
          1
         ],
         "yaxis": "y"
        },
        {
         "alignmentgroup": "True",
         "hovertemplate": "journal.title=Journal of Clinical and Translational Science<br>year=%{x}<br>size=%{y}<extra></extra>",
         "legendgroup": "Journal of Clinical and Translational Science",
         "marker": {
          "color": "#FECB52",
          "pattern": {
           "shape": ""
          }
         },
         "name": "Journal of Clinical and Translational Science",
         "offsetgroup": "Journal of Clinical and Translational Science",
         "orientation": "v",
         "showlegend": true,
         "textposition": "auto",
         "type": "bar",
         "x": [
          2017,
          2018,
          2019,
          2020,
          2021
         ],
         "xaxis": "x",
         "y": [
          2,
          1,
          2,
          2,
          1
         ],
         "yaxis": "y"
        },
        {
         "alignmentgroup": "True",
         "hovertemplate": "journal.title=Ancient Mesoamerica<br>year=%{x}<br>size=%{y}<extra></extra>",
         "legendgroup": "Ancient Mesoamerica",
         "marker": {
          "color": "#636efa",
          "pattern": {
           "shape": ""
          }
         },
         "name": "Ancient Mesoamerica",
         "offsetgroup": "Ancient Mesoamerica",
         "orientation": "v",
         "showlegend": true,
         "textposition": "auto",
         "type": "bar",
         "x": [
          2018
         ],
         "xaxis": "x",
         "y": [
          1
         ],
         "yaxis": "y"
        },
        {
         "alignmentgroup": "True",
         "hovertemplate": "journal.title=Disaster Medicine and Public Health Preparedness<br>year=%{x}<br>size=%{y}<extra></extra>",
         "legendgroup": "Disaster Medicine and Public Health Preparedness",
         "marker": {
          "color": "#EF553B",
          "pattern": {
           "shape": ""
          }
         },
         "name": "Disaster Medicine and Public Health Preparedness",
         "offsetgroup": "Disaster Medicine and Public Health Preparedness",
         "orientation": "v",
         "showlegend": true,
         "textposition": "auto",
         "type": "bar",
         "x": [
          2018,
          2021
         ],
         "xaxis": "x",
         "y": [
          1,
          1
         ],
         "yaxis": "y"
        },
        {
         "alignmentgroup": "True",
         "hovertemplate": "journal.title=European Journal of Applied Mathematics<br>year=%{x}<br>size=%{y}<extra></extra>",
         "legendgroup": "European Journal of Applied Mathematics",
         "marker": {
          "color": "#00cc96",
          "pattern": {
           "shape": ""
          }
         },
         "name": "European Journal of Applied Mathematics",
         "offsetgroup": "European Journal of Applied Mathematics",
         "orientation": "v",
         "showlegend": true,
         "textposition": "auto",
         "type": "bar",
         "x": [
          2018
         ],
         "xaxis": "x",
         "y": [
          1
         ],
         "yaxis": "y"
        },
        {
         "alignmentgroup": "True",
         "hovertemplate": "journal.title=Nationalities Papers<br>year=%{x}<br>size=%{y}<extra></extra>",
         "legendgroup": "Nationalities Papers",
         "marker": {
          "color": "#ab63fa",
          "pattern": {
           "shape": ""
          }
         },
         "name": "Nationalities Papers",
         "offsetgroup": "Nationalities Papers",
         "orientation": "v",
         "showlegend": true,
         "textposition": "auto",
         "type": "bar",
         "x": [
          2018
         ],
         "xaxis": "x",
         "y": [
          1
         ],
         "yaxis": "y"
        },
        {
         "alignmentgroup": "True",
         "hovertemplate": "journal.title=Proceedings of the ASIL Annual Meeting<br>year=%{x}<br>size=%{y}<extra></extra>",
         "legendgroup": "Proceedings of the ASIL Annual Meeting",
         "marker": {
          "color": "#FFA15A",
          "pattern": {
           "shape": ""
          }
         },
         "name": "Proceedings of the ASIL Annual Meeting",
         "offsetgroup": "Proceedings of the ASIL Annual Meeting",
         "orientation": "v",
         "showlegend": true,
         "textposition": "auto",
         "type": "bar",
         "x": [
          2018
         ],
         "xaxis": "x",
         "y": [
          1
         ],
         "yaxis": "y"
        },
        {
         "alignmentgroup": "True",
         "hovertemplate": "journal.title=Ramus<br>year=%{x}<br>size=%{y}<extra></extra>",
         "legendgroup": "Ramus",
         "marker": {
          "color": "#19d3f3",
          "pattern": {
           "shape": ""
          }
         },
         "name": "Ramus",
         "offsetgroup": "Ramus",
         "orientation": "v",
         "showlegend": true,
         "textposition": "auto",
         "type": "bar",
         "x": [
          2018
         ],
         "xaxis": "x",
         "y": [
          1
         ],
         "yaxis": "y"
        },
        {
         "alignmentgroup": "True",
         "hovertemplate": "journal.title=Bilingualism Language and Cognition<br>year=%{x}<br>size=%{y}<extra></extra>",
         "legendgroup": "Bilingualism Language and Cognition",
         "marker": {
          "color": "#FF6692",
          "pattern": {
           "shape": ""
          }
         },
         "name": "Bilingualism Language and Cognition",
         "offsetgroup": "Bilingualism Language and Cognition",
         "orientation": "v",
         "showlegend": true,
         "textposition": "auto",
         "type": "bar",
         "x": [
          2020
         ],
         "xaxis": "x",
         "y": [
          1
         ],
         "yaxis": "y"
        },
        {
         "alignmentgroup": "True",
         "hovertemplate": "journal.title=Invasive Plant Science and Management<br>year=%{x}<br>size=%{y}<extra></extra>",
         "legendgroup": "Invasive Plant Science and Management",
         "marker": {
          "color": "#B6E880",
          "pattern": {
           "shape": ""
          }
         },
         "name": "Invasive Plant Science and Management",
         "offsetgroup": "Invasive Plant Science and Management",
         "orientation": "v",
         "showlegend": true,
         "textposition": "auto",
         "type": "bar",
         "x": [
          2020
         ],
         "xaxis": "x",
         "y": [
          1
         ],
         "yaxis": "y"
        },
        {
         "alignmentgroup": "True",
         "hovertemplate": "journal.title=Review of International Studies<br>year=%{x}<br>size=%{y}<extra></extra>",
         "legendgroup": "Review of International Studies",
         "marker": {
          "color": "#FF97FF",
          "pattern": {
           "shape": ""
          }
         },
         "name": "Review of International Studies",
         "offsetgroup": "Review of International Studies",
         "orientation": "v",
         "showlegend": true,
         "textposition": "auto",
         "type": "bar",
         "x": [
          2020
         ],
         "xaxis": "x",
         "y": [
          1
         ],
         "yaxis": "y"
        },
        {
         "alignmentgroup": "True",
         "hovertemplate": "journal.title=Africa<br>year=%{x}<br>size=%{y}<extra></extra>",
         "legendgroup": "Africa",
         "marker": {
          "color": "#FECB52",
          "pattern": {
           "shape": ""
          }
         },
         "name": "Africa",
         "offsetgroup": "Africa",
         "orientation": "v",
         "showlegend": true,
         "textposition": "auto",
         "type": "bar",
         "x": [
          2021
         ],
         "xaxis": "x",
         "y": [
          1
         ],
         "yaxis": "y"
        },
        {
         "alignmentgroup": "True",
         "hovertemplate": "journal.title=Journal of the American Philosophical Association<br>year=%{x}<br>size=%{y}<extra></extra>",
         "legendgroup": "Journal of the American Philosophical Association",
         "marker": {
          "color": "#636efa",
          "pattern": {
           "shape": ""
          }
         },
         "name": "Journal of the American Philosophical Association",
         "offsetgroup": "Journal of the American Philosophical Association",
         "orientation": "v",
         "showlegend": true,
         "textposition": "auto",
         "type": "bar",
         "x": [
          2021
         ],
         "xaxis": "x",
         "y": [
          1
         ],
         "yaxis": "y"
        }
       ],
       "layout": {
        "barmode": "relative",
        "legend": {
         "title": {
          "text": "journal.title"
         },
         "tracegroupgap": 0
        },
        "showlegend": false,
        "template": {
         "data": {
          "bar": [
           {
            "error_x": {
             "color": "#2a3f5f"
            },
            "error_y": {
             "color": "#2a3f5f"
            },
            "marker": {
             "line": {
              "color": "#E5ECF6",
              "width": 0.5
             },
             "pattern": {
              "fillmode": "overlay",
              "size": 10,
              "solidity": 0.2
             }
            },
            "type": "bar"
           }
          ],
          "barpolar": [
           {
            "marker": {
             "line": {
              "color": "#E5ECF6",
              "width": 0.5
             },
             "pattern": {
              "fillmode": "overlay",
              "size": 10,
              "solidity": 0.2
             }
            },
            "type": "barpolar"
           }
          ],
          "carpet": [
           {
            "aaxis": {
             "endlinecolor": "#2a3f5f",
             "gridcolor": "white",
             "linecolor": "white",
             "minorgridcolor": "white",
             "startlinecolor": "#2a3f5f"
            },
            "baxis": {
             "endlinecolor": "#2a3f5f",
             "gridcolor": "white",
             "linecolor": "white",
             "minorgridcolor": "white",
             "startlinecolor": "#2a3f5f"
            },
            "type": "carpet"
           }
          ],
          "choropleth": [
           {
            "colorbar": {
             "outlinewidth": 0,
             "ticks": ""
            },
            "type": "choropleth"
           }
          ],
          "contour": [
           {
            "colorbar": {
             "outlinewidth": 0,
             "ticks": ""
            },
            "colorscale": [
             [
              0,
              "#0d0887"
             ],
             [
              0.1111111111111111,
              "#46039f"
             ],
             [
              0.2222222222222222,
              "#7201a8"
             ],
             [
              0.3333333333333333,
              "#9c179e"
             ],
             [
              0.4444444444444444,
              "#bd3786"
             ],
             [
              0.5555555555555556,
              "#d8576b"
             ],
             [
              0.6666666666666666,
              "#ed7953"
             ],
             [
              0.7777777777777778,
              "#fb9f3a"
             ],
             [
              0.8888888888888888,
              "#fdca26"
             ],
             [
              1,
              "#f0f921"
             ]
            ],
            "type": "contour"
           }
          ],
          "contourcarpet": [
           {
            "colorbar": {
             "outlinewidth": 0,
             "ticks": ""
            },
            "type": "contourcarpet"
           }
          ],
          "heatmap": [
           {
            "colorbar": {
             "outlinewidth": 0,
             "ticks": ""
            },
            "colorscale": [
             [
              0,
              "#0d0887"
             ],
             [
              0.1111111111111111,
              "#46039f"
             ],
             [
              0.2222222222222222,
              "#7201a8"
             ],
             [
              0.3333333333333333,
              "#9c179e"
             ],
             [
              0.4444444444444444,
              "#bd3786"
             ],
             [
              0.5555555555555556,
              "#d8576b"
             ],
             [
              0.6666666666666666,
              "#ed7953"
             ],
             [
              0.7777777777777778,
              "#fb9f3a"
             ],
             [
              0.8888888888888888,
              "#fdca26"
             ],
             [
              1,
              "#f0f921"
             ]
            ],
            "type": "heatmap"
           }
          ],
          "heatmapgl": [
           {
            "colorbar": {
             "outlinewidth": 0,
             "ticks": ""
            },
            "colorscale": [
             [
              0,
              "#0d0887"
             ],
             [
              0.1111111111111111,
              "#46039f"
             ],
             [
              0.2222222222222222,
              "#7201a8"
             ],
             [
              0.3333333333333333,
              "#9c179e"
             ],
             [
              0.4444444444444444,
              "#bd3786"
             ],
             [
              0.5555555555555556,
              "#d8576b"
             ],
             [
              0.6666666666666666,
              "#ed7953"
             ],
             [
              0.7777777777777778,
              "#fb9f3a"
             ],
             [
              0.8888888888888888,
              "#fdca26"
             ],
             [
              1,
              "#f0f921"
             ]
            ],
            "type": "heatmapgl"
           }
          ],
          "histogram": [
           {
            "marker": {
             "pattern": {
              "fillmode": "overlay",
              "size": 10,
              "solidity": 0.2
             }
            },
            "type": "histogram"
           }
          ],
          "histogram2d": [
           {
            "colorbar": {
             "outlinewidth": 0,
             "ticks": ""
            },
            "colorscale": [
             [
              0,
              "#0d0887"
             ],
             [
              0.1111111111111111,
              "#46039f"
             ],
             [
              0.2222222222222222,
              "#7201a8"
             ],
             [
              0.3333333333333333,
              "#9c179e"
             ],
             [
              0.4444444444444444,
              "#bd3786"
             ],
             [
              0.5555555555555556,
              "#d8576b"
             ],
             [
              0.6666666666666666,
              "#ed7953"
             ],
             [
              0.7777777777777778,
              "#fb9f3a"
             ],
             [
              0.8888888888888888,
              "#fdca26"
             ],
             [
              1,
              "#f0f921"
             ]
            ],
            "type": "histogram2d"
           }
          ],
          "histogram2dcontour": [
           {
            "colorbar": {
             "outlinewidth": 0,
             "ticks": ""
            },
            "colorscale": [
             [
              0,
              "#0d0887"
             ],
             [
              0.1111111111111111,
              "#46039f"
             ],
             [
              0.2222222222222222,
              "#7201a8"
             ],
             [
              0.3333333333333333,
              "#9c179e"
             ],
             [
              0.4444444444444444,
              "#bd3786"
             ],
             [
              0.5555555555555556,
              "#d8576b"
             ],
             [
              0.6666666666666666,
              "#ed7953"
             ],
             [
              0.7777777777777778,
              "#fb9f3a"
             ],
             [
              0.8888888888888888,
              "#fdca26"
             ],
             [
              1,
              "#f0f921"
             ]
            ],
            "type": "histogram2dcontour"
           }
          ],
          "mesh3d": [
           {
            "colorbar": {
             "outlinewidth": 0,
             "ticks": ""
            },
            "type": "mesh3d"
           }
          ],
          "parcoords": [
           {
            "line": {
             "colorbar": {
              "outlinewidth": 0,
              "ticks": ""
             }
            },
            "type": "parcoords"
           }
          ],
          "pie": [
           {
            "automargin": true,
            "type": "pie"
           }
          ],
          "scatter": [
           {
            "marker": {
             "colorbar": {
              "outlinewidth": 0,
              "ticks": ""
             }
            },
            "type": "scatter"
           }
          ],
          "scatter3d": [
           {
            "line": {
             "colorbar": {
              "outlinewidth": 0,
              "ticks": ""
             }
            },
            "marker": {
             "colorbar": {
              "outlinewidth": 0,
              "ticks": ""
             }
            },
            "type": "scatter3d"
           }
          ],
          "scattercarpet": [
           {
            "marker": {
             "colorbar": {
              "outlinewidth": 0,
              "ticks": ""
             }
            },
            "type": "scattercarpet"
           }
          ],
          "scattergeo": [
           {
            "marker": {
             "colorbar": {
              "outlinewidth": 0,
              "ticks": ""
             }
            },
            "type": "scattergeo"
           }
          ],
          "scattergl": [
           {
            "marker": {
             "colorbar": {
              "outlinewidth": 0,
              "ticks": ""
             }
            },
            "type": "scattergl"
           }
          ],
          "scattermapbox": [
           {
            "marker": {
             "colorbar": {
              "outlinewidth": 0,
              "ticks": ""
             }
            },
            "type": "scattermapbox"
           }
          ],
          "scatterpolar": [
           {
            "marker": {
             "colorbar": {
              "outlinewidth": 0,
              "ticks": ""
             }
            },
            "type": "scatterpolar"
           }
          ],
          "scatterpolargl": [
           {
            "marker": {
             "colorbar": {
              "outlinewidth": 0,
              "ticks": ""
             }
            },
            "type": "scatterpolargl"
           }
          ],
          "scatterternary": [
           {
            "marker": {
             "colorbar": {
              "outlinewidth": 0,
              "ticks": ""
             }
            },
            "type": "scatterternary"
           }
          ],
          "surface": [
           {
            "colorbar": {
             "outlinewidth": 0,
             "ticks": ""
            },
            "colorscale": [
             [
              0,
              "#0d0887"
             ],
             [
              0.1111111111111111,
              "#46039f"
             ],
             [
              0.2222222222222222,
              "#7201a8"
             ],
             [
              0.3333333333333333,
              "#9c179e"
             ],
             [
              0.4444444444444444,
              "#bd3786"
             ],
             [
              0.5555555555555556,
              "#d8576b"
             ],
             [
              0.6666666666666666,
              "#ed7953"
             ],
             [
              0.7777777777777778,
              "#fb9f3a"
             ],
             [
              0.8888888888888888,
              "#fdca26"
             ],
             [
              1,
              "#f0f921"
             ]
            ],
            "type": "surface"
           }
          ],
          "table": [
           {
            "cells": {
             "fill": {
              "color": "#EBF0F8"
             },
             "line": {
              "color": "white"
             }
            },
            "header": {
             "fill": {
              "color": "#C8D4E3"
             },
             "line": {
              "color": "white"
             }
            },
            "type": "table"
           }
          ]
         },
         "layout": {
          "annotationdefaults": {
           "arrowcolor": "#2a3f5f",
           "arrowhead": 0,
           "arrowwidth": 1
          },
          "autotypenumbers": "strict",
          "coloraxis": {
           "colorbar": {
            "outlinewidth": 0,
            "ticks": ""
           }
          },
          "colorscale": {
           "diverging": [
            [
             0,
             "#8e0152"
            ],
            [
             0.1,
             "#c51b7d"
            ],
            [
             0.2,
             "#de77ae"
            ],
            [
             0.3,
             "#f1b6da"
            ],
            [
             0.4,
             "#fde0ef"
            ],
            [
             0.5,
             "#f7f7f7"
            ],
            [
             0.6,
             "#e6f5d0"
            ],
            [
             0.7,
             "#b8e186"
            ],
            [
             0.8,
             "#7fbc41"
            ],
            [
             0.9,
             "#4d9221"
            ],
            [
             1,
             "#276419"
            ]
           ],
           "sequential": [
            [
             0,
             "#0d0887"
            ],
            [
             0.1111111111111111,
             "#46039f"
            ],
            [
             0.2222222222222222,
             "#7201a8"
            ],
            [
             0.3333333333333333,
             "#9c179e"
            ],
            [
             0.4444444444444444,
             "#bd3786"
            ],
            [
             0.5555555555555556,
             "#d8576b"
            ],
            [
             0.6666666666666666,
             "#ed7953"
            ],
            [
             0.7777777777777778,
             "#fb9f3a"
            ],
            [
             0.8888888888888888,
             "#fdca26"
            ],
            [
             1,
             "#f0f921"
            ]
           ],
           "sequentialminus": [
            [
             0,
             "#0d0887"
            ],
            [
             0.1111111111111111,
             "#46039f"
            ],
            [
             0.2222222222222222,
             "#7201a8"
            ],
            [
             0.3333333333333333,
             "#9c179e"
            ],
            [
             0.4444444444444444,
             "#bd3786"
            ],
            [
             0.5555555555555556,
             "#d8576b"
            ],
            [
             0.6666666666666666,
             "#ed7953"
            ],
            [
             0.7777777777777778,
             "#fb9f3a"
            ],
            [
             0.8888888888888888,
             "#fdca26"
            ],
            [
             1,
             "#f0f921"
            ]
           ]
          },
          "colorway": [
           "#636efa",
           "#EF553B",
           "#00cc96",
           "#ab63fa",
           "#FFA15A",
           "#19d3f3",
           "#FF6692",
           "#B6E880",
           "#FF97FF",
           "#FECB52"
          ],
          "font": {
           "color": "#2a3f5f"
          },
          "geo": {
           "bgcolor": "white",
           "lakecolor": "white",
           "landcolor": "#E5ECF6",
           "showlakes": true,
           "showland": true,
           "subunitcolor": "white"
          },
          "hoverlabel": {
           "align": "left"
          },
          "hovermode": "closest",
          "mapbox": {
           "style": "light"
          },
          "paper_bgcolor": "white",
          "plot_bgcolor": "#E5ECF6",
          "polar": {
           "angularaxis": {
            "gridcolor": "white",
            "linecolor": "white",
            "ticks": ""
           },
           "bgcolor": "#E5ECF6",
           "radialaxis": {
            "gridcolor": "white",
            "linecolor": "white",
            "ticks": ""
           }
          },
          "scene": {
           "xaxis": {
            "backgroundcolor": "#E5ECF6",
            "gridcolor": "white",
            "gridwidth": 2,
            "linecolor": "white",
            "showbackground": true,
            "ticks": "",
            "zerolinecolor": "white"
           },
           "yaxis": {
            "backgroundcolor": "#E5ECF6",
            "gridcolor": "white",
            "gridwidth": 2,
            "linecolor": "white",
            "showbackground": true,
            "ticks": "",
            "zerolinecolor": "white"
           },
           "zaxis": {
            "backgroundcolor": "#E5ECF6",
            "gridcolor": "white",
            "gridwidth": 2,
            "linecolor": "white",
            "showbackground": true,
            "ticks": "",
            "zerolinecolor": "white"
           }
          },
          "shapedefaults": {
           "line": {
            "color": "#2a3f5f"
           }
          },
          "ternary": {
           "aaxis": {
            "gridcolor": "white",
            "linecolor": "white",
            "ticks": ""
           },
           "baxis": {
            "gridcolor": "white",
            "linecolor": "white",
            "ticks": ""
           },
           "bgcolor": "#E5ECF6",
           "caxis": {
            "gridcolor": "white",
            "linecolor": "white",
            "ticks": ""
           }
          },
          "title": {
           "x": 0.05
          },
          "xaxis": {
           "automargin": true,
           "gridcolor": "white",
           "linecolor": "white",
           "ticks": "",
           "title": {
            "standoff": 15
           },
           "zerolinecolor": "white",
           "zerolinewidth": 2
          },
          "yaxis": {
           "automargin": true,
           "gridcolor": "white",
           "linecolor": "white",
           "ticks": "",
           "title": {
            "standoff": 15
           },
           "zerolinecolor": "white",
           "zerolinewidth": 2
          }
         }
        },
        "title": {
         "text": "UC Publications in CUP Journals since 1990"
        },
        "xaxis": {
         "anchor": "y",
         "domain": [
          0,
          1
         ],
         "title": {
          "text": "year"
         }
        },
        "yaxis": {
         "anchor": "x",
         "domain": [
          0,
          1
         ],
         "title": {
          "text": "size"
         }
        }
       }
      },
      "text/html": [
       "<div>                            <div id=\"4817646f-d0c9-4391-b180-a928fd3e4419\" class=\"plotly-graph-div\" style=\"height:525px; width:100%;\"></div>            <script type=\"text/javascript\">                require([\"plotly\"], function(Plotly) {                    window.PLOTLYENV=window.PLOTLYENV || {};                                    if (document.getElementById(\"4817646f-d0c9-4391-b180-a928fd3e4419\")) {                    Plotly.newPlot(                        \"4817646f-d0c9-4391-b180-a928fd3e4419\",                        [{\"alignmentgroup\":\"True\",\"hovertemplate\":\"journal.title=American Political Science Review<br>year=%{x}<br>size=%{y}<extra></extra>\",\"legendgroup\":\"American Political Science Review\",\"marker\":{\"color\":\"#636efa\",\"pattern\":{\"shape\":\"\"}},\"name\":\"American Political Science Review\",\"offsetgroup\":\"American Political Science Review\",\"orientation\":\"v\",\"showlegend\":true,\"textposition\":\"auto\",\"type\":\"bar\",\"x\":[1990,1994],\"xaxis\":\"x\",\"y\":[1,1],\"yaxis\":\"y\"},{\"alignmentgroup\":\"True\",\"hovertemplate\":\"journal.title=Slavic Review<br>year=%{x}<br>size=%{y}<extra></extra>\",\"legendgroup\":\"Slavic Review\",\"marker\":{\"color\":\"#EF553B\",\"pattern\":{\"shape\":\"\"}},\"name\":\"Slavic Review\",\"offsetgroup\":\"Slavic Review\",\"orientation\":\"v\",\"showlegend\":true,\"textposition\":\"auto\",\"type\":\"bar\",\"x\":[1990,2020],\"xaxis\":\"x\",\"y\":[1,1],\"yaxis\":\"y\"},{\"alignmentgroup\":\"True\",\"hovertemplate\":\"journal.title=The Journal of the Australian Mathematical Society Series B Applied Mathematics<br>year=%{x}<br>size=%{y}<extra></extra>\",\"legendgroup\":\"The Journal of the Australian Mathematical Society Series B Applied Mathematics\",\"marker\":{\"color\":\"#00cc96\",\"pattern\":{\"shape\":\"\"}},\"name\":\"The Journal of the Australian Mathematical Society Series B Applied Mathematics\",\"offsetgroup\":\"The Journal of the Australian Mathematical Society Series B Applied Mathematics\",\"orientation\":\"v\",\"showlegend\":true,\"textposition\":\"auto\",\"type\":\"bar\",\"x\":[1990],\"xaxis\":\"x\",\"y\":[1],\"yaxis\":\"y\"},{\"alignmentgroup\":\"True\",\"hovertemplate\":\"journal.title=Behavioral and Brain Sciences<br>year=%{x}<br>size=%{y}<extra></extra>\",\"legendgroup\":\"Behavioral and Brain Sciences\",\"marker\":{\"color\":\"#ab63fa\",\"pattern\":{\"shape\":\"\"}},\"name\":\"Behavioral and Brain Sciences\",\"offsetgroup\":\"Behavioral and Brain Sciences\",\"orientation\":\"v\",\"showlegend\":true,\"textposition\":\"auto\",\"type\":\"bar\",\"x\":[1991,1993,1998,2001,2003,2004,2005,2011,2013,2015,2016,2018,2019,2020,2021],\"xaxis\":\"x\",\"y\":[1,1,2,1,1,1,1,1,1,1,1,1,1,1,1],\"yaxis\":\"y\"},{\"alignmentgroup\":\"True\",\"hovertemplate\":\"journal.title=Infection Control and Hospital Epidemiology<br>year=%{x}<br>size=%{y}<extra></extra>\",\"legendgroup\":\"Infection Control and Hospital Epidemiology\",\"marker\":{\"color\":\"#FFA15A\",\"pattern\":{\"shape\":\"\"}},\"name\":\"Infection Control and Hospital Epidemiology\",\"offsetgroup\":\"Infection Control and Hospital Epidemiology\",\"orientation\":\"v\",\"showlegend\":true,\"textposition\":\"auto\",\"type\":\"bar\",\"x\":[1991,1992,1995,1998,1999,2000,2001,2004,2012,2018,2019,2020,2021],\"xaxis\":\"x\",\"y\":[1,1,2,1,1,1,1,1,1,2,1,4,1],\"yaxis\":\"y\"},{\"alignmentgroup\":\"True\",\"hovertemplate\":\"journal.title=Fetal and Maternal Medicine Review<br>year=%{x}<br>size=%{y}<extra></extra>\",\"legendgroup\":\"Fetal and Maternal Medicine Review\",\"marker\":{\"color\":\"#19d3f3\",\"pattern\":{\"shape\":\"\"}},\"name\":\"Fetal and Maternal Medicine Review\",\"offsetgroup\":\"Fetal and Maternal Medicine Review\",\"orientation\":\"v\",\"showlegend\":true,\"textposition\":\"auto\",\"type\":\"bar\",\"x\":[1992],\"xaxis\":\"x\",\"y\":[1],\"yaxis\":\"y\"},{\"alignmentgroup\":\"True\",\"hovertemplate\":\"journal.title=International Labor and Working-Class History<br>year=%{x}<br>size=%{y}<extra></extra>\",\"legendgroup\":\"International Labor and Working-Class History\",\"marker\":{\"color\":\"#FF6692\",\"pattern\":{\"shape\":\"\"}},\"name\":\"International Labor and Working-Class History\",\"offsetgroup\":\"International Labor and Working-Class History\",\"orientation\":\"v\",\"showlegend\":true,\"textposition\":\"auto\",\"type\":\"bar\",\"x\":[1992],\"xaxis\":\"x\",\"y\":[1],\"yaxis\":\"y\"},{\"alignmentgroup\":\"True\",\"hovertemplate\":\"journal.title=Journal of Policy History<br>year=%{x}<br>size=%{y}<extra></extra>\",\"legendgroup\":\"Journal of Policy History\",\"marker\":{\"color\":\"#B6E880\",\"pattern\":{\"shape\":\"\"}},\"name\":\"Journal of Policy History\",\"offsetgroup\":\"Journal of Policy History\",\"orientation\":\"v\",\"showlegend\":true,\"textposition\":\"auto\",\"type\":\"bar\",\"x\":[1992,2020],\"xaxis\":\"x\",\"y\":[1,1],\"yaxis\":\"y\"},{\"alignmentgroup\":\"True\",\"hovertemplate\":\"journal.title=Latin American Antiquity<br>year=%{x}<br>size=%{y}<extra></extra>\",\"legendgroup\":\"Latin American Antiquity\",\"marker\":{\"color\":\"#FF97FF\",\"pattern\":{\"shape\":\"\"}},\"name\":\"Latin American Antiquity\",\"offsetgroup\":\"Latin American Antiquity\",\"orientation\":\"v\",\"showlegend\":true,\"textposition\":\"auto\",\"type\":\"bar\",\"x\":[1992,2012,2015,2018,2019],\"xaxis\":\"x\",\"y\":[1,1,1,1,1],\"yaxis\":\"y\"},{\"alignmentgroup\":\"True\",\"hovertemplate\":\"journal.title=The Journal of Economic History<br>year=%{x}<br>size=%{y}<extra></extra>\",\"legendgroup\":\"The Journal of Economic History\",\"marker\":{\"color\":\"#FECB52\",\"pattern\":{\"shape\":\"\"}},\"name\":\"The Journal of Economic History\",\"offsetgroup\":\"The Journal of Economic History\",\"orientation\":\"v\",\"showlegend\":true,\"textposition\":\"auto\",\"type\":\"bar\",\"x\":[1992],\"xaxis\":\"x\",\"y\":[1],\"yaxis\":\"y\"},{\"alignmentgroup\":\"True\",\"hovertemplate\":\"journal.title=International Psychogeriatrics<br>year=%{x}<br>size=%{y}<extra></extra>\",\"legendgroup\":\"International Psychogeriatrics\",\"marker\":{\"color\":\"#636efa\",\"pattern\":{\"shape\":\"\"}},\"name\":\"International Psychogeriatrics\",\"offsetgroup\":\"International Psychogeriatrics\",\"orientation\":\"v\",\"showlegend\":true,\"textposition\":\"auto\",\"type\":\"bar\",\"x\":[1993],\"xaxis\":\"x\",\"y\":[1],\"yaxis\":\"y\"},{\"alignmentgroup\":\"True\",\"hovertemplate\":\"journal.title=Prehospital and Disaster Medicine<br>year=%{x}<br>size=%{y}<extra></extra>\",\"legendgroup\":\"Prehospital and Disaster Medicine\",\"marker\":{\"color\":\"#EF553B\",\"pattern\":{\"shape\":\"\"}},\"name\":\"Prehospital and Disaster Medicine\",\"offsetgroup\":\"Prehospital and Disaster Medicine\",\"orientation\":\"v\",\"showlegend\":true,\"textposition\":\"auto\",\"type\":\"bar\",\"x\":[1993,1995,1996,2010,2011],\"xaxis\":\"x\",\"y\":[1,1,2,1,1],\"yaxis\":\"y\"},{\"alignmentgroup\":\"True\",\"hovertemplate\":\"journal.title=Quaternary Research<br>year=%{x}<br>size=%{y}<extra></extra>\",\"legendgroup\":\"Quaternary Research\",\"marker\":{\"color\":\"#00cc96\",\"pattern\":{\"shape\":\"\"}},\"name\":\"Quaternary Research\",\"offsetgroup\":\"Quaternary Research\",\"orientation\":\"v\",\"showlegend\":true,\"textposition\":\"auto\",\"type\":\"bar\",\"x\":[1993,1997,2010,2011,2014,2015,2019,2020,2021],\"xaxis\":\"x\",\"y\":[1,1,1,3,1,1,2,2,1],\"yaxis\":\"y\"},{\"alignmentgroup\":\"True\",\"hovertemplate\":\"journal.title=Robotica<br>year=%{x}<br>size=%{y}<extra></extra>\",\"legendgroup\":\"Robotica\",\"marker\":{\"color\":\"#ab63fa\",\"pattern\":{\"shape\":\"\"}},\"name\":\"Robotica\",\"offsetgroup\":\"Robotica\",\"orientation\":\"v\",\"showlegend\":true,\"textposition\":\"auto\",\"type\":\"bar\",\"x\":[1993,2004,2013,2019],\"xaxis\":\"x\",\"y\":[1,1,1,1],\"yaxis\":\"y\"},{\"alignmentgroup\":\"True\",\"hovertemplate\":\"journal.title=Proceedings of the Edinburgh Mathematical Society<br>year=%{x}<br>size=%{y}<extra></extra>\",\"legendgroup\":\"Proceedings of the Edinburgh Mathematical Society\",\"marker\":{\"color\":\"#FFA15A\",\"pattern\":{\"shape\":\"\"}},\"name\":\"Proceedings of the Edinburgh Mathematical Society\",\"offsetgroup\":\"Proceedings of the Edinburgh Mathematical Society\",\"orientation\":\"v\",\"showlegend\":true,\"textposition\":\"auto\",\"type\":\"bar\",\"x\":[1994],\"xaxis\":\"x\",\"y\":[1],\"yaxis\":\"y\"},{\"alignmentgroup\":\"True\",\"hovertemplate\":\"journal.title=Advances in X-ray Analysis<br>year=%{x}<br>size=%{y}<extra></extra>\",\"legendgroup\":\"Advances in X-ray Analysis\",\"marker\":{\"color\":\"#19d3f3\",\"pattern\":{\"shape\":\"\"}},\"name\":\"Advances in X-ray Analysis\",\"offsetgroup\":\"Advances in X-ray Analysis\",\"orientation\":\"v\",\"showlegend\":true,\"textposition\":\"auto\",\"type\":\"bar\",\"x\":[1995],\"xaxis\":\"x\",\"y\":[1],\"yaxis\":\"y\"},{\"alignmentgroup\":\"True\",\"hovertemplate\":\"journal.title=Journal of Paleontology<br>year=%{x}<br>size=%{y}<extra></extra>\",\"legendgroup\":\"Journal of Paleontology\",\"marker\":{\"color\":\"#FF6692\",\"pattern\":{\"shape\":\"\"}},\"name\":\"Journal of Paleontology\",\"offsetgroup\":\"Journal of Paleontology\",\"orientation\":\"v\",\"showlegend\":true,\"textposition\":\"auto\",\"type\":\"bar\",\"x\":[1995,2000,2006,2009,2012,2014,2015,2018,2020],\"xaxis\":\"x\",\"y\":[1,1,1,2,1,1,1,1,1],\"yaxis\":\"y\"},{\"alignmentgroup\":\"True\",\"hovertemplate\":\"journal.title=Journal of the Australian Mathematical Society Series A Pure Mathematics and Statistics<br>year=%{x}<br>size=%{y}<extra></extra>\",\"legendgroup\":\"Journal of the Australian Mathematical Society Series A Pure Mathematics and Statistics\",\"marker\":{\"color\":\"#B6E880\",\"pattern\":{\"shape\":\"\"}},\"name\":\"Journal of the Australian Mathematical Society Series A Pure Mathematics and Statistics\",\"offsetgroup\":\"Journal of the Australian Mathematical Society Series A Pure Mathematics and Statistics\",\"orientation\":\"v\",\"showlegend\":true,\"textposition\":\"auto\",\"type\":\"bar\",\"x\":[1995],\"xaxis\":\"x\",\"y\":[1],\"yaxis\":\"y\"},{\"alignmentgroup\":\"True\",\"hovertemplate\":\"journal.title=Law and History Review<br>year=%{x}<br>size=%{y}<extra></extra>\",\"legendgroup\":\"Law and History Review\",\"marker\":{\"color\":\"#FF97FF\",\"pattern\":{\"shape\":\"\"}},\"name\":\"Law and History Review\",\"offsetgroup\":\"Law and History Review\",\"orientation\":\"v\",\"showlegend\":true,\"textposition\":\"auto\",\"type\":\"bar\",\"x\":[1995,2000,2004,2007],\"xaxis\":\"x\",\"y\":[1,1,1,1],\"yaxis\":\"y\"},{\"alignmentgroup\":\"True\",\"hovertemplate\":\"journal.title=Microscopy and Microanalysis<br>year=%{x}<br>size=%{y}<extra></extra>\",\"legendgroup\":\"Microscopy and Microanalysis\",\"marker\":{\"color\":\"#FECB52\",\"pattern\":{\"shape\":\"\"}},\"name\":\"Microscopy and Microanalysis\",\"offsetgroup\":\"Microscopy and Microanalysis\",\"orientation\":\"v\",\"showlegend\":true,\"textposition\":\"auto\",\"type\":\"bar\",\"x\":[1995,2005,2009,2012,2014,2016,2017],\"xaxis\":\"x\",\"y\":[1,1,1,1,1,1,1],\"yaxis\":\"y\"},{\"alignmentgroup\":\"True\",\"hovertemplate\":\"journal.title=AJS Review<br>year=%{x}<br>size=%{y}<extra></extra>\",\"legendgroup\":\"AJS Review\",\"marker\":{\"color\":\"#636efa\",\"pattern\":{\"shape\":\"\"}},\"name\":\"AJS Review\",\"offsetgroup\":\"AJS Review\",\"orientation\":\"v\",\"showlegend\":true,\"textposition\":\"auto\",\"type\":\"bar\",\"x\":[1996],\"xaxis\":\"x\",\"y\":[1],\"yaxis\":\"y\"},{\"alignmentgroup\":\"True\",\"hovertemplate\":\"journal.title=Albion A Quarterly Journal Concerned with British Studies<br>year=%{x}<br>size=%{y}<extra></extra>\",\"legendgroup\":\"Albion A Quarterly Journal Concerned with British Studies\",\"marker\":{\"color\":\"#EF553B\",\"pattern\":{\"shape\":\"\"}},\"name\":\"Albion A Quarterly Journal Concerned with British Studies\",\"offsetgroup\":\"Albion A Quarterly Journal Concerned with British Studies\",\"orientation\":\"v\",\"showlegend\":true,\"textposition\":\"auto\",\"type\":\"bar\",\"x\":[1996,2001,2003],\"xaxis\":\"x\",\"y\":[1,1,1],\"yaxis\":\"y\"},{\"alignmentgroup\":\"True\",\"hovertemplate\":\"journal.title=Church History<br>year=%{x}<br>size=%{y}<extra></extra>\",\"legendgroup\":\"Church History\",\"marker\":{\"color\":\"#00cc96\",\"pattern\":{\"shape\":\"\"}},\"name\":\"Church History\",\"offsetgroup\":\"Church History\",\"orientation\":\"v\",\"showlegend\":true,\"textposition\":\"auto\",\"type\":\"bar\",\"x\":[1996,2021],\"xaxis\":\"x\",\"y\":[1,1],\"yaxis\":\"y\"},{\"alignmentgroup\":\"True\",\"hovertemplate\":\"journal.title=Journal of the International Neuropsychological Society<br>year=%{x}<br>size=%{y}<extra></extra>\",\"legendgroup\":\"Journal of the International Neuropsychological Society\",\"marker\":{\"color\":\"#ab63fa\",\"pattern\":{\"shape\":\"\"}},\"name\":\"Journal of the International Neuropsychological Society\",\"offsetgroup\":\"Journal of the International Neuropsychological Society\",\"orientation\":\"v\",\"showlegend\":true,\"textposition\":\"auto\",\"type\":\"bar\",\"x\":[1996,1999,2003,2004,2005,2008,2009,2011,2012,2016,2019,2021],\"xaxis\":\"x\",\"y\":[1,1,1,2,3,1,2,1,2,1,1,1],\"yaxis\":\"y\"},{\"alignmentgroup\":\"True\",\"hovertemplate\":\"journal.title=Symposium - International Astronomical Union<br>year=%{x}<br>size=%{y}<extra></extra>\",\"legendgroup\":\"Symposium - International Astronomical Union\",\"marker\":{\"color\":\"#FFA15A\",\"pattern\":{\"shape\":\"\"}},\"name\":\"Symposium - International Astronomical Union\",\"offsetgroup\":\"Symposium - International Astronomical Union\",\"orientation\":\"v\",\"showlegend\":true,\"textposition\":\"auto\",\"type\":\"bar\",\"x\":[1996,2004],\"xaxis\":\"x\",\"y\":[1,1],\"yaxis\":\"y\"},{\"alignmentgroup\":\"True\",\"hovertemplate\":\"journal.title=Zygote<br>year=%{x}<br>size=%{y}<extra></extra>\",\"legendgroup\":\"Zygote\",\"marker\":{\"color\":\"#19d3f3\",\"pattern\":{\"shape\":\"\"}},\"name\":\"Zygote\",\"offsetgroup\":\"Zygote\",\"orientation\":\"v\",\"showlegend\":true,\"textposition\":\"auto\",\"type\":\"bar\",\"x\":[1996],\"xaxis\":\"x\",\"y\":[1],\"yaxis\":\"y\"},{\"alignmentgroup\":\"True\",\"hovertemplate\":\"journal.title=Ergodic Theory and Dynamical Systems<br>year=%{x}<br>size=%{y}<extra></extra>\",\"legendgroup\":\"Ergodic Theory and Dynamical Systems\",\"marker\":{\"color\":\"#FF6692\",\"pattern\":{\"shape\":\"\"}},\"name\":\"Ergodic Theory and Dynamical Systems\",\"offsetgroup\":\"Ergodic Theory and Dynamical Systems\",\"orientation\":\"v\",\"showlegend\":true,\"textposition\":\"auto\",\"type\":\"bar\",\"x\":[1997,2000,2001],\"xaxis\":\"x\",\"y\":[1,1,1],\"yaxis\":\"y\"},{\"alignmentgroup\":\"True\",\"hovertemplate\":\"journal.title=Journal of Tropical Ecology<br>year=%{x}<br>size=%{y}<extra></extra>\",\"legendgroup\":\"Journal of Tropical Ecology\",\"marker\":{\"color\":\"#B6E880\",\"pattern\":{\"shape\":\"\"}},\"name\":\"Journal of Tropical Ecology\",\"offsetgroup\":\"Journal of Tropical Ecology\",\"orientation\":\"v\",\"showlegend\":true,\"textposition\":\"auto\",\"type\":\"bar\",\"x\":[1997],\"xaxis\":\"x\",\"y\":[1],\"yaxis\":\"y\"},{\"alignmentgroup\":\"True\",\"hovertemplate\":\"journal.title=Proceedings of the Royal Society of Edinburgh Section A Mathematics<br>year=%{x}<br>size=%{y}<extra></extra>\",\"legendgroup\":\"Proceedings of the Royal Society of Edinburgh Section A Mathematics\",\"marker\":{\"color\":\"#FF97FF\",\"pattern\":{\"shape\":\"\"}},\"name\":\"Proceedings of the Royal Society of Edinburgh Section A Mathematics\",\"offsetgroup\":\"Proceedings of the Royal Society of Edinburgh Section A Mathematics\",\"orientation\":\"v\",\"showlegend\":true,\"textposition\":\"auto\",\"type\":\"bar\",\"x\":[1997,2017],\"xaxis\":\"x\",\"y\":[1,1],\"yaxis\":\"y\"},{\"alignmentgroup\":\"True\",\"hovertemplate\":\"journal.title=Proceedings of The Nutrition Society<br>year=%{x}<br>size=%{y}<extra></extra>\",\"legendgroup\":\"Proceedings of The Nutrition Society\",\"marker\":{\"color\":\"#FECB52\",\"pattern\":{\"shape\":\"\"}},\"name\":\"Proceedings of The Nutrition Society\",\"offsetgroup\":\"Proceedings of The Nutrition Society\",\"orientation\":\"v\",\"showlegend\":true,\"textposition\":\"auto\",\"type\":\"bar\",\"x\":[1998,2000],\"xaxis\":\"x\",\"y\":[1,1],\"yaxis\":\"y\"},{\"alignmentgroup\":\"True\",\"hovertemplate\":\"journal.title=The Annual of the British School at Athens<br>year=%{x}<br>size=%{y}<extra></extra>\",\"legendgroup\":\"The Annual of the British School at Athens\",\"marker\":{\"color\":\"#636efa\",\"pattern\":{\"shape\":\"\"}},\"name\":\"The Annual of the British School at Athens\",\"offsetgroup\":\"The Annual of the British School at Athens\",\"orientation\":\"v\",\"showlegend\":true,\"textposition\":\"auto\",\"type\":\"bar\",\"x\":[1998,1999,2013],\"xaxis\":\"x\",\"y\":[1,1,1],\"yaxis\":\"y\"},{\"alignmentgroup\":\"True\",\"hovertemplate\":\"journal.title=CNS Spectrums<br>year=%{x}<br>size=%{y}<extra></extra>\",\"legendgroup\":\"CNS Spectrums\",\"marker\":{\"color\":\"#EF553B\",\"pattern\":{\"shape\":\"\"}},\"name\":\"CNS Spectrums\",\"offsetgroup\":\"CNS Spectrums\",\"orientation\":\"v\",\"showlegend\":true,\"textposition\":\"auto\",\"type\":\"bar\",\"x\":[1999,2006,2009,2013,2015,2016,2020,2021],\"xaxis\":\"x\",\"y\":[1,1,1,3,1,1,2,3],\"yaxis\":\"y\"},{\"alignmentgroup\":\"True\",\"hovertemplate\":\"journal.title=Journal of Roman Archaeology<br>year=%{x}<br>size=%{y}<extra></extra>\",\"legendgroup\":\"Journal of Roman Archaeology\",\"marker\":{\"color\":\"#00cc96\",\"pattern\":{\"shape\":\"\"}},\"name\":\"Journal of Roman Archaeology\",\"offsetgroup\":\"Journal of Roman Archaeology\",\"orientation\":\"v\",\"showlegend\":true,\"textposition\":\"auto\",\"type\":\"bar\",\"x\":[1999,2003,2008,2012,2013],\"xaxis\":\"x\",\"y\":[1,1,1,1,1],\"yaxis\":\"y\"},{\"alignmentgroup\":\"True\",\"hovertemplate\":\"journal.title=British Journal of Political Science<br>year=%{x}<br>size=%{y}<extra></extra>\",\"legendgroup\":\"British Journal of Political Science\",\"marker\":{\"color\":\"#ab63fa\",\"pattern\":{\"shape\":\"\"}},\"name\":\"British Journal of Political Science\",\"offsetgroup\":\"British Journal of Political Science\",\"orientation\":\"v\",\"showlegend\":true,\"textposition\":\"auto\",\"type\":\"bar\",\"x\":[2000],\"xaxis\":\"x\",\"y\":[1],\"yaxis\":\"y\"},{\"alignmentgroup\":\"True\",\"hovertemplate\":\"journal.title=Environmental Conservation<br>year=%{x}<br>size=%{y}<extra></extra>\",\"legendgroup\":\"Environmental Conservation\",\"marker\":{\"color\":\"#FFA15A\",\"pattern\":{\"shape\":\"\"}},\"name\":\"Environmental Conservation\",\"offsetgroup\":\"Environmental Conservation\",\"orientation\":\"v\",\"showlegend\":true,\"textposition\":\"auto\",\"type\":\"bar\",\"x\":[2000,2008],\"xaxis\":\"x\",\"y\":[1,1],\"yaxis\":\"y\"},{\"alignmentgroup\":\"True\",\"hovertemplate\":\"journal.title=Journal of Fluid Mechanics<br>year=%{x}<br>size=%{y}<extra></extra>\",\"legendgroup\":\"Journal of Fluid Mechanics\",\"marker\":{\"color\":\"#19d3f3\",\"pattern\":{\"shape\":\"\"}},\"name\":\"Journal of Fluid Mechanics\",\"offsetgroup\":\"Journal of Fluid Mechanics\",\"orientation\":\"v\",\"showlegend\":true,\"textposition\":\"auto\",\"type\":\"bar\",\"x\":[2000,2018,2020],\"xaxis\":\"x\",\"y\":[1,1,1],\"yaxis\":\"y\"},{\"alignmentgroup\":\"True\",\"hovertemplate\":\"journal.title=Political Science and Politics<br>year=%{x}<br>size=%{y}<extra></extra>\",\"legendgroup\":\"Political Science and Politics\",\"marker\":{\"color\":\"#FF6692\",\"pattern\":{\"shape\":\"\"}},\"name\":\"Political Science and Politics\",\"offsetgroup\":\"Political Science and Politics\",\"orientation\":\"v\",\"showlegend\":true,\"textposition\":\"auto\",\"type\":\"bar\",\"x\":[2000],\"xaxis\":\"x\",\"y\":[1],\"yaxis\":\"y\"},{\"alignmentgroup\":\"True\",\"hovertemplate\":\"journal.title=The Journal of African History<br>year=%{x}<br>size=%{y}<extra></extra>\",\"legendgroup\":\"The Journal of African History\",\"marker\":{\"color\":\"#B6E880\",\"pattern\":{\"shape\":\"\"}},\"name\":\"The Journal of African History\",\"offsetgroup\":\"The Journal of African History\",\"orientation\":\"v\",\"showlegend\":true,\"textposition\":\"auto\",\"type\":\"bar\",\"x\":[2000],\"xaxis\":\"x\",\"y\":[1],\"yaxis\":\"y\"},{\"alignmentgroup\":\"True\",\"hovertemplate\":\"journal.title=The Americas A Quarterly Review of Latin American History<br>year=%{x}<br>size=%{y}<extra></extra>\",\"legendgroup\":\"The Americas A Quarterly Review of Latin American History\",\"marker\":{\"color\":\"#FF97FF\",\"pattern\":{\"shape\":\"\"}},\"name\":\"The Americas A Quarterly Review of Latin American History\",\"offsetgroup\":\"The Americas A Quarterly Review of Latin American History\",\"orientation\":\"v\",\"showlegend\":true,\"textposition\":\"auto\",\"type\":\"bar\",\"x\":[2002,2009],\"xaxis\":\"x\",\"y\":[1,1],\"yaxis\":\"y\"},{\"alignmentgroup\":\"True\",\"hovertemplate\":\"journal.title=Artificial intelligence for engineering design analysis and manufacturing<br>year=%{x}<br>size=%{y}<extra></extra>\",\"legendgroup\":\"Artificial intelligence for engineering design analysis and manufacturing\",\"marker\":{\"color\":\"#FECB52\",\"pattern\":{\"shape\":\"\"}},\"name\":\"Artificial intelligence for engineering design analysis and manufacturing\",\"offsetgroup\":\"Artificial intelligence for engineering design analysis and manufacturing\",\"orientation\":\"v\",\"showlegend\":true,\"textposition\":\"auto\",\"type\":\"bar\",\"x\":[2003],\"xaxis\":\"x\",\"y\":[1],\"yaxis\":\"y\"},{\"alignmentgroup\":\"True\",\"hovertemplate\":\"journal.title=Palliative & Supportive Care<br>year=%{x}<br>size=%{y}<extra></extra>\",\"legendgroup\":\"Palliative & Supportive Care\",\"marker\":{\"color\":\"#636efa\",\"pattern\":{\"shape\":\"\"}},\"name\":\"Palliative & Supportive Care\",\"offsetgroup\":\"Palliative & Supportive Care\",\"orientation\":\"v\",\"showlegend\":true,\"textposition\":\"auto\",\"type\":\"bar\",\"x\":[2003,2004,2020],\"xaxis\":\"x\",\"y\":[1,1,1],\"yaxis\":\"y\"},{\"alignmentgroup\":\"True\",\"hovertemplate\":\"journal.title=Renaissance Quarterly<br>year=%{x}<br>size=%{y}<extra></extra>\",\"legendgroup\":\"Renaissance Quarterly\",\"marker\":{\"color\":\"#EF553B\",\"pattern\":{\"shape\":\"\"}},\"name\":\"Renaissance Quarterly\",\"offsetgroup\":\"Renaissance Quarterly\",\"orientation\":\"v\",\"showlegend\":true,\"textposition\":\"auto\",\"type\":\"bar\",\"x\":[2003,2013,2017],\"xaxis\":\"x\",\"y\":[1,1,1],\"yaxis\":\"y\"},{\"alignmentgroup\":\"True\",\"hovertemplate\":\"journal.title=State Politics & Policy Quarterly<br>year=%{x}<br>size=%{y}<extra></extra>\",\"legendgroup\":\"State Politics & Policy Quarterly\",\"marker\":{\"color\":\"#00cc96\",\"pattern\":{\"shape\":\"\"}},\"name\":\"State Politics & Policy Quarterly\",\"offsetgroup\":\"State Politics & Policy Quarterly\",\"orientation\":\"v\",\"showlegend\":true,\"textposition\":\"auto\",\"type\":\"bar\",\"x\":[2003],\"xaxis\":\"x\",\"y\":[1],\"yaxis\":\"y\"},{\"alignmentgroup\":\"True\",\"hovertemplate\":\"journal.title=The Journal of Modern African Studies<br>year=%{x}<br>size=%{y}<extra></extra>\",\"legendgroup\":\"The Journal of Modern African Studies\",\"marker\":{\"color\":\"#ab63fa\",\"pattern\":{\"shape\":\"\"}},\"name\":\"The Journal of Modern African Studies\",\"offsetgroup\":\"The Journal of Modern African Studies\",\"orientation\":\"v\",\"showlegend\":true,\"textposition\":\"auto\",\"type\":\"bar\",\"x\":[2003],\"xaxis\":\"x\",\"y\":[1],\"yaxis\":\"y\"},{\"alignmentgroup\":\"True\",\"hovertemplate\":\"journal.title=Antiquity<br>year=%{x}<br>size=%{y}<extra></extra>\",\"legendgroup\":\"Antiquity\",\"marker\":{\"color\":\"#FFA15A\",\"pattern\":{\"shape\":\"\"}},\"name\":\"Antiquity\",\"offsetgroup\":\"Antiquity\",\"orientation\":\"v\",\"showlegend\":true,\"textposition\":\"auto\",\"type\":\"bar\",\"x\":[2004,2009,2011],\"xaxis\":\"x\",\"y\":[1,1,1],\"yaxis\":\"y\"},{\"alignmentgroup\":\"True\",\"hovertemplate\":\"journal.title=British Journal Of Nutrition<br>year=%{x}<br>size=%{y}<extra></extra>\",\"legendgroup\":\"British Journal Of Nutrition\",\"marker\":{\"color\":\"#19d3f3\",\"pattern\":{\"shape\":\"\"}},\"name\":\"British Journal Of Nutrition\",\"offsetgroup\":\"British Journal Of Nutrition\",\"orientation\":\"v\",\"showlegend\":true,\"textposition\":\"auto\",\"type\":\"bar\",\"x\":[2004,2005,2007,2009,2011,2019],\"xaxis\":\"x\",\"y\":[1,1,1,1,1,2],\"yaxis\":\"y\"},{\"alignmentgroup\":\"True\",\"hovertemplate\":\"journal.title=Powder Diffraction<br>year=%{x}<br>size=%{y}<extra></extra>\",\"legendgroup\":\"Powder Diffraction\",\"marker\":{\"color\":\"#FF6692\",\"pattern\":{\"shape\":\"\"}},\"name\":\"Powder Diffraction\",\"offsetgroup\":\"Powder Diffraction\",\"orientation\":\"v\",\"showlegend\":true,\"textposition\":\"auto\",\"type\":\"bar\",\"x\":[2004],\"xaxis\":\"x\",\"y\":[1],\"yaxis\":\"y\"},{\"alignmentgroup\":\"True\",\"hovertemplate\":\"journal.title=Twin Research and Human Genetics<br>year=%{x}<br>size=%{y}<extra></extra>\",\"legendgroup\":\"Twin Research and Human Genetics\",\"marker\":{\"color\":\"#B6E880\",\"pattern\":{\"shape\":\"\"}},\"name\":\"Twin Research and Human Genetics\",\"offsetgroup\":\"Twin Research and Human Genetics\",\"orientation\":\"v\",\"showlegend\":true,\"textposition\":\"auto\",\"type\":\"bar\",\"x\":[2004,2015],\"xaxis\":\"x\",\"y\":[1,1],\"yaxis\":\"y\"},{\"alignmentgroup\":\"True\",\"hovertemplate\":\"journal.title=Austrian History Yearbook<br>year=%{x}<br>size=%{y}<extra></extra>\",\"legendgroup\":\"Austrian History Yearbook\",\"marker\":{\"color\":\"#FF97FF\",\"pattern\":{\"shape\":\"\"}},\"name\":\"Austrian History Yearbook\",\"offsetgroup\":\"Austrian History Yearbook\",\"orientation\":\"v\",\"showlegend\":true,\"textposition\":\"auto\",\"type\":\"bar\",\"x\":[2005,2007],\"xaxis\":\"x\",\"y\":[1,1],\"yaxis\":\"y\"},{\"alignmentgroup\":\"True\",\"hovertemplate\":\"journal.title=Geological Magazine<br>year=%{x}<br>size=%{y}<extra></extra>\",\"legendgroup\":\"Geological Magazine\",\"marker\":{\"color\":\"#FECB52\",\"pattern\":{\"shape\":\"\"}},\"name\":\"Geological Magazine\",\"offsetgroup\":\"Geological Magazine\",\"orientation\":\"v\",\"showlegend\":true,\"textposition\":\"auto\",\"type\":\"bar\",\"x\":[2005,2016],\"xaxis\":\"x\",\"y\":[1,1],\"yaxis\":\"y\"},{\"alignmentgroup\":\"True\",\"hovertemplate\":\"journal.title=Microscopy Today<br>year=%{x}<br>size=%{y}<extra></extra>\",\"legendgroup\":\"Microscopy Today\",\"marker\":{\"color\":\"#636efa\",\"pattern\":{\"shape\":\"\"}},\"name\":\"Microscopy Today\",\"offsetgroup\":\"Microscopy Today\",\"orientation\":\"v\",\"showlegend\":true,\"textposition\":\"auto\",\"type\":\"bar\",\"x\":[2005,2017],\"xaxis\":\"x\",\"y\":[1,1],\"yaxis\":\"y\"},{\"alignmentgroup\":\"True\",\"hovertemplate\":\"journal.title=Nineteenth-Century Music Review<br>year=%{x}<br>size=%{y}<extra></extra>\",\"legendgroup\":\"Nineteenth-Century Music Review\",\"marker\":{\"color\":\"#EF553B\",\"pattern\":{\"shape\":\"\"}},\"name\":\"Nineteenth-Century Music Review\",\"offsetgroup\":\"Nineteenth-Century Music Review\",\"orientation\":\"v\",\"showlegend\":true,\"textposition\":\"auto\",\"type\":\"bar\",\"x\":[2005,2011],\"xaxis\":\"x\",\"y\":[1,1],\"yaxis\":\"y\"},{\"alignmentgroup\":\"True\",\"hovertemplate\":\"journal.title=Organised Sound<br>year=%{x}<br>size=%{y}<extra></extra>\",\"legendgroup\":\"Organised Sound\",\"marker\":{\"color\":\"#00cc96\",\"pattern\":{\"shape\":\"\"}},\"name\":\"Organised Sound\",\"offsetgroup\":\"Organised Sound\",\"orientation\":\"v\",\"showlegend\":true,\"textposition\":\"auto\",\"type\":\"bar\",\"x\":[2005],\"xaxis\":\"x\",\"y\":[1],\"yaxis\":\"y\"},{\"alignmentgroup\":\"True\",\"hovertemplate\":\"journal.title=Enterprise & Society<br>year=%{x}<br>size=%{y}<extra></extra>\",\"legendgroup\":\"Enterprise & Society\",\"marker\":{\"color\":\"#ab63fa\",\"pattern\":{\"shape\":\"\"}},\"name\":\"Enterprise & Society\",\"offsetgroup\":\"Enterprise & Society\",\"orientation\":\"v\",\"showlegend\":true,\"textposition\":\"auto\",\"type\":\"bar\",\"x\":[2006],\"xaxis\":\"x\",\"y\":[1],\"yaxis\":\"y\"},{\"alignmentgroup\":\"True\",\"hovertemplate\":\"journal.title=Epidemiology and Infection<br>year=%{x}<br>size=%{y}<extra></extra>\",\"legendgroup\":\"Epidemiology and Infection\",\"marker\":{\"color\":\"#FFA15A\",\"pattern\":{\"shape\":\"\"}},\"name\":\"Epidemiology and Infection\",\"offsetgroup\":\"Epidemiology and Infection\",\"orientation\":\"v\",\"showlegend\":true,\"textposition\":\"auto\",\"type\":\"bar\",\"x\":[2006,2013,2019,2020],\"xaxis\":\"x\",\"y\":[1,1,1,1],\"yaxis\":\"y\"},{\"alignmentgroup\":\"True\",\"hovertemplate\":\"journal.title=Language in Society<br>year=%{x}<br>size=%{y}<extra></extra>\",\"legendgroup\":\"Language in Society\",\"marker\":{\"color\":\"#19d3f3\",\"pattern\":{\"shape\":\"\"}},\"name\":\"Language in Society\",\"offsetgroup\":\"Language in Society\",\"orientation\":\"v\",\"showlegend\":true,\"textposition\":\"auto\",\"type\":\"bar\",\"x\":[2006],\"xaxis\":\"x\",\"y\":[1],\"yaxis\":\"y\"},{\"alignmentgroup\":\"True\",\"hovertemplate\":\"journal.title=Paleobiology<br>year=%{x}<br>size=%{y}<extra></extra>\",\"legendgroup\":\"Paleobiology\",\"marker\":{\"color\":\"#FF6692\",\"pattern\":{\"shape\":\"\"}},\"name\":\"Paleobiology\",\"offsetgroup\":\"Paleobiology\",\"orientation\":\"v\",\"showlegend\":true,\"textposition\":\"auto\",\"type\":\"bar\",\"x\":[2006,2009,2012,2015,2017,2018,2020],\"xaxis\":\"x\",\"y\":[1,2,1,1,1,1,1],\"yaxis\":\"y\"},{\"alignmentgroup\":\"True\",\"hovertemplate\":\"journal.title=Central European History<br>year=%{x}<br>size=%{y}<extra></extra>\",\"legendgroup\":\"Central European History\",\"marker\":{\"color\":\"#B6E880\",\"pattern\":{\"shape\":\"\"}},\"name\":\"Central European History\",\"offsetgroup\":\"Central European History\",\"orientation\":\"v\",\"showlegend\":true,\"textposition\":\"auto\",\"type\":\"bar\",\"x\":[2007],\"xaxis\":\"x\",\"y\":[1],\"yaxis\":\"y\"},{\"alignmentgroup\":\"True\",\"hovertemplate\":\"journal.title=European Psychiatry<br>year=%{x}<br>size=%{y}<extra></extra>\",\"legendgroup\":\"European Psychiatry\",\"marker\":{\"color\":\"#FF97FF\",\"pattern\":{\"shape\":\"\"}},\"name\":\"European Psychiatry\",\"offsetgroup\":\"European Psychiatry\",\"orientation\":\"v\",\"showlegend\":true,\"textposition\":\"auto\",\"type\":\"bar\",\"x\":[2007],\"xaxis\":\"x\",\"y\":[1],\"yaxis\":\"y\"},{\"alignmentgroup\":\"True\",\"hovertemplate\":\"journal.title=ReCALL<br>year=%{x}<br>size=%{y}<extra></extra>\",\"legendgroup\":\"ReCALL\",\"marker\":{\"color\":\"#FECB52\",\"pattern\":{\"shape\":\"\"}},\"name\":\"ReCALL\",\"offsetgroup\":\"ReCALL\",\"orientation\":\"v\",\"showlegend\":true,\"textposition\":\"auto\",\"type\":\"bar\",\"x\":[2007,2017],\"xaxis\":\"x\",\"y\":[1,1],\"yaxis\":\"y\"},{\"alignmentgroup\":\"True\",\"hovertemplate\":\"journal.title=Science in Context<br>year=%{x}<br>size=%{y}<extra></extra>\",\"legendgroup\":\"Science in Context\",\"marker\":{\"color\":\"#636efa\",\"pattern\":{\"shape\":\"\"}},\"name\":\"Science in Context\",\"offsetgroup\":\"Science in Context\",\"orientation\":\"v\",\"showlegend\":true,\"textposition\":\"auto\",\"type\":\"bar\",\"x\":[2007],\"xaxis\":\"x\",\"y\":[1],\"yaxis\":\"y\"},{\"alignmentgroup\":\"True\",\"hovertemplate\":\"journal.title=American Antiquity<br>year=%{x}<br>size=%{y}<extra></extra>\",\"legendgroup\":\"American Antiquity\",\"marker\":{\"color\":\"#EF553B\",\"pattern\":{\"shape\":\"\"}},\"name\":\"American Antiquity\",\"offsetgroup\":\"American Antiquity\",\"orientation\":\"v\",\"showlegend\":true,\"textposition\":\"auto\",\"type\":\"bar\",\"x\":[2008,2010,2016,2020],\"xaxis\":\"x\",\"y\":[1,1,1,1],\"yaxis\":\"y\"},{\"alignmentgroup\":\"True\",\"hovertemplate\":\"journal.title=Cardiology in the Young<br>year=%{x}<br>size=%{y}<extra></extra>\",\"legendgroup\":\"Cardiology in the Young\",\"marker\":{\"color\":\"#00cc96\",\"pattern\":{\"shape\":\"\"}},\"name\":\"Cardiology in the Young\",\"offsetgroup\":\"Cardiology in the Young\",\"orientation\":\"v\",\"showlegend\":true,\"textposition\":\"auto\",\"type\":\"bar\",\"x\":[2008,2009,2012,2015,2016,2018,2019,2020,2021],\"xaxis\":\"x\",\"y\":[1,1,1,3,1,1,2,7,14],\"yaxis\":\"y\"},{\"alignmentgroup\":\"True\",\"hovertemplate\":\"journal.title=Economics and Philosophy<br>year=%{x}<br>size=%{y}<extra></extra>\",\"legendgroup\":\"Economics and Philosophy\",\"marker\":{\"color\":\"#ab63fa\",\"pattern\":{\"shape\":\"\"}},\"name\":\"Economics and Philosophy\",\"offsetgroup\":\"Economics and Philosophy\",\"orientation\":\"v\",\"showlegend\":true,\"textposition\":\"auto\",\"type\":\"bar\",\"x\":[2008],\"xaxis\":\"x\",\"y\":[1],\"yaxis\":\"y\"},{\"alignmentgroup\":\"True\",\"hovertemplate\":\"journal.title=Journal of British Studies<br>year=%{x}<br>size=%{y}<extra></extra>\",\"legendgroup\":\"Journal of British Studies\",\"marker\":{\"color\":\"#FFA15A\",\"pattern\":{\"shape\":\"\"}},\"name\":\"Journal of British Studies\",\"offsetgroup\":\"Journal of British Studies\",\"orientation\":\"v\",\"showlegend\":true,\"textposition\":\"auto\",\"type\":\"bar\",\"x\":[2008,2009,2013],\"xaxis\":\"x\",\"y\":[1,1,1],\"yaxis\":\"y\"},{\"alignmentgroup\":\"True\",\"hovertemplate\":\"journal.title=Perspectives on Politics<br>year=%{x}<br>size=%{y}<extra></extra>\",\"legendgroup\":\"Perspectives on Politics\",\"marker\":{\"color\":\"#19d3f3\",\"pattern\":{\"shape\":\"\"}},\"name\":\"Perspectives on Politics\",\"offsetgroup\":\"Perspectives on Politics\",\"orientation\":\"v\",\"showlegend\":true,\"textposition\":\"auto\",\"type\":\"bar\",\"x\":[2008,2015,2019,2020],\"xaxis\":\"x\",\"y\":[1,1,1,1],\"yaxis\":\"y\"},{\"alignmentgroup\":\"True\",\"hovertemplate\":\"journal.title=Advances in Applied Probability<br>year=%{x}<br>size=%{y}<extra></extra>\",\"legendgroup\":\"Advances in Applied Probability\",\"marker\":{\"color\":\"#FF6692\",\"pattern\":{\"shape\":\"\"}},\"name\":\"Advances in Applied Probability\",\"offsetgroup\":\"Advances in Applied Probability\",\"orientation\":\"v\",\"showlegend\":true,\"textposition\":\"auto\",\"type\":\"bar\",\"x\":[2009],\"xaxis\":\"x\",\"y\":[1],\"yaxis\":\"y\"},{\"alignmentgroup\":\"True\",\"hovertemplate\":\"journal.title=Canadian Journal of Philosophy<br>year=%{x}<br>size=%{y}<extra></extra>\",\"legendgroup\":\"Canadian Journal of Philosophy\",\"marker\":{\"color\":\"#B6E880\",\"pattern\":{\"shape\":\"\"}},\"name\":\"Canadian Journal of Philosophy\",\"offsetgroup\":\"Canadian Journal of Philosophy\",\"orientation\":\"v\",\"showlegend\":true,\"textposition\":\"auto\",\"type\":\"bar\",\"x\":[2009],\"xaxis\":\"x\",\"y\":[1],\"yaxis\":\"y\"},{\"alignmentgroup\":\"True\",\"hovertemplate\":\"journal.title=Development and Psychopathology<br>year=%{x}<br>size=%{y}<extra></extra>\",\"legendgroup\":\"Development and Psychopathology\",\"marker\":{\"color\":\"#FF97FF\",\"pattern\":{\"shape\":\"\"}},\"name\":\"Development and Psychopathology\",\"offsetgroup\":\"Development and Psychopathology\",\"orientation\":\"v\",\"showlegend\":true,\"textposition\":\"auto\",\"type\":\"bar\",\"x\":[2009,2012,2014],\"xaxis\":\"x\",\"y\":[1,2,1],\"yaxis\":\"y\"},{\"alignmentgroup\":\"True\",\"hovertemplate\":\"journal.title=Journal of Financial and Quantitative Analysis<br>year=%{x}<br>size=%{y}<extra></extra>\",\"legendgroup\":\"Journal of Financial and Quantitative Analysis\",\"marker\":{\"color\":\"#FECB52\",\"pattern\":{\"shape\":\"\"}},\"name\":\"Journal of Financial and Quantitative Analysis\",\"offsetgroup\":\"Journal of Financial and Quantitative Analysis\",\"orientation\":\"v\",\"showlegend\":true,\"textposition\":\"auto\",\"type\":\"bar\",\"x\":[2009,2014,2015],\"xaxis\":\"x\",\"y\":[1,1,1],\"yaxis\":\"y\"},{\"alignmentgroup\":\"True\",\"hovertemplate\":\"journal.title=Management and Organization Review<br>year=%{x}<br>size=%{y}<extra></extra>\",\"legendgroup\":\"Management and Organization Review\",\"marker\":{\"color\":\"#636efa\",\"pattern\":{\"shape\":\"\"}},\"name\":\"Management and Organization Review\",\"offsetgroup\":\"Management and Organization Review\",\"orientation\":\"v\",\"showlegend\":true,\"textposition\":\"auto\",\"type\":\"bar\",\"x\":[2009],\"xaxis\":\"x\",\"y\":[1],\"yaxis\":\"y\"},{\"alignmentgroup\":\"True\",\"hovertemplate\":\"journal.title=Parasitology<br>year=%{x}<br>size=%{y}<extra></extra>\",\"legendgroup\":\"Parasitology\",\"marker\":{\"color\":\"#EF553B\",\"pattern\":{\"shape\":\"\"}},\"name\":\"Parasitology\",\"offsetgroup\":\"Parasitology\",\"orientation\":\"v\",\"showlegend\":true,\"textposition\":\"auto\",\"type\":\"bar\",\"x\":[2009,2020],\"xaxis\":\"x\",\"y\":[1,1],\"yaxis\":\"y\"},{\"alignmentgroup\":\"True\",\"hovertemplate\":\"journal.title=Proceedings of the International Astronomical Union<br>year=%{x}<br>size=%{y}<extra></extra>\",\"legendgroup\":\"Proceedings of the International Astronomical Union\",\"marker\":{\"color\":\"#00cc96\",\"pattern\":{\"shape\":\"\"}},\"name\":\"Proceedings of the International Astronomical Union\",\"offsetgroup\":\"Proceedings of the International Astronomical Union\",\"orientation\":\"v\",\"showlegend\":true,\"textposition\":\"auto\",\"type\":\"bar\",\"x\":[2009,2012,2016],\"xaxis\":\"x\",\"y\":[1,1,1],\"yaxis\":\"y\"},{\"alignmentgroup\":\"True\",\"hovertemplate\":\"journal.title=Canadian Journal of Neurological Sciences / Journal Canadien des Sciences Neurologiques<br>year=%{x}<br>size=%{y}<extra></extra>\",\"legendgroup\":\"Canadian Journal of Neurological Sciences / Journal Canadien des Sciences Neurologiques\",\"marker\":{\"color\":\"#ab63fa\",\"pattern\":{\"shape\":\"\"}},\"name\":\"Canadian Journal of Neurological Sciences / Journal Canadien des Sciences Neurologiques\",\"offsetgroup\":\"Canadian Journal of Neurological Sciences / Journal Canadien des Sciences Neurologiques\",\"orientation\":\"v\",\"showlegend\":true,\"textposition\":\"auto\",\"type\":\"bar\",\"x\":[2010,2012,2017],\"xaxis\":\"x\",\"y\":[1,1,1],\"yaxis\":\"y\"},{\"alignmentgroup\":\"True\",\"hovertemplate\":\"journal.title=Industrial and Organizational Psychology<br>year=%{x}<br>size=%{y}<extra></extra>\",\"legendgroup\":\"Industrial and Organizational Psychology\",\"marker\":{\"color\":\"#FFA15A\",\"pattern\":{\"shape\":\"\"}},\"name\":\"Industrial and Organizational Psychology\",\"offsetgroup\":\"Industrial and Organizational Psychology\",\"orientation\":\"v\",\"showlegend\":true,\"textposition\":\"auto\",\"type\":\"bar\",\"x\":[2010,2012,2013,2016],\"xaxis\":\"x\",\"y\":[1,2,1,1],\"yaxis\":\"y\"},{\"alignmentgroup\":\"True\",\"hovertemplate\":\"journal.title=Journal of Developmental Origins of Health and Disease<br>year=%{x}<br>size=%{y}<extra></extra>\",\"legendgroup\":\"Journal of Developmental Origins of Health and Disease\",\"marker\":{\"color\":\"#19d3f3\",\"pattern\":{\"shape\":\"\"}},\"name\":\"Journal of Developmental Origins of Health and Disease\",\"offsetgroup\":\"Journal of Developmental Origins of Health and Disease\",\"orientation\":\"v\",\"showlegend\":true,\"textposition\":\"auto\",\"type\":\"bar\",\"x\":[2010,2020],\"xaxis\":\"x\",\"y\":[2,1],\"yaxis\":\"y\"},{\"alignmentgroup\":\"True\",\"hovertemplate\":\"journal.title=Language and Cognition<br>year=%{x}<br>size=%{y}<extra></extra>\",\"legendgroup\":\"Language and Cognition\",\"marker\":{\"color\":\"#FF6692\",\"pattern\":{\"shape\":\"\"}},\"name\":\"Language and Cognition\",\"offsetgroup\":\"Language and Cognition\",\"orientation\":\"v\",\"showlegend\":true,\"textposition\":\"auto\",\"type\":\"bar\",\"x\":[2010,2016],\"xaxis\":\"x\",\"y\":[1,1],\"yaxis\":\"y\"},{\"alignmentgroup\":\"True\",\"hovertemplate\":\"journal.title=Antarctic Science<br>year=%{x}<br>size=%{y}<extra></extra>\",\"legendgroup\":\"Antarctic Science\",\"marker\":{\"color\":\"#B6E880\",\"pattern\":{\"shape\":\"\"}},\"name\":\"Antarctic Science\",\"offsetgroup\":\"Antarctic Science\",\"orientation\":\"v\",\"showlegend\":true,\"textposition\":\"auto\",\"type\":\"bar\",\"x\":[2011],\"xaxis\":\"x\",\"y\":[1],\"yaxis\":\"y\"},{\"alignmentgroup\":\"True\",\"hovertemplate\":\"journal.title=Behavioural and Cognitive Psychotherapy<br>year=%{x}<br>size=%{y}<extra></extra>\",\"legendgroup\":\"Behavioural and Cognitive Psychotherapy\",\"marker\":{\"color\":\"#FF97FF\",\"pattern\":{\"shape\":\"\"}},\"name\":\"Behavioural and Cognitive Psychotherapy\",\"offsetgroup\":\"Behavioural and Cognitive Psychotherapy\",\"orientation\":\"v\",\"showlegend\":true,\"textposition\":\"auto\",\"type\":\"bar\",\"x\":[2011],\"xaxis\":\"x\",\"y\":[1],\"yaxis\":\"y\"},{\"alignmentgroup\":\"True\",\"hovertemplate\":\"journal.title=Du Bois Review Social Science Research on Race<br>year=%{x}<br>size=%{y}<extra></extra>\",\"legendgroup\":\"Du Bois Review Social Science Research on Race\",\"marker\":{\"color\":\"#FECB52\",\"pattern\":{\"shape\":\"\"}},\"name\":\"Du Bois Review Social Science Research on Race\",\"offsetgroup\":\"Du Bois Review Social Science Research on Race\",\"orientation\":\"v\",\"showlegend\":true,\"textposition\":\"auto\",\"type\":\"bar\",\"x\":[2011,2020],\"xaxis\":\"x\",\"y\":[1,1],\"yaxis\":\"y\"},{\"alignmentgroup\":\"True\",\"hovertemplate\":\"journal.title=Journal of Materials Research<br>year=%{x}<br>size=%{y}<extra></extra>\",\"legendgroup\":\"Journal of Materials Research\",\"marker\":{\"color\":\"#636efa\",\"pattern\":{\"shape\":\"\"}},\"name\":\"Journal of Materials Research\",\"offsetgroup\":\"Journal of Materials Research\",\"orientation\":\"v\",\"showlegend\":true,\"textposition\":\"auto\",\"type\":\"bar\",\"x\":[2011],\"xaxis\":\"x\",\"y\":[1],\"yaxis\":\"y\"},{\"alignmentgroup\":\"True\",\"hovertemplate\":\"journal.title=The Journal of Laryngology and Otology<br>year=%{x}<br>size=%{y}<extra></extra>\",\"legendgroup\":\"The Journal of Laryngology and Otology\",\"marker\":{\"color\":\"#EF553B\",\"pattern\":{\"shape\":\"\"}},\"name\":\"The Journal of Laryngology and Otology\",\"offsetgroup\":\"The Journal of Laryngology and Otology\",\"orientation\":\"v\",\"showlegend\":true,\"textposition\":\"auto\",\"type\":\"bar\",\"x\":[2011,2018],\"xaxis\":\"x\",\"y\":[1,1],\"yaxis\":\"y\"},{\"alignmentgroup\":\"True\",\"hovertemplate\":\"journal.title=Earth and Environmental Science Transactions of the Royal Society of Edinburgh<br>year=%{x}<br>size=%{y}<extra></extra>\",\"legendgroup\":\"Earth and Environmental Science Transactions of the Royal Society of Edinburgh\",\"marker\":{\"color\":\"#00cc96\",\"pattern\":{\"shape\":\"\"}},\"name\":\"Earth and Environmental Science Transactions of the Royal Society of Edinburgh\",\"offsetgroup\":\"Earth and Environmental Science Transactions of the Royal Society of Edinburgh\",\"orientation\":\"v\",\"showlegend\":true,\"textposition\":\"auto\",\"type\":\"bar\",\"x\":[2012],\"xaxis\":\"x\",\"y\":[1],\"yaxis\":\"y\"},{\"alignmentgroup\":\"True\",\"hovertemplate\":\"journal.title=Journal of Applied Probability<br>year=%{x}<br>size=%{y}<extra></extra>\",\"legendgroup\":\"Journal of Applied Probability\",\"marker\":{\"color\":\"#ab63fa\",\"pattern\":{\"shape\":\"\"}},\"name\":\"Journal of Applied Probability\",\"offsetgroup\":\"Journal of Applied Probability\",\"orientation\":\"v\",\"showlegend\":true,\"textposition\":\"auto\",\"type\":\"bar\",\"x\":[2012,2015,2016],\"xaxis\":\"x\",\"y\":[1,1,1],\"yaxis\":\"y\"},{\"alignmentgroup\":\"True\",\"hovertemplate\":\"journal.title=Public Health Nutrition<br>year=%{x}<br>size=%{y}<extra></extra>\",\"legendgroup\":\"Public Health Nutrition\",\"marker\":{\"color\":\"#FFA15A\",\"pattern\":{\"shape\":\"\"}},\"name\":\"Public Health Nutrition\",\"offsetgroup\":\"Public Health Nutrition\",\"orientation\":\"v\",\"showlegend\":true,\"textposition\":\"auto\",\"type\":\"bar\",\"x\":[2012,2014],\"xaxis\":\"x\",\"y\":[1,1],\"yaxis\":\"y\"},{\"alignmentgroup\":\"True\",\"hovertemplate\":\"journal.title=The Classical Quarterly<br>year=%{x}<br>size=%{y}<extra></extra>\",\"legendgroup\":\"The Classical Quarterly\",\"marker\":{\"color\":\"#19d3f3\",\"pattern\":{\"shape\":\"\"}},\"name\":\"The Classical Quarterly\",\"offsetgroup\":\"The Classical Quarterly\",\"orientation\":\"v\",\"showlegend\":true,\"textposition\":\"auto\",\"type\":\"bar\",\"x\":[2012,2015],\"xaxis\":\"x\",\"y\":[1,1],\"yaxis\":\"y\"},{\"alignmentgroup\":\"True\",\"hovertemplate\":\"journal.title=Bulletin of the Australian Mathematical Society<br>year=%{x}<br>size=%{y}<extra></extra>\",\"legendgroup\":\"Bulletin of the Australian Mathematical Society\",\"marker\":{\"color\":\"#FF6692\",\"pattern\":{\"shape\":\"\"}},\"name\":\"Bulletin of the Australian Mathematical Society\",\"offsetgroup\":\"Bulletin of the Australian Mathematical Society\",\"orientation\":\"v\",\"showlegend\":true,\"textposition\":\"auto\",\"type\":\"bar\",\"x\":[2013],\"xaxis\":\"x\",\"y\":[1],\"yaxis\":\"y\"},{\"alignmentgroup\":\"True\",\"hovertemplate\":\"journal.title=Cambridge Archaeological Journal<br>year=%{x}<br>size=%{y}<extra></extra>\",\"legendgroup\":\"Cambridge Archaeological Journal\",\"marker\":{\"color\":\"#B6E880\",\"pattern\":{\"shape\":\"\"}},\"name\":\"Cambridge Archaeological Journal\",\"offsetgroup\":\"Cambridge Archaeological Journal\",\"orientation\":\"v\",\"showlegend\":true,\"textposition\":\"auto\",\"type\":\"bar\",\"x\":[2014],\"xaxis\":\"x\",\"y\":[1],\"yaxis\":\"y\"},{\"alignmentgroup\":\"True\",\"hovertemplate\":\"journal.title=Expert Reviews in Molecular Medicine<br>year=%{x}<br>size=%{y}<extra></extra>\",\"legendgroup\":\"Expert Reviews in Molecular Medicine\",\"marker\":{\"color\":\"#FF97FF\",\"pattern\":{\"shape\":\"\"}},\"name\":\"Expert Reviews in Molecular Medicine\",\"offsetgroup\":\"Expert Reviews in Molecular Medicine\",\"orientation\":\"v\",\"showlegend\":true,\"textposition\":\"auto\",\"type\":\"bar\",\"x\":[2014],\"xaxis\":\"x\",\"y\":[1],\"yaxis\":\"y\"},{\"alignmentgroup\":\"True\",\"hovertemplate\":\"journal.title=Journal of American Studies<br>year=%{x}<br>size=%{y}<extra></extra>\",\"legendgroup\":\"Journal of American Studies\",\"marker\":{\"color\":\"#FECB52\",\"pattern\":{\"shape\":\"\"}},\"name\":\"Journal of American Studies\",\"offsetgroup\":\"Journal of American Studies\",\"orientation\":\"v\",\"showlegend\":true,\"textposition\":\"auto\",\"type\":\"bar\",\"x\":[2014,2015],\"xaxis\":\"x\",\"y\":[1,1],\"yaxis\":\"y\"},{\"alignmentgroup\":\"True\",\"hovertemplate\":\"journal.title=Royal Institute of Philosophy Supplement<br>year=%{x}<br>size=%{y}<extra></extra>\",\"legendgroup\":\"Royal Institute of Philosophy Supplement\",\"marker\":{\"color\":\"#636efa\",\"pattern\":{\"shape\":\"\"}},\"name\":\"Royal Institute of Philosophy Supplement\",\"offsetgroup\":\"Royal Institute of Philosophy Supplement\",\"orientation\":\"v\",\"showlegend\":true,\"textposition\":\"auto\",\"type\":\"bar\",\"x\":[2014],\"xaxis\":\"x\",\"y\":[1],\"yaxis\":\"y\"},{\"alignmentgroup\":\"True\",\"hovertemplate\":\"journal.title=The Journal of Asian Studies<br>year=%{x}<br>size=%{y}<extra></extra>\",\"legendgroup\":\"The Journal of Asian Studies\",\"marker\":{\"color\":\"#EF553B\",\"pattern\":{\"shape\":\"\"}},\"name\":\"The Journal of Asian Studies\",\"offsetgroup\":\"The Journal of Asian Studies\",\"orientation\":\"v\",\"showlegend\":true,\"textposition\":\"auto\",\"type\":\"bar\",\"x\":[2014,2016,2019,2020,2021],\"xaxis\":\"x\",\"y\":[1,1,1,1,1],\"yaxis\":\"y\"},{\"alignmentgroup\":\"True\",\"hovertemplate\":\"journal.title=Politics and Religion<br>year=%{x}<br>size=%{y}<extra></extra>\",\"legendgroup\":\"Politics and Religion\",\"marker\":{\"color\":\"#00cc96\",\"pattern\":{\"shape\":\"\"}},\"name\":\"Politics and Religion\",\"offsetgroup\":\"Politics and Religion\",\"orientation\":\"v\",\"showlegend\":true,\"textposition\":\"auto\",\"type\":\"bar\",\"x\":[2015,2016,2017,2020],\"xaxis\":\"x\",\"y\":[1,2,3,1],\"yaxis\":\"y\"},{\"alignmentgroup\":\"True\",\"hovertemplate\":\"journal.title=Advances in Archaeological Practice<br>year=%{x}<br>size=%{y}<extra></extra>\",\"legendgroup\":\"Advances in Archaeological Practice\",\"marker\":{\"color\":\"#ab63fa\",\"pattern\":{\"shape\":\"\"}},\"name\":\"Advances in Archaeological Practice\",\"offsetgroup\":\"Advances in Archaeological Practice\",\"orientation\":\"v\",\"showlegend\":true,\"textposition\":\"auto\",\"type\":\"bar\",\"x\":[2016],\"xaxis\":\"x\",\"y\":[2],\"yaxis\":\"y\"},{\"alignmentgroup\":\"True\",\"hovertemplate\":\"journal.title=Psychological Medicine<br>year=%{x}<br>size=%{y}<extra></extra>\",\"legendgroup\":\"Psychological Medicine\",\"marker\":{\"color\":\"#FFA15A\",\"pattern\":{\"shape\":\"\"}},\"name\":\"Psychological Medicine\",\"offsetgroup\":\"Psychological Medicine\",\"orientation\":\"v\",\"showlegend\":true,\"textposition\":\"auto\",\"type\":\"bar\",\"x\":[2016,2020,2021],\"xaxis\":\"x\",\"y\":[1,1,2],\"yaxis\":\"y\"},{\"alignmentgroup\":\"True\",\"hovertemplate\":\"journal.title=Radiocarbon<br>year=%{x}<br>size=%{y}<extra></extra>\",\"legendgroup\":\"Radiocarbon\",\"marker\":{\"color\":\"#19d3f3\",\"pattern\":{\"shape\":\"\"}},\"name\":\"Radiocarbon\",\"offsetgroup\":\"Radiocarbon\",\"orientation\":\"v\",\"showlegend\":true,\"textposition\":\"auto\",\"type\":\"bar\",\"x\":[2016,2021],\"xaxis\":\"x\",\"y\":[1,1],\"yaxis\":\"y\"},{\"alignmentgroup\":\"True\",\"hovertemplate\":\"journal.title=The Classical Review<br>year=%{x}<br>size=%{y}<extra></extra>\",\"legendgroup\":\"The Classical Review\",\"marker\":{\"color\":\"#FF6692\",\"pattern\":{\"shape\":\"\"}},\"name\":\"The Classical Review\",\"offsetgroup\":\"The Classical Review\",\"orientation\":\"v\",\"showlegend\":true,\"textposition\":\"auto\",\"type\":\"bar\",\"x\":[2016,2020],\"xaxis\":\"x\",\"y\":[1,1],\"yaxis\":\"y\"},{\"alignmentgroup\":\"True\",\"hovertemplate\":\"journal.title=The Journal of Hellenic Studies<br>year=%{x}<br>size=%{y}<extra></extra>\",\"legendgroup\":\"The Journal of Hellenic Studies\",\"marker\":{\"color\":\"#B6E880\",\"pattern\":{\"shape\":\"\"}},\"name\":\"The Journal of Hellenic Studies\",\"offsetgroup\":\"The Journal of Hellenic Studies\",\"orientation\":\"v\",\"showlegend\":true,\"textposition\":\"auto\",\"type\":\"bar\",\"x\":[2016],\"xaxis\":\"x\",\"y\":[2],\"yaxis\":\"y\"},{\"alignmentgroup\":\"True\",\"hovertemplate\":\"journal.title=International Journal Middle East Studies<br>year=%{x}<br>size=%{y}<extra></extra>\",\"legendgroup\":\"International Journal Middle East Studies\",\"marker\":{\"color\":\"#FF97FF\",\"pattern\":{\"shape\":\"\"}},\"name\":\"International Journal Middle East Studies\",\"offsetgroup\":\"International Journal Middle East Studies\",\"orientation\":\"v\",\"showlegend\":true,\"textposition\":\"auto\",\"type\":\"bar\",\"x\":[2017],\"xaxis\":\"x\",\"y\":[1],\"yaxis\":\"y\"},{\"alignmentgroup\":\"True\",\"hovertemplate\":\"journal.title=Journal of Clinical and Translational Science<br>year=%{x}<br>size=%{y}<extra></extra>\",\"legendgroup\":\"Journal of Clinical and Translational Science\",\"marker\":{\"color\":\"#FECB52\",\"pattern\":{\"shape\":\"\"}},\"name\":\"Journal of Clinical and Translational Science\",\"offsetgroup\":\"Journal of Clinical and Translational Science\",\"orientation\":\"v\",\"showlegend\":true,\"textposition\":\"auto\",\"type\":\"bar\",\"x\":[2017,2018,2019,2020,2021],\"xaxis\":\"x\",\"y\":[2,1,2,2,1],\"yaxis\":\"y\"},{\"alignmentgroup\":\"True\",\"hovertemplate\":\"journal.title=Ancient Mesoamerica<br>year=%{x}<br>size=%{y}<extra></extra>\",\"legendgroup\":\"Ancient Mesoamerica\",\"marker\":{\"color\":\"#636efa\",\"pattern\":{\"shape\":\"\"}},\"name\":\"Ancient Mesoamerica\",\"offsetgroup\":\"Ancient Mesoamerica\",\"orientation\":\"v\",\"showlegend\":true,\"textposition\":\"auto\",\"type\":\"bar\",\"x\":[2018],\"xaxis\":\"x\",\"y\":[1],\"yaxis\":\"y\"},{\"alignmentgroup\":\"True\",\"hovertemplate\":\"journal.title=Disaster Medicine and Public Health Preparedness<br>year=%{x}<br>size=%{y}<extra></extra>\",\"legendgroup\":\"Disaster Medicine and Public Health Preparedness\",\"marker\":{\"color\":\"#EF553B\",\"pattern\":{\"shape\":\"\"}},\"name\":\"Disaster Medicine and Public Health Preparedness\",\"offsetgroup\":\"Disaster Medicine and Public Health Preparedness\",\"orientation\":\"v\",\"showlegend\":true,\"textposition\":\"auto\",\"type\":\"bar\",\"x\":[2018,2021],\"xaxis\":\"x\",\"y\":[1,1],\"yaxis\":\"y\"},{\"alignmentgroup\":\"True\",\"hovertemplate\":\"journal.title=European Journal of Applied Mathematics<br>year=%{x}<br>size=%{y}<extra></extra>\",\"legendgroup\":\"European Journal of Applied Mathematics\",\"marker\":{\"color\":\"#00cc96\",\"pattern\":{\"shape\":\"\"}},\"name\":\"European Journal of Applied Mathematics\",\"offsetgroup\":\"European Journal of Applied Mathematics\",\"orientation\":\"v\",\"showlegend\":true,\"textposition\":\"auto\",\"type\":\"bar\",\"x\":[2018],\"xaxis\":\"x\",\"y\":[1],\"yaxis\":\"y\"},{\"alignmentgroup\":\"True\",\"hovertemplate\":\"journal.title=Nationalities Papers<br>year=%{x}<br>size=%{y}<extra></extra>\",\"legendgroup\":\"Nationalities Papers\",\"marker\":{\"color\":\"#ab63fa\",\"pattern\":{\"shape\":\"\"}},\"name\":\"Nationalities Papers\",\"offsetgroup\":\"Nationalities Papers\",\"orientation\":\"v\",\"showlegend\":true,\"textposition\":\"auto\",\"type\":\"bar\",\"x\":[2018],\"xaxis\":\"x\",\"y\":[1],\"yaxis\":\"y\"},{\"alignmentgroup\":\"True\",\"hovertemplate\":\"journal.title=Proceedings of the ASIL Annual Meeting<br>year=%{x}<br>size=%{y}<extra></extra>\",\"legendgroup\":\"Proceedings of the ASIL Annual Meeting\",\"marker\":{\"color\":\"#FFA15A\",\"pattern\":{\"shape\":\"\"}},\"name\":\"Proceedings of the ASIL Annual Meeting\",\"offsetgroup\":\"Proceedings of the ASIL Annual Meeting\",\"orientation\":\"v\",\"showlegend\":true,\"textposition\":\"auto\",\"type\":\"bar\",\"x\":[2018],\"xaxis\":\"x\",\"y\":[1],\"yaxis\":\"y\"},{\"alignmentgroup\":\"True\",\"hovertemplate\":\"journal.title=Ramus<br>year=%{x}<br>size=%{y}<extra></extra>\",\"legendgroup\":\"Ramus\",\"marker\":{\"color\":\"#19d3f3\",\"pattern\":{\"shape\":\"\"}},\"name\":\"Ramus\",\"offsetgroup\":\"Ramus\",\"orientation\":\"v\",\"showlegend\":true,\"textposition\":\"auto\",\"type\":\"bar\",\"x\":[2018],\"xaxis\":\"x\",\"y\":[1],\"yaxis\":\"y\"},{\"alignmentgroup\":\"True\",\"hovertemplate\":\"journal.title=Bilingualism Language and Cognition<br>year=%{x}<br>size=%{y}<extra></extra>\",\"legendgroup\":\"Bilingualism Language and Cognition\",\"marker\":{\"color\":\"#FF6692\",\"pattern\":{\"shape\":\"\"}},\"name\":\"Bilingualism Language and Cognition\",\"offsetgroup\":\"Bilingualism Language and Cognition\",\"orientation\":\"v\",\"showlegend\":true,\"textposition\":\"auto\",\"type\":\"bar\",\"x\":[2020],\"xaxis\":\"x\",\"y\":[1],\"yaxis\":\"y\"},{\"alignmentgroup\":\"True\",\"hovertemplate\":\"journal.title=Invasive Plant Science and Management<br>year=%{x}<br>size=%{y}<extra></extra>\",\"legendgroup\":\"Invasive Plant Science and Management\",\"marker\":{\"color\":\"#B6E880\",\"pattern\":{\"shape\":\"\"}},\"name\":\"Invasive Plant Science and Management\",\"offsetgroup\":\"Invasive Plant Science and Management\",\"orientation\":\"v\",\"showlegend\":true,\"textposition\":\"auto\",\"type\":\"bar\",\"x\":[2020],\"xaxis\":\"x\",\"y\":[1],\"yaxis\":\"y\"},{\"alignmentgroup\":\"True\",\"hovertemplate\":\"journal.title=Review of International Studies<br>year=%{x}<br>size=%{y}<extra></extra>\",\"legendgroup\":\"Review of International Studies\",\"marker\":{\"color\":\"#FF97FF\",\"pattern\":{\"shape\":\"\"}},\"name\":\"Review of International Studies\",\"offsetgroup\":\"Review of International Studies\",\"orientation\":\"v\",\"showlegend\":true,\"textposition\":\"auto\",\"type\":\"bar\",\"x\":[2020],\"xaxis\":\"x\",\"y\":[1],\"yaxis\":\"y\"},{\"alignmentgroup\":\"True\",\"hovertemplate\":\"journal.title=Africa<br>year=%{x}<br>size=%{y}<extra></extra>\",\"legendgroup\":\"Africa\",\"marker\":{\"color\":\"#FECB52\",\"pattern\":{\"shape\":\"\"}},\"name\":\"Africa\",\"offsetgroup\":\"Africa\",\"orientation\":\"v\",\"showlegend\":true,\"textposition\":\"auto\",\"type\":\"bar\",\"x\":[2021],\"xaxis\":\"x\",\"y\":[1],\"yaxis\":\"y\"},{\"alignmentgroup\":\"True\",\"hovertemplate\":\"journal.title=Journal of the American Philosophical Association<br>year=%{x}<br>size=%{y}<extra></extra>\",\"legendgroup\":\"Journal of the American Philosophical Association\",\"marker\":{\"color\":\"#636efa\",\"pattern\":{\"shape\":\"\"}},\"name\":\"Journal of the American Philosophical Association\",\"offsetgroup\":\"Journal of the American Philosophical Association\",\"orientation\":\"v\",\"showlegend\":true,\"textposition\":\"auto\",\"type\":\"bar\",\"x\":[2021],\"xaxis\":\"x\",\"y\":[1],\"yaxis\":\"y\"}],                        {\"barmode\":\"relative\",\"legend\":{\"title\":{\"text\":\"journal.title\"},\"tracegroupgap\":0},\"showlegend\":false,\"template\":{\"data\":{\"bar\":[{\"error_x\":{\"color\":\"#2a3f5f\"},\"error_y\":{\"color\":\"#2a3f5f\"},\"marker\":{\"line\":{\"color\":\"#E5ECF6\",\"width\":0.5},\"pattern\":{\"fillmode\":\"overlay\",\"size\":10,\"solidity\":0.2}},\"type\":\"bar\"}],\"barpolar\":[{\"marker\":{\"line\":{\"color\":\"#E5ECF6\",\"width\":0.5},\"pattern\":{\"fillmode\":\"overlay\",\"size\":10,\"solidity\":0.2}},\"type\":\"barpolar\"}],\"carpet\":[{\"aaxis\":{\"endlinecolor\":\"#2a3f5f\",\"gridcolor\":\"white\",\"linecolor\":\"white\",\"minorgridcolor\":\"white\",\"startlinecolor\":\"#2a3f5f\"},\"baxis\":{\"endlinecolor\":\"#2a3f5f\",\"gridcolor\":\"white\",\"linecolor\":\"white\",\"minorgridcolor\":\"white\",\"startlinecolor\":\"#2a3f5f\"},\"type\":\"carpet\"}],\"choropleth\":[{\"colorbar\":{\"outlinewidth\":0,\"ticks\":\"\"},\"type\":\"choropleth\"}],\"contour\":[{\"colorbar\":{\"outlinewidth\":0,\"ticks\":\"\"},\"colorscale\":[[0.0,\"#0d0887\"],[0.1111111111111111,\"#46039f\"],[0.2222222222222222,\"#7201a8\"],[0.3333333333333333,\"#9c179e\"],[0.4444444444444444,\"#bd3786\"],[0.5555555555555556,\"#d8576b\"],[0.6666666666666666,\"#ed7953\"],[0.7777777777777778,\"#fb9f3a\"],[0.8888888888888888,\"#fdca26\"],[1.0,\"#f0f921\"]],\"type\":\"contour\"}],\"contourcarpet\":[{\"colorbar\":{\"outlinewidth\":0,\"ticks\":\"\"},\"type\":\"contourcarpet\"}],\"heatmap\":[{\"colorbar\":{\"outlinewidth\":0,\"ticks\":\"\"},\"colorscale\":[[0.0,\"#0d0887\"],[0.1111111111111111,\"#46039f\"],[0.2222222222222222,\"#7201a8\"],[0.3333333333333333,\"#9c179e\"],[0.4444444444444444,\"#bd3786\"],[0.5555555555555556,\"#d8576b\"],[0.6666666666666666,\"#ed7953\"],[0.7777777777777778,\"#fb9f3a\"],[0.8888888888888888,\"#fdca26\"],[1.0,\"#f0f921\"]],\"type\":\"heatmap\"}],\"heatmapgl\":[{\"colorbar\":{\"outlinewidth\":0,\"ticks\":\"\"},\"colorscale\":[[0.0,\"#0d0887\"],[0.1111111111111111,\"#46039f\"],[0.2222222222222222,\"#7201a8\"],[0.3333333333333333,\"#9c179e\"],[0.4444444444444444,\"#bd3786\"],[0.5555555555555556,\"#d8576b\"],[0.6666666666666666,\"#ed7953\"],[0.7777777777777778,\"#fb9f3a\"],[0.8888888888888888,\"#fdca26\"],[1.0,\"#f0f921\"]],\"type\":\"heatmapgl\"}],\"histogram\":[{\"marker\":{\"pattern\":{\"fillmode\":\"overlay\",\"size\":10,\"solidity\":0.2}},\"type\":\"histogram\"}],\"histogram2d\":[{\"colorbar\":{\"outlinewidth\":0,\"ticks\":\"\"},\"colorscale\":[[0.0,\"#0d0887\"],[0.1111111111111111,\"#46039f\"],[0.2222222222222222,\"#7201a8\"],[0.3333333333333333,\"#9c179e\"],[0.4444444444444444,\"#bd3786\"],[0.5555555555555556,\"#d8576b\"],[0.6666666666666666,\"#ed7953\"],[0.7777777777777778,\"#fb9f3a\"],[0.8888888888888888,\"#fdca26\"],[1.0,\"#f0f921\"]],\"type\":\"histogram2d\"}],\"histogram2dcontour\":[{\"colorbar\":{\"outlinewidth\":0,\"ticks\":\"\"},\"colorscale\":[[0.0,\"#0d0887\"],[0.1111111111111111,\"#46039f\"],[0.2222222222222222,\"#7201a8\"],[0.3333333333333333,\"#9c179e\"],[0.4444444444444444,\"#bd3786\"],[0.5555555555555556,\"#d8576b\"],[0.6666666666666666,\"#ed7953\"],[0.7777777777777778,\"#fb9f3a\"],[0.8888888888888888,\"#fdca26\"],[1.0,\"#f0f921\"]],\"type\":\"histogram2dcontour\"}],\"mesh3d\":[{\"colorbar\":{\"outlinewidth\":0,\"ticks\":\"\"},\"type\":\"mesh3d\"}],\"parcoords\":[{\"line\":{\"colorbar\":{\"outlinewidth\":0,\"ticks\":\"\"}},\"type\":\"parcoords\"}],\"pie\":[{\"automargin\":true,\"type\":\"pie\"}],\"scatter\":[{\"marker\":{\"colorbar\":{\"outlinewidth\":0,\"ticks\":\"\"}},\"type\":\"scatter\"}],\"scatter3d\":[{\"line\":{\"colorbar\":{\"outlinewidth\":0,\"ticks\":\"\"}},\"marker\":{\"colorbar\":{\"outlinewidth\":0,\"ticks\":\"\"}},\"type\":\"scatter3d\"}],\"scattercarpet\":[{\"marker\":{\"colorbar\":{\"outlinewidth\":0,\"ticks\":\"\"}},\"type\":\"scattercarpet\"}],\"scattergeo\":[{\"marker\":{\"colorbar\":{\"outlinewidth\":0,\"ticks\":\"\"}},\"type\":\"scattergeo\"}],\"scattergl\":[{\"marker\":{\"colorbar\":{\"outlinewidth\":0,\"ticks\":\"\"}},\"type\":\"scattergl\"}],\"scattermapbox\":[{\"marker\":{\"colorbar\":{\"outlinewidth\":0,\"ticks\":\"\"}},\"type\":\"scattermapbox\"}],\"scatterpolar\":[{\"marker\":{\"colorbar\":{\"outlinewidth\":0,\"ticks\":\"\"}},\"type\":\"scatterpolar\"}],\"scatterpolargl\":[{\"marker\":{\"colorbar\":{\"outlinewidth\":0,\"ticks\":\"\"}},\"type\":\"scatterpolargl\"}],\"scatterternary\":[{\"marker\":{\"colorbar\":{\"outlinewidth\":0,\"ticks\":\"\"}},\"type\":\"scatterternary\"}],\"surface\":[{\"colorbar\":{\"outlinewidth\":0,\"ticks\":\"\"},\"colorscale\":[[0.0,\"#0d0887\"],[0.1111111111111111,\"#46039f\"],[0.2222222222222222,\"#7201a8\"],[0.3333333333333333,\"#9c179e\"],[0.4444444444444444,\"#bd3786\"],[0.5555555555555556,\"#d8576b\"],[0.6666666666666666,\"#ed7953\"],[0.7777777777777778,\"#fb9f3a\"],[0.8888888888888888,\"#fdca26\"],[1.0,\"#f0f921\"]],\"type\":\"surface\"}],\"table\":[{\"cells\":{\"fill\":{\"color\":\"#EBF0F8\"},\"line\":{\"color\":\"white\"}},\"header\":{\"fill\":{\"color\":\"#C8D4E3\"},\"line\":{\"color\":\"white\"}},\"type\":\"table\"}]},\"layout\":{\"annotationdefaults\":{\"arrowcolor\":\"#2a3f5f\",\"arrowhead\":0,\"arrowwidth\":1},\"autotypenumbers\":\"strict\",\"coloraxis\":{\"colorbar\":{\"outlinewidth\":0,\"ticks\":\"\"}},\"colorscale\":{\"diverging\":[[0,\"#8e0152\"],[0.1,\"#c51b7d\"],[0.2,\"#de77ae\"],[0.3,\"#f1b6da\"],[0.4,\"#fde0ef\"],[0.5,\"#f7f7f7\"],[0.6,\"#e6f5d0\"],[0.7,\"#b8e186\"],[0.8,\"#7fbc41\"],[0.9,\"#4d9221\"],[1,\"#276419\"]],\"sequential\":[[0.0,\"#0d0887\"],[0.1111111111111111,\"#46039f\"],[0.2222222222222222,\"#7201a8\"],[0.3333333333333333,\"#9c179e\"],[0.4444444444444444,\"#bd3786\"],[0.5555555555555556,\"#d8576b\"],[0.6666666666666666,\"#ed7953\"],[0.7777777777777778,\"#fb9f3a\"],[0.8888888888888888,\"#fdca26\"],[1.0,\"#f0f921\"]],\"sequentialminus\":[[0.0,\"#0d0887\"],[0.1111111111111111,\"#46039f\"],[0.2222222222222222,\"#7201a8\"],[0.3333333333333333,\"#9c179e\"],[0.4444444444444444,\"#bd3786\"],[0.5555555555555556,\"#d8576b\"],[0.6666666666666666,\"#ed7953\"],[0.7777777777777778,\"#fb9f3a\"],[0.8888888888888888,\"#fdca26\"],[1.0,\"#f0f921\"]]},\"colorway\":[\"#636efa\",\"#EF553B\",\"#00cc96\",\"#ab63fa\",\"#FFA15A\",\"#19d3f3\",\"#FF6692\",\"#B6E880\",\"#FF97FF\",\"#FECB52\"],\"font\":{\"color\":\"#2a3f5f\"},\"geo\":{\"bgcolor\":\"white\",\"lakecolor\":\"white\",\"landcolor\":\"#E5ECF6\",\"showlakes\":true,\"showland\":true,\"subunitcolor\":\"white\"},\"hoverlabel\":{\"align\":\"left\"},\"hovermode\":\"closest\",\"mapbox\":{\"style\":\"light\"},\"paper_bgcolor\":\"white\",\"plot_bgcolor\":\"#E5ECF6\",\"polar\":{\"angularaxis\":{\"gridcolor\":\"white\",\"linecolor\":\"white\",\"ticks\":\"\"},\"bgcolor\":\"#E5ECF6\",\"radialaxis\":{\"gridcolor\":\"white\",\"linecolor\":\"white\",\"ticks\":\"\"}},\"scene\":{\"xaxis\":{\"backgroundcolor\":\"#E5ECF6\",\"gridcolor\":\"white\",\"gridwidth\":2,\"linecolor\":\"white\",\"showbackground\":true,\"ticks\":\"\",\"zerolinecolor\":\"white\"},\"yaxis\":{\"backgroundcolor\":\"#E5ECF6\",\"gridcolor\":\"white\",\"gridwidth\":2,\"linecolor\":\"white\",\"showbackground\":true,\"ticks\":\"\",\"zerolinecolor\":\"white\"},\"zaxis\":{\"backgroundcolor\":\"#E5ECF6\",\"gridcolor\":\"white\",\"gridwidth\":2,\"linecolor\":\"white\",\"showbackground\":true,\"ticks\":\"\",\"zerolinecolor\":\"white\"}},\"shapedefaults\":{\"line\":{\"color\":\"#2a3f5f\"}},\"ternary\":{\"aaxis\":{\"gridcolor\":\"white\",\"linecolor\":\"white\",\"ticks\":\"\"},\"baxis\":{\"gridcolor\":\"white\",\"linecolor\":\"white\",\"ticks\":\"\"},\"bgcolor\":\"#E5ECF6\",\"caxis\":{\"gridcolor\":\"white\",\"linecolor\":\"white\",\"ticks\":\"\"}},\"title\":{\"x\":0.05},\"xaxis\":{\"automargin\":true,\"gridcolor\":\"white\",\"linecolor\":\"white\",\"ticks\":\"\",\"title\":{\"standoff\":15},\"zerolinecolor\":\"white\",\"zerolinewidth\":2},\"yaxis\":{\"automargin\":true,\"gridcolor\":\"white\",\"linecolor\":\"white\",\"ticks\":\"\",\"title\":{\"standoff\":15},\"zerolinecolor\":\"white\",\"zerolinewidth\":2}}},\"title\":{\"text\":\"UC Publications in CUP Journals since 1990\"},\"xaxis\":{\"anchor\":\"y\",\"domain\":[0.0,1.0],\"title\":{\"text\":\"year\"}},\"yaxis\":{\"anchor\":\"x\",\"domain\":[0.0,1.0],\"title\":{\"text\":\"size\"}}},                        {\"responsive\": true}                    ).then(function(){\n",
       "                            \n",
       "var gd = document.getElementById('4817646f-d0c9-4391-b180-a928fd3e4419');\n",
       "var x = new MutationObserver(function (mutations, observer) {{\n",
       "        var display = window.getComputedStyle(gd).display;\n",
       "        if (!display || display === 'none') {{\n",
       "            console.log([gd, 'removed!']);\n",
       "            Plotly.purge(gd);\n",
       "            observer.disconnect();\n",
       "        }}\n",
       "}});\n",
       "\n",
       "// Listen for the removal of the full notebook cells\n",
       "var notebookContainer = gd.closest('#notebook-container');\n",
       "if (notebookContainer) {{\n",
       "    x.observe(notebookContainer, {childList: true});\n",
       "}}\n",
       "\n",
       "// Listen for the clearing of the current output cell\n",
       "var outputEl = gd.closest('.output');\n",
       "if (outputEl) {{\n",
       "    x.observe(outputEl, {childList: true});\n",
       "}}\n",
       "\n",
       "                        })                };                });            </script>        </div>"
      ]
     },
     "metadata": {},
     "output_type": "display_data"
    }
   ],
   "source": [
    "publications_per_year_and_journal = new_df2.groupby([\"year\",\"journal.title\"],as_index=False).size()\n",
    "fig_test2 = px.bar(publications_per_year_and_journal, x=\"year\", y=\"size\", color=\"journal.title\", title=\"UC Publications in CUP Journals since 1990\")\n",
    "\n",
    "fig_test2.update_layout(showlegend=False)\n",
    "fig_test2.show()"
   ]
  },
  {
   "cell_type": "markdown",
   "metadata": {},
   "source": [
    "## Run the below box to see the number of publications per year colored by OA type. Includes closed publications\n",
    "Hover over the colored stacks to see the number of type of publication (OA type or closed) per year. You can select ranges by dragging over an area. Double click to go back to default view. "
   ]
  },
  {
   "cell_type": "code",
   "execution_count": 35,
   "metadata": {},
   "outputs": [
    {
     "data": {
      "application/vnd.plotly.v1+json": {
       "config": {
        "plotlyServerURL": "https://plot.ly"
       },
       "data": [
        {
         "alignmentgroup": "True",
         "hovertemplate": "oa_status=bronze<br>year=%{x}<br>size=%{y}<extra></extra>",
         "legendgroup": "bronze",
         "marker": {
          "color": "#636efa",
          "pattern": {
           "shape": ""
          }
         },
         "name": "bronze",
         "offsetgroup": "bronze",
         "orientation": "v",
         "showlegend": true,
         "textposition": "auto",
         "type": "bar",
         "x": [
          1990,
          1992,
          1993,
          1994,
          1995,
          1996,
          1998,
          2000,
          2004,
          2005,
          2007,
          2008,
          2009,
          2010,
          2012,
          2013,
          2014,
          2015,
          2016,
          2017,
          2018,
          2019,
          2020,
          2021
         ],
         "xaxis": "x",
         "y": [
          1,
          1,
          1,
          1,
          3,
          2,
          1,
          3,
          1,
          3,
          1,
          1,
          4,
          1,
          4,
          1,
          2,
          3,
          3,
          4,
          2,
          2,
          4,
          2
         ],
         "yaxis": "y"
        },
        {
         "alignmentgroup": "True",
         "hovertemplate": "oa_status=closed<br>year=%{x}<br>size=%{y}<extra></extra>",
         "legendgroup": "closed",
         "marker": {
          "color": "#EF553B",
          "pattern": {
           "shape": ""
          }
         },
         "name": "closed",
         "offsetgroup": "closed",
         "orientation": "v",
         "showlegend": true,
         "textposition": "auto",
         "type": "bar",
         "x": [
          1990,
          1991,
          1992,
          1993,
          1994,
          1995,
          1996,
          1997,
          1998,
          1999,
          2000,
          2001,
          2002,
          2003,
          2004,
          2005,
          2006,
          2007,
          2008,
          2009,
          2010,
          2011,
          2012,
          2013,
          2014,
          2015,
          2016,
          2017,
          2018,
          2019,
          2020,
          2021
         ],
         "xaxis": "x",
         "y": [
          2,
          2,
          5,
          4,
          1,
          4,
          5,
          4,
          4,
          5,
          7,
          4,
          1,
          9,
          9,
          7,
          5,
          6,
          6,
          12,
          6,
          12,
          11,
          9,
          8,
          11,
          15,
          7,
          11,
          9,
          27,
          22
         ],
         "yaxis": "y"
        },
        {
         "alignmentgroup": "True",
         "hovertemplate": "oa_status=green<br>year=%{x}<br>size=%{y}<extra></extra>",
         "legendgroup": "green",
         "marker": {
          "color": "#00cc96",
          "pattern": {
           "shape": ""
          }
         },
         "name": "green",
         "offsetgroup": "green",
         "orientation": "v",
         "showlegend": true,
         "textposition": "auto",
         "type": "bar",
         "x": [
          1995,
          2004,
          2005,
          2006,
          2008,
          2009,
          2010,
          2011,
          2012,
          2013,
          2014,
          2015,
          2016,
          2018,
          2019,
          2021
         ],
         "xaxis": "x",
         "y": [
          1,
          1,
          1,
          1,
          1,
          4,
          1,
          2,
          4,
          2,
          1,
          2,
          3,
          2,
          1,
          2
         ],
         "yaxis": "y"
        },
        {
         "alignmentgroup": "True",
         "hovertemplate": "oa_status=gold<br>year=%{x}<br>size=%{y}<extra></extra>",
         "legendgroup": "gold",
         "marker": {
          "color": "#ab63fa",
          "pattern": {
           "shape": ""
          }
         },
         "name": "gold",
         "offsetgroup": "gold",
         "orientation": "v",
         "showlegend": true,
         "textposition": "auto",
         "type": "bar",
         "x": [
          1996,
          2004,
          2017,
          2018,
          2019,
          2020,
          2021
         ],
         "xaxis": "x",
         "y": [
          1,
          1,
          2,
          1,
          2,
          3,
          1
         ],
         "yaxis": "y"
        },
        {
         "alignmentgroup": "True",
         "hovertemplate": "oa_status=hybrid<br>year=%{x}<br>size=%{y}<extra></extra>",
         "legendgroup": "hybrid",
         "marker": {
          "color": "#FFA15A",
          "pattern": {
           "shape": ""
          }
         },
         "name": "hybrid",
         "offsetgroup": "hybrid",
         "orientation": "v",
         "showlegend": true,
         "textposition": "auto",
         "type": "bar",
         "x": [
          2019,
          2020,
          2021
         ],
         "xaxis": "x",
         "y": [
          2,
          3,
          3
         ],
         "yaxis": "y"
        }
       ],
       "layout": {
        "barmode": "relative",
        "legend": {
         "title": {
          "text": "oa_status"
         },
         "tracegroupgap": 0
        },
        "template": {
         "data": {
          "bar": [
           {
            "error_x": {
             "color": "#2a3f5f"
            },
            "error_y": {
             "color": "#2a3f5f"
            },
            "marker": {
             "line": {
              "color": "#E5ECF6",
              "width": 0.5
             },
             "pattern": {
              "fillmode": "overlay",
              "size": 10,
              "solidity": 0.2
             }
            },
            "type": "bar"
           }
          ],
          "barpolar": [
           {
            "marker": {
             "line": {
              "color": "#E5ECF6",
              "width": 0.5
             },
             "pattern": {
              "fillmode": "overlay",
              "size": 10,
              "solidity": 0.2
             }
            },
            "type": "barpolar"
           }
          ],
          "carpet": [
           {
            "aaxis": {
             "endlinecolor": "#2a3f5f",
             "gridcolor": "white",
             "linecolor": "white",
             "minorgridcolor": "white",
             "startlinecolor": "#2a3f5f"
            },
            "baxis": {
             "endlinecolor": "#2a3f5f",
             "gridcolor": "white",
             "linecolor": "white",
             "minorgridcolor": "white",
             "startlinecolor": "#2a3f5f"
            },
            "type": "carpet"
           }
          ],
          "choropleth": [
           {
            "colorbar": {
             "outlinewidth": 0,
             "ticks": ""
            },
            "type": "choropleth"
           }
          ],
          "contour": [
           {
            "colorbar": {
             "outlinewidth": 0,
             "ticks": ""
            },
            "colorscale": [
             [
              0,
              "#0d0887"
             ],
             [
              0.1111111111111111,
              "#46039f"
             ],
             [
              0.2222222222222222,
              "#7201a8"
             ],
             [
              0.3333333333333333,
              "#9c179e"
             ],
             [
              0.4444444444444444,
              "#bd3786"
             ],
             [
              0.5555555555555556,
              "#d8576b"
             ],
             [
              0.6666666666666666,
              "#ed7953"
             ],
             [
              0.7777777777777778,
              "#fb9f3a"
             ],
             [
              0.8888888888888888,
              "#fdca26"
             ],
             [
              1,
              "#f0f921"
             ]
            ],
            "type": "contour"
           }
          ],
          "contourcarpet": [
           {
            "colorbar": {
             "outlinewidth": 0,
             "ticks": ""
            },
            "type": "contourcarpet"
           }
          ],
          "heatmap": [
           {
            "colorbar": {
             "outlinewidth": 0,
             "ticks": ""
            },
            "colorscale": [
             [
              0,
              "#0d0887"
             ],
             [
              0.1111111111111111,
              "#46039f"
             ],
             [
              0.2222222222222222,
              "#7201a8"
             ],
             [
              0.3333333333333333,
              "#9c179e"
             ],
             [
              0.4444444444444444,
              "#bd3786"
             ],
             [
              0.5555555555555556,
              "#d8576b"
             ],
             [
              0.6666666666666666,
              "#ed7953"
             ],
             [
              0.7777777777777778,
              "#fb9f3a"
             ],
             [
              0.8888888888888888,
              "#fdca26"
             ],
             [
              1,
              "#f0f921"
             ]
            ],
            "type": "heatmap"
           }
          ],
          "heatmapgl": [
           {
            "colorbar": {
             "outlinewidth": 0,
             "ticks": ""
            },
            "colorscale": [
             [
              0,
              "#0d0887"
             ],
             [
              0.1111111111111111,
              "#46039f"
             ],
             [
              0.2222222222222222,
              "#7201a8"
             ],
             [
              0.3333333333333333,
              "#9c179e"
             ],
             [
              0.4444444444444444,
              "#bd3786"
             ],
             [
              0.5555555555555556,
              "#d8576b"
             ],
             [
              0.6666666666666666,
              "#ed7953"
             ],
             [
              0.7777777777777778,
              "#fb9f3a"
             ],
             [
              0.8888888888888888,
              "#fdca26"
             ],
             [
              1,
              "#f0f921"
             ]
            ],
            "type": "heatmapgl"
           }
          ],
          "histogram": [
           {
            "marker": {
             "pattern": {
              "fillmode": "overlay",
              "size": 10,
              "solidity": 0.2
             }
            },
            "type": "histogram"
           }
          ],
          "histogram2d": [
           {
            "colorbar": {
             "outlinewidth": 0,
             "ticks": ""
            },
            "colorscale": [
             [
              0,
              "#0d0887"
             ],
             [
              0.1111111111111111,
              "#46039f"
             ],
             [
              0.2222222222222222,
              "#7201a8"
             ],
             [
              0.3333333333333333,
              "#9c179e"
             ],
             [
              0.4444444444444444,
              "#bd3786"
             ],
             [
              0.5555555555555556,
              "#d8576b"
             ],
             [
              0.6666666666666666,
              "#ed7953"
             ],
             [
              0.7777777777777778,
              "#fb9f3a"
             ],
             [
              0.8888888888888888,
              "#fdca26"
             ],
             [
              1,
              "#f0f921"
             ]
            ],
            "type": "histogram2d"
           }
          ],
          "histogram2dcontour": [
           {
            "colorbar": {
             "outlinewidth": 0,
             "ticks": ""
            },
            "colorscale": [
             [
              0,
              "#0d0887"
             ],
             [
              0.1111111111111111,
              "#46039f"
             ],
             [
              0.2222222222222222,
              "#7201a8"
             ],
             [
              0.3333333333333333,
              "#9c179e"
             ],
             [
              0.4444444444444444,
              "#bd3786"
             ],
             [
              0.5555555555555556,
              "#d8576b"
             ],
             [
              0.6666666666666666,
              "#ed7953"
             ],
             [
              0.7777777777777778,
              "#fb9f3a"
             ],
             [
              0.8888888888888888,
              "#fdca26"
             ],
             [
              1,
              "#f0f921"
             ]
            ],
            "type": "histogram2dcontour"
           }
          ],
          "mesh3d": [
           {
            "colorbar": {
             "outlinewidth": 0,
             "ticks": ""
            },
            "type": "mesh3d"
           }
          ],
          "parcoords": [
           {
            "line": {
             "colorbar": {
              "outlinewidth": 0,
              "ticks": ""
             }
            },
            "type": "parcoords"
           }
          ],
          "pie": [
           {
            "automargin": true,
            "type": "pie"
           }
          ],
          "scatter": [
           {
            "marker": {
             "colorbar": {
              "outlinewidth": 0,
              "ticks": ""
             }
            },
            "type": "scatter"
           }
          ],
          "scatter3d": [
           {
            "line": {
             "colorbar": {
              "outlinewidth": 0,
              "ticks": ""
             }
            },
            "marker": {
             "colorbar": {
              "outlinewidth": 0,
              "ticks": ""
             }
            },
            "type": "scatter3d"
           }
          ],
          "scattercarpet": [
           {
            "marker": {
             "colorbar": {
              "outlinewidth": 0,
              "ticks": ""
             }
            },
            "type": "scattercarpet"
           }
          ],
          "scattergeo": [
           {
            "marker": {
             "colorbar": {
              "outlinewidth": 0,
              "ticks": ""
             }
            },
            "type": "scattergeo"
           }
          ],
          "scattergl": [
           {
            "marker": {
             "colorbar": {
              "outlinewidth": 0,
              "ticks": ""
             }
            },
            "type": "scattergl"
           }
          ],
          "scattermapbox": [
           {
            "marker": {
             "colorbar": {
              "outlinewidth": 0,
              "ticks": ""
             }
            },
            "type": "scattermapbox"
           }
          ],
          "scatterpolar": [
           {
            "marker": {
             "colorbar": {
              "outlinewidth": 0,
              "ticks": ""
             }
            },
            "type": "scatterpolar"
           }
          ],
          "scatterpolargl": [
           {
            "marker": {
             "colorbar": {
              "outlinewidth": 0,
              "ticks": ""
             }
            },
            "type": "scatterpolargl"
           }
          ],
          "scatterternary": [
           {
            "marker": {
             "colorbar": {
              "outlinewidth": 0,
              "ticks": ""
             }
            },
            "type": "scatterternary"
           }
          ],
          "surface": [
           {
            "colorbar": {
             "outlinewidth": 0,
             "ticks": ""
            },
            "colorscale": [
             [
              0,
              "#0d0887"
             ],
             [
              0.1111111111111111,
              "#46039f"
             ],
             [
              0.2222222222222222,
              "#7201a8"
             ],
             [
              0.3333333333333333,
              "#9c179e"
             ],
             [
              0.4444444444444444,
              "#bd3786"
             ],
             [
              0.5555555555555556,
              "#d8576b"
             ],
             [
              0.6666666666666666,
              "#ed7953"
             ],
             [
              0.7777777777777778,
              "#fb9f3a"
             ],
             [
              0.8888888888888888,
              "#fdca26"
             ],
             [
              1,
              "#f0f921"
             ]
            ],
            "type": "surface"
           }
          ],
          "table": [
           {
            "cells": {
             "fill": {
              "color": "#EBF0F8"
             },
             "line": {
              "color": "white"
             }
            },
            "header": {
             "fill": {
              "color": "#C8D4E3"
             },
             "line": {
              "color": "white"
             }
            },
            "type": "table"
           }
          ]
         },
         "layout": {
          "annotationdefaults": {
           "arrowcolor": "#2a3f5f",
           "arrowhead": 0,
           "arrowwidth": 1
          },
          "autotypenumbers": "strict",
          "coloraxis": {
           "colorbar": {
            "outlinewidth": 0,
            "ticks": ""
           }
          },
          "colorscale": {
           "diverging": [
            [
             0,
             "#8e0152"
            ],
            [
             0.1,
             "#c51b7d"
            ],
            [
             0.2,
             "#de77ae"
            ],
            [
             0.3,
             "#f1b6da"
            ],
            [
             0.4,
             "#fde0ef"
            ],
            [
             0.5,
             "#f7f7f7"
            ],
            [
             0.6,
             "#e6f5d0"
            ],
            [
             0.7,
             "#b8e186"
            ],
            [
             0.8,
             "#7fbc41"
            ],
            [
             0.9,
             "#4d9221"
            ],
            [
             1,
             "#276419"
            ]
           ],
           "sequential": [
            [
             0,
             "#0d0887"
            ],
            [
             0.1111111111111111,
             "#46039f"
            ],
            [
             0.2222222222222222,
             "#7201a8"
            ],
            [
             0.3333333333333333,
             "#9c179e"
            ],
            [
             0.4444444444444444,
             "#bd3786"
            ],
            [
             0.5555555555555556,
             "#d8576b"
            ],
            [
             0.6666666666666666,
             "#ed7953"
            ],
            [
             0.7777777777777778,
             "#fb9f3a"
            ],
            [
             0.8888888888888888,
             "#fdca26"
            ],
            [
             1,
             "#f0f921"
            ]
           ],
           "sequentialminus": [
            [
             0,
             "#0d0887"
            ],
            [
             0.1111111111111111,
             "#46039f"
            ],
            [
             0.2222222222222222,
             "#7201a8"
            ],
            [
             0.3333333333333333,
             "#9c179e"
            ],
            [
             0.4444444444444444,
             "#bd3786"
            ],
            [
             0.5555555555555556,
             "#d8576b"
            ],
            [
             0.6666666666666666,
             "#ed7953"
            ],
            [
             0.7777777777777778,
             "#fb9f3a"
            ],
            [
             0.8888888888888888,
             "#fdca26"
            ],
            [
             1,
             "#f0f921"
            ]
           ]
          },
          "colorway": [
           "#636efa",
           "#EF553B",
           "#00cc96",
           "#ab63fa",
           "#FFA15A",
           "#19d3f3",
           "#FF6692",
           "#B6E880",
           "#FF97FF",
           "#FECB52"
          ],
          "font": {
           "color": "#2a3f5f"
          },
          "geo": {
           "bgcolor": "white",
           "lakecolor": "white",
           "landcolor": "#E5ECF6",
           "showlakes": true,
           "showland": true,
           "subunitcolor": "white"
          },
          "hoverlabel": {
           "align": "left"
          },
          "hovermode": "closest",
          "mapbox": {
           "style": "light"
          },
          "paper_bgcolor": "white",
          "plot_bgcolor": "#E5ECF6",
          "polar": {
           "angularaxis": {
            "gridcolor": "white",
            "linecolor": "white",
            "ticks": ""
           },
           "bgcolor": "#E5ECF6",
           "radialaxis": {
            "gridcolor": "white",
            "linecolor": "white",
            "ticks": ""
           }
          },
          "scene": {
           "xaxis": {
            "backgroundcolor": "#E5ECF6",
            "gridcolor": "white",
            "gridwidth": 2,
            "linecolor": "white",
            "showbackground": true,
            "ticks": "",
            "zerolinecolor": "white"
           },
           "yaxis": {
            "backgroundcolor": "#E5ECF6",
            "gridcolor": "white",
            "gridwidth": 2,
            "linecolor": "white",
            "showbackground": true,
            "ticks": "",
            "zerolinecolor": "white"
           },
           "zaxis": {
            "backgroundcolor": "#E5ECF6",
            "gridcolor": "white",
            "gridwidth": 2,
            "linecolor": "white",
            "showbackground": true,
            "ticks": "",
            "zerolinecolor": "white"
           }
          },
          "shapedefaults": {
           "line": {
            "color": "#2a3f5f"
           }
          },
          "ternary": {
           "aaxis": {
            "gridcolor": "white",
            "linecolor": "white",
            "ticks": ""
           },
           "baxis": {
            "gridcolor": "white",
            "linecolor": "white",
            "ticks": ""
           },
           "bgcolor": "#E5ECF6",
           "caxis": {
            "gridcolor": "white",
            "linecolor": "white",
            "ticks": ""
           }
          },
          "title": {
           "x": 0.05
          },
          "xaxis": {
           "automargin": true,
           "gridcolor": "white",
           "linecolor": "white",
           "ticks": "",
           "title": {
            "standoff": 15
           },
           "zerolinecolor": "white",
           "zerolinewidth": 2
          },
          "yaxis": {
           "automargin": true,
           "gridcolor": "white",
           "linecolor": "white",
           "ticks": "",
           "title": {
            "standoff": 15
           },
           "zerolinecolor": "white",
           "zerolinewidth": 2
          }
         }
        },
        "title": {
         "text": "UC Publications in CUP: Publication Type per Year"
        },
        "xaxis": {
         "anchor": "y",
         "domain": [
          0,
          1
         ],
         "title": {
          "text": "year"
         }
        },
        "yaxis": {
         "anchor": "x",
         "domain": [
          0,
          1
         ],
         "title": {
          "text": "size"
         }
        }
       }
      },
      "text/html": [
       "<div>                            <div id=\"cdbfecd0-13a7-44c1-88b9-f99139ada507\" class=\"plotly-graph-div\" style=\"height:525px; width:100%;\"></div>            <script type=\"text/javascript\">                require([\"plotly\"], function(Plotly) {                    window.PLOTLYENV=window.PLOTLYENV || {};                                    if (document.getElementById(\"cdbfecd0-13a7-44c1-88b9-f99139ada507\")) {                    Plotly.newPlot(                        \"cdbfecd0-13a7-44c1-88b9-f99139ada507\",                        [{\"alignmentgroup\":\"True\",\"hovertemplate\":\"oa_status=bronze<br>year=%{x}<br>size=%{y}<extra></extra>\",\"legendgroup\":\"bronze\",\"marker\":{\"color\":\"#636efa\",\"pattern\":{\"shape\":\"\"}},\"name\":\"bronze\",\"offsetgroup\":\"bronze\",\"orientation\":\"v\",\"showlegend\":true,\"textposition\":\"auto\",\"type\":\"bar\",\"x\":[1990,1992,1993,1994,1995,1996,1998,2000,2004,2005,2007,2008,2009,2010,2012,2013,2014,2015,2016,2017,2018,2019,2020,2021],\"xaxis\":\"x\",\"y\":[1,1,1,1,3,2,1,3,1,3,1,1,4,1,4,1,2,3,3,4,2,2,4,2],\"yaxis\":\"y\"},{\"alignmentgroup\":\"True\",\"hovertemplate\":\"oa_status=closed<br>year=%{x}<br>size=%{y}<extra></extra>\",\"legendgroup\":\"closed\",\"marker\":{\"color\":\"#EF553B\",\"pattern\":{\"shape\":\"\"}},\"name\":\"closed\",\"offsetgroup\":\"closed\",\"orientation\":\"v\",\"showlegend\":true,\"textposition\":\"auto\",\"type\":\"bar\",\"x\":[1990,1991,1992,1993,1994,1995,1996,1997,1998,1999,2000,2001,2002,2003,2004,2005,2006,2007,2008,2009,2010,2011,2012,2013,2014,2015,2016,2017,2018,2019,2020,2021],\"xaxis\":\"x\",\"y\":[2,2,5,4,1,4,5,4,4,5,7,4,1,9,9,7,5,6,6,12,6,12,11,9,8,11,15,7,11,9,27,22],\"yaxis\":\"y\"},{\"alignmentgroup\":\"True\",\"hovertemplate\":\"oa_status=green<br>year=%{x}<br>size=%{y}<extra></extra>\",\"legendgroup\":\"green\",\"marker\":{\"color\":\"#00cc96\",\"pattern\":{\"shape\":\"\"}},\"name\":\"green\",\"offsetgroup\":\"green\",\"orientation\":\"v\",\"showlegend\":true,\"textposition\":\"auto\",\"type\":\"bar\",\"x\":[1995,2004,2005,2006,2008,2009,2010,2011,2012,2013,2014,2015,2016,2018,2019,2021],\"xaxis\":\"x\",\"y\":[1,1,1,1,1,4,1,2,4,2,1,2,3,2,1,2],\"yaxis\":\"y\"},{\"alignmentgroup\":\"True\",\"hovertemplate\":\"oa_status=gold<br>year=%{x}<br>size=%{y}<extra></extra>\",\"legendgroup\":\"gold\",\"marker\":{\"color\":\"#ab63fa\",\"pattern\":{\"shape\":\"\"}},\"name\":\"gold\",\"offsetgroup\":\"gold\",\"orientation\":\"v\",\"showlegend\":true,\"textposition\":\"auto\",\"type\":\"bar\",\"x\":[1996,2004,2017,2018,2019,2020,2021],\"xaxis\":\"x\",\"y\":[1,1,2,1,2,3,1],\"yaxis\":\"y\"},{\"alignmentgroup\":\"True\",\"hovertemplate\":\"oa_status=hybrid<br>year=%{x}<br>size=%{y}<extra></extra>\",\"legendgroup\":\"hybrid\",\"marker\":{\"color\":\"#FFA15A\",\"pattern\":{\"shape\":\"\"}},\"name\":\"hybrid\",\"offsetgroup\":\"hybrid\",\"orientation\":\"v\",\"showlegend\":true,\"textposition\":\"auto\",\"type\":\"bar\",\"x\":[2019,2020,2021],\"xaxis\":\"x\",\"y\":[2,3,3],\"yaxis\":\"y\"}],                        {\"barmode\":\"relative\",\"legend\":{\"title\":{\"text\":\"oa_status\"},\"tracegroupgap\":0},\"template\":{\"data\":{\"bar\":[{\"error_x\":{\"color\":\"#2a3f5f\"},\"error_y\":{\"color\":\"#2a3f5f\"},\"marker\":{\"line\":{\"color\":\"#E5ECF6\",\"width\":0.5},\"pattern\":{\"fillmode\":\"overlay\",\"size\":10,\"solidity\":0.2}},\"type\":\"bar\"}],\"barpolar\":[{\"marker\":{\"line\":{\"color\":\"#E5ECF6\",\"width\":0.5},\"pattern\":{\"fillmode\":\"overlay\",\"size\":10,\"solidity\":0.2}},\"type\":\"barpolar\"}],\"carpet\":[{\"aaxis\":{\"endlinecolor\":\"#2a3f5f\",\"gridcolor\":\"white\",\"linecolor\":\"white\",\"minorgridcolor\":\"white\",\"startlinecolor\":\"#2a3f5f\"},\"baxis\":{\"endlinecolor\":\"#2a3f5f\",\"gridcolor\":\"white\",\"linecolor\":\"white\",\"minorgridcolor\":\"white\",\"startlinecolor\":\"#2a3f5f\"},\"type\":\"carpet\"}],\"choropleth\":[{\"colorbar\":{\"outlinewidth\":0,\"ticks\":\"\"},\"type\":\"choropleth\"}],\"contour\":[{\"colorbar\":{\"outlinewidth\":0,\"ticks\":\"\"},\"colorscale\":[[0.0,\"#0d0887\"],[0.1111111111111111,\"#46039f\"],[0.2222222222222222,\"#7201a8\"],[0.3333333333333333,\"#9c179e\"],[0.4444444444444444,\"#bd3786\"],[0.5555555555555556,\"#d8576b\"],[0.6666666666666666,\"#ed7953\"],[0.7777777777777778,\"#fb9f3a\"],[0.8888888888888888,\"#fdca26\"],[1.0,\"#f0f921\"]],\"type\":\"contour\"}],\"contourcarpet\":[{\"colorbar\":{\"outlinewidth\":0,\"ticks\":\"\"},\"type\":\"contourcarpet\"}],\"heatmap\":[{\"colorbar\":{\"outlinewidth\":0,\"ticks\":\"\"},\"colorscale\":[[0.0,\"#0d0887\"],[0.1111111111111111,\"#46039f\"],[0.2222222222222222,\"#7201a8\"],[0.3333333333333333,\"#9c179e\"],[0.4444444444444444,\"#bd3786\"],[0.5555555555555556,\"#d8576b\"],[0.6666666666666666,\"#ed7953\"],[0.7777777777777778,\"#fb9f3a\"],[0.8888888888888888,\"#fdca26\"],[1.0,\"#f0f921\"]],\"type\":\"heatmap\"}],\"heatmapgl\":[{\"colorbar\":{\"outlinewidth\":0,\"ticks\":\"\"},\"colorscale\":[[0.0,\"#0d0887\"],[0.1111111111111111,\"#46039f\"],[0.2222222222222222,\"#7201a8\"],[0.3333333333333333,\"#9c179e\"],[0.4444444444444444,\"#bd3786\"],[0.5555555555555556,\"#d8576b\"],[0.6666666666666666,\"#ed7953\"],[0.7777777777777778,\"#fb9f3a\"],[0.8888888888888888,\"#fdca26\"],[1.0,\"#f0f921\"]],\"type\":\"heatmapgl\"}],\"histogram\":[{\"marker\":{\"pattern\":{\"fillmode\":\"overlay\",\"size\":10,\"solidity\":0.2}},\"type\":\"histogram\"}],\"histogram2d\":[{\"colorbar\":{\"outlinewidth\":0,\"ticks\":\"\"},\"colorscale\":[[0.0,\"#0d0887\"],[0.1111111111111111,\"#46039f\"],[0.2222222222222222,\"#7201a8\"],[0.3333333333333333,\"#9c179e\"],[0.4444444444444444,\"#bd3786\"],[0.5555555555555556,\"#d8576b\"],[0.6666666666666666,\"#ed7953\"],[0.7777777777777778,\"#fb9f3a\"],[0.8888888888888888,\"#fdca26\"],[1.0,\"#f0f921\"]],\"type\":\"histogram2d\"}],\"histogram2dcontour\":[{\"colorbar\":{\"outlinewidth\":0,\"ticks\":\"\"},\"colorscale\":[[0.0,\"#0d0887\"],[0.1111111111111111,\"#46039f\"],[0.2222222222222222,\"#7201a8\"],[0.3333333333333333,\"#9c179e\"],[0.4444444444444444,\"#bd3786\"],[0.5555555555555556,\"#d8576b\"],[0.6666666666666666,\"#ed7953\"],[0.7777777777777778,\"#fb9f3a\"],[0.8888888888888888,\"#fdca26\"],[1.0,\"#f0f921\"]],\"type\":\"histogram2dcontour\"}],\"mesh3d\":[{\"colorbar\":{\"outlinewidth\":0,\"ticks\":\"\"},\"type\":\"mesh3d\"}],\"parcoords\":[{\"line\":{\"colorbar\":{\"outlinewidth\":0,\"ticks\":\"\"}},\"type\":\"parcoords\"}],\"pie\":[{\"automargin\":true,\"type\":\"pie\"}],\"scatter\":[{\"marker\":{\"colorbar\":{\"outlinewidth\":0,\"ticks\":\"\"}},\"type\":\"scatter\"}],\"scatter3d\":[{\"line\":{\"colorbar\":{\"outlinewidth\":0,\"ticks\":\"\"}},\"marker\":{\"colorbar\":{\"outlinewidth\":0,\"ticks\":\"\"}},\"type\":\"scatter3d\"}],\"scattercarpet\":[{\"marker\":{\"colorbar\":{\"outlinewidth\":0,\"ticks\":\"\"}},\"type\":\"scattercarpet\"}],\"scattergeo\":[{\"marker\":{\"colorbar\":{\"outlinewidth\":0,\"ticks\":\"\"}},\"type\":\"scattergeo\"}],\"scattergl\":[{\"marker\":{\"colorbar\":{\"outlinewidth\":0,\"ticks\":\"\"}},\"type\":\"scattergl\"}],\"scattermapbox\":[{\"marker\":{\"colorbar\":{\"outlinewidth\":0,\"ticks\":\"\"}},\"type\":\"scattermapbox\"}],\"scatterpolar\":[{\"marker\":{\"colorbar\":{\"outlinewidth\":0,\"ticks\":\"\"}},\"type\":\"scatterpolar\"}],\"scatterpolargl\":[{\"marker\":{\"colorbar\":{\"outlinewidth\":0,\"ticks\":\"\"}},\"type\":\"scatterpolargl\"}],\"scatterternary\":[{\"marker\":{\"colorbar\":{\"outlinewidth\":0,\"ticks\":\"\"}},\"type\":\"scatterternary\"}],\"surface\":[{\"colorbar\":{\"outlinewidth\":0,\"ticks\":\"\"},\"colorscale\":[[0.0,\"#0d0887\"],[0.1111111111111111,\"#46039f\"],[0.2222222222222222,\"#7201a8\"],[0.3333333333333333,\"#9c179e\"],[0.4444444444444444,\"#bd3786\"],[0.5555555555555556,\"#d8576b\"],[0.6666666666666666,\"#ed7953\"],[0.7777777777777778,\"#fb9f3a\"],[0.8888888888888888,\"#fdca26\"],[1.0,\"#f0f921\"]],\"type\":\"surface\"}],\"table\":[{\"cells\":{\"fill\":{\"color\":\"#EBF0F8\"},\"line\":{\"color\":\"white\"}},\"header\":{\"fill\":{\"color\":\"#C8D4E3\"},\"line\":{\"color\":\"white\"}},\"type\":\"table\"}]},\"layout\":{\"annotationdefaults\":{\"arrowcolor\":\"#2a3f5f\",\"arrowhead\":0,\"arrowwidth\":1},\"autotypenumbers\":\"strict\",\"coloraxis\":{\"colorbar\":{\"outlinewidth\":0,\"ticks\":\"\"}},\"colorscale\":{\"diverging\":[[0,\"#8e0152\"],[0.1,\"#c51b7d\"],[0.2,\"#de77ae\"],[0.3,\"#f1b6da\"],[0.4,\"#fde0ef\"],[0.5,\"#f7f7f7\"],[0.6,\"#e6f5d0\"],[0.7,\"#b8e186\"],[0.8,\"#7fbc41\"],[0.9,\"#4d9221\"],[1,\"#276419\"]],\"sequential\":[[0.0,\"#0d0887\"],[0.1111111111111111,\"#46039f\"],[0.2222222222222222,\"#7201a8\"],[0.3333333333333333,\"#9c179e\"],[0.4444444444444444,\"#bd3786\"],[0.5555555555555556,\"#d8576b\"],[0.6666666666666666,\"#ed7953\"],[0.7777777777777778,\"#fb9f3a\"],[0.8888888888888888,\"#fdca26\"],[1.0,\"#f0f921\"]],\"sequentialminus\":[[0.0,\"#0d0887\"],[0.1111111111111111,\"#46039f\"],[0.2222222222222222,\"#7201a8\"],[0.3333333333333333,\"#9c179e\"],[0.4444444444444444,\"#bd3786\"],[0.5555555555555556,\"#d8576b\"],[0.6666666666666666,\"#ed7953\"],[0.7777777777777778,\"#fb9f3a\"],[0.8888888888888888,\"#fdca26\"],[1.0,\"#f0f921\"]]},\"colorway\":[\"#636efa\",\"#EF553B\",\"#00cc96\",\"#ab63fa\",\"#FFA15A\",\"#19d3f3\",\"#FF6692\",\"#B6E880\",\"#FF97FF\",\"#FECB52\"],\"font\":{\"color\":\"#2a3f5f\"},\"geo\":{\"bgcolor\":\"white\",\"lakecolor\":\"white\",\"landcolor\":\"#E5ECF6\",\"showlakes\":true,\"showland\":true,\"subunitcolor\":\"white\"},\"hoverlabel\":{\"align\":\"left\"},\"hovermode\":\"closest\",\"mapbox\":{\"style\":\"light\"},\"paper_bgcolor\":\"white\",\"plot_bgcolor\":\"#E5ECF6\",\"polar\":{\"angularaxis\":{\"gridcolor\":\"white\",\"linecolor\":\"white\",\"ticks\":\"\"},\"bgcolor\":\"#E5ECF6\",\"radialaxis\":{\"gridcolor\":\"white\",\"linecolor\":\"white\",\"ticks\":\"\"}},\"scene\":{\"xaxis\":{\"backgroundcolor\":\"#E5ECF6\",\"gridcolor\":\"white\",\"gridwidth\":2,\"linecolor\":\"white\",\"showbackground\":true,\"ticks\":\"\",\"zerolinecolor\":\"white\"},\"yaxis\":{\"backgroundcolor\":\"#E5ECF6\",\"gridcolor\":\"white\",\"gridwidth\":2,\"linecolor\":\"white\",\"showbackground\":true,\"ticks\":\"\",\"zerolinecolor\":\"white\"},\"zaxis\":{\"backgroundcolor\":\"#E5ECF6\",\"gridcolor\":\"white\",\"gridwidth\":2,\"linecolor\":\"white\",\"showbackground\":true,\"ticks\":\"\",\"zerolinecolor\":\"white\"}},\"shapedefaults\":{\"line\":{\"color\":\"#2a3f5f\"}},\"ternary\":{\"aaxis\":{\"gridcolor\":\"white\",\"linecolor\":\"white\",\"ticks\":\"\"},\"baxis\":{\"gridcolor\":\"white\",\"linecolor\":\"white\",\"ticks\":\"\"},\"bgcolor\":\"#E5ECF6\",\"caxis\":{\"gridcolor\":\"white\",\"linecolor\":\"white\",\"ticks\":\"\"}},\"title\":{\"x\":0.05},\"xaxis\":{\"automargin\":true,\"gridcolor\":\"white\",\"linecolor\":\"white\",\"ticks\":\"\",\"title\":{\"standoff\":15},\"zerolinecolor\":\"white\",\"zerolinewidth\":2},\"yaxis\":{\"automargin\":true,\"gridcolor\":\"white\",\"linecolor\":\"white\",\"ticks\":\"\",\"title\":{\"standoff\":15},\"zerolinecolor\":\"white\",\"zerolinewidth\":2}}},\"title\":{\"text\":\"UC Publications in CUP: Publication Type per Year\"},\"xaxis\":{\"anchor\":\"y\",\"domain\":[0.0,1.0],\"title\":{\"text\":\"year\"}},\"yaxis\":{\"anchor\":\"x\",\"domain\":[0.0,1.0],\"title\":{\"text\":\"size\"}}},                        {\"responsive\": true}                    ).then(function(){\n",
       "                            \n",
       "var gd = document.getElementById('cdbfecd0-13a7-44c1-88b9-f99139ada507');\n",
       "var x = new MutationObserver(function (mutations, observer) {{\n",
       "        var display = window.getComputedStyle(gd).display;\n",
       "        if (!display || display === 'none') {{\n",
       "            console.log([gd, 'removed!']);\n",
       "            Plotly.purge(gd);\n",
       "            observer.disconnect();\n",
       "        }}\n",
       "}});\n",
       "\n",
       "// Listen for the removal of the full notebook cells\n",
       "var notebookContainer = gd.closest('#notebook-container');\n",
       "if (notebookContainer) {{\n",
       "    x.observe(notebookContainer, {childList: true});\n",
       "}}\n",
       "\n",
       "// Listen for the clearing of the current output cell\n",
       "var outputEl = gd.closest('.output');\n",
       "if (outputEl) {{\n",
       "    x.observe(outputEl, {childList: true});\n",
       "}}\n",
       "\n",
       "                        })                };                });            </script>        </div>"
      ]
     },
     "metadata": {},
     "output_type": "display_data"
    }
   ],
   "source": [
    "oa_stack_df = new_df2.groupby([\"year\",\"oa_status\"],as_index=False).size()\n",
    "\n",
    "fig = px.bar(oa_stack_df, x=\"year\", y=\"size\", color=\"oa_status\", title=\"UC Publications in CUP: Publication Type per Year\"\n",
    "             #,hover_data=[mode(new_df3.journal.title)]\n",
    "            )\n",
    "fig.show()"
   ]
  },
  {
   "cell_type": "markdown",
   "metadata": {},
   "source": [
    "## Run the below box to see the number of publications per year colored by OA type. Only OA publications\n",
    "\n",
    "Hover over the colored stacks to see the number of type of publication (only OA) per year. You can select ranges by dragging over an area. Double click to go back to default view. "
   ]
  },
  {
   "cell_type": "code",
   "execution_count": 36,
   "metadata": {},
   "outputs": [
    {
     "data": {
      "application/vnd.plotly.v1+json": {
       "config": {
        "plotlyServerURL": "https://plot.ly"
       },
       "data": [
        {
         "alignmentgroup": "True",
         "hovertemplate": "oa_status=gold<br>year=%{x}<br>size=%{y}<extra></extra>",
         "legendgroup": "gold",
         "marker": {
          "color": "#636efa",
          "pattern": {
           "shape": ""
          }
         },
         "name": "gold",
         "offsetgroup": "gold",
         "orientation": "v",
         "showlegend": true,
         "textposition": "auto",
         "type": "bar",
         "x": [
          1965,
          1996,
          2004,
          2017,
          2018,
          2019,
          2020,
          2021
         ],
         "xaxis": "x",
         "y": [
          1,
          1,
          1,
          2,
          1,
          2,
          3,
          1
         ],
         "yaxis": "y"
        },
        {
         "alignmentgroup": "True",
         "hovertemplate": "oa_status=bronze<br>year=%{x}<br>size=%{y}<extra></extra>",
         "legendgroup": "bronze",
         "marker": {
          "color": "#EF553B",
          "pattern": {
           "shape": ""
          }
         },
         "name": "bronze",
         "offsetgroup": "bronze",
         "orientation": "v",
         "showlegend": true,
         "textposition": "auto",
         "type": "bar",
         "x": [
          1978,
          1981,
          1983,
          1988,
          1990,
          1992,
          1993,
          1994,
          1995,
          1996,
          1998,
          2000,
          2004,
          2005,
          2007,
          2008,
          2009,
          2010,
          2012,
          2013,
          2014,
          2015,
          2016,
          2017,
          2018,
          2019,
          2020,
          2021
         ],
         "xaxis": "x",
         "y": [
          1,
          2,
          1,
          2,
          1,
          1,
          1,
          1,
          3,
          2,
          1,
          3,
          1,
          3,
          1,
          1,
          4,
          1,
          4,
          1,
          2,
          3,
          3,
          4,
          2,
          2,
          4,
          2
         ],
         "yaxis": "y"
        },
        {
         "alignmentgroup": "True",
         "hovertemplate": "oa_status=green<br>year=%{x}<br>size=%{y}<extra></extra>",
         "legendgroup": "green",
         "marker": {
          "color": "#00cc96",
          "pattern": {
           "shape": ""
          }
         },
         "name": "green",
         "offsetgroup": "green",
         "orientation": "v",
         "showlegend": true,
         "textposition": "auto",
         "type": "bar",
         "x": [
          1995,
          2004,
          2005,
          2006,
          2008,
          2009,
          2010,
          2011,
          2012,
          2013,
          2014,
          2015,
          2016,
          2018,
          2019,
          2021
         ],
         "xaxis": "x",
         "y": [
          1,
          1,
          1,
          1,
          1,
          4,
          1,
          2,
          4,
          2,
          1,
          2,
          3,
          2,
          1,
          2
         ],
         "yaxis": "y"
        },
        {
         "alignmentgroup": "True",
         "hovertemplate": "oa_status=hybrid<br>year=%{x}<br>size=%{y}<extra></extra>",
         "legendgroup": "hybrid",
         "marker": {
          "color": "#ab63fa",
          "pattern": {
           "shape": ""
          }
         },
         "name": "hybrid",
         "offsetgroup": "hybrid",
         "orientation": "v",
         "showlegend": true,
         "textposition": "auto",
         "type": "bar",
         "x": [
          2019,
          2020,
          2021
         ],
         "xaxis": "x",
         "y": [
          2,
          3,
          3
         ],
         "yaxis": "y"
        }
       ],
       "layout": {
        "barmode": "relative",
        "legend": {
         "title": {
          "text": "oa_status"
         },
         "tracegroupgap": 0
        },
        "template": {
         "data": {
          "bar": [
           {
            "error_x": {
             "color": "#2a3f5f"
            },
            "error_y": {
             "color": "#2a3f5f"
            },
            "marker": {
             "line": {
              "color": "#E5ECF6",
              "width": 0.5
             },
             "pattern": {
              "fillmode": "overlay",
              "size": 10,
              "solidity": 0.2
             }
            },
            "type": "bar"
           }
          ],
          "barpolar": [
           {
            "marker": {
             "line": {
              "color": "#E5ECF6",
              "width": 0.5
             },
             "pattern": {
              "fillmode": "overlay",
              "size": 10,
              "solidity": 0.2
             }
            },
            "type": "barpolar"
           }
          ],
          "carpet": [
           {
            "aaxis": {
             "endlinecolor": "#2a3f5f",
             "gridcolor": "white",
             "linecolor": "white",
             "minorgridcolor": "white",
             "startlinecolor": "#2a3f5f"
            },
            "baxis": {
             "endlinecolor": "#2a3f5f",
             "gridcolor": "white",
             "linecolor": "white",
             "minorgridcolor": "white",
             "startlinecolor": "#2a3f5f"
            },
            "type": "carpet"
           }
          ],
          "choropleth": [
           {
            "colorbar": {
             "outlinewidth": 0,
             "ticks": ""
            },
            "type": "choropleth"
           }
          ],
          "contour": [
           {
            "colorbar": {
             "outlinewidth": 0,
             "ticks": ""
            },
            "colorscale": [
             [
              0,
              "#0d0887"
             ],
             [
              0.1111111111111111,
              "#46039f"
             ],
             [
              0.2222222222222222,
              "#7201a8"
             ],
             [
              0.3333333333333333,
              "#9c179e"
             ],
             [
              0.4444444444444444,
              "#bd3786"
             ],
             [
              0.5555555555555556,
              "#d8576b"
             ],
             [
              0.6666666666666666,
              "#ed7953"
             ],
             [
              0.7777777777777778,
              "#fb9f3a"
             ],
             [
              0.8888888888888888,
              "#fdca26"
             ],
             [
              1,
              "#f0f921"
             ]
            ],
            "type": "contour"
           }
          ],
          "contourcarpet": [
           {
            "colorbar": {
             "outlinewidth": 0,
             "ticks": ""
            },
            "type": "contourcarpet"
           }
          ],
          "heatmap": [
           {
            "colorbar": {
             "outlinewidth": 0,
             "ticks": ""
            },
            "colorscale": [
             [
              0,
              "#0d0887"
             ],
             [
              0.1111111111111111,
              "#46039f"
             ],
             [
              0.2222222222222222,
              "#7201a8"
             ],
             [
              0.3333333333333333,
              "#9c179e"
             ],
             [
              0.4444444444444444,
              "#bd3786"
             ],
             [
              0.5555555555555556,
              "#d8576b"
             ],
             [
              0.6666666666666666,
              "#ed7953"
             ],
             [
              0.7777777777777778,
              "#fb9f3a"
             ],
             [
              0.8888888888888888,
              "#fdca26"
             ],
             [
              1,
              "#f0f921"
             ]
            ],
            "type": "heatmap"
           }
          ],
          "heatmapgl": [
           {
            "colorbar": {
             "outlinewidth": 0,
             "ticks": ""
            },
            "colorscale": [
             [
              0,
              "#0d0887"
             ],
             [
              0.1111111111111111,
              "#46039f"
             ],
             [
              0.2222222222222222,
              "#7201a8"
             ],
             [
              0.3333333333333333,
              "#9c179e"
             ],
             [
              0.4444444444444444,
              "#bd3786"
             ],
             [
              0.5555555555555556,
              "#d8576b"
             ],
             [
              0.6666666666666666,
              "#ed7953"
             ],
             [
              0.7777777777777778,
              "#fb9f3a"
             ],
             [
              0.8888888888888888,
              "#fdca26"
             ],
             [
              1,
              "#f0f921"
             ]
            ],
            "type": "heatmapgl"
           }
          ],
          "histogram": [
           {
            "marker": {
             "pattern": {
              "fillmode": "overlay",
              "size": 10,
              "solidity": 0.2
             }
            },
            "type": "histogram"
           }
          ],
          "histogram2d": [
           {
            "colorbar": {
             "outlinewidth": 0,
             "ticks": ""
            },
            "colorscale": [
             [
              0,
              "#0d0887"
             ],
             [
              0.1111111111111111,
              "#46039f"
             ],
             [
              0.2222222222222222,
              "#7201a8"
             ],
             [
              0.3333333333333333,
              "#9c179e"
             ],
             [
              0.4444444444444444,
              "#bd3786"
             ],
             [
              0.5555555555555556,
              "#d8576b"
             ],
             [
              0.6666666666666666,
              "#ed7953"
             ],
             [
              0.7777777777777778,
              "#fb9f3a"
             ],
             [
              0.8888888888888888,
              "#fdca26"
             ],
             [
              1,
              "#f0f921"
             ]
            ],
            "type": "histogram2d"
           }
          ],
          "histogram2dcontour": [
           {
            "colorbar": {
             "outlinewidth": 0,
             "ticks": ""
            },
            "colorscale": [
             [
              0,
              "#0d0887"
             ],
             [
              0.1111111111111111,
              "#46039f"
             ],
             [
              0.2222222222222222,
              "#7201a8"
             ],
             [
              0.3333333333333333,
              "#9c179e"
             ],
             [
              0.4444444444444444,
              "#bd3786"
             ],
             [
              0.5555555555555556,
              "#d8576b"
             ],
             [
              0.6666666666666666,
              "#ed7953"
             ],
             [
              0.7777777777777778,
              "#fb9f3a"
             ],
             [
              0.8888888888888888,
              "#fdca26"
             ],
             [
              1,
              "#f0f921"
             ]
            ],
            "type": "histogram2dcontour"
           }
          ],
          "mesh3d": [
           {
            "colorbar": {
             "outlinewidth": 0,
             "ticks": ""
            },
            "type": "mesh3d"
           }
          ],
          "parcoords": [
           {
            "line": {
             "colorbar": {
              "outlinewidth": 0,
              "ticks": ""
             }
            },
            "type": "parcoords"
           }
          ],
          "pie": [
           {
            "automargin": true,
            "type": "pie"
           }
          ],
          "scatter": [
           {
            "marker": {
             "colorbar": {
              "outlinewidth": 0,
              "ticks": ""
             }
            },
            "type": "scatter"
           }
          ],
          "scatter3d": [
           {
            "line": {
             "colorbar": {
              "outlinewidth": 0,
              "ticks": ""
             }
            },
            "marker": {
             "colorbar": {
              "outlinewidth": 0,
              "ticks": ""
             }
            },
            "type": "scatter3d"
           }
          ],
          "scattercarpet": [
           {
            "marker": {
             "colorbar": {
              "outlinewidth": 0,
              "ticks": ""
             }
            },
            "type": "scattercarpet"
           }
          ],
          "scattergeo": [
           {
            "marker": {
             "colorbar": {
              "outlinewidth": 0,
              "ticks": ""
             }
            },
            "type": "scattergeo"
           }
          ],
          "scattergl": [
           {
            "marker": {
             "colorbar": {
              "outlinewidth": 0,
              "ticks": ""
             }
            },
            "type": "scattergl"
           }
          ],
          "scattermapbox": [
           {
            "marker": {
             "colorbar": {
              "outlinewidth": 0,
              "ticks": ""
             }
            },
            "type": "scattermapbox"
           }
          ],
          "scatterpolar": [
           {
            "marker": {
             "colorbar": {
              "outlinewidth": 0,
              "ticks": ""
             }
            },
            "type": "scatterpolar"
           }
          ],
          "scatterpolargl": [
           {
            "marker": {
             "colorbar": {
              "outlinewidth": 0,
              "ticks": ""
             }
            },
            "type": "scatterpolargl"
           }
          ],
          "scatterternary": [
           {
            "marker": {
             "colorbar": {
              "outlinewidth": 0,
              "ticks": ""
             }
            },
            "type": "scatterternary"
           }
          ],
          "surface": [
           {
            "colorbar": {
             "outlinewidth": 0,
             "ticks": ""
            },
            "colorscale": [
             [
              0,
              "#0d0887"
             ],
             [
              0.1111111111111111,
              "#46039f"
             ],
             [
              0.2222222222222222,
              "#7201a8"
             ],
             [
              0.3333333333333333,
              "#9c179e"
             ],
             [
              0.4444444444444444,
              "#bd3786"
             ],
             [
              0.5555555555555556,
              "#d8576b"
             ],
             [
              0.6666666666666666,
              "#ed7953"
             ],
             [
              0.7777777777777778,
              "#fb9f3a"
             ],
             [
              0.8888888888888888,
              "#fdca26"
             ],
             [
              1,
              "#f0f921"
             ]
            ],
            "type": "surface"
           }
          ],
          "table": [
           {
            "cells": {
             "fill": {
              "color": "#EBF0F8"
             },
             "line": {
              "color": "white"
             }
            },
            "header": {
             "fill": {
              "color": "#C8D4E3"
             },
             "line": {
              "color": "white"
             }
            },
            "type": "table"
           }
          ]
         },
         "layout": {
          "annotationdefaults": {
           "arrowcolor": "#2a3f5f",
           "arrowhead": 0,
           "arrowwidth": 1
          },
          "autotypenumbers": "strict",
          "coloraxis": {
           "colorbar": {
            "outlinewidth": 0,
            "ticks": ""
           }
          },
          "colorscale": {
           "diverging": [
            [
             0,
             "#8e0152"
            ],
            [
             0.1,
             "#c51b7d"
            ],
            [
             0.2,
             "#de77ae"
            ],
            [
             0.3,
             "#f1b6da"
            ],
            [
             0.4,
             "#fde0ef"
            ],
            [
             0.5,
             "#f7f7f7"
            ],
            [
             0.6,
             "#e6f5d0"
            ],
            [
             0.7,
             "#b8e186"
            ],
            [
             0.8,
             "#7fbc41"
            ],
            [
             0.9,
             "#4d9221"
            ],
            [
             1,
             "#276419"
            ]
           ],
           "sequential": [
            [
             0,
             "#0d0887"
            ],
            [
             0.1111111111111111,
             "#46039f"
            ],
            [
             0.2222222222222222,
             "#7201a8"
            ],
            [
             0.3333333333333333,
             "#9c179e"
            ],
            [
             0.4444444444444444,
             "#bd3786"
            ],
            [
             0.5555555555555556,
             "#d8576b"
            ],
            [
             0.6666666666666666,
             "#ed7953"
            ],
            [
             0.7777777777777778,
             "#fb9f3a"
            ],
            [
             0.8888888888888888,
             "#fdca26"
            ],
            [
             1,
             "#f0f921"
            ]
           ],
           "sequentialminus": [
            [
             0,
             "#0d0887"
            ],
            [
             0.1111111111111111,
             "#46039f"
            ],
            [
             0.2222222222222222,
             "#7201a8"
            ],
            [
             0.3333333333333333,
             "#9c179e"
            ],
            [
             0.4444444444444444,
             "#bd3786"
            ],
            [
             0.5555555555555556,
             "#d8576b"
            ],
            [
             0.6666666666666666,
             "#ed7953"
            ],
            [
             0.7777777777777778,
             "#fb9f3a"
            ],
            [
             0.8888888888888888,
             "#fdca26"
            ],
            [
             1,
             "#f0f921"
            ]
           ]
          },
          "colorway": [
           "#636efa",
           "#EF553B",
           "#00cc96",
           "#ab63fa",
           "#FFA15A",
           "#19d3f3",
           "#FF6692",
           "#B6E880",
           "#FF97FF",
           "#FECB52"
          ],
          "font": {
           "color": "#2a3f5f"
          },
          "geo": {
           "bgcolor": "white",
           "lakecolor": "white",
           "landcolor": "#E5ECF6",
           "showlakes": true,
           "showland": true,
           "subunitcolor": "white"
          },
          "hoverlabel": {
           "align": "left"
          },
          "hovermode": "closest",
          "mapbox": {
           "style": "light"
          },
          "paper_bgcolor": "white",
          "plot_bgcolor": "#E5ECF6",
          "polar": {
           "angularaxis": {
            "gridcolor": "white",
            "linecolor": "white",
            "ticks": ""
           },
           "bgcolor": "#E5ECF6",
           "radialaxis": {
            "gridcolor": "white",
            "linecolor": "white",
            "ticks": ""
           }
          },
          "scene": {
           "xaxis": {
            "backgroundcolor": "#E5ECF6",
            "gridcolor": "white",
            "gridwidth": 2,
            "linecolor": "white",
            "showbackground": true,
            "ticks": "",
            "zerolinecolor": "white"
           },
           "yaxis": {
            "backgroundcolor": "#E5ECF6",
            "gridcolor": "white",
            "gridwidth": 2,
            "linecolor": "white",
            "showbackground": true,
            "ticks": "",
            "zerolinecolor": "white"
           },
           "zaxis": {
            "backgroundcolor": "#E5ECF6",
            "gridcolor": "white",
            "gridwidth": 2,
            "linecolor": "white",
            "showbackground": true,
            "ticks": "",
            "zerolinecolor": "white"
           }
          },
          "shapedefaults": {
           "line": {
            "color": "#2a3f5f"
           }
          },
          "ternary": {
           "aaxis": {
            "gridcolor": "white",
            "linecolor": "white",
            "ticks": ""
           },
           "baxis": {
            "gridcolor": "white",
            "linecolor": "white",
            "ticks": ""
           },
           "bgcolor": "#E5ECF6",
           "caxis": {
            "gridcolor": "white",
            "linecolor": "white",
            "ticks": ""
           }
          },
          "title": {
           "x": 0.05
          },
          "xaxis": {
           "automargin": true,
           "gridcolor": "white",
           "linecolor": "white",
           "ticks": "",
           "title": {
            "standoff": 15
           },
           "zerolinecolor": "white",
           "zerolinewidth": 2
          },
          "yaxis": {
           "automargin": true,
           "gridcolor": "white",
           "linecolor": "white",
           "ticks": "",
           "title": {
            "standoff": 15
           },
           "zerolinecolor": "white",
           "zerolinewidth": 2
          }
         }
        },
        "title": {
         "text": "UC Open Access Publications in CUP"
        },
        "xaxis": {
         "anchor": "y",
         "domain": [
          0,
          1
         ],
         "title": {
          "text": "year"
         }
        },
        "yaxis": {
         "anchor": "x",
         "domain": [
          0,
          1
         ],
         "title": {
          "text": "size"
         }
        }
       }
      },
      "text/html": [
       "<div>                            <div id=\"66f864b6-7e73-47eb-b17b-ebd7d12ae6c8\" class=\"plotly-graph-div\" style=\"height:525px; width:100%;\"></div>            <script type=\"text/javascript\">                require([\"plotly\"], function(Plotly) {                    window.PLOTLYENV=window.PLOTLYENV || {};                                    if (document.getElementById(\"66f864b6-7e73-47eb-b17b-ebd7d12ae6c8\")) {                    Plotly.newPlot(                        \"66f864b6-7e73-47eb-b17b-ebd7d12ae6c8\",                        [{\"alignmentgroup\":\"True\",\"hovertemplate\":\"oa_status=gold<br>year=%{x}<br>size=%{y}<extra></extra>\",\"legendgroup\":\"gold\",\"marker\":{\"color\":\"#636efa\",\"pattern\":{\"shape\":\"\"}},\"name\":\"gold\",\"offsetgroup\":\"gold\",\"orientation\":\"v\",\"showlegend\":true,\"textposition\":\"auto\",\"type\":\"bar\",\"x\":[1965,1996,2004,2017,2018,2019,2020,2021],\"xaxis\":\"x\",\"y\":[1,1,1,2,1,2,3,1],\"yaxis\":\"y\"},{\"alignmentgroup\":\"True\",\"hovertemplate\":\"oa_status=bronze<br>year=%{x}<br>size=%{y}<extra></extra>\",\"legendgroup\":\"bronze\",\"marker\":{\"color\":\"#EF553B\",\"pattern\":{\"shape\":\"\"}},\"name\":\"bronze\",\"offsetgroup\":\"bronze\",\"orientation\":\"v\",\"showlegend\":true,\"textposition\":\"auto\",\"type\":\"bar\",\"x\":[1978,1981,1983,1988,1990,1992,1993,1994,1995,1996,1998,2000,2004,2005,2007,2008,2009,2010,2012,2013,2014,2015,2016,2017,2018,2019,2020,2021],\"xaxis\":\"x\",\"y\":[1,2,1,2,1,1,1,1,3,2,1,3,1,3,1,1,4,1,4,1,2,3,3,4,2,2,4,2],\"yaxis\":\"y\"},{\"alignmentgroup\":\"True\",\"hovertemplate\":\"oa_status=green<br>year=%{x}<br>size=%{y}<extra></extra>\",\"legendgroup\":\"green\",\"marker\":{\"color\":\"#00cc96\",\"pattern\":{\"shape\":\"\"}},\"name\":\"green\",\"offsetgroup\":\"green\",\"orientation\":\"v\",\"showlegend\":true,\"textposition\":\"auto\",\"type\":\"bar\",\"x\":[1995,2004,2005,2006,2008,2009,2010,2011,2012,2013,2014,2015,2016,2018,2019,2021],\"xaxis\":\"x\",\"y\":[1,1,1,1,1,4,1,2,4,2,1,2,3,2,1,2],\"yaxis\":\"y\"},{\"alignmentgroup\":\"True\",\"hovertemplate\":\"oa_status=hybrid<br>year=%{x}<br>size=%{y}<extra></extra>\",\"legendgroup\":\"hybrid\",\"marker\":{\"color\":\"#ab63fa\",\"pattern\":{\"shape\":\"\"}},\"name\":\"hybrid\",\"offsetgroup\":\"hybrid\",\"orientation\":\"v\",\"showlegend\":true,\"textposition\":\"auto\",\"type\":\"bar\",\"x\":[2019,2020,2021],\"xaxis\":\"x\",\"y\":[2,3,3],\"yaxis\":\"y\"}],                        {\"barmode\":\"relative\",\"legend\":{\"title\":{\"text\":\"oa_status\"},\"tracegroupgap\":0},\"template\":{\"data\":{\"bar\":[{\"error_x\":{\"color\":\"#2a3f5f\"},\"error_y\":{\"color\":\"#2a3f5f\"},\"marker\":{\"line\":{\"color\":\"#E5ECF6\",\"width\":0.5},\"pattern\":{\"fillmode\":\"overlay\",\"size\":10,\"solidity\":0.2}},\"type\":\"bar\"}],\"barpolar\":[{\"marker\":{\"line\":{\"color\":\"#E5ECF6\",\"width\":0.5},\"pattern\":{\"fillmode\":\"overlay\",\"size\":10,\"solidity\":0.2}},\"type\":\"barpolar\"}],\"carpet\":[{\"aaxis\":{\"endlinecolor\":\"#2a3f5f\",\"gridcolor\":\"white\",\"linecolor\":\"white\",\"minorgridcolor\":\"white\",\"startlinecolor\":\"#2a3f5f\"},\"baxis\":{\"endlinecolor\":\"#2a3f5f\",\"gridcolor\":\"white\",\"linecolor\":\"white\",\"minorgridcolor\":\"white\",\"startlinecolor\":\"#2a3f5f\"},\"type\":\"carpet\"}],\"choropleth\":[{\"colorbar\":{\"outlinewidth\":0,\"ticks\":\"\"},\"type\":\"choropleth\"}],\"contour\":[{\"colorbar\":{\"outlinewidth\":0,\"ticks\":\"\"},\"colorscale\":[[0.0,\"#0d0887\"],[0.1111111111111111,\"#46039f\"],[0.2222222222222222,\"#7201a8\"],[0.3333333333333333,\"#9c179e\"],[0.4444444444444444,\"#bd3786\"],[0.5555555555555556,\"#d8576b\"],[0.6666666666666666,\"#ed7953\"],[0.7777777777777778,\"#fb9f3a\"],[0.8888888888888888,\"#fdca26\"],[1.0,\"#f0f921\"]],\"type\":\"contour\"}],\"contourcarpet\":[{\"colorbar\":{\"outlinewidth\":0,\"ticks\":\"\"},\"type\":\"contourcarpet\"}],\"heatmap\":[{\"colorbar\":{\"outlinewidth\":0,\"ticks\":\"\"},\"colorscale\":[[0.0,\"#0d0887\"],[0.1111111111111111,\"#46039f\"],[0.2222222222222222,\"#7201a8\"],[0.3333333333333333,\"#9c179e\"],[0.4444444444444444,\"#bd3786\"],[0.5555555555555556,\"#d8576b\"],[0.6666666666666666,\"#ed7953\"],[0.7777777777777778,\"#fb9f3a\"],[0.8888888888888888,\"#fdca26\"],[1.0,\"#f0f921\"]],\"type\":\"heatmap\"}],\"heatmapgl\":[{\"colorbar\":{\"outlinewidth\":0,\"ticks\":\"\"},\"colorscale\":[[0.0,\"#0d0887\"],[0.1111111111111111,\"#46039f\"],[0.2222222222222222,\"#7201a8\"],[0.3333333333333333,\"#9c179e\"],[0.4444444444444444,\"#bd3786\"],[0.5555555555555556,\"#d8576b\"],[0.6666666666666666,\"#ed7953\"],[0.7777777777777778,\"#fb9f3a\"],[0.8888888888888888,\"#fdca26\"],[1.0,\"#f0f921\"]],\"type\":\"heatmapgl\"}],\"histogram\":[{\"marker\":{\"pattern\":{\"fillmode\":\"overlay\",\"size\":10,\"solidity\":0.2}},\"type\":\"histogram\"}],\"histogram2d\":[{\"colorbar\":{\"outlinewidth\":0,\"ticks\":\"\"},\"colorscale\":[[0.0,\"#0d0887\"],[0.1111111111111111,\"#46039f\"],[0.2222222222222222,\"#7201a8\"],[0.3333333333333333,\"#9c179e\"],[0.4444444444444444,\"#bd3786\"],[0.5555555555555556,\"#d8576b\"],[0.6666666666666666,\"#ed7953\"],[0.7777777777777778,\"#fb9f3a\"],[0.8888888888888888,\"#fdca26\"],[1.0,\"#f0f921\"]],\"type\":\"histogram2d\"}],\"histogram2dcontour\":[{\"colorbar\":{\"outlinewidth\":0,\"ticks\":\"\"},\"colorscale\":[[0.0,\"#0d0887\"],[0.1111111111111111,\"#46039f\"],[0.2222222222222222,\"#7201a8\"],[0.3333333333333333,\"#9c179e\"],[0.4444444444444444,\"#bd3786\"],[0.5555555555555556,\"#d8576b\"],[0.6666666666666666,\"#ed7953\"],[0.7777777777777778,\"#fb9f3a\"],[0.8888888888888888,\"#fdca26\"],[1.0,\"#f0f921\"]],\"type\":\"histogram2dcontour\"}],\"mesh3d\":[{\"colorbar\":{\"outlinewidth\":0,\"ticks\":\"\"},\"type\":\"mesh3d\"}],\"parcoords\":[{\"line\":{\"colorbar\":{\"outlinewidth\":0,\"ticks\":\"\"}},\"type\":\"parcoords\"}],\"pie\":[{\"automargin\":true,\"type\":\"pie\"}],\"scatter\":[{\"marker\":{\"colorbar\":{\"outlinewidth\":0,\"ticks\":\"\"}},\"type\":\"scatter\"}],\"scatter3d\":[{\"line\":{\"colorbar\":{\"outlinewidth\":0,\"ticks\":\"\"}},\"marker\":{\"colorbar\":{\"outlinewidth\":0,\"ticks\":\"\"}},\"type\":\"scatter3d\"}],\"scattercarpet\":[{\"marker\":{\"colorbar\":{\"outlinewidth\":0,\"ticks\":\"\"}},\"type\":\"scattercarpet\"}],\"scattergeo\":[{\"marker\":{\"colorbar\":{\"outlinewidth\":0,\"ticks\":\"\"}},\"type\":\"scattergeo\"}],\"scattergl\":[{\"marker\":{\"colorbar\":{\"outlinewidth\":0,\"ticks\":\"\"}},\"type\":\"scattergl\"}],\"scattermapbox\":[{\"marker\":{\"colorbar\":{\"outlinewidth\":0,\"ticks\":\"\"}},\"type\":\"scattermapbox\"}],\"scatterpolar\":[{\"marker\":{\"colorbar\":{\"outlinewidth\":0,\"ticks\":\"\"}},\"type\":\"scatterpolar\"}],\"scatterpolargl\":[{\"marker\":{\"colorbar\":{\"outlinewidth\":0,\"ticks\":\"\"}},\"type\":\"scatterpolargl\"}],\"scatterternary\":[{\"marker\":{\"colorbar\":{\"outlinewidth\":0,\"ticks\":\"\"}},\"type\":\"scatterternary\"}],\"surface\":[{\"colorbar\":{\"outlinewidth\":0,\"ticks\":\"\"},\"colorscale\":[[0.0,\"#0d0887\"],[0.1111111111111111,\"#46039f\"],[0.2222222222222222,\"#7201a8\"],[0.3333333333333333,\"#9c179e\"],[0.4444444444444444,\"#bd3786\"],[0.5555555555555556,\"#d8576b\"],[0.6666666666666666,\"#ed7953\"],[0.7777777777777778,\"#fb9f3a\"],[0.8888888888888888,\"#fdca26\"],[1.0,\"#f0f921\"]],\"type\":\"surface\"}],\"table\":[{\"cells\":{\"fill\":{\"color\":\"#EBF0F8\"},\"line\":{\"color\":\"white\"}},\"header\":{\"fill\":{\"color\":\"#C8D4E3\"},\"line\":{\"color\":\"white\"}},\"type\":\"table\"}]},\"layout\":{\"annotationdefaults\":{\"arrowcolor\":\"#2a3f5f\",\"arrowhead\":0,\"arrowwidth\":1},\"autotypenumbers\":\"strict\",\"coloraxis\":{\"colorbar\":{\"outlinewidth\":0,\"ticks\":\"\"}},\"colorscale\":{\"diverging\":[[0,\"#8e0152\"],[0.1,\"#c51b7d\"],[0.2,\"#de77ae\"],[0.3,\"#f1b6da\"],[0.4,\"#fde0ef\"],[0.5,\"#f7f7f7\"],[0.6,\"#e6f5d0\"],[0.7,\"#b8e186\"],[0.8,\"#7fbc41\"],[0.9,\"#4d9221\"],[1,\"#276419\"]],\"sequential\":[[0.0,\"#0d0887\"],[0.1111111111111111,\"#46039f\"],[0.2222222222222222,\"#7201a8\"],[0.3333333333333333,\"#9c179e\"],[0.4444444444444444,\"#bd3786\"],[0.5555555555555556,\"#d8576b\"],[0.6666666666666666,\"#ed7953\"],[0.7777777777777778,\"#fb9f3a\"],[0.8888888888888888,\"#fdca26\"],[1.0,\"#f0f921\"]],\"sequentialminus\":[[0.0,\"#0d0887\"],[0.1111111111111111,\"#46039f\"],[0.2222222222222222,\"#7201a8\"],[0.3333333333333333,\"#9c179e\"],[0.4444444444444444,\"#bd3786\"],[0.5555555555555556,\"#d8576b\"],[0.6666666666666666,\"#ed7953\"],[0.7777777777777778,\"#fb9f3a\"],[0.8888888888888888,\"#fdca26\"],[1.0,\"#f0f921\"]]},\"colorway\":[\"#636efa\",\"#EF553B\",\"#00cc96\",\"#ab63fa\",\"#FFA15A\",\"#19d3f3\",\"#FF6692\",\"#B6E880\",\"#FF97FF\",\"#FECB52\"],\"font\":{\"color\":\"#2a3f5f\"},\"geo\":{\"bgcolor\":\"white\",\"lakecolor\":\"white\",\"landcolor\":\"#E5ECF6\",\"showlakes\":true,\"showland\":true,\"subunitcolor\":\"white\"},\"hoverlabel\":{\"align\":\"left\"},\"hovermode\":\"closest\",\"mapbox\":{\"style\":\"light\"},\"paper_bgcolor\":\"white\",\"plot_bgcolor\":\"#E5ECF6\",\"polar\":{\"angularaxis\":{\"gridcolor\":\"white\",\"linecolor\":\"white\",\"ticks\":\"\"},\"bgcolor\":\"#E5ECF6\",\"radialaxis\":{\"gridcolor\":\"white\",\"linecolor\":\"white\",\"ticks\":\"\"}},\"scene\":{\"xaxis\":{\"backgroundcolor\":\"#E5ECF6\",\"gridcolor\":\"white\",\"gridwidth\":2,\"linecolor\":\"white\",\"showbackground\":true,\"ticks\":\"\",\"zerolinecolor\":\"white\"},\"yaxis\":{\"backgroundcolor\":\"#E5ECF6\",\"gridcolor\":\"white\",\"gridwidth\":2,\"linecolor\":\"white\",\"showbackground\":true,\"ticks\":\"\",\"zerolinecolor\":\"white\"},\"zaxis\":{\"backgroundcolor\":\"#E5ECF6\",\"gridcolor\":\"white\",\"gridwidth\":2,\"linecolor\":\"white\",\"showbackground\":true,\"ticks\":\"\",\"zerolinecolor\":\"white\"}},\"shapedefaults\":{\"line\":{\"color\":\"#2a3f5f\"}},\"ternary\":{\"aaxis\":{\"gridcolor\":\"white\",\"linecolor\":\"white\",\"ticks\":\"\"},\"baxis\":{\"gridcolor\":\"white\",\"linecolor\":\"white\",\"ticks\":\"\"},\"bgcolor\":\"#E5ECF6\",\"caxis\":{\"gridcolor\":\"white\",\"linecolor\":\"white\",\"ticks\":\"\"}},\"title\":{\"x\":0.05},\"xaxis\":{\"automargin\":true,\"gridcolor\":\"white\",\"linecolor\":\"white\",\"ticks\":\"\",\"title\":{\"standoff\":15},\"zerolinecolor\":\"white\",\"zerolinewidth\":2},\"yaxis\":{\"automargin\":true,\"gridcolor\":\"white\",\"linecolor\":\"white\",\"ticks\":\"\",\"title\":{\"standoff\":15},\"zerolinecolor\":\"white\",\"zerolinewidth\":2}}},\"title\":{\"text\":\"UC Open Access Publications in CUP\"},\"xaxis\":{\"anchor\":\"y\",\"domain\":[0.0,1.0],\"title\":{\"text\":\"year\"}},\"yaxis\":{\"anchor\":\"x\",\"domain\":[0.0,1.0],\"title\":{\"text\":\"size\"}}},                        {\"responsive\": true}                    ).then(function(){\n",
       "                            \n",
       "var gd = document.getElementById('66f864b6-7e73-47eb-b17b-ebd7d12ae6c8');\n",
       "var x = new MutationObserver(function (mutations, observer) {{\n",
       "        var display = window.getComputedStyle(gd).display;\n",
       "        if (!display || display === 'none') {{\n",
       "            console.log([gd, 'removed!']);\n",
       "            Plotly.purge(gd);\n",
       "            observer.disconnect();\n",
       "        }}\n",
       "}});\n",
       "\n",
       "// Listen for the removal of the full notebook cells\n",
       "var notebookContainer = gd.closest('#notebook-container');\n",
       "if (notebookContainer) {{\n",
       "    x.observe(notebookContainer, {childList: true});\n",
       "}}\n",
       "\n",
       "// Listen for the clearing of the current output cell\n",
       "var outputEl = gd.closest('.output');\n",
       "if (outputEl) {{\n",
       "    x.observe(outputEl, {childList: true});\n",
       "}}\n",
       "\n",
       "                        })                };                });            </script>        </div>"
      ]
     },
     "metadata": {},
     "output_type": "display_data"
    }
   ],
   "source": [
    "oa_df = publication_df[((publication_df[\"oa_status\"] != \"closed\"))]\n",
    "non_oa_df = publication_df[((publication_df[\"oa_status\"] == \"closed\"))]\n",
    "\n",
    "oa_stack_df = oa_df.groupby([\"year\",\"oa_status\"],as_index=False).size()\n",
    "\n",
    "fig = px.bar(oa_stack_df, x=\"year\", y=\"size\", color=\"oa_status\", title=\"UC Open Access Publications in CUP\"\n",
    "             #,hover_data=[mode(new_df3.journal.title)]\n",
    "            )\n",
    "fig.show()"
   ]
  },
  {
   "cell_type": "markdown",
   "metadata": {},
   "source": [
    "### Note: running the below line you can explore the publication info for any given year, just change the year value\n",
    "\n",
    "For example, if you want to see the publications from 2016, change 1965 to 2016 in the line below"
   ]
  },
  {
   "cell_type": "code",
   "execution_count": 40,
   "metadata": {},
   "outputs": [
    {
     "data": {
      "text/html": [
       "<div>\n",
       "<style scoped>\n",
       "    .dataframe tbody tr th:only-of-type {\n",
       "        vertical-align: middle;\n",
       "    }\n",
       "\n",
       "    .dataframe tbody tr th {\n",
       "        vertical-align: top;\n",
       "    }\n",
       "\n",
       "    .dataframe thead th {\n",
       "        text-align: right;\n",
       "    }\n",
       "</style>\n",
       "<table border=\"1\" class=\"dataframe\">\n",
       "  <thead>\n",
       "    <tr style=\"text-align: right;\">\n",
       "      <th></th>\n",
       "      <th>authors</th>\n",
       "      <th>title</th>\n",
       "      <th>concepts</th>\n",
       "      <th>pub_id</th>\n",
       "      <th>category_for</th>\n",
       "      <th>times_cited</th>\n",
       "      <th>year</th>\n",
       "      <th>open_access_categories_v2</th>\n",
       "      <th>journal.id</th>\n",
       "      <th>journal.title</th>\n",
       "      <th>...</th>\n",
       "      <th>aff_city_id</th>\n",
       "      <th>aff_country</th>\n",
       "      <th>aff_country_code</th>\n",
       "      <th>aff_state</th>\n",
       "      <th>aff_state_code</th>\n",
       "      <th>researcher_id</th>\n",
       "      <th>first_name</th>\n",
       "      <th>last_name</th>\n",
       "      <th>oa_status</th>\n",
       "      <th>oa_status_2</th>\n",
       "    </tr>\n",
       "  </thead>\n",
       "  <tbody>\n",
       "    <tr>\n",
       "      <th>400</th>\n",
       "      <td>[{'raw_affiliation': ['University of Cincinnat...</td>\n",
       "      <td>On the compatibility of the recent solar paral...</td>\n",
       "      <td>NaN</td>\n",
       "      <td>pub.1027632258</td>\n",
       "      <td>NaN</td>\n",
       "      <td>2</td>\n",
       "      <td>1965</td>\n",
       "      <td>[oa_all, gold]</td>\n",
       "      <td>jour.1159373</td>\n",
       "      <td>Symposium - International Astronomical Union</td>\n",
       "      <td>...</td>\n",
       "      <td>4508722.0</td>\n",
       "      <td>United States</td>\n",
       "      <td>US</td>\n",
       "      <td>Ohio</td>\n",
       "      <td>US-OH</td>\n",
       "      <td>ur.010453766071.56</td>\n",
       "      <td>eugene</td>\n",
       "      <td>rabe</td>\n",
       "      <td>gold</td>\n",
       "      <td>open</td>\n",
       "    </tr>\n",
       "  </tbody>\n",
       "</table>\n",
       "<p>1 rows × 37 columns</p>\n",
       "</div>"
      ],
      "text/plain": [
       "                                               authors  \\\n",
       "400  [{'raw_affiliation': ['University of Cincinnat...   \n",
       "\n",
       "                                                 title concepts  \\\n",
       "400  On the compatibility of the recent solar paral...      NaN   \n",
       "\n",
       "             pub_id category_for  times_cited  year open_access_categories_v2  \\\n",
       "400  pub.1027632258          NaN            2  1965            [oa_all, gold]   \n",
       "\n",
       "       journal.id                                 journal.title  ...  \\\n",
       "400  jour.1159373  Symposium - International Astronomical Union  ...   \n",
       "\n",
       "     aff_city_id    aff_country aff_country_code aff_state aff_state_code  \\\n",
       "400    4508722.0  United States               US      Ohio          US-OH   \n",
       "\n",
       "          researcher_id first_name last_name oa_status oa_status_2  \n",
       "400  ur.010453766071.56     eugene      rabe      gold        open  \n",
       "\n",
       "[1 rows x 37 columns]"
      ]
     },
     "execution_count": 40,
     "metadata": {},
     "output_type": "execute_result"
    }
   ],
   "source": [
    "oa_df[oa_df['year']==1965]"
   ]
  },
  {
   "cell_type": "markdown",
   "metadata": {},
   "source": [
    "## Run the below box to see the OA publications by Journal Title, colored by OA Type. Only OA publications\n",
    "\n",
    "Hover over the colored stacks to see the number of type of publication (only OA) per journal. Hovering also shows the journal title. You can select ranges by dragging over an area. Double click to go back to default view. "
   ]
  },
  {
   "cell_type": "code",
   "execution_count": 44,
   "metadata": {},
   "outputs": [
    {
     "data": {
      "application/vnd.plotly.v1+json": {
       "config": {
        "plotlyServerURL": "https://plot.ly"
       },
       "data": [
        {
         "alignmentgroup": "True",
         "hovertemplate": "oa_status=bronze<br>size=%{x}<br>journal.title=%{y}<extra></extra>",
         "legendgroup": "bronze",
         "marker": {
          "color": "#636efa",
          "pattern": {
           "shape": ""
          }
         },
         "name": "bronze",
         "offsetgroup": "bronze",
         "orientation": "h",
         "showlegend": true,
         "textposition": "auto",
         "type": "bar",
         "x": [
          1,
          1,
          4,
          2,
          3,
          3,
          1,
          1,
          1,
          4,
          1,
          1,
          1,
          2,
          1,
          2,
          1,
          2,
          5,
          2,
          4,
          2,
          1,
          1,
          3,
          2,
          1,
          1,
          1,
          1,
          1
         ],
         "xaxis": "x",
         "y": [
          "Advances in Applied Probability",
          "Advances in Archaeological Practice",
          "British Journal Of Nutrition",
          "Bulletin of the Australian Mathematical Society",
          "CNS Spectrums",
          "Canadian Journal of Neurological Sciences / Journal Canadien des Sciences Neurologiques",
          "Disaster Medicine and Public Health Preparedness",
          "Ergodic Theory and Dynamical Systems",
          "European Journal of Applied Mathematics",
          "Infection Control and Hospital Epidemiology",
          "International Astronomical Union Colloquium",
          "International Journal Middle East Studies",
          "International Labor and Working-Class History",
          "Journal of Applied Probability",
          "Journal of Paleontology",
          "Journal of the Australian Mathematical Society Series A Pure Mathematics and Statistics",
          "Journal of the International Neuropsychological Society",
          "Microscopy Today",
          "Microscopy and Microanalysis",
          "Political Science and Politics",
          "Prehospital and Disaster Medicine",
          "Proceedings of The Nutrition Society",
          "Proceedings of the ASIL Annual Meeting",
          "Proceedings of the Edinburgh Mathematical Society",
          "Proceedings of the International Astronomical Union",
          "Public Health Nutrition",
          "Review of International Studies",
          "The British Journal of Psychiatry",
          "The Journal of Asian Studies",
          "The Journal of the Australian Mathematical Society Series B Applied Mathematics",
          "Twin Research and Human Genetics"
         ],
         "yaxis": "y"
        },
        {
         "alignmentgroup": "True",
         "hovertemplate": "oa_status=gold<br>size=%{x}<br>journal.title=%{y}<extra></extra>",
         "legendgroup": "gold",
         "marker": {
          "color": "#EF553B",
          "pattern": {
           "shape": ""
          }
         },
         "name": "gold",
         "offsetgroup": "gold",
         "orientation": "h",
         "showlegend": true,
         "textposition": "auto",
         "type": "bar",
         "x": [
          1,
          8,
          3
         ],
         "xaxis": "x",
         "y": [
          "Epidemiology and Infection",
          "Journal of Clinical and Translational Science",
          "Symposium - International Astronomical Union"
         ],
         "yaxis": "y"
        },
        {
         "alignmentgroup": "True",
         "hovertemplate": "oa_status=green<br>size=%{x}<br>journal.title=%{y}<extra></extra>",
         "legendgroup": "green",
         "marker": {
          "color": "#00cc96",
          "pattern": {
           "shape": ""
          }
         },
         "name": "green",
         "offsetgroup": "green",
         "orientation": "h",
         "showlegend": true,
         "textposition": "auto",
         "type": "bar",
         "x": [
          1,
          1,
          2,
          1,
          1,
          1,
          2,
          2,
          1,
          2,
          1,
          1,
          7,
          1,
          1,
          1,
          1,
          1,
          1
         ],
         "xaxis": "x",
         "y": [
          "CNS Spectrums",
          "Cardiology in the Young",
          "Development and Psychopathology",
          "Disaster Medicine and Public Health Preparedness",
          "Du Bois Review Social Science Research on Race",
          "Environmental Conservation",
          "Epidemiology and Infection",
          "Infection Control and Hospital Epidemiology",
          "Journal of Developmental Origins of Health and Disease",
          "Journal of Financial and Quantitative Analysis",
          "Journal of Paleontology",
          "Journal of the American Philosophical Association",
          "Journal of the International Neuropsychological Society",
          "Law and History Review",
          "Parasitology",
          "Powder Diffraction",
          "Psychological Medicine",
          "Quaternary Research",
          "Radiocarbon"
         ],
         "yaxis": "y"
        },
        {
         "alignmentgroup": "True",
         "hovertemplate": "oa_status=hybrid<br>size=%{x}<br>journal.title=%{y}<extra></extra>",
         "legendgroup": "hybrid",
         "marker": {
          "color": "#ab63fa",
          "pattern": {
           "shape": ""
          }
         },
         "name": "hybrid",
         "offsetgroup": "hybrid",
         "orientation": "h",
         "showlegend": true,
         "textposition": "auto",
         "type": "bar",
         "x": [
          1,
          1,
          2,
          1,
          1,
          1,
          1
         ],
         "xaxis": "x",
         "y": [
          "British Journal Of Nutrition",
          "CNS Spectrums",
          "Cardiology in the Young",
          "Epidemiology and Infection",
          "Infection Control and Hospital Epidemiology",
          "Journal of Fluid Mechanics",
          "Paleobiology"
         ],
         "yaxis": "y"
        }
       ],
       "layout": {
        "barmode": "relative",
        "legend": {
         "title": {
          "text": "oa_status"
         },
         "tracegroupgap": 0
        },
        "showlegend": false,
        "template": {
         "data": {
          "bar": [
           {
            "error_x": {
             "color": "#2a3f5f"
            },
            "error_y": {
             "color": "#2a3f5f"
            },
            "marker": {
             "line": {
              "color": "#E5ECF6",
              "width": 0.5
             },
             "pattern": {
              "fillmode": "overlay",
              "size": 10,
              "solidity": 0.2
             }
            },
            "type": "bar"
           }
          ],
          "barpolar": [
           {
            "marker": {
             "line": {
              "color": "#E5ECF6",
              "width": 0.5
             },
             "pattern": {
              "fillmode": "overlay",
              "size": 10,
              "solidity": 0.2
             }
            },
            "type": "barpolar"
           }
          ],
          "carpet": [
           {
            "aaxis": {
             "endlinecolor": "#2a3f5f",
             "gridcolor": "white",
             "linecolor": "white",
             "minorgridcolor": "white",
             "startlinecolor": "#2a3f5f"
            },
            "baxis": {
             "endlinecolor": "#2a3f5f",
             "gridcolor": "white",
             "linecolor": "white",
             "minorgridcolor": "white",
             "startlinecolor": "#2a3f5f"
            },
            "type": "carpet"
           }
          ],
          "choropleth": [
           {
            "colorbar": {
             "outlinewidth": 0,
             "ticks": ""
            },
            "type": "choropleth"
           }
          ],
          "contour": [
           {
            "colorbar": {
             "outlinewidth": 0,
             "ticks": ""
            },
            "colorscale": [
             [
              0,
              "#0d0887"
             ],
             [
              0.1111111111111111,
              "#46039f"
             ],
             [
              0.2222222222222222,
              "#7201a8"
             ],
             [
              0.3333333333333333,
              "#9c179e"
             ],
             [
              0.4444444444444444,
              "#bd3786"
             ],
             [
              0.5555555555555556,
              "#d8576b"
             ],
             [
              0.6666666666666666,
              "#ed7953"
             ],
             [
              0.7777777777777778,
              "#fb9f3a"
             ],
             [
              0.8888888888888888,
              "#fdca26"
             ],
             [
              1,
              "#f0f921"
             ]
            ],
            "type": "contour"
           }
          ],
          "contourcarpet": [
           {
            "colorbar": {
             "outlinewidth": 0,
             "ticks": ""
            },
            "type": "contourcarpet"
           }
          ],
          "heatmap": [
           {
            "colorbar": {
             "outlinewidth": 0,
             "ticks": ""
            },
            "colorscale": [
             [
              0,
              "#0d0887"
             ],
             [
              0.1111111111111111,
              "#46039f"
             ],
             [
              0.2222222222222222,
              "#7201a8"
             ],
             [
              0.3333333333333333,
              "#9c179e"
             ],
             [
              0.4444444444444444,
              "#bd3786"
             ],
             [
              0.5555555555555556,
              "#d8576b"
             ],
             [
              0.6666666666666666,
              "#ed7953"
             ],
             [
              0.7777777777777778,
              "#fb9f3a"
             ],
             [
              0.8888888888888888,
              "#fdca26"
             ],
             [
              1,
              "#f0f921"
             ]
            ],
            "type": "heatmap"
           }
          ],
          "heatmapgl": [
           {
            "colorbar": {
             "outlinewidth": 0,
             "ticks": ""
            },
            "colorscale": [
             [
              0,
              "#0d0887"
             ],
             [
              0.1111111111111111,
              "#46039f"
             ],
             [
              0.2222222222222222,
              "#7201a8"
             ],
             [
              0.3333333333333333,
              "#9c179e"
             ],
             [
              0.4444444444444444,
              "#bd3786"
             ],
             [
              0.5555555555555556,
              "#d8576b"
             ],
             [
              0.6666666666666666,
              "#ed7953"
             ],
             [
              0.7777777777777778,
              "#fb9f3a"
             ],
             [
              0.8888888888888888,
              "#fdca26"
             ],
             [
              1,
              "#f0f921"
             ]
            ],
            "type": "heatmapgl"
           }
          ],
          "histogram": [
           {
            "marker": {
             "pattern": {
              "fillmode": "overlay",
              "size": 10,
              "solidity": 0.2
             }
            },
            "type": "histogram"
           }
          ],
          "histogram2d": [
           {
            "colorbar": {
             "outlinewidth": 0,
             "ticks": ""
            },
            "colorscale": [
             [
              0,
              "#0d0887"
             ],
             [
              0.1111111111111111,
              "#46039f"
             ],
             [
              0.2222222222222222,
              "#7201a8"
             ],
             [
              0.3333333333333333,
              "#9c179e"
             ],
             [
              0.4444444444444444,
              "#bd3786"
             ],
             [
              0.5555555555555556,
              "#d8576b"
             ],
             [
              0.6666666666666666,
              "#ed7953"
             ],
             [
              0.7777777777777778,
              "#fb9f3a"
             ],
             [
              0.8888888888888888,
              "#fdca26"
             ],
             [
              1,
              "#f0f921"
             ]
            ],
            "type": "histogram2d"
           }
          ],
          "histogram2dcontour": [
           {
            "colorbar": {
             "outlinewidth": 0,
             "ticks": ""
            },
            "colorscale": [
             [
              0,
              "#0d0887"
             ],
             [
              0.1111111111111111,
              "#46039f"
             ],
             [
              0.2222222222222222,
              "#7201a8"
             ],
             [
              0.3333333333333333,
              "#9c179e"
             ],
             [
              0.4444444444444444,
              "#bd3786"
             ],
             [
              0.5555555555555556,
              "#d8576b"
             ],
             [
              0.6666666666666666,
              "#ed7953"
             ],
             [
              0.7777777777777778,
              "#fb9f3a"
             ],
             [
              0.8888888888888888,
              "#fdca26"
             ],
             [
              1,
              "#f0f921"
             ]
            ],
            "type": "histogram2dcontour"
           }
          ],
          "mesh3d": [
           {
            "colorbar": {
             "outlinewidth": 0,
             "ticks": ""
            },
            "type": "mesh3d"
           }
          ],
          "parcoords": [
           {
            "line": {
             "colorbar": {
              "outlinewidth": 0,
              "ticks": ""
             }
            },
            "type": "parcoords"
           }
          ],
          "pie": [
           {
            "automargin": true,
            "type": "pie"
           }
          ],
          "scatter": [
           {
            "marker": {
             "colorbar": {
              "outlinewidth": 0,
              "ticks": ""
             }
            },
            "type": "scatter"
           }
          ],
          "scatter3d": [
           {
            "line": {
             "colorbar": {
              "outlinewidth": 0,
              "ticks": ""
             }
            },
            "marker": {
             "colorbar": {
              "outlinewidth": 0,
              "ticks": ""
             }
            },
            "type": "scatter3d"
           }
          ],
          "scattercarpet": [
           {
            "marker": {
             "colorbar": {
              "outlinewidth": 0,
              "ticks": ""
             }
            },
            "type": "scattercarpet"
           }
          ],
          "scattergeo": [
           {
            "marker": {
             "colorbar": {
              "outlinewidth": 0,
              "ticks": ""
             }
            },
            "type": "scattergeo"
           }
          ],
          "scattergl": [
           {
            "marker": {
             "colorbar": {
              "outlinewidth": 0,
              "ticks": ""
             }
            },
            "type": "scattergl"
           }
          ],
          "scattermapbox": [
           {
            "marker": {
             "colorbar": {
              "outlinewidth": 0,
              "ticks": ""
             }
            },
            "type": "scattermapbox"
           }
          ],
          "scatterpolar": [
           {
            "marker": {
             "colorbar": {
              "outlinewidth": 0,
              "ticks": ""
             }
            },
            "type": "scatterpolar"
           }
          ],
          "scatterpolargl": [
           {
            "marker": {
             "colorbar": {
              "outlinewidth": 0,
              "ticks": ""
             }
            },
            "type": "scatterpolargl"
           }
          ],
          "scatterternary": [
           {
            "marker": {
             "colorbar": {
              "outlinewidth": 0,
              "ticks": ""
             }
            },
            "type": "scatterternary"
           }
          ],
          "surface": [
           {
            "colorbar": {
             "outlinewidth": 0,
             "ticks": ""
            },
            "colorscale": [
             [
              0,
              "#0d0887"
             ],
             [
              0.1111111111111111,
              "#46039f"
             ],
             [
              0.2222222222222222,
              "#7201a8"
             ],
             [
              0.3333333333333333,
              "#9c179e"
             ],
             [
              0.4444444444444444,
              "#bd3786"
             ],
             [
              0.5555555555555556,
              "#d8576b"
             ],
             [
              0.6666666666666666,
              "#ed7953"
             ],
             [
              0.7777777777777778,
              "#fb9f3a"
             ],
             [
              0.8888888888888888,
              "#fdca26"
             ],
             [
              1,
              "#f0f921"
             ]
            ],
            "type": "surface"
           }
          ],
          "table": [
           {
            "cells": {
             "fill": {
              "color": "#EBF0F8"
             },
             "line": {
              "color": "white"
             }
            },
            "header": {
             "fill": {
              "color": "#C8D4E3"
             },
             "line": {
              "color": "white"
             }
            },
            "type": "table"
           }
          ]
         },
         "layout": {
          "annotationdefaults": {
           "arrowcolor": "#2a3f5f",
           "arrowhead": 0,
           "arrowwidth": 1
          },
          "autotypenumbers": "strict",
          "coloraxis": {
           "colorbar": {
            "outlinewidth": 0,
            "ticks": ""
           }
          },
          "colorscale": {
           "diverging": [
            [
             0,
             "#8e0152"
            ],
            [
             0.1,
             "#c51b7d"
            ],
            [
             0.2,
             "#de77ae"
            ],
            [
             0.3,
             "#f1b6da"
            ],
            [
             0.4,
             "#fde0ef"
            ],
            [
             0.5,
             "#f7f7f7"
            ],
            [
             0.6,
             "#e6f5d0"
            ],
            [
             0.7,
             "#b8e186"
            ],
            [
             0.8,
             "#7fbc41"
            ],
            [
             0.9,
             "#4d9221"
            ],
            [
             1,
             "#276419"
            ]
           ],
           "sequential": [
            [
             0,
             "#0d0887"
            ],
            [
             0.1111111111111111,
             "#46039f"
            ],
            [
             0.2222222222222222,
             "#7201a8"
            ],
            [
             0.3333333333333333,
             "#9c179e"
            ],
            [
             0.4444444444444444,
             "#bd3786"
            ],
            [
             0.5555555555555556,
             "#d8576b"
            ],
            [
             0.6666666666666666,
             "#ed7953"
            ],
            [
             0.7777777777777778,
             "#fb9f3a"
            ],
            [
             0.8888888888888888,
             "#fdca26"
            ],
            [
             1,
             "#f0f921"
            ]
           ],
           "sequentialminus": [
            [
             0,
             "#0d0887"
            ],
            [
             0.1111111111111111,
             "#46039f"
            ],
            [
             0.2222222222222222,
             "#7201a8"
            ],
            [
             0.3333333333333333,
             "#9c179e"
            ],
            [
             0.4444444444444444,
             "#bd3786"
            ],
            [
             0.5555555555555556,
             "#d8576b"
            ],
            [
             0.6666666666666666,
             "#ed7953"
            ],
            [
             0.7777777777777778,
             "#fb9f3a"
            ],
            [
             0.8888888888888888,
             "#fdca26"
            ],
            [
             1,
             "#f0f921"
            ]
           ]
          },
          "colorway": [
           "#636efa",
           "#EF553B",
           "#00cc96",
           "#ab63fa",
           "#FFA15A",
           "#19d3f3",
           "#FF6692",
           "#B6E880",
           "#FF97FF",
           "#FECB52"
          ],
          "font": {
           "color": "#2a3f5f"
          },
          "geo": {
           "bgcolor": "white",
           "lakecolor": "white",
           "landcolor": "#E5ECF6",
           "showlakes": true,
           "showland": true,
           "subunitcolor": "white"
          },
          "hoverlabel": {
           "align": "left"
          },
          "hovermode": "closest",
          "mapbox": {
           "style": "light"
          },
          "paper_bgcolor": "white",
          "plot_bgcolor": "#E5ECF6",
          "polar": {
           "angularaxis": {
            "gridcolor": "white",
            "linecolor": "white",
            "ticks": ""
           },
           "bgcolor": "#E5ECF6",
           "radialaxis": {
            "gridcolor": "white",
            "linecolor": "white",
            "ticks": ""
           }
          },
          "scene": {
           "xaxis": {
            "backgroundcolor": "#E5ECF6",
            "gridcolor": "white",
            "gridwidth": 2,
            "linecolor": "white",
            "showbackground": true,
            "ticks": "",
            "zerolinecolor": "white"
           },
           "yaxis": {
            "backgroundcolor": "#E5ECF6",
            "gridcolor": "white",
            "gridwidth": 2,
            "linecolor": "white",
            "showbackground": true,
            "ticks": "",
            "zerolinecolor": "white"
           },
           "zaxis": {
            "backgroundcolor": "#E5ECF6",
            "gridcolor": "white",
            "gridwidth": 2,
            "linecolor": "white",
            "showbackground": true,
            "ticks": "",
            "zerolinecolor": "white"
           }
          },
          "shapedefaults": {
           "line": {
            "color": "#2a3f5f"
           }
          },
          "ternary": {
           "aaxis": {
            "gridcolor": "white",
            "linecolor": "white",
            "ticks": ""
           },
           "baxis": {
            "gridcolor": "white",
            "linecolor": "white",
            "ticks": ""
           },
           "bgcolor": "#E5ECF6",
           "caxis": {
            "gridcolor": "white",
            "linecolor": "white",
            "ticks": ""
           }
          },
          "title": {
           "x": 0.05
          },
          "xaxis": {
           "automargin": true,
           "gridcolor": "white",
           "linecolor": "white",
           "ticks": "",
           "title": {
            "standoff": 15
           },
           "zerolinecolor": "white",
           "zerolinewidth": 2
          },
          "yaxis": {
           "automargin": true,
           "gridcolor": "white",
           "linecolor": "white",
           "ticks": "",
           "title": {
            "standoff": 15
           },
           "zerolinecolor": "white",
           "zerolinewidth": 2
          }
         }
        },
        "title": {
         "text": "UC OA Publications in CUP Journals"
        },
        "xaxis": {
         "anchor": "y",
         "domain": [
          0,
          1
         ],
         "title": {
          "text": "size"
         }
        },
        "yaxis": {
         "anchor": "x",
         "categoryorder": "total ascending",
         "domain": [
          0,
          1
         ],
         "title": {
          "text": "journal.title"
         }
        }
       }
      },
      "text/html": [
       "<div>                            <div id=\"17d7b03c-9da8-4d57-87b7-90eec8e755c2\" class=\"plotly-graph-div\" style=\"height:525px; width:100%;\"></div>            <script type=\"text/javascript\">                require([\"plotly\"], function(Plotly) {                    window.PLOTLYENV=window.PLOTLYENV || {};                                    if (document.getElementById(\"17d7b03c-9da8-4d57-87b7-90eec8e755c2\")) {                    Plotly.newPlot(                        \"17d7b03c-9da8-4d57-87b7-90eec8e755c2\",                        [{\"alignmentgroup\":\"True\",\"hovertemplate\":\"oa_status=bronze<br>size=%{x}<br>journal.title=%{y}<extra></extra>\",\"legendgroup\":\"bronze\",\"marker\":{\"color\":\"#636efa\",\"pattern\":{\"shape\":\"\"}},\"name\":\"bronze\",\"offsetgroup\":\"bronze\",\"orientation\":\"h\",\"showlegend\":true,\"textposition\":\"auto\",\"type\":\"bar\",\"x\":[1,1,4,2,3,3,1,1,1,4,1,1,1,2,1,2,1,2,5,2,4,2,1,1,3,2,1,1,1,1,1],\"xaxis\":\"x\",\"y\":[\"Advances in Applied Probability\",\"Advances in Archaeological Practice\",\"British Journal Of Nutrition\",\"Bulletin of the Australian Mathematical Society\",\"CNS Spectrums\",\"Canadian Journal of Neurological Sciences / Journal Canadien des Sciences Neurologiques\",\"Disaster Medicine and Public Health Preparedness\",\"Ergodic Theory and Dynamical Systems\",\"European Journal of Applied Mathematics\",\"Infection Control and Hospital Epidemiology\",\"International Astronomical Union Colloquium\",\"International Journal Middle East Studies\",\"International Labor and Working-Class History\",\"Journal of Applied Probability\",\"Journal of Paleontology\",\"Journal of the Australian Mathematical Society Series A Pure Mathematics and Statistics\",\"Journal of the International Neuropsychological Society\",\"Microscopy Today\",\"Microscopy and Microanalysis\",\"Political Science and Politics\",\"Prehospital and Disaster Medicine\",\"Proceedings of The Nutrition Society\",\"Proceedings of the ASIL Annual Meeting\",\"Proceedings of the Edinburgh Mathematical Society\",\"Proceedings of the International Astronomical Union\",\"Public Health Nutrition\",\"Review of International Studies\",\"The British Journal of Psychiatry\",\"The Journal of Asian Studies\",\"The Journal of the Australian Mathematical Society Series B Applied Mathematics\",\"Twin Research and Human Genetics\"],\"yaxis\":\"y\"},{\"alignmentgroup\":\"True\",\"hovertemplate\":\"oa_status=gold<br>size=%{x}<br>journal.title=%{y}<extra></extra>\",\"legendgroup\":\"gold\",\"marker\":{\"color\":\"#EF553B\",\"pattern\":{\"shape\":\"\"}},\"name\":\"gold\",\"offsetgroup\":\"gold\",\"orientation\":\"h\",\"showlegend\":true,\"textposition\":\"auto\",\"type\":\"bar\",\"x\":[1,8,3],\"xaxis\":\"x\",\"y\":[\"Epidemiology and Infection\",\"Journal of Clinical and Translational Science\",\"Symposium - International Astronomical Union\"],\"yaxis\":\"y\"},{\"alignmentgroup\":\"True\",\"hovertemplate\":\"oa_status=green<br>size=%{x}<br>journal.title=%{y}<extra></extra>\",\"legendgroup\":\"green\",\"marker\":{\"color\":\"#00cc96\",\"pattern\":{\"shape\":\"\"}},\"name\":\"green\",\"offsetgroup\":\"green\",\"orientation\":\"h\",\"showlegend\":true,\"textposition\":\"auto\",\"type\":\"bar\",\"x\":[1,1,2,1,1,1,2,2,1,2,1,1,7,1,1,1,1,1,1],\"xaxis\":\"x\",\"y\":[\"CNS Spectrums\",\"Cardiology in the Young\",\"Development and Psychopathology\",\"Disaster Medicine and Public Health Preparedness\",\"Du Bois Review Social Science Research on Race\",\"Environmental Conservation\",\"Epidemiology and Infection\",\"Infection Control and Hospital Epidemiology\",\"Journal of Developmental Origins of Health and Disease\",\"Journal of Financial and Quantitative Analysis\",\"Journal of Paleontology\",\"Journal of the American Philosophical Association\",\"Journal of the International Neuropsychological Society\",\"Law and History Review\",\"Parasitology\",\"Powder Diffraction\",\"Psychological Medicine\",\"Quaternary Research\",\"Radiocarbon\"],\"yaxis\":\"y\"},{\"alignmentgroup\":\"True\",\"hovertemplate\":\"oa_status=hybrid<br>size=%{x}<br>journal.title=%{y}<extra></extra>\",\"legendgroup\":\"hybrid\",\"marker\":{\"color\":\"#ab63fa\",\"pattern\":{\"shape\":\"\"}},\"name\":\"hybrid\",\"offsetgroup\":\"hybrid\",\"orientation\":\"h\",\"showlegend\":true,\"textposition\":\"auto\",\"type\":\"bar\",\"x\":[1,1,2,1,1,1,1],\"xaxis\":\"x\",\"y\":[\"British Journal Of Nutrition\",\"CNS Spectrums\",\"Cardiology in the Young\",\"Epidemiology and Infection\",\"Infection Control and Hospital Epidemiology\",\"Journal of Fluid Mechanics\",\"Paleobiology\"],\"yaxis\":\"y\"}],                        {\"barmode\":\"relative\",\"legend\":{\"title\":{\"text\":\"oa_status\"},\"tracegroupgap\":0},\"showlegend\":false,\"template\":{\"data\":{\"bar\":[{\"error_x\":{\"color\":\"#2a3f5f\"},\"error_y\":{\"color\":\"#2a3f5f\"},\"marker\":{\"line\":{\"color\":\"#E5ECF6\",\"width\":0.5},\"pattern\":{\"fillmode\":\"overlay\",\"size\":10,\"solidity\":0.2}},\"type\":\"bar\"}],\"barpolar\":[{\"marker\":{\"line\":{\"color\":\"#E5ECF6\",\"width\":0.5},\"pattern\":{\"fillmode\":\"overlay\",\"size\":10,\"solidity\":0.2}},\"type\":\"barpolar\"}],\"carpet\":[{\"aaxis\":{\"endlinecolor\":\"#2a3f5f\",\"gridcolor\":\"white\",\"linecolor\":\"white\",\"minorgridcolor\":\"white\",\"startlinecolor\":\"#2a3f5f\"},\"baxis\":{\"endlinecolor\":\"#2a3f5f\",\"gridcolor\":\"white\",\"linecolor\":\"white\",\"minorgridcolor\":\"white\",\"startlinecolor\":\"#2a3f5f\"},\"type\":\"carpet\"}],\"choropleth\":[{\"colorbar\":{\"outlinewidth\":0,\"ticks\":\"\"},\"type\":\"choropleth\"}],\"contour\":[{\"colorbar\":{\"outlinewidth\":0,\"ticks\":\"\"},\"colorscale\":[[0.0,\"#0d0887\"],[0.1111111111111111,\"#46039f\"],[0.2222222222222222,\"#7201a8\"],[0.3333333333333333,\"#9c179e\"],[0.4444444444444444,\"#bd3786\"],[0.5555555555555556,\"#d8576b\"],[0.6666666666666666,\"#ed7953\"],[0.7777777777777778,\"#fb9f3a\"],[0.8888888888888888,\"#fdca26\"],[1.0,\"#f0f921\"]],\"type\":\"contour\"}],\"contourcarpet\":[{\"colorbar\":{\"outlinewidth\":0,\"ticks\":\"\"},\"type\":\"contourcarpet\"}],\"heatmap\":[{\"colorbar\":{\"outlinewidth\":0,\"ticks\":\"\"},\"colorscale\":[[0.0,\"#0d0887\"],[0.1111111111111111,\"#46039f\"],[0.2222222222222222,\"#7201a8\"],[0.3333333333333333,\"#9c179e\"],[0.4444444444444444,\"#bd3786\"],[0.5555555555555556,\"#d8576b\"],[0.6666666666666666,\"#ed7953\"],[0.7777777777777778,\"#fb9f3a\"],[0.8888888888888888,\"#fdca26\"],[1.0,\"#f0f921\"]],\"type\":\"heatmap\"}],\"heatmapgl\":[{\"colorbar\":{\"outlinewidth\":0,\"ticks\":\"\"},\"colorscale\":[[0.0,\"#0d0887\"],[0.1111111111111111,\"#46039f\"],[0.2222222222222222,\"#7201a8\"],[0.3333333333333333,\"#9c179e\"],[0.4444444444444444,\"#bd3786\"],[0.5555555555555556,\"#d8576b\"],[0.6666666666666666,\"#ed7953\"],[0.7777777777777778,\"#fb9f3a\"],[0.8888888888888888,\"#fdca26\"],[1.0,\"#f0f921\"]],\"type\":\"heatmapgl\"}],\"histogram\":[{\"marker\":{\"pattern\":{\"fillmode\":\"overlay\",\"size\":10,\"solidity\":0.2}},\"type\":\"histogram\"}],\"histogram2d\":[{\"colorbar\":{\"outlinewidth\":0,\"ticks\":\"\"},\"colorscale\":[[0.0,\"#0d0887\"],[0.1111111111111111,\"#46039f\"],[0.2222222222222222,\"#7201a8\"],[0.3333333333333333,\"#9c179e\"],[0.4444444444444444,\"#bd3786\"],[0.5555555555555556,\"#d8576b\"],[0.6666666666666666,\"#ed7953\"],[0.7777777777777778,\"#fb9f3a\"],[0.8888888888888888,\"#fdca26\"],[1.0,\"#f0f921\"]],\"type\":\"histogram2d\"}],\"histogram2dcontour\":[{\"colorbar\":{\"outlinewidth\":0,\"ticks\":\"\"},\"colorscale\":[[0.0,\"#0d0887\"],[0.1111111111111111,\"#46039f\"],[0.2222222222222222,\"#7201a8\"],[0.3333333333333333,\"#9c179e\"],[0.4444444444444444,\"#bd3786\"],[0.5555555555555556,\"#d8576b\"],[0.6666666666666666,\"#ed7953\"],[0.7777777777777778,\"#fb9f3a\"],[0.8888888888888888,\"#fdca26\"],[1.0,\"#f0f921\"]],\"type\":\"histogram2dcontour\"}],\"mesh3d\":[{\"colorbar\":{\"outlinewidth\":0,\"ticks\":\"\"},\"type\":\"mesh3d\"}],\"parcoords\":[{\"line\":{\"colorbar\":{\"outlinewidth\":0,\"ticks\":\"\"}},\"type\":\"parcoords\"}],\"pie\":[{\"automargin\":true,\"type\":\"pie\"}],\"scatter\":[{\"marker\":{\"colorbar\":{\"outlinewidth\":0,\"ticks\":\"\"}},\"type\":\"scatter\"}],\"scatter3d\":[{\"line\":{\"colorbar\":{\"outlinewidth\":0,\"ticks\":\"\"}},\"marker\":{\"colorbar\":{\"outlinewidth\":0,\"ticks\":\"\"}},\"type\":\"scatter3d\"}],\"scattercarpet\":[{\"marker\":{\"colorbar\":{\"outlinewidth\":0,\"ticks\":\"\"}},\"type\":\"scattercarpet\"}],\"scattergeo\":[{\"marker\":{\"colorbar\":{\"outlinewidth\":0,\"ticks\":\"\"}},\"type\":\"scattergeo\"}],\"scattergl\":[{\"marker\":{\"colorbar\":{\"outlinewidth\":0,\"ticks\":\"\"}},\"type\":\"scattergl\"}],\"scattermapbox\":[{\"marker\":{\"colorbar\":{\"outlinewidth\":0,\"ticks\":\"\"}},\"type\":\"scattermapbox\"}],\"scatterpolar\":[{\"marker\":{\"colorbar\":{\"outlinewidth\":0,\"ticks\":\"\"}},\"type\":\"scatterpolar\"}],\"scatterpolargl\":[{\"marker\":{\"colorbar\":{\"outlinewidth\":0,\"ticks\":\"\"}},\"type\":\"scatterpolargl\"}],\"scatterternary\":[{\"marker\":{\"colorbar\":{\"outlinewidth\":0,\"ticks\":\"\"}},\"type\":\"scatterternary\"}],\"surface\":[{\"colorbar\":{\"outlinewidth\":0,\"ticks\":\"\"},\"colorscale\":[[0.0,\"#0d0887\"],[0.1111111111111111,\"#46039f\"],[0.2222222222222222,\"#7201a8\"],[0.3333333333333333,\"#9c179e\"],[0.4444444444444444,\"#bd3786\"],[0.5555555555555556,\"#d8576b\"],[0.6666666666666666,\"#ed7953\"],[0.7777777777777778,\"#fb9f3a\"],[0.8888888888888888,\"#fdca26\"],[1.0,\"#f0f921\"]],\"type\":\"surface\"}],\"table\":[{\"cells\":{\"fill\":{\"color\":\"#EBF0F8\"},\"line\":{\"color\":\"white\"}},\"header\":{\"fill\":{\"color\":\"#C8D4E3\"},\"line\":{\"color\":\"white\"}},\"type\":\"table\"}]},\"layout\":{\"annotationdefaults\":{\"arrowcolor\":\"#2a3f5f\",\"arrowhead\":0,\"arrowwidth\":1},\"autotypenumbers\":\"strict\",\"coloraxis\":{\"colorbar\":{\"outlinewidth\":0,\"ticks\":\"\"}},\"colorscale\":{\"diverging\":[[0,\"#8e0152\"],[0.1,\"#c51b7d\"],[0.2,\"#de77ae\"],[0.3,\"#f1b6da\"],[0.4,\"#fde0ef\"],[0.5,\"#f7f7f7\"],[0.6,\"#e6f5d0\"],[0.7,\"#b8e186\"],[0.8,\"#7fbc41\"],[0.9,\"#4d9221\"],[1,\"#276419\"]],\"sequential\":[[0.0,\"#0d0887\"],[0.1111111111111111,\"#46039f\"],[0.2222222222222222,\"#7201a8\"],[0.3333333333333333,\"#9c179e\"],[0.4444444444444444,\"#bd3786\"],[0.5555555555555556,\"#d8576b\"],[0.6666666666666666,\"#ed7953\"],[0.7777777777777778,\"#fb9f3a\"],[0.8888888888888888,\"#fdca26\"],[1.0,\"#f0f921\"]],\"sequentialminus\":[[0.0,\"#0d0887\"],[0.1111111111111111,\"#46039f\"],[0.2222222222222222,\"#7201a8\"],[0.3333333333333333,\"#9c179e\"],[0.4444444444444444,\"#bd3786\"],[0.5555555555555556,\"#d8576b\"],[0.6666666666666666,\"#ed7953\"],[0.7777777777777778,\"#fb9f3a\"],[0.8888888888888888,\"#fdca26\"],[1.0,\"#f0f921\"]]},\"colorway\":[\"#636efa\",\"#EF553B\",\"#00cc96\",\"#ab63fa\",\"#FFA15A\",\"#19d3f3\",\"#FF6692\",\"#B6E880\",\"#FF97FF\",\"#FECB52\"],\"font\":{\"color\":\"#2a3f5f\"},\"geo\":{\"bgcolor\":\"white\",\"lakecolor\":\"white\",\"landcolor\":\"#E5ECF6\",\"showlakes\":true,\"showland\":true,\"subunitcolor\":\"white\"},\"hoverlabel\":{\"align\":\"left\"},\"hovermode\":\"closest\",\"mapbox\":{\"style\":\"light\"},\"paper_bgcolor\":\"white\",\"plot_bgcolor\":\"#E5ECF6\",\"polar\":{\"angularaxis\":{\"gridcolor\":\"white\",\"linecolor\":\"white\",\"ticks\":\"\"},\"bgcolor\":\"#E5ECF6\",\"radialaxis\":{\"gridcolor\":\"white\",\"linecolor\":\"white\",\"ticks\":\"\"}},\"scene\":{\"xaxis\":{\"backgroundcolor\":\"#E5ECF6\",\"gridcolor\":\"white\",\"gridwidth\":2,\"linecolor\":\"white\",\"showbackground\":true,\"ticks\":\"\",\"zerolinecolor\":\"white\"},\"yaxis\":{\"backgroundcolor\":\"#E5ECF6\",\"gridcolor\":\"white\",\"gridwidth\":2,\"linecolor\":\"white\",\"showbackground\":true,\"ticks\":\"\",\"zerolinecolor\":\"white\"},\"zaxis\":{\"backgroundcolor\":\"#E5ECF6\",\"gridcolor\":\"white\",\"gridwidth\":2,\"linecolor\":\"white\",\"showbackground\":true,\"ticks\":\"\",\"zerolinecolor\":\"white\"}},\"shapedefaults\":{\"line\":{\"color\":\"#2a3f5f\"}},\"ternary\":{\"aaxis\":{\"gridcolor\":\"white\",\"linecolor\":\"white\",\"ticks\":\"\"},\"baxis\":{\"gridcolor\":\"white\",\"linecolor\":\"white\",\"ticks\":\"\"},\"bgcolor\":\"#E5ECF6\",\"caxis\":{\"gridcolor\":\"white\",\"linecolor\":\"white\",\"ticks\":\"\"}},\"title\":{\"x\":0.05},\"xaxis\":{\"automargin\":true,\"gridcolor\":\"white\",\"linecolor\":\"white\",\"ticks\":\"\",\"title\":{\"standoff\":15},\"zerolinecolor\":\"white\",\"zerolinewidth\":2},\"yaxis\":{\"automargin\":true,\"gridcolor\":\"white\",\"linecolor\":\"white\",\"ticks\":\"\",\"title\":{\"standoff\":15},\"zerolinecolor\":\"white\",\"zerolinewidth\":2}}},\"title\":{\"text\":\"UC OA Publications in CUP Journals\"},\"xaxis\":{\"anchor\":\"y\",\"domain\":[0.0,1.0],\"title\":{\"text\":\"size\"}},\"yaxis\":{\"anchor\":\"x\",\"categoryorder\":\"total ascending\",\"domain\":[0.0,1.0],\"title\":{\"text\":\"journal.title\"}}},                        {\"responsive\": true}                    ).then(function(){\n",
       "                            \n",
       "var gd = document.getElementById('17d7b03c-9da8-4d57-87b7-90eec8e755c2');\n",
       "var x = new MutationObserver(function (mutations, observer) {{\n",
       "        var display = window.getComputedStyle(gd).display;\n",
       "        if (!display || display === 'none') {{\n",
       "            console.log([gd, 'removed!']);\n",
       "            Plotly.purge(gd);\n",
       "            observer.disconnect();\n",
       "        }}\n",
       "}});\n",
       "\n",
       "// Listen for the removal of the full notebook cells\n",
       "var notebookContainer = gd.closest('#notebook-container');\n",
       "if (notebookContainer) {{\n",
       "    x.observe(notebookContainer, {childList: true});\n",
       "}}\n",
       "\n",
       "// Listen for the clearing of the current output cell\n",
       "var outputEl = gd.closest('.output');\n",
       "if (outputEl) {{\n",
       "    x.observe(outputEl, {childList: true});\n",
       "}}\n",
       "\n",
       "                        })                };                });            </script>        </div>"
      ]
     },
     "metadata": {},
     "output_type": "display_data"
    }
   ],
   "source": [
    "oa_stacked = oa_df.groupby([\"oa_status\",\"journal.title\"],as_index=False).size()\n",
    "\n",
    "fig = px.bar(oa_stacked, x=\"size\", y=\"journal.title\", color=\"oa_status\", \n",
    "             orientation=\"h\", title=\"UC OA Publications in CUP Journals\")\n",
    "fig.update_layout(showlegend=False, yaxis={'categoryorder':'total ascending'})\n",
    "\n",
    "fig.show()"
   ]
  },
  {
   "cell_type": "markdown",
   "metadata": {},
   "source": [
    "## Run the below box to see the number of different kinds of OA publications per journal between 1990 and 2021\n",
    "\n",
    "Hover over the squares in the plot below to see the journal title, the type of publications (gold OA, bronze OA, closed...), and the number of publications in that journal of that type. You can select ranges by dragging over an area. Double click to go back to default view. "
   ]
  },
  {
   "cell_type": "code",
   "execution_count": 16,
   "metadata": {},
   "outputs": [
    {
     "data": {
      "application/vnd.plotly.v1+json": {
       "config": {
        "plotlyServerURL": "https://plot.ly"
       },
       "data": [
        {
         "coloraxis": "coloraxis",
         "hovertemplate": "journal.title: %{x}<br>y: %{y}<br>color: %{z}<extra></extra>",
         "name": "0",
         "type": "heatmap",
         "x": [
          "Albion A Quarterly Journal Concerned with British Studies",
          "American Antiquity",
          "American Political Science Review",
          "Behavioral and Brain Sciences",
          "British Journal Of Nutrition",
          "CNS Spectrums",
          "Cardiology in the Young",
          "Industrial and Organizational Psychology",
          "Infection Control and Hospital Epidemiology",
          "Journal of Clinical and Translational Science",
          "Journal of Paleontology",
          "Journal of Roman Archaeology",
          "Journal of the International Neuropsychological Society",
          "Latin American Antiquity",
          "Microscopy and Microanalysis",
          "Paleobiology",
          "Politics and Religion",
          "Prehospital and Disaster Medicine",
          "Psychological Medicine",
          "Quaternary Research",
          "Renaissance Quarterly",
          "Robotica",
          "The Journal of Asian Studies",
          "The Journal of Economic History"
         ],
         "xaxis": "x",
         "y": [
          "bronze",
          "closed",
          "gold",
          "green",
          "hybrid"
         ],
         "yaxis": "y",
         "z": [
          [
           null,
           null,
           null,
           null,
           4,
           3,
           null,
           null,
           4,
           null,
           1,
           null,
           1,
           null,
           5,
           null,
           null,
           4,
           null,
           null,
           null,
           null,
           1,
           null
          ],
          [
           5,
           5,
           8,
           17,
           2,
           8,
           28,
           5,
           13,
           null,
           8,
           5,
           9,
           5,
           2,
           7,
           7,
           2,
           4,
           12,
           7,
           5,
           8,
           7
          ],
          [
           null,
           null,
           null,
           null,
           null,
           null,
           null,
           null,
           null,
           8,
           null,
           null,
           null,
           null,
           null,
           null,
           null,
           null,
           null,
           null,
           null,
           null,
           null,
           null
          ],
          [
           null,
           null,
           null,
           null,
           null,
           1,
           1,
           null,
           2,
           null,
           1,
           null,
           7,
           null,
           null,
           null,
           null,
           null,
           1,
           1,
           null,
           null,
           null,
           null
          ],
          [
           null,
           null,
           null,
           null,
           1,
           1,
           2,
           null,
           1,
           null,
           null,
           null,
           null,
           null,
           null,
           1,
           null,
           null,
           null,
           null,
           null,
           null,
           null,
           null
          ]
         ]
        }
       ],
       "layout": {
        "coloraxis": {
         "colorscale": [
          [
           0,
           "#30123b"
          ],
          [
           0.07142857142857142,
           "#4145ab"
          ],
          [
           0.14285714285714285,
           "#4675ed"
          ],
          [
           0.21428571428571427,
           "#39a2fc"
          ],
          [
           0.2857142857142857,
           "#1bcfd4"
          ],
          [
           0.35714285714285715,
           "#24eca6"
          ],
          [
           0.42857142857142855,
           "#61fc6c"
          ],
          [
           0.5,
           "#a4fc3b"
          ],
          [
           0.5714285714285714,
           "#d1e834"
          ],
          [
           0.6428571428571429,
           "#f3c63a"
          ],
          [
           0.7142857142857143,
           "#fe9b2d"
          ],
          [
           0.7857142857142857,
           "#f36315"
          ],
          [
           0.8571428571428571,
           "#d93806"
          ],
          [
           0.9285714285714286,
           "#b11901"
          ],
          [
           1,
           "#7a0402"
          ]
         ]
        },
        "height": 600,
        "template": {
         "data": {
          "bar": [
           {
            "error_x": {
             "color": "#2a3f5f"
            },
            "error_y": {
             "color": "#2a3f5f"
            },
            "marker": {
             "line": {
              "color": "#E5ECF6",
              "width": 0.5
             },
             "pattern": {
              "fillmode": "overlay",
              "size": 10,
              "solidity": 0.2
             }
            },
            "type": "bar"
           }
          ],
          "barpolar": [
           {
            "marker": {
             "line": {
              "color": "#E5ECF6",
              "width": 0.5
             },
             "pattern": {
              "fillmode": "overlay",
              "size": 10,
              "solidity": 0.2
             }
            },
            "type": "barpolar"
           }
          ],
          "carpet": [
           {
            "aaxis": {
             "endlinecolor": "#2a3f5f",
             "gridcolor": "white",
             "linecolor": "white",
             "minorgridcolor": "white",
             "startlinecolor": "#2a3f5f"
            },
            "baxis": {
             "endlinecolor": "#2a3f5f",
             "gridcolor": "white",
             "linecolor": "white",
             "minorgridcolor": "white",
             "startlinecolor": "#2a3f5f"
            },
            "type": "carpet"
           }
          ],
          "choropleth": [
           {
            "colorbar": {
             "outlinewidth": 0,
             "ticks": ""
            },
            "type": "choropleth"
           }
          ],
          "contour": [
           {
            "colorbar": {
             "outlinewidth": 0,
             "ticks": ""
            },
            "colorscale": [
             [
              0,
              "#0d0887"
             ],
             [
              0.1111111111111111,
              "#46039f"
             ],
             [
              0.2222222222222222,
              "#7201a8"
             ],
             [
              0.3333333333333333,
              "#9c179e"
             ],
             [
              0.4444444444444444,
              "#bd3786"
             ],
             [
              0.5555555555555556,
              "#d8576b"
             ],
             [
              0.6666666666666666,
              "#ed7953"
             ],
             [
              0.7777777777777778,
              "#fb9f3a"
             ],
             [
              0.8888888888888888,
              "#fdca26"
             ],
             [
              1,
              "#f0f921"
             ]
            ],
            "type": "contour"
           }
          ],
          "contourcarpet": [
           {
            "colorbar": {
             "outlinewidth": 0,
             "ticks": ""
            },
            "type": "contourcarpet"
           }
          ],
          "heatmap": [
           {
            "colorbar": {
             "outlinewidth": 0,
             "ticks": ""
            },
            "colorscale": [
             [
              0,
              "#0d0887"
             ],
             [
              0.1111111111111111,
              "#46039f"
             ],
             [
              0.2222222222222222,
              "#7201a8"
             ],
             [
              0.3333333333333333,
              "#9c179e"
             ],
             [
              0.4444444444444444,
              "#bd3786"
             ],
             [
              0.5555555555555556,
              "#d8576b"
             ],
             [
              0.6666666666666666,
              "#ed7953"
             ],
             [
              0.7777777777777778,
              "#fb9f3a"
             ],
             [
              0.8888888888888888,
              "#fdca26"
             ],
             [
              1,
              "#f0f921"
             ]
            ],
            "type": "heatmap"
           }
          ],
          "heatmapgl": [
           {
            "colorbar": {
             "outlinewidth": 0,
             "ticks": ""
            },
            "colorscale": [
             [
              0,
              "#0d0887"
             ],
             [
              0.1111111111111111,
              "#46039f"
             ],
             [
              0.2222222222222222,
              "#7201a8"
             ],
             [
              0.3333333333333333,
              "#9c179e"
             ],
             [
              0.4444444444444444,
              "#bd3786"
             ],
             [
              0.5555555555555556,
              "#d8576b"
             ],
             [
              0.6666666666666666,
              "#ed7953"
             ],
             [
              0.7777777777777778,
              "#fb9f3a"
             ],
             [
              0.8888888888888888,
              "#fdca26"
             ],
             [
              1,
              "#f0f921"
             ]
            ],
            "type": "heatmapgl"
           }
          ],
          "histogram": [
           {
            "marker": {
             "pattern": {
              "fillmode": "overlay",
              "size": 10,
              "solidity": 0.2
             }
            },
            "type": "histogram"
           }
          ],
          "histogram2d": [
           {
            "colorbar": {
             "outlinewidth": 0,
             "ticks": ""
            },
            "colorscale": [
             [
              0,
              "#0d0887"
             ],
             [
              0.1111111111111111,
              "#46039f"
             ],
             [
              0.2222222222222222,
              "#7201a8"
             ],
             [
              0.3333333333333333,
              "#9c179e"
             ],
             [
              0.4444444444444444,
              "#bd3786"
             ],
             [
              0.5555555555555556,
              "#d8576b"
             ],
             [
              0.6666666666666666,
              "#ed7953"
             ],
             [
              0.7777777777777778,
              "#fb9f3a"
             ],
             [
              0.8888888888888888,
              "#fdca26"
             ],
             [
              1,
              "#f0f921"
             ]
            ],
            "type": "histogram2d"
           }
          ],
          "histogram2dcontour": [
           {
            "colorbar": {
             "outlinewidth": 0,
             "ticks": ""
            },
            "colorscale": [
             [
              0,
              "#0d0887"
             ],
             [
              0.1111111111111111,
              "#46039f"
             ],
             [
              0.2222222222222222,
              "#7201a8"
             ],
             [
              0.3333333333333333,
              "#9c179e"
             ],
             [
              0.4444444444444444,
              "#bd3786"
             ],
             [
              0.5555555555555556,
              "#d8576b"
             ],
             [
              0.6666666666666666,
              "#ed7953"
             ],
             [
              0.7777777777777778,
              "#fb9f3a"
             ],
             [
              0.8888888888888888,
              "#fdca26"
             ],
             [
              1,
              "#f0f921"
             ]
            ],
            "type": "histogram2dcontour"
           }
          ],
          "mesh3d": [
           {
            "colorbar": {
             "outlinewidth": 0,
             "ticks": ""
            },
            "type": "mesh3d"
           }
          ],
          "parcoords": [
           {
            "line": {
             "colorbar": {
              "outlinewidth": 0,
              "ticks": ""
             }
            },
            "type": "parcoords"
           }
          ],
          "pie": [
           {
            "automargin": true,
            "type": "pie"
           }
          ],
          "scatter": [
           {
            "marker": {
             "colorbar": {
              "outlinewidth": 0,
              "ticks": ""
             }
            },
            "type": "scatter"
           }
          ],
          "scatter3d": [
           {
            "line": {
             "colorbar": {
              "outlinewidth": 0,
              "ticks": ""
             }
            },
            "marker": {
             "colorbar": {
              "outlinewidth": 0,
              "ticks": ""
             }
            },
            "type": "scatter3d"
           }
          ],
          "scattercarpet": [
           {
            "marker": {
             "colorbar": {
              "outlinewidth": 0,
              "ticks": ""
             }
            },
            "type": "scattercarpet"
           }
          ],
          "scattergeo": [
           {
            "marker": {
             "colorbar": {
              "outlinewidth": 0,
              "ticks": ""
             }
            },
            "type": "scattergeo"
           }
          ],
          "scattergl": [
           {
            "marker": {
             "colorbar": {
              "outlinewidth": 0,
              "ticks": ""
             }
            },
            "type": "scattergl"
           }
          ],
          "scattermapbox": [
           {
            "marker": {
             "colorbar": {
              "outlinewidth": 0,
              "ticks": ""
             }
            },
            "type": "scattermapbox"
           }
          ],
          "scatterpolar": [
           {
            "marker": {
             "colorbar": {
              "outlinewidth": 0,
              "ticks": ""
             }
            },
            "type": "scatterpolar"
           }
          ],
          "scatterpolargl": [
           {
            "marker": {
             "colorbar": {
              "outlinewidth": 0,
              "ticks": ""
             }
            },
            "type": "scatterpolargl"
           }
          ],
          "scatterternary": [
           {
            "marker": {
             "colorbar": {
              "outlinewidth": 0,
              "ticks": ""
             }
            },
            "type": "scatterternary"
           }
          ],
          "surface": [
           {
            "colorbar": {
             "outlinewidth": 0,
             "ticks": ""
            },
            "colorscale": [
             [
              0,
              "#0d0887"
             ],
             [
              0.1111111111111111,
              "#46039f"
             ],
             [
              0.2222222222222222,
              "#7201a8"
             ],
             [
              0.3333333333333333,
              "#9c179e"
             ],
             [
              0.4444444444444444,
              "#bd3786"
             ],
             [
              0.5555555555555556,
              "#d8576b"
             ],
             [
              0.6666666666666666,
              "#ed7953"
             ],
             [
              0.7777777777777778,
              "#fb9f3a"
             ],
             [
              0.8888888888888888,
              "#fdca26"
             ],
             [
              1,
              "#f0f921"
             ]
            ],
            "type": "surface"
           }
          ],
          "table": [
           {
            "cells": {
             "fill": {
              "color": "#EBF0F8"
             },
             "line": {
              "color": "white"
             }
            },
            "header": {
             "fill": {
              "color": "#C8D4E3"
             },
             "line": {
              "color": "white"
             }
            },
            "type": "table"
           }
          ]
         },
         "layout": {
          "annotationdefaults": {
           "arrowcolor": "#2a3f5f",
           "arrowhead": 0,
           "arrowwidth": 1
          },
          "autotypenumbers": "strict",
          "coloraxis": {
           "colorbar": {
            "outlinewidth": 0,
            "ticks": ""
           }
          },
          "colorscale": {
           "diverging": [
            [
             0,
             "#8e0152"
            ],
            [
             0.1,
             "#c51b7d"
            ],
            [
             0.2,
             "#de77ae"
            ],
            [
             0.3,
             "#f1b6da"
            ],
            [
             0.4,
             "#fde0ef"
            ],
            [
             0.5,
             "#f7f7f7"
            ],
            [
             0.6,
             "#e6f5d0"
            ],
            [
             0.7,
             "#b8e186"
            ],
            [
             0.8,
             "#7fbc41"
            ],
            [
             0.9,
             "#4d9221"
            ],
            [
             1,
             "#276419"
            ]
           ],
           "sequential": [
            [
             0,
             "#0d0887"
            ],
            [
             0.1111111111111111,
             "#46039f"
            ],
            [
             0.2222222222222222,
             "#7201a8"
            ],
            [
             0.3333333333333333,
             "#9c179e"
            ],
            [
             0.4444444444444444,
             "#bd3786"
            ],
            [
             0.5555555555555556,
             "#d8576b"
            ],
            [
             0.6666666666666666,
             "#ed7953"
            ],
            [
             0.7777777777777778,
             "#fb9f3a"
            ],
            [
             0.8888888888888888,
             "#fdca26"
            ],
            [
             1,
             "#f0f921"
            ]
           ],
           "sequentialminus": [
            [
             0,
             "#0d0887"
            ],
            [
             0.1111111111111111,
             "#46039f"
            ],
            [
             0.2222222222222222,
             "#7201a8"
            ],
            [
             0.3333333333333333,
             "#9c179e"
            ],
            [
             0.4444444444444444,
             "#bd3786"
            ],
            [
             0.5555555555555556,
             "#d8576b"
            ],
            [
             0.6666666666666666,
             "#ed7953"
            ],
            [
             0.7777777777777778,
             "#fb9f3a"
            ],
            [
             0.8888888888888888,
             "#fdca26"
            ],
            [
             1,
             "#f0f921"
            ]
           ]
          },
          "colorway": [
           "#636efa",
           "#EF553B",
           "#00cc96",
           "#ab63fa",
           "#FFA15A",
           "#19d3f3",
           "#FF6692",
           "#B6E880",
           "#FF97FF",
           "#FECB52"
          ],
          "font": {
           "color": "#2a3f5f"
          },
          "geo": {
           "bgcolor": "white",
           "lakecolor": "white",
           "landcolor": "#E5ECF6",
           "showlakes": true,
           "showland": true,
           "subunitcolor": "white"
          },
          "hoverlabel": {
           "align": "left"
          },
          "hovermode": "closest",
          "mapbox": {
           "style": "light"
          },
          "paper_bgcolor": "white",
          "plot_bgcolor": "#E5ECF6",
          "polar": {
           "angularaxis": {
            "gridcolor": "white",
            "linecolor": "white",
            "ticks": ""
           },
           "bgcolor": "#E5ECF6",
           "radialaxis": {
            "gridcolor": "white",
            "linecolor": "white",
            "ticks": ""
           }
          },
          "scene": {
           "xaxis": {
            "backgroundcolor": "#E5ECF6",
            "gridcolor": "white",
            "gridwidth": 2,
            "linecolor": "white",
            "showbackground": true,
            "ticks": "",
            "zerolinecolor": "white"
           },
           "yaxis": {
            "backgroundcolor": "#E5ECF6",
            "gridcolor": "white",
            "gridwidth": 2,
            "linecolor": "white",
            "showbackground": true,
            "ticks": "",
            "zerolinecolor": "white"
           },
           "zaxis": {
            "backgroundcolor": "#E5ECF6",
            "gridcolor": "white",
            "gridwidth": 2,
            "linecolor": "white",
            "showbackground": true,
            "ticks": "",
            "zerolinecolor": "white"
           }
          },
          "shapedefaults": {
           "line": {
            "color": "#2a3f5f"
           }
          },
          "ternary": {
           "aaxis": {
            "gridcolor": "white",
            "linecolor": "white",
            "ticks": ""
           },
           "baxis": {
            "gridcolor": "white",
            "linecolor": "white",
            "ticks": ""
           },
           "bgcolor": "#E5ECF6",
           "caxis": {
            "gridcolor": "white",
            "linecolor": "white",
            "ticks": ""
           }
          },
          "title": {
           "x": 0.05
          },
          "xaxis": {
           "automargin": true,
           "gridcolor": "white",
           "linecolor": "white",
           "ticks": "",
           "title": {
            "standoff": 15
           },
           "zerolinecolor": "white",
           "zerolinewidth": 2
          },
          "yaxis": {
           "automargin": true,
           "gridcolor": "white",
           "linecolor": "white",
           "ticks": "",
           "title": {
            "standoff": 15
           },
           "zerolinecolor": "white",
           "zerolinewidth": 2
          }
         }
        },
        "title": {
         "text": "Number and Type of OA Publication by Journal Title"
        },
        "width": 1400,
        "xaxis": {
         "anchor": "y",
         "constrain": "domain",
         "domain": [
          0,
          1
         ],
         "scaleanchor": "y",
         "title": {
          "text": "journal.title"
         }
        },
        "yaxis": {
         "anchor": "x",
         "autorange": "reversed",
         "constrain": "domain",
         "domain": [
          0,
          1
         ]
        }
       }
      },
      "text/html": [
       "<div>                            <div id=\"f2a1c778-49b6-4234-976c-fd4d8057f869\" class=\"plotly-graph-div\" style=\"height:600px; width:1400px;\"></div>            <script type=\"text/javascript\">                require([\"plotly\"], function(Plotly) {                    window.PLOTLYENV=window.PLOTLYENV || {};                                    if (document.getElementById(\"f2a1c778-49b6-4234-976c-fd4d8057f869\")) {                    Plotly.newPlot(                        \"f2a1c778-49b6-4234-976c-fd4d8057f869\",                        [{\"coloraxis\":\"coloraxis\",\"hovertemplate\":\"journal.title: %{x}<br>y: %{y}<br>color: %{z}<extra></extra>\",\"name\":\"0\",\"type\":\"heatmap\",\"x\":[\"Albion A Quarterly Journal Concerned with British Studies\",\"American Antiquity\",\"American Political Science Review\",\"Behavioral and Brain Sciences\",\"British Journal Of Nutrition\",\"CNS Spectrums\",\"Cardiology in the Young\",\"Industrial and Organizational Psychology\",\"Infection Control and Hospital Epidemiology\",\"Journal of Clinical and Translational Science\",\"Journal of Paleontology\",\"Journal of Roman Archaeology\",\"Journal of the International Neuropsychological Society\",\"Latin American Antiquity\",\"Microscopy and Microanalysis\",\"Paleobiology\",\"Politics and Religion\",\"Prehospital and Disaster Medicine\",\"Psychological Medicine\",\"Quaternary Research\",\"Renaissance Quarterly\",\"Robotica\",\"The Journal of Asian Studies\",\"The Journal of Economic History\"],\"xaxis\":\"x\",\"y\":[\"bronze\",\"closed\",\"gold\",\"green\",\"hybrid\"],\"yaxis\":\"y\",\"z\":[[null,null,null,null,4.0,3.0,null,null,4.0,null,1.0,null,1.0,null,5.0,null,null,4.0,null,null,null,null,1.0,null],[5.0,5.0,8.0,17.0,2.0,8.0,28.0,5.0,13.0,null,8.0,5.0,9.0,5.0,2.0,7.0,7.0,2.0,4.0,12.0,7.0,5.0,8.0,7.0],[null,null,null,null,null,null,null,null,null,8.0,null,null,null,null,null,null,null,null,null,null,null,null,null,null],[null,null,null,null,null,1.0,1.0,null,2.0,null,1.0,null,7.0,null,null,null,null,null,1.0,1.0,null,null,null,null],[null,null,null,null,1.0,1.0,2.0,null,1.0,null,null,null,null,null,null,1.0,null,null,null,null,null,null,null,null]]}],                        {\"coloraxis\":{\"colorscale\":[[0.0,\"#30123b\"],[0.07142857142857142,\"#4145ab\"],[0.14285714285714285,\"#4675ed\"],[0.21428571428571427,\"#39a2fc\"],[0.2857142857142857,\"#1bcfd4\"],[0.35714285714285715,\"#24eca6\"],[0.42857142857142855,\"#61fc6c\"],[0.5,\"#a4fc3b\"],[0.5714285714285714,\"#d1e834\"],[0.6428571428571429,\"#f3c63a\"],[0.7142857142857143,\"#fe9b2d\"],[0.7857142857142857,\"#f36315\"],[0.8571428571428571,\"#d93806\"],[0.9285714285714286,\"#b11901\"],[1.0,\"#7a0402\"]]},\"height\":600,\"template\":{\"data\":{\"bar\":[{\"error_x\":{\"color\":\"#2a3f5f\"},\"error_y\":{\"color\":\"#2a3f5f\"},\"marker\":{\"line\":{\"color\":\"#E5ECF6\",\"width\":0.5},\"pattern\":{\"fillmode\":\"overlay\",\"size\":10,\"solidity\":0.2}},\"type\":\"bar\"}],\"barpolar\":[{\"marker\":{\"line\":{\"color\":\"#E5ECF6\",\"width\":0.5},\"pattern\":{\"fillmode\":\"overlay\",\"size\":10,\"solidity\":0.2}},\"type\":\"barpolar\"}],\"carpet\":[{\"aaxis\":{\"endlinecolor\":\"#2a3f5f\",\"gridcolor\":\"white\",\"linecolor\":\"white\",\"minorgridcolor\":\"white\",\"startlinecolor\":\"#2a3f5f\"},\"baxis\":{\"endlinecolor\":\"#2a3f5f\",\"gridcolor\":\"white\",\"linecolor\":\"white\",\"minorgridcolor\":\"white\",\"startlinecolor\":\"#2a3f5f\"},\"type\":\"carpet\"}],\"choropleth\":[{\"colorbar\":{\"outlinewidth\":0,\"ticks\":\"\"},\"type\":\"choropleth\"}],\"contour\":[{\"colorbar\":{\"outlinewidth\":0,\"ticks\":\"\"},\"colorscale\":[[0.0,\"#0d0887\"],[0.1111111111111111,\"#46039f\"],[0.2222222222222222,\"#7201a8\"],[0.3333333333333333,\"#9c179e\"],[0.4444444444444444,\"#bd3786\"],[0.5555555555555556,\"#d8576b\"],[0.6666666666666666,\"#ed7953\"],[0.7777777777777778,\"#fb9f3a\"],[0.8888888888888888,\"#fdca26\"],[1.0,\"#f0f921\"]],\"type\":\"contour\"}],\"contourcarpet\":[{\"colorbar\":{\"outlinewidth\":0,\"ticks\":\"\"},\"type\":\"contourcarpet\"}],\"heatmap\":[{\"colorbar\":{\"outlinewidth\":0,\"ticks\":\"\"},\"colorscale\":[[0.0,\"#0d0887\"],[0.1111111111111111,\"#46039f\"],[0.2222222222222222,\"#7201a8\"],[0.3333333333333333,\"#9c179e\"],[0.4444444444444444,\"#bd3786\"],[0.5555555555555556,\"#d8576b\"],[0.6666666666666666,\"#ed7953\"],[0.7777777777777778,\"#fb9f3a\"],[0.8888888888888888,\"#fdca26\"],[1.0,\"#f0f921\"]],\"type\":\"heatmap\"}],\"heatmapgl\":[{\"colorbar\":{\"outlinewidth\":0,\"ticks\":\"\"},\"colorscale\":[[0.0,\"#0d0887\"],[0.1111111111111111,\"#46039f\"],[0.2222222222222222,\"#7201a8\"],[0.3333333333333333,\"#9c179e\"],[0.4444444444444444,\"#bd3786\"],[0.5555555555555556,\"#d8576b\"],[0.6666666666666666,\"#ed7953\"],[0.7777777777777778,\"#fb9f3a\"],[0.8888888888888888,\"#fdca26\"],[1.0,\"#f0f921\"]],\"type\":\"heatmapgl\"}],\"histogram\":[{\"marker\":{\"pattern\":{\"fillmode\":\"overlay\",\"size\":10,\"solidity\":0.2}},\"type\":\"histogram\"}],\"histogram2d\":[{\"colorbar\":{\"outlinewidth\":0,\"ticks\":\"\"},\"colorscale\":[[0.0,\"#0d0887\"],[0.1111111111111111,\"#46039f\"],[0.2222222222222222,\"#7201a8\"],[0.3333333333333333,\"#9c179e\"],[0.4444444444444444,\"#bd3786\"],[0.5555555555555556,\"#d8576b\"],[0.6666666666666666,\"#ed7953\"],[0.7777777777777778,\"#fb9f3a\"],[0.8888888888888888,\"#fdca26\"],[1.0,\"#f0f921\"]],\"type\":\"histogram2d\"}],\"histogram2dcontour\":[{\"colorbar\":{\"outlinewidth\":0,\"ticks\":\"\"},\"colorscale\":[[0.0,\"#0d0887\"],[0.1111111111111111,\"#46039f\"],[0.2222222222222222,\"#7201a8\"],[0.3333333333333333,\"#9c179e\"],[0.4444444444444444,\"#bd3786\"],[0.5555555555555556,\"#d8576b\"],[0.6666666666666666,\"#ed7953\"],[0.7777777777777778,\"#fb9f3a\"],[0.8888888888888888,\"#fdca26\"],[1.0,\"#f0f921\"]],\"type\":\"histogram2dcontour\"}],\"mesh3d\":[{\"colorbar\":{\"outlinewidth\":0,\"ticks\":\"\"},\"type\":\"mesh3d\"}],\"parcoords\":[{\"line\":{\"colorbar\":{\"outlinewidth\":0,\"ticks\":\"\"}},\"type\":\"parcoords\"}],\"pie\":[{\"automargin\":true,\"type\":\"pie\"}],\"scatter\":[{\"marker\":{\"colorbar\":{\"outlinewidth\":0,\"ticks\":\"\"}},\"type\":\"scatter\"}],\"scatter3d\":[{\"line\":{\"colorbar\":{\"outlinewidth\":0,\"ticks\":\"\"}},\"marker\":{\"colorbar\":{\"outlinewidth\":0,\"ticks\":\"\"}},\"type\":\"scatter3d\"}],\"scattercarpet\":[{\"marker\":{\"colorbar\":{\"outlinewidth\":0,\"ticks\":\"\"}},\"type\":\"scattercarpet\"}],\"scattergeo\":[{\"marker\":{\"colorbar\":{\"outlinewidth\":0,\"ticks\":\"\"}},\"type\":\"scattergeo\"}],\"scattergl\":[{\"marker\":{\"colorbar\":{\"outlinewidth\":0,\"ticks\":\"\"}},\"type\":\"scattergl\"}],\"scattermapbox\":[{\"marker\":{\"colorbar\":{\"outlinewidth\":0,\"ticks\":\"\"}},\"type\":\"scattermapbox\"}],\"scatterpolar\":[{\"marker\":{\"colorbar\":{\"outlinewidth\":0,\"ticks\":\"\"}},\"type\":\"scatterpolar\"}],\"scatterpolargl\":[{\"marker\":{\"colorbar\":{\"outlinewidth\":0,\"ticks\":\"\"}},\"type\":\"scatterpolargl\"}],\"scatterternary\":[{\"marker\":{\"colorbar\":{\"outlinewidth\":0,\"ticks\":\"\"}},\"type\":\"scatterternary\"}],\"surface\":[{\"colorbar\":{\"outlinewidth\":0,\"ticks\":\"\"},\"colorscale\":[[0.0,\"#0d0887\"],[0.1111111111111111,\"#46039f\"],[0.2222222222222222,\"#7201a8\"],[0.3333333333333333,\"#9c179e\"],[0.4444444444444444,\"#bd3786\"],[0.5555555555555556,\"#d8576b\"],[0.6666666666666666,\"#ed7953\"],[0.7777777777777778,\"#fb9f3a\"],[0.8888888888888888,\"#fdca26\"],[1.0,\"#f0f921\"]],\"type\":\"surface\"}],\"table\":[{\"cells\":{\"fill\":{\"color\":\"#EBF0F8\"},\"line\":{\"color\":\"white\"}},\"header\":{\"fill\":{\"color\":\"#C8D4E3\"},\"line\":{\"color\":\"white\"}},\"type\":\"table\"}]},\"layout\":{\"annotationdefaults\":{\"arrowcolor\":\"#2a3f5f\",\"arrowhead\":0,\"arrowwidth\":1},\"autotypenumbers\":\"strict\",\"coloraxis\":{\"colorbar\":{\"outlinewidth\":0,\"ticks\":\"\"}},\"colorscale\":{\"diverging\":[[0,\"#8e0152\"],[0.1,\"#c51b7d\"],[0.2,\"#de77ae\"],[0.3,\"#f1b6da\"],[0.4,\"#fde0ef\"],[0.5,\"#f7f7f7\"],[0.6,\"#e6f5d0\"],[0.7,\"#b8e186\"],[0.8,\"#7fbc41\"],[0.9,\"#4d9221\"],[1,\"#276419\"]],\"sequential\":[[0.0,\"#0d0887\"],[0.1111111111111111,\"#46039f\"],[0.2222222222222222,\"#7201a8\"],[0.3333333333333333,\"#9c179e\"],[0.4444444444444444,\"#bd3786\"],[0.5555555555555556,\"#d8576b\"],[0.6666666666666666,\"#ed7953\"],[0.7777777777777778,\"#fb9f3a\"],[0.8888888888888888,\"#fdca26\"],[1.0,\"#f0f921\"]],\"sequentialminus\":[[0.0,\"#0d0887\"],[0.1111111111111111,\"#46039f\"],[0.2222222222222222,\"#7201a8\"],[0.3333333333333333,\"#9c179e\"],[0.4444444444444444,\"#bd3786\"],[0.5555555555555556,\"#d8576b\"],[0.6666666666666666,\"#ed7953\"],[0.7777777777777778,\"#fb9f3a\"],[0.8888888888888888,\"#fdca26\"],[1.0,\"#f0f921\"]]},\"colorway\":[\"#636efa\",\"#EF553B\",\"#00cc96\",\"#ab63fa\",\"#FFA15A\",\"#19d3f3\",\"#FF6692\",\"#B6E880\",\"#FF97FF\",\"#FECB52\"],\"font\":{\"color\":\"#2a3f5f\"},\"geo\":{\"bgcolor\":\"white\",\"lakecolor\":\"white\",\"landcolor\":\"#E5ECF6\",\"showlakes\":true,\"showland\":true,\"subunitcolor\":\"white\"},\"hoverlabel\":{\"align\":\"left\"},\"hovermode\":\"closest\",\"mapbox\":{\"style\":\"light\"},\"paper_bgcolor\":\"white\",\"plot_bgcolor\":\"#E5ECF6\",\"polar\":{\"angularaxis\":{\"gridcolor\":\"white\",\"linecolor\":\"white\",\"ticks\":\"\"},\"bgcolor\":\"#E5ECF6\",\"radialaxis\":{\"gridcolor\":\"white\",\"linecolor\":\"white\",\"ticks\":\"\"}},\"scene\":{\"xaxis\":{\"backgroundcolor\":\"#E5ECF6\",\"gridcolor\":\"white\",\"gridwidth\":2,\"linecolor\":\"white\",\"showbackground\":true,\"ticks\":\"\",\"zerolinecolor\":\"white\"},\"yaxis\":{\"backgroundcolor\":\"#E5ECF6\",\"gridcolor\":\"white\",\"gridwidth\":2,\"linecolor\":\"white\",\"showbackground\":true,\"ticks\":\"\",\"zerolinecolor\":\"white\"},\"zaxis\":{\"backgroundcolor\":\"#E5ECF6\",\"gridcolor\":\"white\",\"gridwidth\":2,\"linecolor\":\"white\",\"showbackground\":true,\"ticks\":\"\",\"zerolinecolor\":\"white\"}},\"shapedefaults\":{\"line\":{\"color\":\"#2a3f5f\"}},\"ternary\":{\"aaxis\":{\"gridcolor\":\"white\",\"linecolor\":\"white\",\"ticks\":\"\"},\"baxis\":{\"gridcolor\":\"white\",\"linecolor\":\"white\",\"ticks\":\"\"},\"bgcolor\":\"#E5ECF6\",\"caxis\":{\"gridcolor\":\"white\",\"linecolor\":\"white\",\"ticks\":\"\"}},\"title\":{\"x\":0.05},\"xaxis\":{\"automargin\":true,\"gridcolor\":\"white\",\"linecolor\":\"white\",\"ticks\":\"\",\"title\":{\"standoff\":15},\"zerolinecolor\":\"white\",\"zerolinewidth\":2},\"yaxis\":{\"automargin\":true,\"gridcolor\":\"white\",\"linecolor\":\"white\",\"ticks\":\"\",\"title\":{\"standoff\":15},\"zerolinecolor\":\"white\",\"zerolinewidth\":2}}},\"title\":{\"text\":\"Number and Type of OA Publication by Journal Title\"},\"width\":1400,\"xaxis\":{\"anchor\":\"y\",\"constrain\":\"domain\",\"domain\":[0.0,1.0],\"scaleanchor\":\"y\",\"title\":{\"text\":\"journal.title\"}},\"yaxis\":{\"anchor\":\"x\",\"autorange\":\"reversed\",\"constrain\":\"domain\",\"domain\":[0.0,1.0]}},                        {\"responsive\": true}                    ).then(function(){\n",
       "                            \n",
       "var gd = document.getElementById('f2a1c778-49b6-4234-976c-fd4d8057f869');\n",
       "var x = new MutationObserver(function (mutations, observer) {{\n",
       "        var display = window.getComputedStyle(gd).display;\n",
       "        if (!display || display === 'none') {{\n",
       "            console.log([gd, 'removed!']);\n",
       "            Plotly.purge(gd);\n",
       "            observer.disconnect();\n",
       "        }}\n",
       "}});\n",
       "\n",
       "// Listen for the removal of the full notebook cells\n",
       "var notebookContainer = gd.closest('#notebook-container');\n",
       "if (notebookContainer) {{\n",
       "    x.observe(notebookContainer, {childList: true});\n",
       "}}\n",
       "\n",
       "// Listen for the clearing of the current output cell\n",
       "var outputEl = gd.closest('.output');\n",
       "if (outputEl) {{\n",
       "    x.observe(outputEl, {childList: true});\n",
       "}}\n",
       "\n",
       "                        })                };                });            </script>        </div>"
      ]
     },
     "metadata": {},
     "output_type": "display_data"
    }
   ],
   "source": [
    "df_OA = publication_df.groupby([\"oa_status\",\"journal.title\"],as_index=False).size()\n",
    "\n",
    "df_OA2 = df_OA.pivot(index=\"journal.title\", columns = \"oa_status\")\n",
    "\n",
    "df_OA2.columns = biggertest.columns.to_flat_index()\n",
    "\n",
    "df_OA2.columns = [\"bronze\",\"closed\", \"gold\", \"green\", \"hybrid\"]\n",
    "\n",
    "df_OA3 = df_OA2.drop(df_OA2[df_OA2.sum(axis=1) < 5].index)\n",
    "\n",
    "df_OA3 = interesting_test.T\n",
    "#interesting_test2 = interesting_test2.fillna(0)\n",
    "df_OA4 = df_OA3.drop(index=\"closed\")\n",
    "\n",
    "fig = px.imshow(df_OA3, width=1400, height=600, color_continuous_scale=\"turbo\", title = \"Number and Type of OA Publication by Journal Title\")\n",
    "fig.show()"
   ]
  },
  {
   "cell_type": "markdown",
   "metadata": {},
   "source": [
    "## This is the same as above but with the \"closed\" category removed"
   ]
  },
  {
   "cell_type": "code",
   "execution_count": 17,
   "metadata": {},
   "outputs": [
    {
     "data": {
      "application/vnd.plotly.v1+json": {
       "config": {
        "plotlyServerURL": "https://plot.ly"
       },
       "data": [
        {
         "coloraxis": "coloraxis",
         "hovertemplate": "journal.title: %{x}<br>y: %{y}<br>color: %{z}<extra></extra>",
         "name": "0",
         "type": "heatmap",
         "x": [
          "Albion A Quarterly Journal Concerned with British Studies",
          "American Antiquity",
          "American Political Science Review",
          "Behavioral and Brain Sciences",
          "British Journal Of Nutrition",
          "CNS Spectrums",
          "Cardiology in the Young",
          "Industrial and Organizational Psychology",
          "Infection Control and Hospital Epidemiology",
          "Journal of Clinical and Translational Science",
          "Journal of Paleontology",
          "Journal of Roman Archaeology",
          "Journal of the International Neuropsychological Society",
          "Latin American Antiquity",
          "Microscopy and Microanalysis",
          "Paleobiology",
          "Politics and Religion",
          "Prehospital and Disaster Medicine",
          "Psychological Medicine",
          "Quaternary Research",
          "Renaissance Quarterly",
          "Robotica",
          "The Journal of Asian Studies",
          "The Journal of Economic History"
         ],
         "xaxis": "x",
         "y": [
          "bronze",
          "gold",
          "green",
          "hybrid"
         ],
         "yaxis": "y",
         "z": [
          [
           null,
           null,
           null,
           null,
           4,
           3,
           null,
           null,
           4,
           null,
           1,
           null,
           1,
           null,
           5,
           null,
           null,
           4,
           null,
           null,
           null,
           null,
           1,
           null
          ],
          [
           null,
           null,
           null,
           null,
           null,
           null,
           null,
           null,
           null,
           8,
           null,
           null,
           null,
           null,
           null,
           null,
           null,
           null,
           null,
           null,
           null,
           null,
           null,
           null
          ],
          [
           null,
           null,
           null,
           null,
           null,
           1,
           1,
           null,
           2,
           null,
           1,
           null,
           7,
           null,
           null,
           null,
           null,
           null,
           1,
           1,
           null,
           null,
           null,
           null
          ],
          [
           null,
           null,
           null,
           null,
           1,
           1,
           2,
           null,
           1,
           null,
           null,
           null,
           null,
           null,
           null,
           1,
           null,
           null,
           null,
           null,
           null,
           null,
           null,
           null
          ]
         ]
        }
       ],
       "layout": {
        "coloraxis": {
         "colorscale": [
          [
           0,
           "#30123b"
          ],
          [
           0.07142857142857142,
           "#4145ab"
          ],
          [
           0.14285714285714285,
           "#4675ed"
          ],
          [
           0.21428571428571427,
           "#39a2fc"
          ],
          [
           0.2857142857142857,
           "#1bcfd4"
          ],
          [
           0.35714285714285715,
           "#24eca6"
          ],
          [
           0.42857142857142855,
           "#61fc6c"
          ],
          [
           0.5,
           "#a4fc3b"
          ],
          [
           0.5714285714285714,
           "#d1e834"
          ],
          [
           0.6428571428571429,
           "#f3c63a"
          ],
          [
           0.7142857142857143,
           "#fe9b2d"
          ],
          [
           0.7857142857142857,
           "#f36315"
          ],
          [
           0.8571428571428571,
           "#d93806"
          ],
          [
           0.9285714285714286,
           "#b11901"
          ],
          [
           1,
           "#7a0402"
          ]
         ]
        },
        "height": 600,
        "template": {
         "data": {
          "bar": [
           {
            "error_x": {
             "color": "#2a3f5f"
            },
            "error_y": {
             "color": "#2a3f5f"
            },
            "marker": {
             "line": {
              "color": "#E5ECF6",
              "width": 0.5
             },
             "pattern": {
              "fillmode": "overlay",
              "size": 10,
              "solidity": 0.2
             }
            },
            "type": "bar"
           }
          ],
          "barpolar": [
           {
            "marker": {
             "line": {
              "color": "#E5ECF6",
              "width": 0.5
             },
             "pattern": {
              "fillmode": "overlay",
              "size": 10,
              "solidity": 0.2
             }
            },
            "type": "barpolar"
           }
          ],
          "carpet": [
           {
            "aaxis": {
             "endlinecolor": "#2a3f5f",
             "gridcolor": "white",
             "linecolor": "white",
             "minorgridcolor": "white",
             "startlinecolor": "#2a3f5f"
            },
            "baxis": {
             "endlinecolor": "#2a3f5f",
             "gridcolor": "white",
             "linecolor": "white",
             "minorgridcolor": "white",
             "startlinecolor": "#2a3f5f"
            },
            "type": "carpet"
           }
          ],
          "choropleth": [
           {
            "colorbar": {
             "outlinewidth": 0,
             "ticks": ""
            },
            "type": "choropleth"
           }
          ],
          "contour": [
           {
            "colorbar": {
             "outlinewidth": 0,
             "ticks": ""
            },
            "colorscale": [
             [
              0,
              "#0d0887"
             ],
             [
              0.1111111111111111,
              "#46039f"
             ],
             [
              0.2222222222222222,
              "#7201a8"
             ],
             [
              0.3333333333333333,
              "#9c179e"
             ],
             [
              0.4444444444444444,
              "#bd3786"
             ],
             [
              0.5555555555555556,
              "#d8576b"
             ],
             [
              0.6666666666666666,
              "#ed7953"
             ],
             [
              0.7777777777777778,
              "#fb9f3a"
             ],
             [
              0.8888888888888888,
              "#fdca26"
             ],
             [
              1,
              "#f0f921"
             ]
            ],
            "type": "contour"
           }
          ],
          "contourcarpet": [
           {
            "colorbar": {
             "outlinewidth": 0,
             "ticks": ""
            },
            "type": "contourcarpet"
           }
          ],
          "heatmap": [
           {
            "colorbar": {
             "outlinewidth": 0,
             "ticks": ""
            },
            "colorscale": [
             [
              0,
              "#0d0887"
             ],
             [
              0.1111111111111111,
              "#46039f"
             ],
             [
              0.2222222222222222,
              "#7201a8"
             ],
             [
              0.3333333333333333,
              "#9c179e"
             ],
             [
              0.4444444444444444,
              "#bd3786"
             ],
             [
              0.5555555555555556,
              "#d8576b"
             ],
             [
              0.6666666666666666,
              "#ed7953"
             ],
             [
              0.7777777777777778,
              "#fb9f3a"
             ],
             [
              0.8888888888888888,
              "#fdca26"
             ],
             [
              1,
              "#f0f921"
             ]
            ],
            "type": "heatmap"
           }
          ],
          "heatmapgl": [
           {
            "colorbar": {
             "outlinewidth": 0,
             "ticks": ""
            },
            "colorscale": [
             [
              0,
              "#0d0887"
             ],
             [
              0.1111111111111111,
              "#46039f"
             ],
             [
              0.2222222222222222,
              "#7201a8"
             ],
             [
              0.3333333333333333,
              "#9c179e"
             ],
             [
              0.4444444444444444,
              "#bd3786"
             ],
             [
              0.5555555555555556,
              "#d8576b"
             ],
             [
              0.6666666666666666,
              "#ed7953"
             ],
             [
              0.7777777777777778,
              "#fb9f3a"
             ],
             [
              0.8888888888888888,
              "#fdca26"
             ],
             [
              1,
              "#f0f921"
             ]
            ],
            "type": "heatmapgl"
           }
          ],
          "histogram": [
           {
            "marker": {
             "pattern": {
              "fillmode": "overlay",
              "size": 10,
              "solidity": 0.2
             }
            },
            "type": "histogram"
           }
          ],
          "histogram2d": [
           {
            "colorbar": {
             "outlinewidth": 0,
             "ticks": ""
            },
            "colorscale": [
             [
              0,
              "#0d0887"
             ],
             [
              0.1111111111111111,
              "#46039f"
             ],
             [
              0.2222222222222222,
              "#7201a8"
             ],
             [
              0.3333333333333333,
              "#9c179e"
             ],
             [
              0.4444444444444444,
              "#bd3786"
             ],
             [
              0.5555555555555556,
              "#d8576b"
             ],
             [
              0.6666666666666666,
              "#ed7953"
             ],
             [
              0.7777777777777778,
              "#fb9f3a"
             ],
             [
              0.8888888888888888,
              "#fdca26"
             ],
             [
              1,
              "#f0f921"
             ]
            ],
            "type": "histogram2d"
           }
          ],
          "histogram2dcontour": [
           {
            "colorbar": {
             "outlinewidth": 0,
             "ticks": ""
            },
            "colorscale": [
             [
              0,
              "#0d0887"
             ],
             [
              0.1111111111111111,
              "#46039f"
             ],
             [
              0.2222222222222222,
              "#7201a8"
             ],
             [
              0.3333333333333333,
              "#9c179e"
             ],
             [
              0.4444444444444444,
              "#bd3786"
             ],
             [
              0.5555555555555556,
              "#d8576b"
             ],
             [
              0.6666666666666666,
              "#ed7953"
             ],
             [
              0.7777777777777778,
              "#fb9f3a"
             ],
             [
              0.8888888888888888,
              "#fdca26"
             ],
             [
              1,
              "#f0f921"
             ]
            ],
            "type": "histogram2dcontour"
           }
          ],
          "mesh3d": [
           {
            "colorbar": {
             "outlinewidth": 0,
             "ticks": ""
            },
            "type": "mesh3d"
           }
          ],
          "parcoords": [
           {
            "line": {
             "colorbar": {
              "outlinewidth": 0,
              "ticks": ""
             }
            },
            "type": "parcoords"
           }
          ],
          "pie": [
           {
            "automargin": true,
            "type": "pie"
           }
          ],
          "scatter": [
           {
            "marker": {
             "colorbar": {
              "outlinewidth": 0,
              "ticks": ""
             }
            },
            "type": "scatter"
           }
          ],
          "scatter3d": [
           {
            "line": {
             "colorbar": {
              "outlinewidth": 0,
              "ticks": ""
             }
            },
            "marker": {
             "colorbar": {
              "outlinewidth": 0,
              "ticks": ""
             }
            },
            "type": "scatter3d"
           }
          ],
          "scattercarpet": [
           {
            "marker": {
             "colorbar": {
              "outlinewidth": 0,
              "ticks": ""
             }
            },
            "type": "scattercarpet"
           }
          ],
          "scattergeo": [
           {
            "marker": {
             "colorbar": {
              "outlinewidth": 0,
              "ticks": ""
             }
            },
            "type": "scattergeo"
           }
          ],
          "scattergl": [
           {
            "marker": {
             "colorbar": {
              "outlinewidth": 0,
              "ticks": ""
             }
            },
            "type": "scattergl"
           }
          ],
          "scattermapbox": [
           {
            "marker": {
             "colorbar": {
              "outlinewidth": 0,
              "ticks": ""
             }
            },
            "type": "scattermapbox"
           }
          ],
          "scatterpolar": [
           {
            "marker": {
             "colorbar": {
              "outlinewidth": 0,
              "ticks": ""
             }
            },
            "type": "scatterpolar"
           }
          ],
          "scatterpolargl": [
           {
            "marker": {
             "colorbar": {
              "outlinewidth": 0,
              "ticks": ""
             }
            },
            "type": "scatterpolargl"
           }
          ],
          "scatterternary": [
           {
            "marker": {
             "colorbar": {
              "outlinewidth": 0,
              "ticks": ""
             }
            },
            "type": "scatterternary"
           }
          ],
          "surface": [
           {
            "colorbar": {
             "outlinewidth": 0,
             "ticks": ""
            },
            "colorscale": [
             [
              0,
              "#0d0887"
             ],
             [
              0.1111111111111111,
              "#46039f"
             ],
             [
              0.2222222222222222,
              "#7201a8"
             ],
             [
              0.3333333333333333,
              "#9c179e"
             ],
             [
              0.4444444444444444,
              "#bd3786"
             ],
             [
              0.5555555555555556,
              "#d8576b"
             ],
             [
              0.6666666666666666,
              "#ed7953"
             ],
             [
              0.7777777777777778,
              "#fb9f3a"
             ],
             [
              0.8888888888888888,
              "#fdca26"
             ],
             [
              1,
              "#f0f921"
             ]
            ],
            "type": "surface"
           }
          ],
          "table": [
           {
            "cells": {
             "fill": {
              "color": "#EBF0F8"
             },
             "line": {
              "color": "white"
             }
            },
            "header": {
             "fill": {
              "color": "#C8D4E3"
             },
             "line": {
              "color": "white"
             }
            },
            "type": "table"
           }
          ]
         },
         "layout": {
          "annotationdefaults": {
           "arrowcolor": "#2a3f5f",
           "arrowhead": 0,
           "arrowwidth": 1
          },
          "autotypenumbers": "strict",
          "coloraxis": {
           "colorbar": {
            "outlinewidth": 0,
            "ticks": ""
           }
          },
          "colorscale": {
           "diverging": [
            [
             0,
             "#8e0152"
            ],
            [
             0.1,
             "#c51b7d"
            ],
            [
             0.2,
             "#de77ae"
            ],
            [
             0.3,
             "#f1b6da"
            ],
            [
             0.4,
             "#fde0ef"
            ],
            [
             0.5,
             "#f7f7f7"
            ],
            [
             0.6,
             "#e6f5d0"
            ],
            [
             0.7,
             "#b8e186"
            ],
            [
             0.8,
             "#7fbc41"
            ],
            [
             0.9,
             "#4d9221"
            ],
            [
             1,
             "#276419"
            ]
           ],
           "sequential": [
            [
             0,
             "#0d0887"
            ],
            [
             0.1111111111111111,
             "#46039f"
            ],
            [
             0.2222222222222222,
             "#7201a8"
            ],
            [
             0.3333333333333333,
             "#9c179e"
            ],
            [
             0.4444444444444444,
             "#bd3786"
            ],
            [
             0.5555555555555556,
             "#d8576b"
            ],
            [
             0.6666666666666666,
             "#ed7953"
            ],
            [
             0.7777777777777778,
             "#fb9f3a"
            ],
            [
             0.8888888888888888,
             "#fdca26"
            ],
            [
             1,
             "#f0f921"
            ]
           ],
           "sequentialminus": [
            [
             0,
             "#0d0887"
            ],
            [
             0.1111111111111111,
             "#46039f"
            ],
            [
             0.2222222222222222,
             "#7201a8"
            ],
            [
             0.3333333333333333,
             "#9c179e"
            ],
            [
             0.4444444444444444,
             "#bd3786"
            ],
            [
             0.5555555555555556,
             "#d8576b"
            ],
            [
             0.6666666666666666,
             "#ed7953"
            ],
            [
             0.7777777777777778,
             "#fb9f3a"
            ],
            [
             0.8888888888888888,
             "#fdca26"
            ],
            [
             1,
             "#f0f921"
            ]
           ]
          },
          "colorway": [
           "#636efa",
           "#EF553B",
           "#00cc96",
           "#ab63fa",
           "#FFA15A",
           "#19d3f3",
           "#FF6692",
           "#B6E880",
           "#FF97FF",
           "#FECB52"
          ],
          "font": {
           "color": "#2a3f5f"
          },
          "geo": {
           "bgcolor": "white",
           "lakecolor": "white",
           "landcolor": "#E5ECF6",
           "showlakes": true,
           "showland": true,
           "subunitcolor": "white"
          },
          "hoverlabel": {
           "align": "left"
          },
          "hovermode": "closest",
          "mapbox": {
           "style": "light"
          },
          "paper_bgcolor": "white",
          "plot_bgcolor": "#E5ECF6",
          "polar": {
           "angularaxis": {
            "gridcolor": "white",
            "linecolor": "white",
            "ticks": ""
           },
           "bgcolor": "#E5ECF6",
           "radialaxis": {
            "gridcolor": "white",
            "linecolor": "white",
            "ticks": ""
           }
          },
          "scene": {
           "xaxis": {
            "backgroundcolor": "#E5ECF6",
            "gridcolor": "white",
            "gridwidth": 2,
            "linecolor": "white",
            "showbackground": true,
            "ticks": "",
            "zerolinecolor": "white"
           },
           "yaxis": {
            "backgroundcolor": "#E5ECF6",
            "gridcolor": "white",
            "gridwidth": 2,
            "linecolor": "white",
            "showbackground": true,
            "ticks": "",
            "zerolinecolor": "white"
           },
           "zaxis": {
            "backgroundcolor": "#E5ECF6",
            "gridcolor": "white",
            "gridwidth": 2,
            "linecolor": "white",
            "showbackground": true,
            "ticks": "",
            "zerolinecolor": "white"
           }
          },
          "shapedefaults": {
           "line": {
            "color": "#2a3f5f"
           }
          },
          "ternary": {
           "aaxis": {
            "gridcolor": "white",
            "linecolor": "white",
            "ticks": ""
           },
           "baxis": {
            "gridcolor": "white",
            "linecolor": "white",
            "ticks": ""
           },
           "bgcolor": "#E5ECF6",
           "caxis": {
            "gridcolor": "white",
            "linecolor": "white",
            "ticks": ""
           }
          },
          "title": {
           "x": 0.05
          },
          "xaxis": {
           "automargin": true,
           "gridcolor": "white",
           "linecolor": "white",
           "ticks": "",
           "title": {
            "standoff": 15
           },
           "zerolinecolor": "white",
           "zerolinewidth": 2
          },
          "yaxis": {
           "automargin": true,
           "gridcolor": "white",
           "linecolor": "white",
           "ticks": "",
           "title": {
            "standoff": 15
           },
           "zerolinecolor": "white",
           "zerolinewidth": 2
          }
         }
        },
        "title": {
         "text": "Number and Type of OA Publication by Journal Title"
        },
        "width": 1400,
        "xaxis": {
         "anchor": "y",
         "constrain": "domain",
         "domain": [
          0,
          1
         ],
         "scaleanchor": "y",
         "title": {
          "text": "journal.title"
         }
        },
        "yaxis": {
         "anchor": "x",
         "autorange": "reversed",
         "constrain": "domain",
         "domain": [
          0,
          1
         ]
        }
       }
      },
      "text/html": [
       "<div>                            <div id=\"6ab632eb-ce71-48d2-910a-1c4618e3f90b\" class=\"plotly-graph-div\" style=\"height:600px; width:1400px;\"></div>            <script type=\"text/javascript\">                require([\"plotly\"], function(Plotly) {                    window.PLOTLYENV=window.PLOTLYENV || {};                                    if (document.getElementById(\"6ab632eb-ce71-48d2-910a-1c4618e3f90b\")) {                    Plotly.newPlot(                        \"6ab632eb-ce71-48d2-910a-1c4618e3f90b\",                        [{\"coloraxis\":\"coloraxis\",\"hovertemplate\":\"journal.title: %{x}<br>y: %{y}<br>color: %{z}<extra></extra>\",\"name\":\"0\",\"type\":\"heatmap\",\"x\":[\"Albion A Quarterly Journal Concerned with British Studies\",\"American Antiquity\",\"American Political Science Review\",\"Behavioral and Brain Sciences\",\"British Journal Of Nutrition\",\"CNS Spectrums\",\"Cardiology in the Young\",\"Industrial and Organizational Psychology\",\"Infection Control and Hospital Epidemiology\",\"Journal of Clinical and Translational Science\",\"Journal of Paleontology\",\"Journal of Roman Archaeology\",\"Journal of the International Neuropsychological Society\",\"Latin American Antiquity\",\"Microscopy and Microanalysis\",\"Paleobiology\",\"Politics and Religion\",\"Prehospital and Disaster Medicine\",\"Psychological Medicine\",\"Quaternary Research\",\"Renaissance Quarterly\",\"Robotica\",\"The Journal of Asian Studies\",\"The Journal of Economic History\"],\"xaxis\":\"x\",\"y\":[\"bronze\",\"gold\",\"green\",\"hybrid\"],\"yaxis\":\"y\",\"z\":[[null,null,null,null,4.0,3.0,null,null,4.0,null,1.0,null,1.0,null,5.0,null,null,4.0,null,null,null,null,1.0,null],[null,null,null,null,null,null,null,null,null,8.0,null,null,null,null,null,null,null,null,null,null,null,null,null,null],[null,null,null,null,null,1.0,1.0,null,2.0,null,1.0,null,7.0,null,null,null,null,null,1.0,1.0,null,null,null,null],[null,null,null,null,1.0,1.0,2.0,null,1.0,null,null,null,null,null,null,1.0,null,null,null,null,null,null,null,null]]}],                        {\"coloraxis\":{\"colorscale\":[[0.0,\"#30123b\"],[0.07142857142857142,\"#4145ab\"],[0.14285714285714285,\"#4675ed\"],[0.21428571428571427,\"#39a2fc\"],[0.2857142857142857,\"#1bcfd4\"],[0.35714285714285715,\"#24eca6\"],[0.42857142857142855,\"#61fc6c\"],[0.5,\"#a4fc3b\"],[0.5714285714285714,\"#d1e834\"],[0.6428571428571429,\"#f3c63a\"],[0.7142857142857143,\"#fe9b2d\"],[0.7857142857142857,\"#f36315\"],[0.8571428571428571,\"#d93806\"],[0.9285714285714286,\"#b11901\"],[1.0,\"#7a0402\"]]},\"height\":600,\"template\":{\"data\":{\"bar\":[{\"error_x\":{\"color\":\"#2a3f5f\"},\"error_y\":{\"color\":\"#2a3f5f\"},\"marker\":{\"line\":{\"color\":\"#E5ECF6\",\"width\":0.5},\"pattern\":{\"fillmode\":\"overlay\",\"size\":10,\"solidity\":0.2}},\"type\":\"bar\"}],\"barpolar\":[{\"marker\":{\"line\":{\"color\":\"#E5ECF6\",\"width\":0.5},\"pattern\":{\"fillmode\":\"overlay\",\"size\":10,\"solidity\":0.2}},\"type\":\"barpolar\"}],\"carpet\":[{\"aaxis\":{\"endlinecolor\":\"#2a3f5f\",\"gridcolor\":\"white\",\"linecolor\":\"white\",\"minorgridcolor\":\"white\",\"startlinecolor\":\"#2a3f5f\"},\"baxis\":{\"endlinecolor\":\"#2a3f5f\",\"gridcolor\":\"white\",\"linecolor\":\"white\",\"minorgridcolor\":\"white\",\"startlinecolor\":\"#2a3f5f\"},\"type\":\"carpet\"}],\"choropleth\":[{\"colorbar\":{\"outlinewidth\":0,\"ticks\":\"\"},\"type\":\"choropleth\"}],\"contour\":[{\"colorbar\":{\"outlinewidth\":0,\"ticks\":\"\"},\"colorscale\":[[0.0,\"#0d0887\"],[0.1111111111111111,\"#46039f\"],[0.2222222222222222,\"#7201a8\"],[0.3333333333333333,\"#9c179e\"],[0.4444444444444444,\"#bd3786\"],[0.5555555555555556,\"#d8576b\"],[0.6666666666666666,\"#ed7953\"],[0.7777777777777778,\"#fb9f3a\"],[0.8888888888888888,\"#fdca26\"],[1.0,\"#f0f921\"]],\"type\":\"contour\"}],\"contourcarpet\":[{\"colorbar\":{\"outlinewidth\":0,\"ticks\":\"\"},\"type\":\"contourcarpet\"}],\"heatmap\":[{\"colorbar\":{\"outlinewidth\":0,\"ticks\":\"\"},\"colorscale\":[[0.0,\"#0d0887\"],[0.1111111111111111,\"#46039f\"],[0.2222222222222222,\"#7201a8\"],[0.3333333333333333,\"#9c179e\"],[0.4444444444444444,\"#bd3786\"],[0.5555555555555556,\"#d8576b\"],[0.6666666666666666,\"#ed7953\"],[0.7777777777777778,\"#fb9f3a\"],[0.8888888888888888,\"#fdca26\"],[1.0,\"#f0f921\"]],\"type\":\"heatmap\"}],\"heatmapgl\":[{\"colorbar\":{\"outlinewidth\":0,\"ticks\":\"\"},\"colorscale\":[[0.0,\"#0d0887\"],[0.1111111111111111,\"#46039f\"],[0.2222222222222222,\"#7201a8\"],[0.3333333333333333,\"#9c179e\"],[0.4444444444444444,\"#bd3786\"],[0.5555555555555556,\"#d8576b\"],[0.6666666666666666,\"#ed7953\"],[0.7777777777777778,\"#fb9f3a\"],[0.8888888888888888,\"#fdca26\"],[1.0,\"#f0f921\"]],\"type\":\"heatmapgl\"}],\"histogram\":[{\"marker\":{\"pattern\":{\"fillmode\":\"overlay\",\"size\":10,\"solidity\":0.2}},\"type\":\"histogram\"}],\"histogram2d\":[{\"colorbar\":{\"outlinewidth\":0,\"ticks\":\"\"},\"colorscale\":[[0.0,\"#0d0887\"],[0.1111111111111111,\"#46039f\"],[0.2222222222222222,\"#7201a8\"],[0.3333333333333333,\"#9c179e\"],[0.4444444444444444,\"#bd3786\"],[0.5555555555555556,\"#d8576b\"],[0.6666666666666666,\"#ed7953\"],[0.7777777777777778,\"#fb9f3a\"],[0.8888888888888888,\"#fdca26\"],[1.0,\"#f0f921\"]],\"type\":\"histogram2d\"}],\"histogram2dcontour\":[{\"colorbar\":{\"outlinewidth\":0,\"ticks\":\"\"},\"colorscale\":[[0.0,\"#0d0887\"],[0.1111111111111111,\"#46039f\"],[0.2222222222222222,\"#7201a8\"],[0.3333333333333333,\"#9c179e\"],[0.4444444444444444,\"#bd3786\"],[0.5555555555555556,\"#d8576b\"],[0.6666666666666666,\"#ed7953\"],[0.7777777777777778,\"#fb9f3a\"],[0.8888888888888888,\"#fdca26\"],[1.0,\"#f0f921\"]],\"type\":\"histogram2dcontour\"}],\"mesh3d\":[{\"colorbar\":{\"outlinewidth\":0,\"ticks\":\"\"},\"type\":\"mesh3d\"}],\"parcoords\":[{\"line\":{\"colorbar\":{\"outlinewidth\":0,\"ticks\":\"\"}},\"type\":\"parcoords\"}],\"pie\":[{\"automargin\":true,\"type\":\"pie\"}],\"scatter\":[{\"marker\":{\"colorbar\":{\"outlinewidth\":0,\"ticks\":\"\"}},\"type\":\"scatter\"}],\"scatter3d\":[{\"line\":{\"colorbar\":{\"outlinewidth\":0,\"ticks\":\"\"}},\"marker\":{\"colorbar\":{\"outlinewidth\":0,\"ticks\":\"\"}},\"type\":\"scatter3d\"}],\"scattercarpet\":[{\"marker\":{\"colorbar\":{\"outlinewidth\":0,\"ticks\":\"\"}},\"type\":\"scattercarpet\"}],\"scattergeo\":[{\"marker\":{\"colorbar\":{\"outlinewidth\":0,\"ticks\":\"\"}},\"type\":\"scattergeo\"}],\"scattergl\":[{\"marker\":{\"colorbar\":{\"outlinewidth\":0,\"ticks\":\"\"}},\"type\":\"scattergl\"}],\"scattermapbox\":[{\"marker\":{\"colorbar\":{\"outlinewidth\":0,\"ticks\":\"\"}},\"type\":\"scattermapbox\"}],\"scatterpolar\":[{\"marker\":{\"colorbar\":{\"outlinewidth\":0,\"ticks\":\"\"}},\"type\":\"scatterpolar\"}],\"scatterpolargl\":[{\"marker\":{\"colorbar\":{\"outlinewidth\":0,\"ticks\":\"\"}},\"type\":\"scatterpolargl\"}],\"scatterternary\":[{\"marker\":{\"colorbar\":{\"outlinewidth\":0,\"ticks\":\"\"}},\"type\":\"scatterternary\"}],\"surface\":[{\"colorbar\":{\"outlinewidth\":0,\"ticks\":\"\"},\"colorscale\":[[0.0,\"#0d0887\"],[0.1111111111111111,\"#46039f\"],[0.2222222222222222,\"#7201a8\"],[0.3333333333333333,\"#9c179e\"],[0.4444444444444444,\"#bd3786\"],[0.5555555555555556,\"#d8576b\"],[0.6666666666666666,\"#ed7953\"],[0.7777777777777778,\"#fb9f3a\"],[0.8888888888888888,\"#fdca26\"],[1.0,\"#f0f921\"]],\"type\":\"surface\"}],\"table\":[{\"cells\":{\"fill\":{\"color\":\"#EBF0F8\"},\"line\":{\"color\":\"white\"}},\"header\":{\"fill\":{\"color\":\"#C8D4E3\"},\"line\":{\"color\":\"white\"}},\"type\":\"table\"}]},\"layout\":{\"annotationdefaults\":{\"arrowcolor\":\"#2a3f5f\",\"arrowhead\":0,\"arrowwidth\":1},\"autotypenumbers\":\"strict\",\"coloraxis\":{\"colorbar\":{\"outlinewidth\":0,\"ticks\":\"\"}},\"colorscale\":{\"diverging\":[[0,\"#8e0152\"],[0.1,\"#c51b7d\"],[0.2,\"#de77ae\"],[0.3,\"#f1b6da\"],[0.4,\"#fde0ef\"],[0.5,\"#f7f7f7\"],[0.6,\"#e6f5d0\"],[0.7,\"#b8e186\"],[0.8,\"#7fbc41\"],[0.9,\"#4d9221\"],[1,\"#276419\"]],\"sequential\":[[0.0,\"#0d0887\"],[0.1111111111111111,\"#46039f\"],[0.2222222222222222,\"#7201a8\"],[0.3333333333333333,\"#9c179e\"],[0.4444444444444444,\"#bd3786\"],[0.5555555555555556,\"#d8576b\"],[0.6666666666666666,\"#ed7953\"],[0.7777777777777778,\"#fb9f3a\"],[0.8888888888888888,\"#fdca26\"],[1.0,\"#f0f921\"]],\"sequentialminus\":[[0.0,\"#0d0887\"],[0.1111111111111111,\"#46039f\"],[0.2222222222222222,\"#7201a8\"],[0.3333333333333333,\"#9c179e\"],[0.4444444444444444,\"#bd3786\"],[0.5555555555555556,\"#d8576b\"],[0.6666666666666666,\"#ed7953\"],[0.7777777777777778,\"#fb9f3a\"],[0.8888888888888888,\"#fdca26\"],[1.0,\"#f0f921\"]]},\"colorway\":[\"#636efa\",\"#EF553B\",\"#00cc96\",\"#ab63fa\",\"#FFA15A\",\"#19d3f3\",\"#FF6692\",\"#B6E880\",\"#FF97FF\",\"#FECB52\"],\"font\":{\"color\":\"#2a3f5f\"},\"geo\":{\"bgcolor\":\"white\",\"lakecolor\":\"white\",\"landcolor\":\"#E5ECF6\",\"showlakes\":true,\"showland\":true,\"subunitcolor\":\"white\"},\"hoverlabel\":{\"align\":\"left\"},\"hovermode\":\"closest\",\"mapbox\":{\"style\":\"light\"},\"paper_bgcolor\":\"white\",\"plot_bgcolor\":\"#E5ECF6\",\"polar\":{\"angularaxis\":{\"gridcolor\":\"white\",\"linecolor\":\"white\",\"ticks\":\"\"},\"bgcolor\":\"#E5ECF6\",\"radialaxis\":{\"gridcolor\":\"white\",\"linecolor\":\"white\",\"ticks\":\"\"}},\"scene\":{\"xaxis\":{\"backgroundcolor\":\"#E5ECF6\",\"gridcolor\":\"white\",\"gridwidth\":2,\"linecolor\":\"white\",\"showbackground\":true,\"ticks\":\"\",\"zerolinecolor\":\"white\"},\"yaxis\":{\"backgroundcolor\":\"#E5ECF6\",\"gridcolor\":\"white\",\"gridwidth\":2,\"linecolor\":\"white\",\"showbackground\":true,\"ticks\":\"\",\"zerolinecolor\":\"white\"},\"zaxis\":{\"backgroundcolor\":\"#E5ECF6\",\"gridcolor\":\"white\",\"gridwidth\":2,\"linecolor\":\"white\",\"showbackground\":true,\"ticks\":\"\",\"zerolinecolor\":\"white\"}},\"shapedefaults\":{\"line\":{\"color\":\"#2a3f5f\"}},\"ternary\":{\"aaxis\":{\"gridcolor\":\"white\",\"linecolor\":\"white\",\"ticks\":\"\"},\"baxis\":{\"gridcolor\":\"white\",\"linecolor\":\"white\",\"ticks\":\"\"},\"bgcolor\":\"#E5ECF6\",\"caxis\":{\"gridcolor\":\"white\",\"linecolor\":\"white\",\"ticks\":\"\"}},\"title\":{\"x\":0.05},\"xaxis\":{\"automargin\":true,\"gridcolor\":\"white\",\"linecolor\":\"white\",\"ticks\":\"\",\"title\":{\"standoff\":15},\"zerolinecolor\":\"white\",\"zerolinewidth\":2},\"yaxis\":{\"automargin\":true,\"gridcolor\":\"white\",\"linecolor\":\"white\",\"ticks\":\"\",\"title\":{\"standoff\":15},\"zerolinecolor\":\"white\",\"zerolinewidth\":2}}},\"title\":{\"text\":\"Number and Type of OA Publication by Journal Title\"},\"width\":1400,\"xaxis\":{\"anchor\":\"y\",\"constrain\":\"domain\",\"domain\":[0.0,1.0],\"scaleanchor\":\"y\",\"title\":{\"text\":\"journal.title\"}},\"yaxis\":{\"anchor\":\"x\",\"autorange\":\"reversed\",\"constrain\":\"domain\",\"domain\":[0.0,1.0]}},                        {\"responsive\": true}                    ).then(function(){\n",
       "                            \n",
       "var gd = document.getElementById('6ab632eb-ce71-48d2-910a-1c4618e3f90b');\n",
       "var x = new MutationObserver(function (mutations, observer) {{\n",
       "        var display = window.getComputedStyle(gd).display;\n",
       "        if (!display || display === 'none') {{\n",
       "            console.log([gd, 'removed!']);\n",
       "            Plotly.purge(gd);\n",
       "            observer.disconnect();\n",
       "        }}\n",
       "}});\n",
       "\n",
       "// Listen for the removal of the full notebook cells\n",
       "var notebookContainer = gd.closest('#notebook-container');\n",
       "if (notebookContainer) {{\n",
       "    x.observe(notebookContainer, {childList: true});\n",
       "}}\n",
       "\n",
       "// Listen for the clearing of the current output cell\n",
       "var outputEl = gd.closest('.output');\n",
       "if (outputEl) {{\n",
       "    x.observe(outputEl, {childList: true});\n",
       "}}\n",
       "\n",
       "                        })                };                });            </script>        </div>"
      ]
     },
     "metadata": {},
     "output_type": "display_data"
    }
   ],
   "source": [
    "fig = px.imshow(df_OA4, width=1400, height=600, color_continuous_scale=\"turbo\", title = \"Number and Type of OA Publication by Journal Title\")\n",
    "fig.show()"
   ]
  },
  {
   "cell_type": "markdown",
   "metadata": {},
   "source": [
    "# Exploratory Plots"
   ]
  },
  {
   "cell_type": "markdown",
   "metadata": {},
   "source": [
    "## Run the below box to see box plots comparing \"times cited\" between OA and Non-OA publications\n",
    "\n",
    "Hover over the box plots to see the quartile and fence values. You can select ranges by dragging over an area. Double click to go back to default view. "
   ]
  },
  {
   "cell_type": "code",
   "execution_count": 41,
   "metadata": {},
   "outputs": [
    {
     "data": {
      "application/vnd.plotly.v1+json": {
       "config": {
        "plotlyServerURL": "https://plot.ly"
       },
       "data": [
        {
         "alignmentgroup": "True",
         "hovertemplate": "oa_status_2=%{x}<br>times_cited=%{y}<extra></extra>",
         "legendgroup": "",
         "marker": {
          "color": "#636efa"
         },
         "name": "",
         "notched": false,
         "offsetgroup": "",
         "orientation": "v",
         "quartilemethod": "inclusive",
         "showlegend": false,
         "type": "box",
         "x": [
          "closed",
          "open",
          "open",
          "closed",
          "closed",
          "closed",
          "closed",
          "open",
          "closed",
          "closed",
          "closed",
          "closed",
          "closed",
          "closed",
          "closed",
          "closed",
          "open",
          "closed",
          "open",
          "open",
          "closed",
          "open",
          "closed",
          "closed",
          "closed",
          "closed",
          "open",
          "closed",
          "closed",
          "closed",
          "closed",
          "closed",
          "open",
          "closed",
          "open",
          "closed",
          "closed",
          "closed",
          "closed",
          "closed",
          "closed",
          "closed",
          "closed",
          "closed",
          "closed",
          "closed",
          "open",
          "closed",
          "open",
          "closed",
          "closed",
          "closed",
          "closed",
          "closed",
          "closed",
          "open",
          "open",
          "closed",
          "open",
          "closed",
          "open",
          "closed",
          "open",
          "open",
          "closed",
          "closed",
          "closed",
          "open",
          "open",
          "open",
          "closed",
          "closed",
          "closed",
          "closed",
          "open",
          "closed",
          "closed",
          "closed",
          "closed",
          "closed",
          "open",
          "open",
          "open",
          "open",
          "closed",
          "closed",
          "open",
          "closed",
          "closed",
          "closed",
          "open",
          "open",
          "closed",
          "closed",
          "closed",
          "closed",
          "closed",
          "closed",
          "open",
          "closed",
          "open",
          "open",
          "closed",
          "open",
          "closed",
          "closed",
          "open",
          "closed",
          "closed",
          "open",
          "open",
          "closed",
          "closed",
          "open",
          "closed",
          "closed",
          "closed",
          "closed",
          "closed",
          "closed",
          "closed",
          "closed",
          "closed",
          "open",
          "closed",
          "open",
          "open",
          "open",
          "closed",
          "closed",
          "closed",
          "open",
          "closed",
          "closed",
          "closed",
          "open",
          "closed",
          "closed",
          "open",
          "open",
          "closed",
          "open",
          "closed",
          "closed",
          "closed",
          "closed",
          "closed",
          "closed",
          "open",
          "closed",
          "closed",
          "open",
          "open",
          "closed",
          "closed",
          "closed",
          "closed",
          "closed",
          "open",
          "closed",
          "closed",
          "closed",
          "closed",
          "open",
          "open",
          "closed",
          "closed",
          "closed",
          "closed",
          "open",
          "closed",
          "closed",
          "open",
          "closed",
          "closed",
          "closed",
          "closed",
          "open",
          "closed",
          "open",
          "closed",
          "open",
          "closed",
          "open",
          "closed",
          "open",
          "open",
          "closed",
          "open",
          "closed",
          "closed",
          "closed",
          "closed",
          "closed",
          "closed",
          "closed",
          "closed",
          "open",
          "closed",
          "closed",
          "closed",
          "open",
          "closed",
          "closed",
          "closed",
          "open",
          "open",
          "closed",
          "closed",
          "closed",
          "closed",
          "closed",
          "closed",
          "open",
          "closed",
          "open",
          "open",
          "closed",
          "closed",
          "closed",
          "closed",
          "open",
          "open",
          "closed",
          "closed",
          "open",
          "closed",
          "closed",
          "open",
          "open",
          "closed",
          "closed",
          "closed",
          "closed",
          "closed",
          "open",
          "closed",
          "open",
          "closed",
          "closed",
          "closed",
          "closed",
          "open",
          "closed",
          "closed",
          "closed",
          "closed",
          "closed",
          "open",
          "closed",
          "closed",
          "closed",
          "closed",
          "closed",
          "closed",
          "closed",
          "closed",
          "open",
          "closed",
          "open",
          "closed",
          "open",
          "closed",
          "open",
          "closed",
          "closed",
          "closed",
          "closed",
          "closed",
          "closed",
          "open",
          "open",
          "closed",
          "closed",
          "closed",
          "closed",
          "open",
          "closed",
          "closed",
          "closed",
          "closed",
          "closed",
          "closed",
          "closed",
          "closed",
          "closed",
          "closed",
          "closed",
          "closed",
          "closed",
          "closed",
          "open",
          "closed",
          "closed",
          "closed",
          "closed",
          "closed",
          "open",
          "open",
          "closed",
          "closed",
          "closed",
          "closed",
          "closed",
          "closed",
          "closed",
          "closed",
          "closed",
          "closed",
          "open",
          "closed",
          "closed",
          "closed",
          "closed",
          "closed",
          "closed",
          "closed",
          "open",
          "open",
          "closed",
          "closed",
          "open",
          "closed",
          "open",
          "closed",
          "closed",
          "closed",
          "open",
          "open",
          "closed",
          "open",
          "closed",
          "open",
          "closed",
          "open",
          "closed",
          "closed",
          "closed",
          "closed",
          "closed",
          "closed",
          "closed",
          "closed",
          "open",
          "closed",
          "closed",
          "closed",
          "open",
          "closed",
          "closed",
          "closed",
          "closed",
          "open",
          "closed",
          "open",
          "closed",
          "closed",
          "closed",
          "closed",
          "closed",
          "closed",
          "closed",
          "closed",
          "closed",
          "closed",
          "closed",
          "closed",
          "closed",
          "closed",
          "open",
          "closed",
          "closed",
          "open",
          "open",
          "closed",
          "closed",
          "closed",
          "closed",
          "closed",
          "closed",
          "closed",
          "closed",
          "closed",
          "open",
          "closed",
          "closed",
          "closed",
          "closed",
          "closed",
          "closed",
          "closed",
          "closed",
          "closed",
          "closed",
          "closed",
          "closed",
          "closed",
          "closed",
          "closed",
          "closed",
          "open",
          "closed",
          "closed",
          "closed",
          "closed",
          "closed",
          "closed",
          "closed",
          "closed"
         ],
         "x0": " ",
         "xaxis": "x",
         "y": [
          0,
          0,
          0,
          0,
          1,
          0,
          0,
          0,
          3,
          4,
          3,
          0,
          0,
          0,
          0,
          0,
          3,
          0,
          2,
          0,
          0,
          0,
          0,
          1,
          0,
          1,
          0,
          0,
          1,
          2,
          0,
          0,
          0,
          0,
          2,
          0,
          1,
          0,
          2,
          0,
          0,
          4,
          1,
          1,
          0,
          0,
          0,
          0,
          1,
          5,
          0,
          2,
          0,
          5,
          0,
          0,
          0,
          1,
          5,
          2,
          1,
          3,
          5,
          1,
          6,
          0,
          5,
          7,
          5,
          3,
          5,
          0,
          14,
          0,
          2,
          0,
          5,
          0,
          8,
          6,
          0,
          0,
          0,
          2,
          3,
          8,
          10,
          5,
          0,
          19,
          2,
          0,
          1,
          5,
          1,
          0,
          3,
          1,
          0,
          0,
          0,
          0,
          0,
          0,
          0,
          37,
          4,
          4,
          0,
          0,
          0,
          0,
          13,
          11,
          17,
          0,
          0,
          3,
          0,
          1,
          1,
          0,
          1,
          8,
          28,
          1,
          3,
          1,
          1,
          1,
          6,
          9,
          0,
          1,
          0,
          4,
          44,
          0,
          2,
          0,
          8,
          11,
          1,
          0,
          11,
          2,
          36,
          2,
          16,
          0,
          3,
          0,
          8,
          109,
          41,
          0,
          8,
          53,
          39,
          8,
          1,
          4,
          6,
          0,
          13,
          0,
          32,
          7,
          1,
          20,
          10,
          0,
          2,
          25,
          8,
          4,
          31,
          0,
          0,
          7,
          38,
          98,
          4,
          4,
          5,
          14,
          34,
          23,
          16,
          9,
          0,
          19,
          18,
          5,
          7,
          2,
          7,
          23,
          4,
          0,
          1,
          139,
          41,
          1,
          13,
          27,
          29,
          7,
          62,
          11,
          16,
          38,
          22,
          23,
          36,
          0,
          34,
          38,
          4,
          0,
          4,
          46,
          2,
          8,
          9,
          0,
          0,
          2,
          28,
          7,
          7,
          47,
          28,
          35,
          15,
          46,
          0,
          36,
          13,
          1,
          4,
          5,
          28,
          0,
          0,
          0,
          4,
          1,
          44,
          0,
          81,
          0,
          40,
          7,
          3,
          1,
          10,
          24,
          14,
          0,
          0,
          33,
          57,
          0,
          0,
          9,
          7,
          157,
          0,
          33,
          18,
          0,
          9,
          130,
          1,
          0,
          0,
          63,
          13,
          11,
          116,
          31,
          0,
          0,
          0,
          0,
          2,
          71,
          0,
          3,
          9,
          0,
          24,
          0,
          24,
          2,
          1,
          1,
          78,
          75,
          0,
          1,
          11,
          3,
          23,
          1,
          0,
          3,
          0,
          26,
          16,
          5,
          16,
          98,
          16,
          0,
          11,
          1,
          0,
          169,
          0,
          0,
          6,
          0,
          19,
          68,
          1,
          0,
          5,
          1,
          0,
          14,
          2,
          0,
          0,
          15,
          0,
          4,
          0,
          0,
          12,
          17,
          9,
          0,
          1,
          48,
          0,
          4,
          0,
          0,
          8,
          3,
          21,
          40,
          0,
          2,
          16,
          8,
          3,
          7,
          0,
          6,
          16,
          12,
          5,
          37,
          5,
          0,
          2,
          1,
          65,
          0,
          0,
          0,
          0,
          1,
          1,
          1,
          0,
          8,
          0,
          38,
          0,
          0,
          0,
          0,
          0,
          1,
          6,
          0,
          4,
          0,
          0,
          0,
          0,
          21,
          0,
          0,
          0,
          0,
          2,
          0,
          0,
          2,
          0,
          0,
          2,
          1,
          0
         ],
         "y0": " ",
         "yaxis": "y"
        }
       ],
       "layout": {
        "boxmode": "group",
        "legend": {
         "tracegroupgap": 0
        },
        "margin": {
         "t": 60
        },
        "template": {
         "data": {
          "bar": [
           {
            "error_x": {
             "color": "#2a3f5f"
            },
            "error_y": {
             "color": "#2a3f5f"
            },
            "marker": {
             "line": {
              "color": "#E5ECF6",
              "width": 0.5
             },
             "pattern": {
              "fillmode": "overlay",
              "size": 10,
              "solidity": 0.2
             }
            },
            "type": "bar"
           }
          ],
          "barpolar": [
           {
            "marker": {
             "line": {
              "color": "#E5ECF6",
              "width": 0.5
             },
             "pattern": {
              "fillmode": "overlay",
              "size": 10,
              "solidity": 0.2
             }
            },
            "type": "barpolar"
           }
          ],
          "carpet": [
           {
            "aaxis": {
             "endlinecolor": "#2a3f5f",
             "gridcolor": "white",
             "linecolor": "white",
             "minorgridcolor": "white",
             "startlinecolor": "#2a3f5f"
            },
            "baxis": {
             "endlinecolor": "#2a3f5f",
             "gridcolor": "white",
             "linecolor": "white",
             "minorgridcolor": "white",
             "startlinecolor": "#2a3f5f"
            },
            "type": "carpet"
           }
          ],
          "choropleth": [
           {
            "colorbar": {
             "outlinewidth": 0,
             "ticks": ""
            },
            "type": "choropleth"
           }
          ],
          "contour": [
           {
            "colorbar": {
             "outlinewidth": 0,
             "ticks": ""
            },
            "colorscale": [
             [
              0,
              "#0d0887"
             ],
             [
              0.1111111111111111,
              "#46039f"
             ],
             [
              0.2222222222222222,
              "#7201a8"
             ],
             [
              0.3333333333333333,
              "#9c179e"
             ],
             [
              0.4444444444444444,
              "#bd3786"
             ],
             [
              0.5555555555555556,
              "#d8576b"
             ],
             [
              0.6666666666666666,
              "#ed7953"
             ],
             [
              0.7777777777777778,
              "#fb9f3a"
             ],
             [
              0.8888888888888888,
              "#fdca26"
             ],
             [
              1,
              "#f0f921"
             ]
            ],
            "type": "contour"
           }
          ],
          "contourcarpet": [
           {
            "colorbar": {
             "outlinewidth": 0,
             "ticks": ""
            },
            "type": "contourcarpet"
           }
          ],
          "heatmap": [
           {
            "colorbar": {
             "outlinewidth": 0,
             "ticks": ""
            },
            "colorscale": [
             [
              0,
              "#0d0887"
             ],
             [
              0.1111111111111111,
              "#46039f"
             ],
             [
              0.2222222222222222,
              "#7201a8"
             ],
             [
              0.3333333333333333,
              "#9c179e"
             ],
             [
              0.4444444444444444,
              "#bd3786"
             ],
             [
              0.5555555555555556,
              "#d8576b"
             ],
             [
              0.6666666666666666,
              "#ed7953"
             ],
             [
              0.7777777777777778,
              "#fb9f3a"
             ],
             [
              0.8888888888888888,
              "#fdca26"
             ],
             [
              1,
              "#f0f921"
             ]
            ],
            "type": "heatmap"
           }
          ],
          "heatmapgl": [
           {
            "colorbar": {
             "outlinewidth": 0,
             "ticks": ""
            },
            "colorscale": [
             [
              0,
              "#0d0887"
             ],
             [
              0.1111111111111111,
              "#46039f"
             ],
             [
              0.2222222222222222,
              "#7201a8"
             ],
             [
              0.3333333333333333,
              "#9c179e"
             ],
             [
              0.4444444444444444,
              "#bd3786"
             ],
             [
              0.5555555555555556,
              "#d8576b"
             ],
             [
              0.6666666666666666,
              "#ed7953"
             ],
             [
              0.7777777777777778,
              "#fb9f3a"
             ],
             [
              0.8888888888888888,
              "#fdca26"
             ],
             [
              1,
              "#f0f921"
             ]
            ],
            "type": "heatmapgl"
           }
          ],
          "histogram": [
           {
            "marker": {
             "pattern": {
              "fillmode": "overlay",
              "size": 10,
              "solidity": 0.2
             }
            },
            "type": "histogram"
           }
          ],
          "histogram2d": [
           {
            "colorbar": {
             "outlinewidth": 0,
             "ticks": ""
            },
            "colorscale": [
             [
              0,
              "#0d0887"
             ],
             [
              0.1111111111111111,
              "#46039f"
             ],
             [
              0.2222222222222222,
              "#7201a8"
             ],
             [
              0.3333333333333333,
              "#9c179e"
             ],
             [
              0.4444444444444444,
              "#bd3786"
             ],
             [
              0.5555555555555556,
              "#d8576b"
             ],
             [
              0.6666666666666666,
              "#ed7953"
             ],
             [
              0.7777777777777778,
              "#fb9f3a"
             ],
             [
              0.8888888888888888,
              "#fdca26"
             ],
             [
              1,
              "#f0f921"
             ]
            ],
            "type": "histogram2d"
           }
          ],
          "histogram2dcontour": [
           {
            "colorbar": {
             "outlinewidth": 0,
             "ticks": ""
            },
            "colorscale": [
             [
              0,
              "#0d0887"
             ],
             [
              0.1111111111111111,
              "#46039f"
             ],
             [
              0.2222222222222222,
              "#7201a8"
             ],
             [
              0.3333333333333333,
              "#9c179e"
             ],
             [
              0.4444444444444444,
              "#bd3786"
             ],
             [
              0.5555555555555556,
              "#d8576b"
             ],
             [
              0.6666666666666666,
              "#ed7953"
             ],
             [
              0.7777777777777778,
              "#fb9f3a"
             ],
             [
              0.8888888888888888,
              "#fdca26"
             ],
             [
              1,
              "#f0f921"
             ]
            ],
            "type": "histogram2dcontour"
           }
          ],
          "mesh3d": [
           {
            "colorbar": {
             "outlinewidth": 0,
             "ticks": ""
            },
            "type": "mesh3d"
           }
          ],
          "parcoords": [
           {
            "line": {
             "colorbar": {
              "outlinewidth": 0,
              "ticks": ""
             }
            },
            "type": "parcoords"
           }
          ],
          "pie": [
           {
            "automargin": true,
            "type": "pie"
           }
          ],
          "scatter": [
           {
            "marker": {
             "colorbar": {
              "outlinewidth": 0,
              "ticks": ""
             }
            },
            "type": "scatter"
           }
          ],
          "scatter3d": [
           {
            "line": {
             "colorbar": {
              "outlinewidth": 0,
              "ticks": ""
             }
            },
            "marker": {
             "colorbar": {
              "outlinewidth": 0,
              "ticks": ""
             }
            },
            "type": "scatter3d"
           }
          ],
          "scattercarpet": [
           {
            "marker": {
             "colorbar": {
              "outlinewidth": 0,
              "ticks": ""
             }
            },
            "type": "scattercarpet"
           }
          ],
          "scattergeo": [
           {
            "marker": {
             "colorbar": {
              "outlinewidth": 0,
              "ticks": ""
             }
            },
            "type": "scattergeo"
           }
          ],
          "scattergl": [
           {
            "marker": {
             "colorbar": {
              "outlinewidth": 0,
              "ticks": ""
             }
            },
            "type": "scattergl"
           }
          ],
          "scattermapbox": [
           {
            "marker": {
             "colorbar": {
              "outlinewidth": 0,
              "ticks": ""
             }
            },
            "type": "scattermapbox"
           }
          ],
          "scatterpolar": [
           {
            "marker": {
             "colorbar": {
              "outlinewidth": 0,
              "ticks": ""
             }
            },
            "type": "scatterpolar"
           }
          ],
          "scatterpolargl": [
           {
            "marker": {
             "colorbar": {
              "outlinewidth": 0,
              "ticks": ""
             }
            },
            "type": "scatterpolargl"
           }
          ],
          "scatterternary": [
           {
            "marker": {
             "colorbar": {
              "outlinewidth": 0,
              "ticks": ""
             }
            },
            "type": "scatterternary"
           }
          ],
          "surface": [
           {
            "colorbar": {
             "outlinewidth": 0,
             "ticks": ""
            },
            "colorscale": [
             [
              0,
              "#0d0887"
             ],
             [
              0.1111111111111111,
              "#46039f"
             ],
             [
              0.2222222222222222,
              "#7201a8"
             ],
             [
              0.3333333333333333,
              "#9c179e"
             ],
             [
              0.4444444444444444,
              "#bd3786"
             ],
             [
              0.5555555555555556,
              "#d8576b"
             ],
             [
              0.6666666666666666,
              "#ed7953"
             ],
             [
              0.7777777777777778,
              "#fb9f3a"
             ],
             [
              0.8888888888888888,
              "#fdca26"
             ],
             [
              1,
              "#f0f921"
             ]
            ],
            "type": "surface"
           }
          ],
          "table": [
           {
            "cells": {
             "fill": {
              "color": "#EBF0F8"
             },
             "line": {
              "color": "white"
             }
            },
            "header": {
             "fill": {
              "color": "#C8D4E3"
             },
             "line": {
              "color": "white"
             }
            },
            "type": "table"
           }
          ]
         },
         "layout": {
          "annotationdefaults": {
           "arrowcolor": "#2a3f5f",
           "arrowhead": 0,
           "arrowwidth": 1
          },
          "autotypenumbers": "strict",
          "coloraxis": {
           "colorbar": {
            "outlinewidth": 0,
            "ticks": ""
           }
          },
          "colorscale": {
           "diverging": [
            [
             0,
             "#8e0152"
            ],
            [
             0.1,
             "#c51b7d"
            ],
            [
             0.2,
             "#de77ae"
            ],
            [
             0.3,
             "#f1b6da"
            ],
            [
             0.4,
             "#fde0ef"
            ],
            [
             0.5,
             "#f7f7f7"
            ],
            [
             0.6,
             "#e6f5d0"
            ],
            [
             0.7,
             "#b8e186"
            ],
            [
             0.8,
             "#7fbc41"
            ],
            [
             0.9,
             "#4d9221"
            ],
            [
             1,
             "#276419"
            ]
           ],
           "sequential": [
            [
             0,
             "#0d0887"
            ],
            [
             0.1111111111111111,
             "#46039f"
            ],
            [
             0.2222222222222222,
             "#7201a8"
            ],
            [
             0.3333333333333333,
             "#9c179e"
            ],
            [
             0.4444444444444444,
             "#bd3786"
            ],
            [
             0.5555555555555556,
             "#d8576b"
            ],
            [
             0.6666666666666666,
             "#ed7953"
            ],
            [
             0.7777777777777778,
             "#fb9f3a"
            ],
            [
             0.8888888888888888,
             "#fdca26"
            ],
            [
             1,
             "#f0f921"
            ]
           ],
           "sequentialminus": [
            [
             0,
             "#0d0887"
            ],
            [
             0.1111111111111111,
             "#46039f"
            ],
            [
             0.2222222222222222,
             "#7201a8"
            ],
            [
             0.3333333333333333,
             "#9c179e"
            ],
            [
             0.4444444444444444,
             "#bd3786"
            ],
            [
             0.5555555555555556,
             "#d8576b"
            ],
            [
             0.6666666666666666,
             "#ed7953"
            ],
            [
             0.7777777777777778,
             "#fb9f3a"
            ],
            [
             0.8888888888888888,
             "#fdca26"
            ],
            [
             1,
             "#f0f921"
            ]
           ]
          },
          "colorway": [
           "#636efa",
           "#EF553B",
           "#00cc96",
           "#ab63fa",
           "#FFA15A",
           "#19d3f3",
           "#FF6692",
           "#B6E880",
           "#FF97FF",
           "#FECB52"
          ],
          "font": {
           "color": "#2a3f5f"
          },
          "geo": {
           "bgcolor": "white",
           "lakecolor": "white",
           "landcolor": "#E5ECF6",
           "showlakes": true,
           "showland": true,
           "subunitcolor": "white"
          },
          "hoverlabel": {
           "align": "left"
          },
          "hovermode": "closest",
          "mapbox": {
           "style": "light"
          },
          "paper_bgcolor": "white",
          "plot_bgcolor": "#E5ECF6",
          "polar": {
           "angularaxis": {
            "gridcolor": "white",
            "linecolor": "white",
            "ticks": ""
           },
           "bgcolor": "#E5ECF6",
           "radialaxis": {
            "gridcolor": "white",
            "linecolor": "white",
            "ticks": ""
           }
          },
          "scene": {
           "xaxis": {
            "backgroundcolor": "#E5ECF6",
            "gridcolor": "white",
            "gridwidth": 2,
            "linecolor": "white",
            "showbackground": true,
            "ticks": "",
            "zerolinecolor": "white"
           },
           "yaxis": {
            "backgroundcolor": "#E5ECF6",
            "gridcolor": "white",
            "gridwidth": 2,
            "linecolor": "white",
            "showbackground": true,
            "ticks": "",
            "zerolinecolor": "white"
           },
           "zaxis": {
            "backgroundcolor": "#E5ECF6",
            "gridcolor": "white",
            "gridwidth": 2,
            "linecolor": "white",
            "showbackground": true,
            "ticks": "",
            "zerolinecolor": "white"
           }
          },
          "shapedefaults": {
           "line": {
            "color": "#2a3f5f"
           }
          },
          "ternary": {
           "aaxis": {
            "gridcolor": "white",
            "linecolor": "white",
            "ticks": ""
           },
           "baxis": {
            "gridcolor": "white",
            "linecolor": "white",
            "ticks": ""
           },
           "bgcolor": "#E5ECF6",
           "caxis": {
            "gridcolor": "white",
            "linecolor": "white",
            "ticks": ""
           }
          },
          "title": {
           "x": 0.05
          },
          "xaxis": {
           "automargin": true,
           "gridcolor": "white",
           "linecolor": "white",
           "ticks": "",
           "title": {
            "standoff": 15
           },
           "zerolinecolor": "white",
           "zerolinewidth": 2
          },
          "yaxis": {
           "automargin": true,
           "gridcolor": "white",
           "linecolor": "white",
           "ticks": "",
           "title": {
            "standoff": 15
           },
           "zerolinecolor": "white",
           "zerolinewidth": 2
          }
         }
        },
        "xaxis": {
         "anchor": "y",
         "domain": [
          0,
          1
         ],
         "title": {
          "text": "oa_status_2"
         }
        },
        "yaxis": {
         "anchor": "x",
         "domain": [
          0,
          1
         ],
         "title": {
          "text": "times_cited"
         }
        }
       }
      },
      "text/html": [
       "<div>                            <div id=\"adccf38f-b1ed-483b-a6b1-059c282e1a14\" class=\"plotly-graph-div\" style=\"height:525px; width:100%;\"></div>            <script type=\"text/javascript\">                require([\"plotly\"], function(Plotly) {                    window.PLOTLYENV=window.PLOTLYENV || {};                                    if (document.getElementById(\"adccf38f-b1ed-483b-a6b1-059c282e1a14\")) {                    Plotly.newPlot(                        \"adccf38f-b1ed-483b-a6b1-059c282e1a14\",                        [{\"alignmentgroup\":\"True\",\"hovertemplate\":\"oa_status_2=%{x}<br>times_cited=%{y}<extra></extra>\",\"legendgroup\":\"\",\"marker\":{\"color\":\"#636efa\"},\"name\":\"\",\"notched\":false,\"offsetgroup\":\"\",\"orientation\":\"v\",\"quartilemethod\":\"inclusive\",\"showlegend\":false,\"type\":\"box\",\"x\":[\"closed\",\"open\",\"open\",\"closed\",\"closed\",\"closed\",\"closed\",\"open\",\"closed\",\"closed\",\"closed\",\"closed\",\"closed\",\"closed\",\"closed\",\"closed\",\"open\",\"closed\",\"open\",\"open\",\"closed\",\"open\",\"closed\",\"closed\",\"closed\",\"closed\",\"open\",\"closed\",\"closed\",\"closed\",\"closed\",\"closed\",\"open\",\"closed\",\"open\",\"closed\",\"closed\",\"closed\",\"closed\",\"closed\",\"closed\",\"closed\",\"closed\",\"closed\",\"closed\",\"closed\",\"open\",\"closed\",\"open\",\"closed\",\"closed\",\"closed\",\"closed\",\"closed\",\"closed\",\"open\",\"open\",\"closed\",\"open\",\"closed\",\"open\",\"closed\",\"open\",\"open\",\"closed\",\"closed\",\"closed\",\"open\",\"open\",\"open\",\"closed\",\"closed\",\"closed\",\"closed\",\"open\",\"closed\",\"closed\",\"closed\",\"closed\",\"closed\",\"open\",\"open\",\"open\",\"open\",\"closed\",\"closed\",\"open\",\"closed\",\"closed\",\"closed\",\"open\",\"open\",\"closed\",\"closed\",\"closed\",\"closed\",\"closed\",\"closed\",\"open\",\"closed\",\"open\",\"open\",\"closed\",\"open\",\"closed\",\"closed\",\"open\",\"closed\",\"closed\",\"open\",\"open\",\"closed\",\"closed\",\"open\",\"closed\",\"closed\",\"closed\",\"closed\",\"closed\",\"closed\",\"closed\",\"closed\",\"closed\",\"open\",\"closed\",\"open\",\"open\",\"open\",\"closed\",\"closed\",\"closed\",\"open\",\"closed\",\"closed\",\"closed\",\"open\",\"closed\",\"closed\",\"open\",\"open\",\"closed\",\"open\",\"closed\",\"closed\",\"closed\",\"closed\",\"closed\",\"closed\",\"open\",\"closed\",\"closed\",\"open\",\"open\",\"closed\",\"closed\",\"closed\",\"closed\",\"closed\",\"open\",\"closed\",\"closed\",\"closed\",\"closed\",\"open\",\"open\",\"closed\",\"closed\",\"closed\",\"closed\",\"open\",\"closed\",\"closed\",\"open\",\"closed\",\"closed\",\"closed\",\"closed\",\"open\",\"closed\",\"open\",\"closed\",\"open\",\"closed\",\"open\",\"closed\",\"open\",\"open\",\"closed\",\"open\",\"closed\",\"closed\",\"closed\",\"closed\",\"closed\",\"closed\",\"closed\",\"closed\",\"open\",\"closed\",\"closed\",\"closed\",\"open\",\"closed\",\"closed\",\"closed\",\"open\",\"open\",\"closed\",\"closed\",\"closed\",\"closed\",\"closed\",\"closed\",\"open\",\"closed\",\"open\",\"open\",\"closed\",\"closed\",\"closed\",\"closed\",\"open\",\"open\",\"closed\",\"closed\",\"open\",\"closed\",\"closed\",\"open\",\"open\",\"closed\",\"closed\",\"closed\",\"closed\",\"closed\",\"open\",\"closed\",\"open\",\"closed\",\"closed\",\"closed\",\"closed\",\"open\",\"closed\",\"closed\",\"closed\",\"closed\",\"closed\",\"open\",\"closed\",\"closed\",\"closed\",\"closed\",\"closed\",\"closed\",\"closed\",\"closed\",\"open\",\"closed\",\"open\",\"closed\",\"open\",\"closed\",\"open\",\"closed\",\"closed\",\"closed\",\"closed\",\"closed\",\"closed\",\"open\",\"open\",\"closed\",\"closed\",\"closed\",\"closed\",\"open\",\"closed\",\"closed\",\"closed\",\"closed\",\"closed\",\"closed\",\"closed\",\"closed\",\"closed\",\"closed\",\"closed\",\"closed\",\"closed\",\"closed\",\"open\",\"closed\",\"closed\",\"closed\",\"closed\",\"closed\",\"open\",\"open\",\"closed\",\"closed\",\"closed\",\"closed\",\"closed\",\"closed\",\"closed\",\"closed\",\"closed\",\"closed\",\"open\",\"closed\",\"closed\",\"closed\",\"closed\",\"closed\",\"closed\",\"closed\",\"open\",\"open\",\"closed\",\"closed\",\"open\",\"closed\",\"open\",\"closed\",\"closed\",\"closed\",\"open\",\"open\",\"closed\",\"open\",\"closed\",\"open\",\"closed\",\"open\",\"closed\",\"closed\",\"closed\",\"closed\",\"closed\",\"closed\",\"closed\",\"closed\",\"open\",\"closed\",\"closed\",\"closed\",\"open\",\"closed\",\"closed\",\"closed\",\"closed\",\"open\",\"closed\",\"open\",\"closed\",\"closed\",\"closed\",\"closed\",\"closed\",\"closed\",\"closed\",\"closed\",\"closed\",\"closed\",\"closed\",\"closed\",\"closed\",\"closed\",\"open\",\"closed\",\"closed\",\"open\",\"open\",\"closed\",\"closed\",\"closed\",\"closed\",\"closed\",\"closed\",\"closed\",\"closed\",\"closed\",\"open\",\"closed\",\"closed\",\"closed\",\"closed\",\"closed\",\"closed\",\"closed\",\"closed\",\"closed\",\"closed\",\"closed\",\"closed\",\"closed\",\"closed\",\"closed\",\"closed\",\"open\",\"closed\",\"closed\",\"closed\",\"closed\",\"closed\",\"closed\",\"closed\",\"closed\"],\"x0\":\" \",\"xaxis\":\"x\",\"y\":[0,0,0,0,1,0,0,0,3,4,3,0,0,0,0,0,3,0,2,0,0,0,0,1,0,1,0,0,1,2,0,0,0,0,2,0,1,0,2,0,0,4,1,1,0,0,0,0,1,5,0,2,0,5,0,0,0,1,5,2,1,3,5,1,6,0,5,7,5,3,5,0,14,0,2,0,5,0,8,6,0,0,0,2,3,8,10,5,0,19,2,0,1,5,1,0,3,1,0,0,0,0,0,0,0,37,4,4,0,0,0,0,13,11,17,0,0,3,0,1,1,0,1,8,28,1,3,1,1,1,6,9,0,1,0,4,44,0,2,0,8,11,1,0,11,2,36,2,16,0,3,0,8,109,41,0,8,53,39,8,1,4,6,0,13,0,32,7,1,20,10,0,2,25,8,4,31,0,0,7,38,98,4,4,5,14,34,23,16,9,0,19,18,5,7,2,7,23,4,0,1,139,41,1,13,27,29,7,62,11,16,38,22,23,36,0,34,38,4,0,4,46,2,8,9,0,0,2,28,7,7,47,28,35,15,46,0,36,13,1,4,5,28,0,0,0,4,1,44,0,81,0,40,7,3,1,10,24,14,0,0,33,57,0,0,9,7,157,0,33,18,0,9,130,1,0,0,63,13,11,116,31,0,0,0,0,2,71,0,3,9,0,24,0,24,2,1,1,78,75,0,1,11,3,23,1,0,3,0,26,16,5,16,98,16,0,11,1,0,169,0,0,6,0,19,68,1,0,5,1,0,14,2,0,0,15,0,4,0,0,12,17,9,0,1,48,0,4,0,0,8,3,21,40,0,2,16,8,3,7,0,6,16,12,5,37,5,0,2,1,65,0,0,0,0,1,1,1,0,8,0,38,0,0,0,0,0,1,6,0,4,0,0,0,0,21,0,0,0,0,2,0,0,2,0,0,2,1,0],\"y0\":\" \",\"yaxis\":\"y\"}],                        {\"boxmode\":\"group\",\"legend\":{\"tracegroupgap\":0},\"margin\":{\"t\":60},\"template\":{\"data\":{\"bar\":[{\"error_x\":{\"color\":\"#2a3f5f\"},\"error_y\":{\"color\":\"#2a3f5f\"},\"marker\":{\"line\":{\"color\":\"#E5ECF6\",\"width\":0.5},\"pattern\":{\"fillmode\":\"overlay\",\"size\":10,\"solidity\":0.2}},\"type\":\"bar\"}],\"barpolar\":[{\"marker\":{\"line\":{\"color\":\"#E5ECF6\",\"width\":0.5},\"pattern\":{\"fillmode\":\"overlay\",\"size\":10,\"solidity\":0.2}},\"type\":\"barpolar\"}],\"carpet\":[{\"aaxis\":{\"endlinecolor\":\"#2a3f5f\",\"gridcolor\":\"white\",\"linecolor\":\"white\",\"minorgridcolor\":\"white\",\"startlinecolor\":\"#2a3f5f\"},\"baxis\":{\"endlinecolor\":\"#2a3f5f\",\"gridcolor\":\"white\",\"linecolor\":\"white\",\"minorgridcolor\":\"white\",\"startlinecolor\":\"#2a3f5f\"},\"type\":\"carpet\"}],\"choropleth\":[{\"colorbar\":{\"outlinewidth\":0,\"ticks\":\"\"},\"type\":\"choropleth\"}],\"contour\":[{\"colorbar\":{\"outlinewidth\":0,\"ticks\":\"\"},\"colorscale\":[[0.0,\"#0d0887\"],[0.1111111111111111,\"#46039f\"],[0.2222222222222222,\"#7201a8\"],[0.3333333333333333,\"#9c179e\"],[0.4444444444444444,\"#bd3786\"],[0.5555555555555556,\"#d8576b\"],[0.6666666666666666,\"#ed7953\"],[0.7777777777777778,\"#fb9f3a\"],[0.8888888888888888,\"#fdca26\"],[1.0,\"#f0f921\"]],\"type\":\"contour\"}],\"contourcarpet\":[{\"colorbar\":{\"outlinewidth\":0,\"ticks\":\"\"},\"type\":\"contourcarpet\"}],\"heatmap\":[{\"colorbar\":{\"outlinewidth\":0,\"ticks\":\"\"},\"colorscale\":[[0.0,\"#0d0887\"],[0.1111111111111111,\"#46039f\"],[0.2222222222222222,\"#7201a8\"],[0.3333333333333333,\"#9c179e\"],[0.4444444444444444,\"#bd3786\"],[0.5555555555555556,\"#d8576b\"],[0.6666666666666666,\"#ed7953\"],[0.7777777777777778,\"#fb9f3a\"],[0.8888888888888888,\"#fdca26\"],[1.0,\"#f0f921\"]],\"type\":\"heatmap\"}],\"heatmapgl\":[{\"colorbar\":{\"outlinewidth\":0,\"ticks\":\"\"},\"colorscale\":[[0.0,\"#0d0887\"],[0.1111111111111111,\"#46039f\"],[0.2222222222222222,\"#7201a8\"],[0.3333333333333333,\"#9c179e\"],[0.4444444444444444,\"#bd3786\"],[0.5555555555555556,\"#d8576b\"],[0.6666666666666666,\"#ed7953\"],[0.7777777777777778,\"#fb9f3a\"],[0.8888888888888888,\"#fdca26\"],[1.0,\"#f0f921\"]],\"type\":\"heatmapgl\"}],\"histogram\":[{\"marker\":{\"pattern\":{\"fillmode\":\"overlay\",\"size\":10,\"solidity\":0.2}},\"type\":\"histogram\"}],\"histogram2d\":[{\"colorbar\":{\"outlinewidth\":0,\"ticks\":\"\"},\"colorscale\":[[0.0,\"#0d0887\"],[0.1111111111111111,\"#46039f\"],[0.2222222222222222,\"#7201a8\"],[0.3333333333333333,\"#9c179e\"],[0.4444444444444444,\"#bd3786\"],[0.5555555555555556,\"#d8576b\"],[0.6666666666666666,\"#ed7953\"],[0.7777777777777778,\"#fb9f3a\"],[0.8888888888888888,\"#fdca26\"],[1.0,\"#f0f921\"]],\"type\":\"histogram2d\"}],\"histogram2dcontour\":[{\"colorbar\":{\"outlinewidth\":0,\"ticks\":\"\"},\"colorscale\":[[0.0,\"#0d0887\"],[0.1111111111111111,\"#46039f\"],[0.2222222222222222,\"#7201a8\"],[0.3333333333333333,\"#9c179e\"],[0.4444444444444444,\"#bd3786\"],[0.5555555555555556,\"#d8576b\"],[0.6666666666666666,\"#ed7953\"],[0.7777777777777778,\"#fb9f3a\"],[0.8888888888888888,\"#fdca26\"],[1.0,\"#f0f921\"]],\"type\":\"histogram2dcontour\"}],\"mesh3d\":[{\"colorbar\":{\"outlinewidth\":0,\"ticks\":\"\"},\"type\":\"mesh3d\"}],\"parcoords\":[{\"line\":{\"colorbar\":{\"outlinewidth\":0,\"ticks\":\"\"}},\"type\":\"parcoords\"}],\"pie\":[{\"automargin\":true,\"type\":\"pie\"}],\"scatter\":[{\"marker\":{\"colorbar\":{\"outlinewidth\":0,\"ticks\":\"\"}},\"type\":\"scatter\"}],\"scatter3d\":[{\"line\":{\"colorbar\":{\"outlinewidth\":0,\"ticks\":\"\"}},\"marker\":{\"colorbar\":{\"outlinewidth\":0,\"ticks\":\"\"}},\"type\":\"scatter3d\"}],\"scattercarpet\":[{\"marker\":{\"colorbar\":{\"outlinewidth\":0,\"ticks\":\"\"}},\"type\":\"scattercarpet\"}],\"scattergeo\":[{\"marker\":{\"colorbar\":{\"outlinewidth\":0,\"ticks\":\"\"}},\"type\":\"scattergeo\"}],\"scattergl\":[{\"marker\":{\"colorbar\":{\"outlinewidth\":0,\"ticks\":\"\"}},\"type\":\"scattergl\"}],\"scattermapbox\":[{\"marker\":{\"colorbar\":{\"outlinewidth\":0,\"ticks\":\"\"}},\"type\":\"scattermapbox\"}],\"scatterpolar\":[{\"marker\":{\"colorbar\":{\"outlinewidth\":0,\"ticks\":\"\"}},\"type\":\"scatterpolar\"}],\"scatterpolargl\":[{\"marker\":{\"colorbar\":{\"outlinewidth\":0,\"ticks\":\"\"}},\"type\":\"scatterpolargl\"}],\"scatterternary\":[{\"marker\":{\"colorbar\":{\"outlinewidth\":0,\"ticks\":\"\"}},\"type\":\"scatterternary\"}],\"surface\":[{\"colorbar\":{\"outlinewidth\":0,\"ticks\":\"\"},\"colorscale\":[[0.0,\"#0d0887\"],[0.1111111111111111,\"#46039f\"],[0.2222222222222222,\"#7201a8\"],[0.3333333333333333,\"#9c179e\"],[0.4444444444444444,\"#bd3786\"],[0.5555555555555556,\"#d8576b\"],[0.6666666666666666,\"#ed7953\"],[0.7777777777777778,\"#fb9f3a\"],[0.8888888888888888,\"#fdca26\"],[1.0,\"#f0f921\"]],\"type\":\"surface\"}],\"table\":[{\"cells\":{\"fill\":{\"color\":\"#EBF0F8\"},\"line\":{\"color\":\"white\"}},\"header\":{\"fill\":{\"color\":\"#C8D4E3\"},\"line\":{\"color\":\"white\"}},\"type\":\"table\"}]},\"layout\":{\"annotationdefaults\":{\"arrowcolor\":\"#2a3f5f\",\"arrowhead\":0,\"arrowwidth\":1},\"autotypenumbers\":\"strict\",\"coloraxis\":{\"colorbar\":{\"outlinewidth\":0,\"ticks\":\"\"}},\"colorscale\":{\"diverging\":[[0,\"#8e0152\"],[0.1,\"#c51b7d\"],[0.2,\"#de77ae\"],[0.3,\"#f1b6da\"],[0.4,\"#fde0ef\"],[0.5,\"#f7f7f7\"],[0.6,\"#e6f5d0\"],[0.7,\"#b8e186\"],[0.8,\"#7fbc41\"],[0.9,\"#4d9221\"],[1,\"#276419\"]],\"sequential\":[[0.0,\"#0d0887\"],[0.1111111111111111,\"#46039f\"],[0.2222222222222222,\"#7201a8\"],[0.3333333333333333,\"#9c179e\"],[0.4444444444444444,\"#bd3786\"],[0.5555555555555556,\"#d8576b\"],[0.6666666666666666,\"#ed7953\"],[0.7777777777777778,\"#fb9f3a\"],[0.8888888888888888,\"#fdca26\"],[1.0,\"#f0f921\"]],\"sequentialminus\":[[0.0,\"#0d0887\"],[0.1111111111111111,\"#46039f\"],[0.2222222222222222,\"#7201a8\"],[0.3333333333333333,\"#9c179e\"],[0.4444444444444444,\"#bd3786\"],[0.5555555555555556,\"#d8576b\"],[0.6666666666666666,\"#ed7953\"],[0.7777777777777778,\"#fb9f3a\"],[0.8888888888888888,\"#fdca26\"],[1.0,\"#f0f921\"]]},\"colorway\":[\"#636efa\",\"#EF553B\",\"#00cc96\",\"#ab63fa\",\"#FFA15A\",\"#19d3f3\",\"#FF6692\",\"#B6E880\",\"#FF97FF\",\"#FECB52\"],\"font\":{\"color\":\"#2a3f5f\"},\"geo\":{\"bgcolor\":\"white\",\"lakecolor\":\"white\",\"landcolor\":\"#E5ECF6\",\"showlakes\":true,\"showland\":true,\"subunitcolor\":\"white\"},\"hoverlabel\":{\"align\":\"left\"},\"hovermode\":\"closest\",\"mapbox\":{\"style\":\"light\"},\"paper_bgcolor\":\"white\",\"plot_bgcolor\":\"#E5ECF6\",\"polar\":{\"angularaxis\":{\"gridcolor\":\"white\",\"linecolor\":\"white\",\"ticks\":\"\"},\"bgcolor\":\"#E5ECF6\",\"radialaxis\":{\"gridcolor\":\"white\",\"linecolor\":\"white\",\"ticks\":\"\"}},\"scene\":{\"xaxis\":{\"backgroundcolor\":\"#E5ECF6\",\"gridcolor\":\"white\",\"gridwidth\":2,\"linecolor\":\"white\",\"showbackground\":true,\"ticks\":\"\",\"zerolinecolor\":\"white\"},\"yaxis\":{\"backgroundcolor\":\"#E5ECF6\",\"gridcolor\":\"white\",\"gridwidth\":2,\"linecolor\":\"white\",\"showbackground\":true,\"ticks\":\"\",\"zerolinecolor\":\"white\"},\"zaxis\":{\"backgroundcolor\":\"#E5ECF6\",\"gridcolor\":\"white\",\"gridwidth\":2,\"linecolor\":\"white\",\"showbackground\":true,\"ticks\":\"\",\"zerolinecolor\":\"white\"}},\"shapedefaults\":{\"line\":{\"color\":\"#2a3f5f\"}},\"ternary\":{\"aaxis\":{\"gridcolor\":\"white\",\"linecolor\":\"white\",\"ticks\":\"\"},\"baxis\":{\"gridcolor\":\"white\",\"linecolor\":\"white\",\"ticks\":\"\"},\"bgcolor\":\"#E5ECF6\",\"caxis\":{\"gridcolor\":\"white\",\"linecolor\":\"white\",\"ticks\":\"\"}},\"title\":{\"x\":0.05},\"xaxis\":{\"automargin\":true,\"gridcolor\":\"white\",\"linecolor\":\"white\",\"ticks\":\"\",\"title\":{\"standoff\":15},\"zerolinecolor\":\"white\",\"zerolinewidth\":2},\"yaxis\":{\"automargin\":true,\"gridcolor\":\"white\",\"linecolor\":\"white\",\"ticks\":\"\",\"title\":{\"standoff\":15},\"zerolinecolor\":\"white\",\"zerolinewidth\":2}}},\"xaxis\":{\"anchor\":\"y\",\"domain\":[0.0,1.0],\"title\":{\"text\":\"oa_status_2\"}},\"yaxis\":{\"anchor\":\"x\",\"domain\":[0.0,1.0],\"title\":{\"text\":\"times_cited\"}}},                        {\"responsive\": true}                    ).then(function(){\n",
       "                            \n",
       "var gd = document.getElementById('adccf38f-b1ed-483b-a6b1-059c282e1a14');\n",
       "var x = new MutationObserver(function (mutations, observer) {{\n",
       "        var display = window.getComputedStyle(gd).display;\n",
       "        if (!display || display === 'none') {{\n",
       "            console.log([gd, 'removed!']);\n",
       "            Plotly.purge(gd);\n",
       "            observer.disconnect();\n",
       "        }}\n",
       "}});\n",
       "\n",
       "// Listen for the removal of the full notebook cells\n",
       "var notebookContainer = gd.closest('#notebook-container');\n",
       "if (notebookContainer) {{\n",
       "    x.observe(notebookContainer, {childList: true});\n",
       "}}\n",
       "\n",
       "// Listen for the clearing of the current output cell\n",
       "var outputEl = gd.closest('.output');\n",
       "if (outputEl) {{\n",
       "    x.observe(outputEl, {childList: true});\n",
       "}}\n",
       "\n",
       "                        })                };                });            </script>        </div>"
      ]
     },
     "metadata": {},
     "output_type": "display_data"
    }
   ],
   "source": [
    "fig = px.box(publication_df, x=\"oa_status_2\",y=\"times_cited\")\n",
    "fig.update_traces(quartilemethod=\"inclusive\") # or \"inclusive\", or \"linear\" by default\n",
    "fig.show()"
   ]
  },
  {
   "cell_type": "markdown",
   "metadata": {},
   "source": [
    "## Run the below box to see box plots comparing \"altmetrics\" between OA and Non-OA publications\n",
    "\n",
    "Hover over the box plots to see the quartile and fence values. You can select ranges by dragging over an area. Double click to go back to default view. "
   ]
  },
  {
   "cell_type": "code",
   "execution_count": 42,
   "metadata": {},
   "outputs": [
    {
     "data": {
      "application/vnd.plotly.v1+json": {
       "config": {
        "plotlyServerURL": "https://plot.ly"
       },
       "data": [
        {
         "alignmentgroup": "True",
         "hovertemplate": "oa_status_2=%{x}<br>altmetric=%{y}<extra></extra>",
         "legendgroup": "",
         "marker": {
          "color": "#636efa"
         },
         "name": "",
         "notched": false,
         "offsetgroup": "",
         "orientation": "v",
         "quartilemethod": "inclusive",
         "showlegend": false,
         "type": "box",
         "x": [
          "closed",
          "open",
          "open",
          "closed",
          "closed",
          "closed",
          "closed",
          "open",
          "closed",
          "closed",
          "closed",
          "closed",
          "closed",
          "closed",
          "closed",
          "closed",
          "open",
          "closed",
          "open",
          "open",
          "closed",
          "open",
          "closed",
          "closed",
          "closed",
          "closed",
          "open",
          "closed",
          "closed",
          "closed",
          "closed",
          "closed",
          "open",
          "closed",
          "open",
          "closed",
          "closed",
          "closed",
          "closed",
          "closed",
          "closed",
          "closed",
          "closed",
          "closed",
          "closed",
          "closed",
          "open",
          "closed",
          "open",
          "closed",
          "closed",
          "closed",
          "closed",
          "closed",
          "closed",
          "open",
          "open",
          "closed",
          "open",
          "closed",
          "open",
          "closed",
          "open",
          "open",
          "closed",
          "closed",
          "closed",
          "open",
          "open",
          "open",
          "closed",
          "closed",
          "closed",
          "closed",
          "open",
          "closed",
          "closed",
          "closed",
          "closed",
          "closed",
          "open",
          "open",
          "open",
          "open",
          "closed",
          "closed",
          "open",
          "closed",
          "closed",
          "closed",
          "open",
          "open",
          "closed",
          "closed",
          "closed",
          "closed",
          "closed",
          "closed",
          "open",
          "closed",
          "open",
          "open",
          "closed",
          "open",
          "closed",
          "closed",
          "open",
          "closed",
          "closed",
          "open",
          "open",
          "closed",
          "closed",
          "open",
          "closed",
          "closed",
          "closed",
          "closed",
          "closed",
          "closed",
          "closed",
          "closed",
          "closed",
          "open",
          "closed",
          "open",
          "open",
          "open",
          "closed",
          "closed",
          "closed",
          "open",
          "closed",
          "closed",
          "closed",
          "open",
          "closed",
          "closed",
          "open",
          "open",
          "closed",
          "open",
          "closed",
          "closed",
          "closed",
          "closed",
          "closed",
          "closed",
          "open",
          "closed",
          "closed",
          "open",
          "open",
          "closed",
          "closed",
          "closed",
          "closed",
          "closed",
          "open",
          "closed",
          "closed",
          "closed",
          "closed",
          "open",
          "open",
          "closed",
          "closed",
          "closed",
          "closed",
          "open",
          "closed",
          "closed",
          "open",
          "closed",
          "closed",
          "closed",
          "closed",
          "open",
          "closed",
          "open",
          "closed",
          "open",
          "closed",
          "open",
          "closed",
          "open",
          "open",
          "closed",
          "open",
          "closed",
          "closed",
          "closed",
          "closed",
          "closed",
          "closed",
          "closed",
          "closed",
          "open",
          "closed",
          "closed",
          "closed",
          "open",
          "closed",
          "closed",
          "closed",
          "open",
          "open",
          "closed",
          "closed",
          "closed",
          "closed",
          "closed",
          "closed",
          "open",
          "closed",
          "open",
          "open",
          "closed",
          "closed",
          "closed",
          "closed",
          "open",
          "open",
          "closed",
          "closed",
          "open",
          "closed",
          "closed",
          "open",
          "open",
          "closed",
          "closed",
          "closed",
          "closed",
          "closed",
          "open",
          "closed",
          "open",
          "closed",
          "closed",
          "closed",
          "closed",
          "open",
          "closed",
          "closed",
          "closed",
          "closed",
          "closed",
          "open",
          "closed",
          "closed",
          "closed",
          "closed",
          "closed",
          "closed",
          "closed",
          "closed",
          "open",
          "closed",
          "open",
          "closed",
          "open",
          "closed",
          "open",
          "closed",
          "closed",
          "closed",
          "closed",
          "closed",
          "closed",
          "open",
          "open",
          "closed",
          "closed",
          "closed",
          "closed",
          "open",
          "closed",
          "closed",
          "closed",
          "closed",
          "closed",
          "closed",
          "closed",
          "closed",
          "closed",
          "closed",
          "closed",
          "closed",
          "closed",
          "closed",
          "open",
          "closed",
          "closed",
          "closed",
          "closed",
          "closed",
          "open",
          "open",
          "closed",
          "closed",
          "closed",
          "closed",
          "closed",
          "closed",
          "closed",
          "closed",
          "closed",
          "closed",
          "open",
          "closed",
          "closed",
          "closed",
          "closed",
          "closed",
          "closed",
          "closed",
          "open",
          "open",
          "closed",
          "closed",
          "open",
          "closed",
          "open",
          "closed",
          "closed",
          "closed",
          "open",
          "open",
          "closed",
          "open",
          "closed",
          "open",
          "closed",
          "open",
          "closed",
          "closed",
          "closed",
          "closed",
          "closed",
          "closed",
          "closed",
          "closed",
          "open",
          "closed",
          "closed",
          "closed",
          "open",
          "closed",
          "closed",
          "closed",
          "closed",
          "open",
          "closed",
          "open",
          "closed",
          "closed",
          "closed",
          "closed",
          "closed",
          "closed",
          "closed",
          "closed",
          "closed",
          "closed",
          "closed",
          "closed",
          "closed",
          "closed",
          "open",
          "closed",
          "closed",
          "open",
          "open",
          "closed",
          "closed",
          "closed",
          "closed",
          "closed",
          "closed",
          "closed",
          "closed",
          "closed",
          "open",
          "closed",
          "closed",
          "closed",
          "closed",
          "closed",
          "closed",
          "closed",
          "closed",
          "closed",
          "closed",
          "closed",
          "closed",
          "closed",
          "closed",
          "closed",
          "closed",
          "open",
          "closed",
          "closed",
          "closed",
          "closed",
          "closed",
          "closed",
          "closed",
          "closed"
         ],
         "x0": " ",
         "xaxis": "x",
         "y": [
          null,
          2,
          35,
          null,
          null,
          null,
          7,
          1,
          17,
          14,
          9,
          null,
          2,
          3,
          5,
          null,
          null,
          null,
          null,
          null,
          3,
          null,
          null,
          null,
          null,
          null,
          null,
          11,
          null,
          3,
          44,
          null,
          1,
          null,
          1,
          null,
          null,
          null,
          9,
          8,
          null,
          1,
          4,
          7,
          8,
          6,
          null,
          null,
          10,
          46,
          null,
          6,
          10,
          1,
          1,
          3,
          null,
          3,
          1,
          1,
          null,
          13,
          101,
          null,
          3,
          null,
          4,
          3,
          null,
          15,
          null,
          null,
          1,
          null,
          7,
          null,
          6,
          2,
          126,
          1,
          null,
          null,
          null,
          null,
          1,
          43,
          1,
          2,
          1,
          6,
          null,
          null,
          null,
          null,
          3,
          null,
          null,
          1,
          null,
          null,
          null,
          null,
          null,
          null,
          null,
          null,
          8,
          1,
          null,
          4,
          1,
          null,
          null,
          10,
          null,
          null,
          null,
          null,
          null,
          null,
          null,
          null,
          null,
          null,
          null,
          null,
          3,
          null,
          null,
          null,
          null,
          null,
          null,
          null,
          null,
          null,
          5,
          null,
          3,
          null,
          68,
          null,
          null,
          null,
          27,
          null,
          null,
          1,
          8,
          null,
          null,
          null,
          1,
          2,
          3,
          null,
          1,
          null,
          11,
          null,
          null,
          null,
          null,
          null,
          3,
          null,
          3,
          null,
          null,
          1,
          1,
          null,
          null,
          null,
          null,
          4,
          null,
          7,
          null,
          null,
          3,
          19,
          56,
          3,
          3,
          2,
          1,
          7,
          1,
          null,
          null,
          null,
          null,
          1,
          null,
          1,
          null,
          1,
          9,
          null,
          null,
          49,
          null,
          null,
          null,
          null,
          null,
          null,
          null,
          null,
          null,
          null,
          null,
          13,
          null,
          null,
          null,
          1,
          null,
          null,
          null,
          6,
          null,
          3,
          2,
          null,
          null,
          null,
          null,
          null,
          6,
          null,
          null,
          null,
          null,
          null,
          null,
          null,
          null,
          null,
          null,
          null,
          null,
          null,
          null,
          null,
          null,
          null,
          null,
          null,
          null,
          null,
          null,
          null,
          null,
          null,
          null,
          null,
          null,
          null,
          null,
          null,
          null,
          null,
          null,
          null,
          null,
          null,
          3,
          null,
          null,
          null,
          null,
          6,
          null,
          null,
          null,
          null,
          3,
          null,
          null,
          null,
          null,
          null,
          null,
          null,
          null,
          6,
          null,
          1,
          null,
          null,
          null,
          null,
          null,
          null,
          null,
          null,
          null,
          null,
          null,
          null,
          null,
          null,
          3,
          null,
          null,
          null,
          null,
          null,
          6,
          null,
          null,
          null,
          null,
          null,
          null,
          null,
          null,
          null,
          null,
          null,
          null,
          null,
          null,
          6,
          null,
          null,
          null,
          null,
          null,
          null,
          null,
          null,
          null,
          null,
          null,
          null,
          null,
          null,
          3,
          3,
          null,
          null,
          null,
          9,
          null,
          null,
          null,
          null,
          null,
          null,
          null,
          null,
          null,
          null,
          null,
          null,
          null,
          3,
          null,
          null,
          null,
          3,
          null,
          3,
          null,
          null,
          null,
          null,
          null,
          null,
          null,
          null,
          null,
          null,
          null,
          null,
          null,
          null,
          null,
          9,
          null,
          null,
          null,
          null,
          null,
          null,
          null,
          null,
          null,
          8,
          null,
          null,
          null,
          null,
          null,
          null,
          null,
          null,
          null,
          null,
          null,
          null,
          null,
          null,
          null,
          null,
          null
         ],
         "y0": " ",
         "yaxis": "y"
        }
       ],
       "layout": {
        "boxmode": "group",
        "legend": {
         "tracegroupgap": 0
        },
        "margin": {
         "t": 60
        },
        "template": {
         "data": {
          "bar": [
           {
            "error_x": {
             "color": "#2a3f5f"
            },
            "error_y": {
             "color": "#2a3f5f"
            },
            "marker": {
             "line": {
              "color": "#E5ECF6",
              "width": 0.5
             },
             "pattern": {
              "fillmode": "overlay",
              "size": 10,
              "solidity": 0.2
             }
            },
            "type": "bar"
           }
          ],
          "barpolar": [
           {
            "marker": {
             "line": {
              "color": "#E5ECF6",
              "width": 0.5
             },
             "pattern": {
              "fillmode": "overlay",
              "size": 10,
              "solidity": 0.2
             }
            },
            "type": "barpolar"
           }
          ],
          "carpet": [
           {
            "aaxis": {
             "endlinecolor": "#2a3f5f",
             "gridcolor": "white",
             "linecolor": "white",
             "minorgridcolor": "white",
             "startlinecolor": "#2a3f5f"
            },
            "baxis": {
             "endlinecolor": "#2a3f5f",
             "gridcolor": "white",
             "linecolor": "white",
             "minorgridcolor": "white",
             "startlinecolor": "#2a3f5f"
            },
            "type": "carpet"
           }
          ],
          "choropleth": [
           {
            "colorbar": {
             "outlinewidth": 0,
             "ticks": ""
            },
            "type": "choropleth"
           }
          ],
          "contour": [
           {
            "colorbar": {
             "outlinewidth": 0,
             "ticks": ""
            },
            "colorscale": [
             [
              0,
              "#0d0887"
             ],
             [
              0.1111111111111111,
              "#46039f"
             ],
             [
              0.2222222222222222,
              "#7201a8"
             ],
             [
              0.3333333333333333,
              "#9c179e"
             ],
             [
              0.4444444444444444,
              "#bd3786"
             ],
             [
              0.5555555555555556,
              "#d8576b"
             ],
             [
              0.6666666666666666,
              "#ed7953"
             ],
             [
              0.7777777777777778,
              "#fb9f3a"
             ],
             [
              0.8888888888888888,
              "#fdca26"
             ],
             [
              1,
              "#f0f921"
             ]
            ],
            "type": "contour"
           }
          ],
          "contourcarpet": [
           {
            "colorbar": {
             "outlinewidth": 0,
             "ticks": ""
            },
            "type": "contourcarpet"
           }
          ],
          "heatmap": [
           {
            "colorbar": {
             "outlinewidth": 0,
             "ticks": ""
            },
            "colorscale": [
             [
              0,
              "#0d0887"
             ],
             [
              0.1111111111111111,
              "#46039f"
             ],
             [
              0.2222222222222222,
              "#7201a8"
             ],
             [
              0.3333333333333333,
              "#9c179e"
             ],
             [
              0.4444444444444444,
              "#bd3786"
             ],
             [
              0.5555555555555556,
              "#d8576b"
             ],
             [
              0.6666666666666666,
              "#ed7953"
             ],
             [
              0.7777777777777778,
              "#fb9f3a"
             ],
             [
              0.8888888888888888,
              "#fdca26"
             ],
             [
              1,
              "#f0f921"
             ]
            ],
            "type": "heatmap"
           }
          ],
          "heatmapgl": [
           {
            "colorbar": {
             "outlinewidth": 0,
             "ticks": ""
            },
            "colorscale": [
             [
              0,
              "#0d0887"
             ],
             [
              0.1111111111111111,
              "#46039f"
             ],
             [
              0.2222222222222222,
              "#7201a8"
             ],
             [
              0.3333333333333333,
              "#9c179e"
             ],
             [
              0.4444444444444444,
              "#bd3786"
             ],
             [
              0.5555555555555556,
              "#d8576b"
             ],
             [
              0.6666666666666666,
              "#ed7953"
             ],
             [
              0.7777777777777778,
              "#fb9f3a"
             ],
             [
              0.8888888888888888,
              "#fdca26"
             ],
             [
              1,
              "#f0f921"
             ]
            ],
            "type": "heatmapgl"
           }
          ],
          "histogram": [
           {
            "marker": {
             "pattern": {
              "fillmode": "overlay",
              "size": 10,
              "solidity": 0.2
             }
            },
            "type": "histogram"
           }
          ],
          "histogram2d": [
           {
            "colorbar": {
             "outlinewidth": 0,
             "ticks": ""
            },
            "colorscale": [
             [
              0,
              "#0d0887"
             ],
             [
              0.1111111111111111,
              "#46039f"
             ],
             [
              0.2222222222222222,
              "#7201a8"
             ],
             [
              0.3333333333333333,
              "#9c179e"
             ],
             [
              0.4444444444444444,
              "#bd3786"
             ],
             [
              0.5555555555555556,
              "#d8576b"
             ],
             [
              0.6666666666666666,
              "#ed7953"
             ],
             [
              0.7777777777777778,
              "#fb9f3a"
             ],
             [
              0.8888888888888888,
              "#fdca26"
             ],
             [
              1,
              "#f0f921"
             ]
            ],
            "type": "histogram2d"
           }
          ],
          "histogram2dcontour": [
           {
            "colorbar": {
             "outlinewidth": 0,
             "ticks": ""
            },
            "colorscale": [
             [
              0,
              "#0d0887"
             ],
             [
              0.1111111111111111,
              "#46039f"
             ],
             [
              0.2222222222222222,
              "#7201a8"
             ],
             [
              0.3333333333333333,
              "#9c179e"
             ],
             [
              0.4444444444444444,
              "#bd3786"
             ],
             [
              0.5555555555555556,
              "#d8576b"
             ],
             [
              0.6666666666666666,
              "#ed7953"
             ],
             [
              0.7777777777777778,
              "#fb9f3a"
             ],
             [
              0.8888888888888888,
              "#fdca26"
             ],
             [
              1,
              "#f0f921"
             ]
            ],
            "type": "histogram2dcontour"
           }
          ],
          "mesh3d": [
           {
            "colorbar": {
             "outlinewidth": 0,
             "ticks": ""
            },
            "type": "mesh3d"
           }
          ],
          "parcoords": [
           {
            "line": {
             "colorbar": {
              "outlinewidth": 0,
              "ticks": ""
             }
            },
            "type": "parcoords"
           }
          ],
          "pie": [
           {
            "automargin": true,
            "type": "pie"
           }
          ],
          "scatter": [
           {
            "marker": {
             "colorbar": {
              "outlinewidth": 0,
              "ticks": ""
             }
            },
            "type": "scatter"
           }
          ],
          "scatter3d": [
           {
            "line": {
             "colorbar": {
              "outlinewidth": 0,
              "ticks": ""
             }
            },
            "marker": {
             "colorbar": {
              "outlinewidth": 0,
              "ticks": ""
             }
            },
            "type": "scatter3d"
           }
          ],
          "scattercarpet": [
           {
            "marker": {
             "colorbar": {
              "outlinewidth": 0,
              "ticks": ""
             }
            },
            "type": "scattercarpet"
           }
          ],
          "scattergeo": [
           {
            "marker": {
             "colorbar": {
              "outlinewidth": 0,
              "ticks": ""
             }
            },
            "type": "scattergeo"
           }
          ],
          "scattergl": [
           {
            "marker": {
             "colorbar": {
              "outlinewidth": 0,
              "ticks": ""
             }
            },
            "type": "scattergl"
           }
          ],
          "scattermapbox": [
           {
            "marker": {
             "colorbar": {
              "outlinewidth": 0,
              "ticks": ""
             }
            },
            "type": "scattermapbox"
           }
          ],
          "scatterpolar": [
           {
            "marker": {
             "colorbar": {
              "outlinewidth": 0,
              "ticks": ""
             }
            },
            "type": "scatterpolar"
           }
          ],
          "scatterpolargl": [
           {
            "marker": {
             "colorbar": {
              "outlinewidth": 0,
              "ticks": ""
             }
            },
            "type": "scatterpolargl"
           }
          ],
          "scatterternary": [
           {
            "marker": {
             "colorbar": {
              "outlinewidth": 0,
              "ticks": ""
             }
            },
            "type": "scatterternary"
           }
          ],
          "surface": [
           {
            "colorbar": {
             "outlinewidth": 0,
             "ticks": ""
            },
            "colorscale": [
             [
              0,
              "#0d0887"
             ],
             [
              0.1111111111111111,
              "#46039f"
             ],
             [
              0.2222222222222222,
              "#7201a8"
             ],
             [
              0.3333333333333333,
              "#9c179e"
             ],
             [
              0.4444444444444444,
              "#bd3786"
             ],
             [
              0.5555555555555556,
              "#d8576b"
             ],
             [
              0.6666666666666666,
              "#ed7953"
             ],
             [
              0.7777777777777778,
              "#fb9f3a"
             ],
             [
              0.8888888888888888,
              "#fdca26"
             ],
             [
              1,
              "#f0f921"
             ]
            ],
            "type": "surface"
           }
          ],
          "table": [
           {
            "cells": {
             "fill": {
              "color": "#EBF0F8"
             },
             "line": {
              "color": "white"
             }
            },
            "header": {
             "fill": {
              "color": "#C8D4E3"
             },
             "line": {
              "color": "white"
             }
            },
            "type": "table"
           }
          ]
         },
         "layout": {
          "annotationdefaults": {
           "arrowcolor": "#2a3f5f",
           "arrowhead": 0,
           "arrowwidth": 1
          },
          "autotypenumbers": "strict",
          "coloraxis": {
           "colorbar": {
            "outlinewidth": 0,
            "ticks": ""
           }
          },
          "colorscale": {
           "diverging": [
            [
             0,
             "#8e0152"
            ],
            [
             0.1,
             "#c51b7d"
            ],
            [
             0.2,
             "#de77ae"
            ],
            [
             0.3,
             "#f1b6da"
            ],
            [
             0.4,
             "#fde0ef"
            ],
            [
             0.5,
             "#f7f7f7"
            ],
            [
             0.6,
             "#e6f5d0"
            ],
            [
             0.7,
             "#b8e186"
            ],
            [
             0.8,
             "#7fbc41"
            ],
            [
             0.9,
             "#4d9221"
            ],
            [
             1,
             "#276419"
            ]
           ],
           "sequential": [
            [
             0,
             "#0d0887"
            ],
            [
             0.1111111111111111,
             "#46039f"
            ],
            [
             0.2222222222222222,
             "#7201a8"
            ],
            [
             0.3333333333333333,
             "#9c179e"
            ],
            [
             0.4444444444444444,
             "#bd3786"
            ],
            [
             0.5555555555555556,
             "#d8576b"
            ],
            [
             0.6666666666666666,
             "#ed7953"
            ],
            [
             0.7777777777777778,
             "#fb9f3a"
            ],
            [
             0.8888888888888888,
             "#fdca26"
            ],
            [
             1,
             "#f0f921"
            ]
           ],
           "sequentialminus": [
            [
             0,
             "#0d0887"
            ],
            [
             0.1111111111111111,
             "#46039f"
            ],
            [
             0.2222222222222222,
             "#7201a8"
            ],
            [
             0.3333333333333333,
             "#9c179e"
            ],
            [
             0.4444444444444444,
             "#bd3786"
            ],
            [
             0.5555555555555556,
             "#d8576b"
            ],
            [
             0.6666666666666666,
             "#ed7953"
            ],
            [
             0.7777777777777778,
             "#fb9f3a"
            ],
            [
             0.8888888888888888,
             "#fdca26"
            ],
            [
             1,
             "#f0f921"
            ]
           ]
          },
          "colorway": [
           "#636efa",
           "#EF553B",
           "#00cc96",
           "#ab63fa",
           "#FFA15A",
           "#19d3f3",
           "#FF6692",
           "#B6E880",
           "#FF97FF",
           "#FECB52"
          ],
          "font": {
           "color": "#2a3f5f"
          },
          "geo": {
           "bgcolor": "white",
           "lakecolor": "white",
           "landcolor": "#E5ECF6",
           "showlakes": true,
           "showland": true,
           "subunitcolor": "white"
          },
          "hoverlabel": {
           "align": "left"
          },
          "hovermode": "closest",
          "mapbox": {
           "style": "light"
          },
          "paper_bgcolor": "white",
          "plot_bgcolor": "#E5ECF6",
          "polar": {
           "angularaxis": {
            "gridcolor": "white",
            "linecolor": "white",
            "ticks": ""
           },
           "bgcolor": "#E5ECF6",
           "radialaxis": {
            "gridcolor": "white",
            "linecolor": "white",
            "ticks": ""
           }
          },
          "scene": {
           "xaxis": {
            "backgroundcolor": "#E5ECF6",
            "gridcolor": "white",
            "gridwidth": 2,
            "linecolor": "white",
            "showbackground": true,
            "ticks": "",
            "zerolinecolor": "white"
           },
           "yaxis": {
            "backgroundcolor": "#E5ECF6",
            "gridcolor": "white",
            "gridwidth": 2,
            "linecolor": "white",
            "showbackground": true,
            "ticks": "",
            "zerolinecolor": "white"
           },
           "zaxis": {
            "backgroundcolor": "#E5ECF6",
            "gridcolor": "white",
            "gridwidth": 2,
            "linecolor": "white",
            "showbackground": true,
            "ticks": "",
            "zerolinecolor": "white"
           }
          },
          "shapedefaults": {
           "line": {
            "color": "#2a3f5f"
           }
          },
          "ternary": {
           "aaxis": {
            "gridcolor": "white",
            "linecolor": "white",
            "ticks": ""
           },
           "baxis": {
            "gridcolor": "white",
            "linecolor": "white",
            "ticks": ""
           },
           "bgcolor": "#E5ECF6",
           "caxis": {
            "gridcolor": "white",
            "linecolor": "white",
            "ticks": ""
           }
          },
          "title": {
           "x": 0.05
          },
          "xaxis": {
           "automargin": true,
           "gridcolor": "white",
           "linecolor": "white",
           "ticks": "",
           "title": {
            "standoff": 15
           },
           "zerolinecolor": "white",
           "zerolinewidth": 2
          },
          "yaxis": {
           "automargin": true,
           "gridcolor": "white",
           "linecolor": "white",
           "ticks": "",
           "title": {
            "standoff": 15
           },
           "zerolinecolor": "white",
           "zerolinewidth": 2
          }
         }
        },
        "xaxis": {
         "anchor": "y",
         "domain": [
          0,
          1
         ],
         "title": {
          "text": "oa_status_2"
         }
        },
        "yaxis": {
         "anchor": "x",
         "domain": [
          0,
          1
         ],
         "title": {
          "text": "altmetric"
         }
        }
       }
      },
      "text/html": [
       "<div>                            <div id=\"960267b8-79e7-40e9-bba2-94d34473b3f2\" class=\"plotly-graph-div\" style=\"height:525px; width:100%;\"></div>            <script type=\"text/javascript\">                require([\"plotly\"], function(Plotly) {                    window.PLOTLYENV=window.PLOTLYENV || {};                                    if (document.getElementById(\"960267b8-79e7-40e9-bba2-94d34473b3f2\")) {                    Plotly.newPlot(                        \"960267b8-79e7-40e9-bba2-94d34473b3f2\",                        [{\"alignmentgroup\":\"True\",\"hovertemplate\":\"oa_status_2=%{x}<br>altmetric=%{y}<extra></extra>\",\"legendgroup\":\"\",\"marker\":{\"color\":\"#636efa\"},\"name\":\"\",\"notched\":false,\"offsetgroup\":\"\",\"orientation\":\"v\",\"quartilemethod\":\"inclusive\",\"showlegend\":false,\"type\":\"box\",\"x\":[\"closed\",\"open\",\"open\",\"closed\",\"closed\",\"closed\",\"closed\",\"open\",\"closed\",\"closed\",\"closed\",\"closed\",\"closed\",\"closed\",\"closed\",\"closed\",\"open\",\"closed\",\"open\",\"open\",\"closed\",\"open\",\"closed\",\"closed\",\"closed\",\"closed\",\"open\",\"closed\",\"closed\",\"closed\",\"closed\",\"closed\",\"open\",\"closed\",\"open\",\"closed\",\"closed\",\"closed\",\"closed\",\"closed\",\"closed\",\"closed\",\"closed\",\"closed\",\"closed\",\"closed\",\"open\",\"closed\",\"open\",\"closed\",\"closed\",\"closed\",\"closed\",\"closed\",\"closed\",\"open\",\"open\",\"closed\",\"open\",\"closed\",\"open\",\"closed\",\"open\",\"open\",\"closed\",\"closed\",\"closed\",\"open\",\"open\",\"open\",\"closed\",\"closed\",\"closed\",\"closed\",\"open\",\"closed\",\"closed\",\"closed\",\"closed\",\"closed\",\"open\",\"open\",\"open\",\"open\",\"closed\",\"closed\",\"open\",\"closed\",\"closed\",\"closed\",\"open\",\"open\",\"closed\",\"closed\",\"closed\",\"closed\",\"closed\",\"closed\",\"open\",\"closed\",\"open\",\"open\",\"closed\",\"open\",\"closed\",\"closed\",\"open\",\"closed\",\"closed\",\"open\",\"open\",\"closed\",\"closed\",\"open\",\"closed\",\"closed\",\"closed\",\"closed\",\"closed\",\"closed\",\"closed\",\"closed\",\"closed\",\"open\",\"closed\",\"open\",\"open\",\"open\",\"closed\",\"closed\",\"closed\",\"open\",\"closed\",\"closed\",\"closed\",\"open\",\"closed\",\"closed\",\"open\",\"open\",\"closed\",\"open\",\"closed\",\"closed\",\"closed\",\"closed\",\"closed\",\"closed\",\"open\",\"closed\",\"closed\",\"open\",\"open\",\"closed\",\"closed\",\"closed\",\"closed\",\"closed\",\"open\",\"closed\",\"closed\",\"closed\",\"closed\",\"open\",\"open\",\"closed\",\"closed\",\"closed\",\"closed\",\"open\",\"closed\",\"closed\",\"open\",\"closed\",\"closed\",\"closed\",\"closed\",\"open\",\"closed\",\"open\",\"closed\",\"open\",\"closed\",\"open\",\"closed\",\"open\",\"open\",\"closed\",\"open\",\"closed\",\"closed\",\"closed\",\"closed\",\"closed\",\"closed\",\"closed\",\"closed\",\"open\",\"closed\",\"closed\",\"closed\",\"open\",\"closed\",\"closed\",\"closed\",\"open\",\"open\",\"closed\",\"closed\",\"closed\",\"closed\",\"closed\",\"closed\",\"open\",\"closed\",\"open\",\"open\",\"closed\",\"closed\",\"closed\",\"closed\",\"open\",\"open\",\"closed\",\"closed\",\"open\",\"closed\",\"closed\",\"open\",\"open\",\"closed\",\"closed\",\"closed\",\"closed\",\"closed\",\"open\",\"closed\",\"open\",\"closed\",\"closed\",\"closed\",\"closed\",\"open\",\"closed\",\"closed\",\"closed\",\"closed\",\"closed\",\"open\",\"closed\",\"closed\",\"closed\",\"closed\",\"closed\",\"closed\",\"closed\",\"closed\",\"open\",\"closed\",\"open\",\"closed\",\"open\",\"closed\",\"open\",\"closed\",\"closed\",\"closed\",\"closed\",\"closed\",\"closed\",\"open\",\"open\",\"closed\",\"closed\",\"closed\",\"closed\",\"open\",\"closed\",\"closed\",\"closed\",\"closed\",\"closed\",\"closed\",\"closed\",\"closed\",\"closed\",\"closed\",\"closed\",\"closed\",\"closed\",\"closed\",\"open\",\"closed\",\"closed\",\"closed\",\"closed\",\"closed\",\"open\",\"open\",\"closed\",\"closed\",\"closed\",\"closed\",\"closed\",\"closed\",\"closed\",\"closed\",\"closed\",\"closed\",\"open\",\"closed\",\"closed\",\"closed\",\"closed\",\"closed\",\"closed\",\"closed\",\"open\",\"open\",\"closed\",\"closed\",\"open\",\"closed\",\"open\",\"closed\",\"closed\",\"closed\",\"open\",\"open\",\"closed\",\"open\",\"closed\",\"open\",\"closed\",\"open\",\"closed\",\"closed\",\"closed\",\"closed\",\"closed\",\"closed\",\"closed\",\"closed\",\"open\",\"closed\",\"closed\",\"closed\",\"open\",\"closed\",\"closed\",\"closed\",\"closed\",\"open\",\"closed\",\"open\",\"closed\",\"closed\",\"closed\",\"closed\",\"closed\",\"closed\",\"closed\",\"closed\",\"closed\",\"closed\",\"closed\",\"closed\",\"closed\",\"closed\",\"open\",\"closed\",\"closed\",\"open\",\"open\",\"closed\",\"closed\",\"closed\",\"closed\",\"closed\",\"closed\",\"closed\",\"closed\",\"closed\",\"open\",\"closed\",\"closed\",\"closed\",\"closed\",\"closed\",\"closed\",\"closed\",\"closed\",\"closed\",\"closed\",\"closed\",\"closed\",\"closed\",\"closed\",\"closed\",\"closed\",\"open\",\"closed\",\"closed\",\"closed\",\"closed\",\"closed\",\"closed\",\"closed\",\"closed\"],\"x0\":\" \",\"xaxis\":\"x\",\"y\":[null,2.0,35.0,null,null,null,7.0,1.0,17.0,14.0,9.0,null,2.0,3.0,5.0,null,null,null,null,null,3.0,null,null,null,null,null,null,11.0,null,3.0,44.0,null,1.0,null,1.0,null,null,null,9.0,8.0,null,1.0,4.0,7.0,8.0,6.0,null,null,10.0,46.0,null,6.0,10.0,1.0,1.0,3.0,null,3.0,1.0,1.0,null,13.0,101.0,null,3.0,null,4.0,3.0,null,15.0,null,null,1.0,null,7.0,null,6.0,2.0,126.0,1.0,null,null,null,null,1.0,43.0,1.0,2.0,1.0,6.0,null,null,null,null,3.0,null,null,1.0,null,null,null,null,null,null,null,null,8.0,1.0,null,4.0,1.0,null,null,10.0,null,null,null,null,null,null,null,null,null,null,null,null,3.0,null,null,null,null,null,null,null,null,null,5.0,null,3.0,null,68.0,null,null,null,27.0,null,null,1.0,8.0,null,null,null,1.0,2.0,3.0,null,1.0,null,11.0,null,null,null,null,null,3.0,null,3.0,null,null,1.0,1.0,null,null,null,null,4.0,null,7.0,null,null,3.0,19.0,56.0,3.0,3.0,2.0,1.0,7.0,1.0,null,null,null,null,1.0,null,1.0,null,1.0,9.0,null,null,49.0,null,null,null,null,null,null,null,null,null,null,null,13.0,null,null,null,1.0,null,null,null,6.0,null,3.0,2.0,null,null,null,null,null,6.0,null,null,null,null,null,null,null,null,null,null,null,null,null,null,null,null,null,null,null,null,null,null,null,null,null,null,null,null,null,null,null,null,null,null,null,null,null,3.0,null,null,null,null,6.0,null,null,null,null,3.0,null,null,null,null,null,null,null,null,6.0,null,1.0,null,null,null,null,null,null,null,null,null,null,null,null,null,null,3.0,null,null,null,null,null,6.0,null,null,null,null,null,null,null,null,null,null,null,null,null,null,6.0,null,null,null,null,null,null,null,null,null,null,null,null,null,null,3.0,3.0,null,null,null,9.0,null,null,null,null,null,null,null,null,null,null,null,null,null,3.0,null,null,null,3.0,null,3.0,null,null,null,null,null,null,null,null,null,null,null,null,null,null,null,9.0,null,null,null,null,null,null,null,null,null,8.0,null,null,null,null,null,null,null,null,null,null,null,null,null,null,null,null,null],\"y0\":\" \",\"yaxis\":\"y\"}],                        {\"boxmode\":\"group\",\"legend\":{\"tracegroupgap\":0},\"margin\":{\"t\":60},\"template\":{\"data\":{\"bar\":[{\"error_x\":{\"color\":\"#2a3f5f\"},\"error_y\":{\"color\":\"#2a3f5f\"},\"marker\":{\"line\":{\"color\":\"#E5ECF6\",\"width\":0.5},\"pattern\":{\"fillmode\":\"overlay\",\"size\":10,\"solidity\":0.2}},\"type\":\"bar\"}],\"barpolar\":[{\"marker\":{\"line\":{\"color\":\"#E5ECF6\",\"width\":0.5},\"pattern\":{\"fillmode\":\"overlay\",\"size\":10,\"solidity\":0.2}},\"type\":\"barpolar\"}],\"carpet\":[{\"aaxis\":{\"endlinecolor\":\"#2a3f5f\",\"gridcolor\":\"white\",\"linecolor\":\"white\",\"minorgridcolor\":\"white\",\"startlinecolor\":\"#2a3f5f\"},\"baxis\":{\"endlinecolor\":\"#2a3f5f\",\"gridcolor\":\"white\",\"linecolor\":\"white\",\"minorgridcolor\":\"white\",\"startlinecolor\":\"#2a3f5f\"},\"type\":\"carpet\"}],\"choropleth\":[{\"colorbar\":{\"outlinewidth\":0,\"ticks\":\"\"},\"type\":\"choropleth\"}],\"contour\":[{\"colorbar\":{\"outlinewidth\":0,\"ticks\":\"\"},\"colorscale\":[[0.0,\"#0d0887\"],[0.1111111111111111,\"#46039f\"],[0.2222222222222222,\"#7201a8\"],[0.3333333333333333,\"#9c179e\"],[0.4444444444444444,\"#bd3786\"],[0.5555555555555556,\"#d8576b\"],[0.6666666666666666,\"#ed7953\"],[0.7777777777777778,\"#fb9f3a\"],[0.8888888888888888,\"#fdca26\"],[1.0,\"#f0f921\"]],\"type\":\"contour\"}],\"contourcarpet\":[{\"colorbar\":{\"outlinewidth\":0,\"ticks\":\"\"},\"type\":\"contourcarpet\"}],\"heatmap\":[{\"colorbar\":{\"outlinewidth\":0,\"ticks\":\"\"},\"colorscale\":[[0.0,\"#0d0887\"],[0.1111111111111111,\"#46039f\"],[0.2222222222222222,\"#7201a8\"],[0.3333333333333333,\"#9c179e\"],[0.4444444444444444,\"#bd3786\"],[0.5555555555555556,\"#d8576b\"],[0.6666666666666666,\"#ed7953\"],[0.7777777777777778,\"#fb9f3a\"],[0.8888888888888888,\"#fdca26\"],[1.0,\"#f0f921\"]],\"type\":\"heatmap\"}],\"heatmapgl\":[{\"colorbar\":{\"outlinewidth\":0,\"ticks\":\"\"},\"colorscale\":[[0.0,\"#0d0887\"],[0.1111111111111111,\"#46039f\"],[0.2222222222222222,\"#7201a8\"],[0.3333333333333333,\"#9c179e\"],[0.4444444444444444,\"#bd3786\"],[0.5555555555555556,\"#d8576b\"],[0.6666666666666666,\"#ed7953\"],[0.7777777777777778,\"#fb9f3a\"],[0.8888888888888888,\"#fdca26\"],[1.0,\"#f0f921\"]],\"type\":\"heatmapgl\"}],\"histogram\":[{\"marker\":{\"pattern\":{\"fillmode\":\"overlay\",\"size\":10,\"solidity\":0.2}},\"type\":\"histogram\"}],\"histogram2d\":[{\"colorbar\":{\"outlinewidth\":0,\"ticks\":\"\"},\"colorscale\":[[0.0,\"#0d0887\"],[0.1111111111111111,\"#46039f\"],[0.2222222222222222,\"#7201a8\"],[0.3333333333333333,\"#9c179e\"],[0.4444444444444444,\"#bd3786\"],[0.5555555555555556,\"#d8576b\"],[0.6666666666666666,\"#ed7953\"],[0.7777777777777778,\"#fb9f3a\"],[0.8888888888888888,\"#fdca26\"],[1.0,\"#f0f921\"]],\"type\":\"histogram2d\"}],\"histogram2dcontour\":[{\"colorbar\":{\"outlinewidth\":0,\"ticks\":\"\"},\"colorscale\":[[0.0,\"#0d0887\"],[0.1111111111111111,\"#46039f\"],[0.2222222222222222,\"#7201a8\"],[0.3333333333333333,\"#9c179e\"],[0.4444444444444444,\"#bd3786\"],[0.5555555555555556,\"#d8576b\"],[0.6666666666666666,\"#ed7953\"],[0.7777777777777778,\"#fb9f3a\"],[0.8888888888888888,\"#fdca26\"],[1.0,\"#f0f921\"]],\"type\":\"histogram2dcontour\"}],\"mesh3d\":[{\"colorbar\":{\"outlinewidth\":0,\"ticks\":\"\"},\"type\":\"mesh3d\"}],\"parcoords\":[{\"line\":{\"colorbar\":{\"outlinewidth\":0,\"ticks\":\"\"}},\"type\":\"parcoords\"}],\"pie\":[{\"automargin\":true,\"type\":\"pie\"}],\"scatter\":[{\"marker\":{\"colorbar\":{\"outlinewidth\":0,\"ticks\":\"\"}},\"type\":\"scatter\"}],\"scatter3d\":[{\"line\":{\"colorbar\":{\"outlinewidth\":0,\"ticks\":\"\"}},\"marker\":{\"colorbar\":{\"outlinewidth\":0,\"ticks\":\"\"}},\"type\":\"scatter3d\"}],\"scattercarpet\":[{\"marker\":{\"colorbar\":{\"outlinewidth\":0,\"ticks\":\"\"}},\"type\":\"scattercarpet\"}],\"scattergeo\":[{\"marker\":{\"colorbar\":{\"outlinewidth\":0,\"ticks\":\"\"}},\"type\":\"scattergeo\"}],\"scattergl\":[{\"marker\":{\"colorbar\":{\"outlinewidth\":0,\"ticks\":\"\"}},\"type\":\"scattergl\"}],\"scattermapbox\":[{\"marker\":{\"colorbar\":{\"outlinewidth\":0,\"ticks\":\"\"}},\"type\":\"scattermapbox\"}],\"scatterpolar\":[{\"marker\":{\"colorbar\":{\"outlinewidth\":0,\"ticks\":\"\"}},\"type\":\"scatterpolar\"}],\"scatterpolargl\":[{\"marker\":{\"colorbar\":{\"outlinewidth\":0,\"ticks\":\"\"}},\"type\":\"scatterpolargl\"}],\"scatterternary\":[{\"marker\":{\"colorbar\":{\"outlinewidth\":0,\"ticks\":\"\"}},\"type\":\"scatterternary\"}],\"surface\":[{\"colorbar\":{\"outlinewidth\":0,\"ticks\":\"\"},\"colorscale\":[[0.0,\"#0d0887\"],[0.1111111111111111,\"#46039f\"],[0.2222222222222222,\"#7201a8\"],[0.3333333333333333,\"#9c179e\"],[0.4444444444444444,\"#bd3786\"],[0.5555555555555556,\"#d8576b\"],[0.6666666666666666,\"#ed7953\"],[0.7777777777777778,\"#fb9f3a\"],[0.8888888888888888,\"#fdca26\"],[1.0,\"#f0f921\"]],\"type\":\"surface\"}],\"table\":[{\"cells\":{\"fill\":{\"color\":\"#EBF0F8\"},\"line\":{\"color\":\"white\"}},\"header\":{\"fill\":{\"color\":\"#C8D4E3\"},\"line\":{\"color\":\"white\"}},\"type\":\"table\"}]},\"layout\":{\"annotationdefaults\":{\"arrowcolor\":\"#2a3f5f\",\"arrowhead\":0,\"arrowwidth\":1},\"autotypenumbers\":\"strict\",\"coloraxis\":{\"colorbar\":{\"outlinewidth\":0,\"ticks\":\"\"}},\"colorscale\":{\"diverging\":[[0,\"#8e0152\"],[0.1,\"#c51b7d\"],[0.2,\"#de77ae\"],[0.3,\"#f1b6da\"],[0.4,\"#fde0ef\"],[0.5,\"#f7f7f7\"],[0.6,\"#e6f5d0\"],[0.7,\"#b8e186\"],[0.8,\"#7fbc41\"],[0.9,\"#4d9221\"],[1,\"#276419\"]],\"sequential\":[[0.0,\"#0d0887\"],[0.1111111111111111,\"#46039f\"],[0.2222222222222222,\"#7201a8\"],[0.3333333333333333,\"#9c179e\"],[0.4444444444444444,\"#bd3786\"],[0.5555555555555556,\"#d8576b\"],[0.6666666666666666,\"#ed7953\"],[0.7777777777777778,\"#fb9f3a\"],[0.8888888888888888,\"#fdca26\"],[1.0,\"#f0f921\"]],\"sequentialminus\":[[0.0,\"#0d0887\"],[0.1111111111111111,\"#46039f\"],[0.2222222222222222,\"#7201a8\"],[0.3333333333333333,\"#9c179e\"],[0.4444444444444444,\"#bd3786\"],[0.5555555555555556,\"#d8576b\"],[0.6666666666666666,\"#ed7953\"],[0.7777777777777778,\"#fb9f3a\"],[0.8888888888888888,\"#fdca26\"],[1.0,\"#f0f921\"]]},\"colorway\":[\"#636efa\",\"#EF553B\",\"#00cc96\",\"#ab63fa\",\"#FFA15A\",\"#19d3f3\",\"#FF6692\",\"#B6E880\",\"#FF97FF\",\"#FECB52\"],\"font\":{\"color\":\"#2a3f5f\"},\"geo\":{\"bgcolor\":\"white\",\"lakecolor\":\"white\",\"landcolor\":\"#E5ECF6\",\"showlakes\":true,\"showland\":true,\"subunitcolor\":\"white\"},\"hoverlabel\":{\"align\":\"left\"},\"hovermode\":\"closest\",\"mapbox\":{\"style\":\"light\"},\"paper_bgcolor\":\"white\",\"plot_bgcolor\":\"#E5ECF6\",\"polar\":{\"angularaxis\":{\"gridcolor\":\"white\",\"linecolor\":\"white\",\"ticks\":\"\"},\"bgcolor\":\"#E5ECF6\",\"radialaxis\":{\"gridcolor\":\"white\",\"linecolor\":\"white\",\"ticks\":\"\"}},\"scene\":{\"xaxis\":{\"backgroundcolor\":\"#E5ECF6\",\"gridcolor\":\"white\",\"gridwidth\":2,\"linecolor\":\"white\",\"showbackground\":true,\"ticks\":\"\",\"zerolinecolor\":\"white\"},\"yaxis\":{\"backgroundcolor\":\"#E5ECF6\",\"gridcolor\":\"white\",\"gridwidth\":2,\"linecolor\":\"white\",\"showbackground\":true,\"ticks\":\"\",\"zerolinecolor\":\"white\"},\"zaxis\":{\"backgroundcolor\":\"#E5ECF6\",\"gridcolor\":\"white\",\"gridwidth\":2,\"linecolor\":\"white\",\"showbackground\":true,\"ticks\":\"\",\"zerolinecolor\":\"white\"}},\"shapedefaults\":{\"line\":{\"color\":\"#2a3f5f\"}},\"ternary\":{\"aaxis\":{\"gridcolor\":\"white\",\"linecolor\":\"white\",\"ticks\":\"\"},\"baxis\":{\"gridcolor\":\"white\",\"linecolor\":\"white\",\"ticks\":\"\"},\"bgcolor\":\"#E5ECF6\",\"caxis\":{\"gridcolor\":\"white\",\"linecolor\":\"white\",\"ticks\":\"\"}},\"title\":{\"x\":0.05},\"xaxis\":{\"automargin\":true,\"gridcolor\":\"white\",\"linecolor\":\"white\",\"ticks\":\"\",\"title\":{\"standoff\":15},\"zerolinecolor\":\"white\",\"zerolinewidth\":2},\"yaxis\":{\"automargin\":true,\"gridcolor\":\"white\",\"linecolor\":\"white\",\"ticks\":\"\",\"title\":{\"standoff\":15},\"zerolinecolor\":\"white\",\"zerolinewidth\":2}}},\"xaxis\":{\"anchor\":\"y\",\"domain\":[0.0,1.0],\"title\":{\"text\":\"oa_status_2\"}},\"yaxis\":{\"anchor\":\"x\",\"domain\":[0.0,1.0],\"title\":{\"text\":\"altmetric\"}}},                        {\"responsive\": true}                    ).then(function(){\n",
       "                            \n",
       "var gd = document.getElementById('960267b8-79e7-40e9-bba2-94d34473b3f2');\n",
       "var x = new MutationObserver(function (mutations, observer) {{\n",
       "        var display = window.getComputedStyle(gd).display;\n",
       "        if (!display || display === 'none') {{\n",
       "            console.log([gd, 'removed!']);\n",
       "            Plotly.purge(gd);\n",
       "            observer.disconnect();\n",
       "        }}\n",
       "}});\n",
       "\n",
       "// Listen for the removal of the full notebook cells\n",
       "var notebookContainer = gd.closest('#notebook-container');\n",
       "if (notebookContainer) {{\n",
       "    x.observe(notebookContainer, {childList: true});\n",
       "}}\n",
       "\n",
       "// Listen for the clearing of the current output cell\n",
       "var outputEl = gd.closest('.output');\n",
       "if (outputEl) {{\n",
       "    x.observe(outputEl, {childList: true});\n",
       "}}\n",
       "\n",
       "                        })                };                });            </script>        </div>"
      ]
     },
     "metadata": {},
     "output_type": "display_data"
    }
   ],
   "source": [
    "fig = px.box(publication_df, x=\"oa_status_2\",y=\"altmetric\")\n",
    "fig.update_traces(quartilemethod=\"inclusive\") # or \"inclusive\", or \"linear\" by default\n",
    "fig.show()"
   ]
  },
  {
   "cell_type": "code",
   "execution_count": 45,
   "metadata": {
    "scrolled": true
   },
   "outputs": [
    {
     "data": {
      "application/vnd.plotly.v1+json": {
       "config": {
        "plotlyServerURL": "https://plot.ly"
       },
       "data": [
        {
         "customdata": [
          [
           "Cardiac responses in paediatric Pompe disease in the ADVANCE patient cohort.",
           "loren d m",
           "peña",
           "hybrid"
          ],
          [
           "Transient and persistent acute kidney injury phenotypes following the Norwood operation: a retrospective study.",
           "jeffrey a",
           "alten",
           "closed"
          ],
          [
           "Characterisation of neurodevelopmental and psychological outcomes in CHD: a research agenda and recommendations from the cardiac neurodevelopmental outcome collaborative.",
           "julia",
           "anixt",
           "closed"
          ],
          [
           "Neurodevelopmental and psychosocial interventions for individuals with CHD: a research agenda and recommendations from the Cardiac Neurodevelopmental Outcome Collaborative.",
           "lori e",
           "crosby",
           "closed"
          ],
          [
           "Parent mental health and family functioning following diagnosis of CHD: a research agenda and recommendations from the Cardiac Neurodevelopmental Outcome Collaborative.",
           "nadine",
           "kasparian",
           "closed"
          ],
          [
           "Meningitis and high-grade, second-degree atrioventricular block in an adolescent: causal effect or coincidence?",
           "richard j",
           "czosek",
           "closed"
          ],
          [
           "Developing an adolescent and adult Fontan Management Programme.",
           "adam m",
           "lubert",
           "closed"
          ],
          [
           "The Michigan Appropriateness Guide for Intravenous Catheters in children with congenital heart disease: miniMAGIC-CHD.",
           "tanya",
           "perry",
           "closed"
          ],
          [
           "Dynamic exercise changes in venous pressure and liver stiffness in Fontan patients: effects of Treprostinil",
           "mathias",
           "possner",
           "closed"
          ],
          [
           "The added value of the advanced practice provider in paediatric acute care cardiology.",
           "amanda",
           "hoerst",
           "closed"
          ],
          [
           "Echocardiographic versus angiographic measurement of the aortic valve annulus in children undergoing balloon aortic valvuloplasty: method affects outcomes",
           "bryan h.",
           "goldstein",
           "closed"
          ],
          [
           "The Fontan outcomes network: first steps towards building a lifespan registry for individuals with Fontan circulation in the United States.",
           "james s",
           "tweddell",
           "closed"
          ],
          [
           "Lymphopenia in adults after the Fontan operation: prevalence and associations.",
           "nicole",
           "brown",
           "closed"
          ],
          [
           "Collective quality improvement in the paediatric cardiology acute care unit: establishment of the Pediatric Acute Care Cardiology Collaborative (PAC3)",
           "margaret",
           "graupe",
           "closed"
          ]
         ],
         "hovertemplate": "journal.title=Cardiology in the Young<br>year=%{x}<br>altmetric=%{y}<br>times_cited=%{marker.size}<br>title=%{customdata[0]}<br>first_name=%{customdata[1]}<br>last_name=%{customdata[2]}<br>oa_status=%{customdata[3]}<extra></extra>",
         "legendgroup": "Cardiology in the Young",
         "marker": {
          "color": "#636efa",
          "size": [
           0,
           0,
           3,
           4,
           3,
           0,
           0,
           0,
           0,
           2,
           0,
           5,
           3,
           19
          ],
          "sizemode": "area",
          "sizeref": 0.3475,
          "symbol": "circle"
         },
         "mode": "markers",
         "name": "Cardiology in the Young",
         "orientation": "v",
         "showlegend": true,
         "type": "scatter",
         "x": [
          2021,
          2021,
          2021,
          2021,
          2021,
          2021,
          2021,
          2021,
          2021,
          2020,
          2020,
          2020,
          2020,
          2018
         ],
         "xaxis": "x",
         "y": [
          2,
          7,
          17,
          14,
          9,
          2,
          3,
          3,
          11,
          9,
          6,
          46,
          13,
          6
         ],
         "yaxis": "y"
        },
        {
         "customdata": [
          [
           "Oxygen and Ventilator Logistics during California's COVID-19 Surge-When Oxygen becomes a Scarce Resource.",
           "richard",
           "branson",
           "bronze"
          ],
          [
           "Effects of Virtual Reality Simulation on Worker Emergency Evacuation of Neonates",
           "jun",
           "ying",
           "green"
          ]
         ],
         "hovertemplate": "journal.title=Disaster Medicine and Public Health Preparedness<br>year=%{x}<br>altmetric=%{y}<br>times_cited=%{marker.size}<br>title=%{customdata[0]}<br>first_name=%{customdata[1]}<br>last_name=%{customdata[2]}<br>oa_status=%{customdata[3]}<extra></extra>",
         "legendgroup": "Disaster Medicine and Public Health Preparedness",
         "marker": {
          "color": "#EF553B",
          "size": [
           0,
           10
          ],
          "sizemode": "area",
          "sizeref": 0.3475,
          "symbol": "circle"
         },
         "mode": "markers",
         "name": "Disaster Medicine and Public Health Preparedness",
         "orientation": "v",
         "showlegend": true,
         "type": "scatter",
         "x": [
          2021,
          2018
         ],
         "xaxis": "x",
         "y": [
          35,
          1
         ],
         "yaxis": "y"
        },
        {
         "customdata": [
          [
           "SHEA Pediatric Leadership Council commentary: Personal protective equipment during care of children with multisystem inflammatory syndrome in children (MIS-C).",
           "joshua k",
           "schaffzin",
           "green"
          ],
          [
           "Risk factors for Clostridioides difficile colonization among hospitalized adults: A meta-analysis and systematic review.",
           "adam m",
           "brown",
           "closed"
          ],
          [
           "When infection prevention enters the temple: Intergenerational social distancing and COVID-19",
           "david m.",
           "hartley",
           "hybrid"
          ],
          [
           "Increased time spent on terminal cleaning of patient rooms may not improve disinfection of high-touch surfaces",
           "edmond a.",
           "hooker",
           "bronze"
          ],
          [
           "Is the efficacy of antibiotic prophylaxis for surgical procedures decreasing? Systematic review and meta-analysis of randomized control trials",
           "joseph s.",
           "solomkin",
           "closed"
          ],
          [
           "Effectiveness of Selected Surgical Masks in Arresting Vegetative Cells and Endospores When Worn by Simulated Contagious Patients",
           "christopher f.",
           "green",
           "closed"
          ]
         ],
         "hovertemplate": "journal.title=Infection Control and Hospital Epidemiology<br>year=%{x}<br>altmetric=%{y}<br>times_cited=%{marker.size}<br>title=%{customdata[0]}<br>first_name=%{customdata[1]}<br>last_name=%{customdata[2]}<br>oa_status=%{customdata[3]}<extra></extra>",
         "legendgroup": "Infection Control and Hospital Epidemiology",
         "marker": {
          "color": "#00cc96",
          "size": [
           0,
           1,
           5,
           2,
           8,
           4
          ],
          "sizemode": "area",
          "sizeref": 0.3475,
          "symbol": "circle"
         },
         "mode": "markers",
         "name": "Infection Control and Hospital Epidemiology",
         "orientation": "v",
         "showlegend": true,
         "type": "scatter",
         "x": [
          2021,
          2020,
          2020,
          2019,
          2018,
          2012
         ],
         "xaxis": "x",
         "y": [
          1,
          4,
          101,
          7,
          43,
          56
         ],
         "yaxis": "y"
        },
        {
         "customdata": [
          [
           "A comparison of self-reported risk and protective factors and the death implicit association test in the prediction of future suicide attempts in adolescent emergency department patients.",
           "e m",
           "mahabee-gittens",
           "closed"
          ],
          [
           "Socio-demographic and trauma-related predictors of depression within eight weeks of motor vehicle collision in the AURORA study.",
           "brittany e",
           "punches",
           "closed"
          ],
          [
           "Reward-related neural activity and structure predict future substance use in dysregulated youth",
           "s. k.",
           "holland",
           "green"
          ]
         ],
         "hovertemplate": "journal.title=Psychological Medicine<br>year=%{x}<br>altmetric=%{y}<br>times_cited=%{marker.size}<br>title=%{customdata[0]}<br>first_name=%{customdata[1]}<br>last_name=%{customdata[2]}<br>oa_status=%{customdata[3]}<extra></extra>",
         "legendgroup": "Psychological Medicine",
         "marker": {
          "color": "#ab63fa",
          "size": [
           0,
           4,
           11
          ],
          "sizemode": "area",
          "sizeref": 0.3475,
          "symbol": "circle"
         },
         "mode": "markers",
         "name": "Psychological Medicine",
         "orientation": "v",
         "showlegend": true,
         "type": "scatter",
         "x": [
          2021,
          2020,
          2016
         ],
         "xaxis": "x",
         "y": [
          5,
          1,
          10
         ],
         "yaxis": "y"
        },
        {
         "customdata": [
          [
           "COMPARING DIRECT CARBONATE AND STANDARD GRAPHITE 14C DETERMINATIONS OF BIOGENIC CARBONATES",
           "wesley g",
           "parker",
           "closed"
          ],
          [
           "A New Radiocarbon Sequence from Lamanai, Belize: Two Bayesian Models from One of Mesoamerica’s Most Enduring Sites",
           "david l",
           "lentz",
           "green"
          ]
         ],
         "hovertemplate": "journal.title=Radiocarbon<br>year=%{x}<br>altmetric=%{y}<br>times_cited=%{marker.size}<br>title=%{customdata[0]}<br>first_name=%{customdata[1]}<br>last_name=%{customdata[2]}<br>oa_status=%{customdata[3]}<extra></extra>",
         "legendgroup": "Radiocarbon",
         "marker": {
          "color": "#FFA15A",
          "size": [
           2,
           3
          ],
          "sizemode": "area",
          "sizeref": 0.3475,
          "symbol": "circle"
         },
         "mode": "markers",
         "name": "Radiocarbon",
         "orientation": "v",
         "showlegend": true,
         "type": "scatter",
         "x": [
          2021,
          2016
         ],
         "xaxis": "x",
         "y": [
          3,
          3
         ],
         "yaxis": "y"
        },
        {
         "customdata": [
          [
           "Evaluating Resistance toward Muslim American Political Integration",
           "brian r.",
           "calfano",
           "closed"
          ]
         ],
         "hovertemplate": "journal.title=Politics and Religion<br>year=%{x}<br>altmetric=%{y}<br>times_cited=%{marker.size}<br>title=%{customdata[0]}<br>first_name=%{customdata[1]}<br>last_name=%{customdata[2]}<br>oa_status=%{customdata[3]}<extra></extra>",
         "legendgroup": "Politics and Religion",
         "marker": {
          "color": "#19d3f3",
          "size": [
           0
          ],
          "sizemode": "area",
          "sizeref": 0.3475,
          "symbol": "circle"
         },
         "mode": "markers",
         "name": "Politics and Religion",
         "orientation": "v",
         "showlegend": true,
         "type": "scatter",
         "x": [
          2020
         ],
         "xaxis": "x",
         "y": [
          44
         ],
         "yaxis": "y"
        },
        {
         "customdata": [
          [
           "Visiting Scholars Program to enhance career development among early-career KL2 investigators in Clinical and Translational Science: Implications from a quality improvement assessment",
           "jason t.",
           "blackard",
           "gold"
          ],
          [
           "Statistical competencies for medical research learners: What is fundamental?",
           "christopher j.",
           "lindsell",
           "gold"
          ]
         ],
         "hovertemplate": "journal.title=Journal of Clinical and Translational Science<br>year=%{x}<br>altmetric=%{y}<br>times_cited=%{marker.size}<br>title=%{customdata[0]}<br>first_name=%{customdata[1]}<br>last_name=%{customdata[2]}<br>oa_status=%{customdata[3]}<extra></extra>",
         "legendgroup": "Journal of Clinical and Translational Science",
         "marker": {
          "color": "#FF6692",
          "size": [
           0,
           4
          ],
          "sizemode": "area",
          "sizeref": 0.3475,
          "symbol": "circle"
         },
         "mode": "markers",
         "name": "Journal of Clinical and Translational Science",
         "orientation": "v",
         "showlegend": true,
         "type": "scatter",
         "x": [
          2020,
          2017
         ],
         "xaxis": "x",
         "y": [
          1,
          8
         ],
         "yaxis": "y"
        },
        {
         "customdata": [
          [
           "Characterization of a hospital-based gastroenteritis outbreak caused by GII.6 norovirus in Jinshan, China",
           "m.",
           "tan",
           "gold"
          ],
          [
           "Relative risk of irritable bowel syndrome following acute gastroenteritis and associated risk factors",
           "p. a.",
           "succop",
           "green"
          ]
         ],
         "hovertemplate": "journal.title=Epidemiology and Infection<br>year=%{x}<br>altmetric=%{y}<br>times_cited=%{marker.size}<br>title=%{customdata[0]}<br>first_name=%{customdata[1]}<br>last_name=%{customdata[2]}<br>oa_status=%{customdata[3]}<extra></extra>",
         "legendgroup": "Epidemiology and Infection",
         "marker": {
          "color": "#B6E880",
          "size": [
           2,
           13
          ],
          "sizemode": "area",
          "sizeref": 0.3475,
          "symbol": "circle"
         },
         "mode": "markers",
         "name": "Epidemiology and Infection",
         "orientation": "v",
         "showlegend": true,
         "type": "scatter",
         "x": [
          2020,
          2013
         ],
         "xaxis": "x",
         "y": [
          1,
          3
         ],
         "yaxis": "y"
        },
        {
         "customdata": [
          [
           "TRANSIT AFFINITIES",
           "derrick r.",
           "brooms",
           "closed"
          ],
          [
           "THE IMPACT OF RACISM ON CLINICIAN COGNITION, BEHAVIOR, AND CLINICAL DECISION MAKING",
           "jennifer",
           "malat",
           "green"
          ]
         ],
         "hovertemplate": "journal.title=Du Bois Review Social Science Research on Race<br>year=%{x}<br>altmetric=%{y}<br>times_cited=%{marker.size}<br>title=%{customdata[0]}<br>first_name=%{customdata[1]}<br>last_name=%{customdata[2]}<br>oa_status=%{customdata[3]}<extra></extra>",
         "legendgroup": "Du Bois Review Social Science Research on Race",
         "marker": {
          "color": "#FF97FF",
          "size": [
           0,
           139
          ],
          "sizemode": "area",
          "sizeref": 0.3475,
          "symbol": "circle"
         },
         "mode": "markers",
         "name": "Du Bois Review Social Science Research on Race",
         "orientation": "v",
         "showlegend": true,
         "type": "scatter",
         "x": [
          2020,
          2011
         ],
         "xaxis": "x",
         "y": [
          8,
          49
         ],
         "yaxis": "y"
        },
        {
         "customdata": [
          [
           "Does fetal leptin and adiponectin influence children’s lung function and risk of wheeze?",
           "aimin",
           "chen",
           "closed"
          ]
         ],
         "hovertemplate": "journal.title=Journal of Developmental Origins of Health and Disease<br>year=%{x}<br>altmetric=%{y}<br>times_cited=%{marker.size}<br>title=%{customdata[0]}<br>first_name=%{customdata[1]}<br>last_name=%{customdata[2]}<br>oa_status=%{customdata[3]}<extra></extra>",
         "legendgroup": "Journal of Developmental Origins of Health and Disease",
         "marker": {
          "color": "#FECB52",
          "size": [
           1
          ],
          "sizemode": "area",
          "sizeref": 0.3475,
          "symbol": "circle"
         },
         "mode": "markers",
         "name": "Journal of Developmental Origins of Health and Disease",
         "orientation": "v",
         "showlegend": true,
         "type": "scatter",
         "x": [
          2020
         ],
         "xaxis": "x",
         "y": [
          7
         ],
         "yaxis": "y"
        },
        {
         "customdata": [
          [
           "Symbiotic embedment structures in Silurian Caryocrinites (Echinodermata, Rhombifera, Hemicosmitida)",
           "carlton e.",
           "brett",
           "closed"
          ],
          [
           "Batocrinidae (Crinoidea) from the Lower Mississippian (lower Visan) Fort Payne Formation of Kentucky, Tennessee, and Alabama: systematics, geographic occurrences, and facies distribution",
           "david l.",
           "meyer",
           "closed"
          ],
          [
           "A reexamination of Yuknessia from the Cambrian of British Columbia and Utah",
           "anthony",
           "kramer",
           "bronze"
          ],
          [
           "Cladid Crinoids from the Late Kinderhookian Meadville Shale, Cuyahoga Formation of Ohio",
           "edgar w.",
           "roeser",
           "green"
          ]
         ],
         "hovertemplate": "journal.title=Journal of Paleontology<br>year=%{x}<br>altmetric=%{y}<br>times_cited=%{marker.size}<br>title=%{customdata[0]}<br>first_name=%{customdata[1]}<br>last_name=%{customdata[2]}<br>oa_status=%{customdata[3]}<extra></extra>",
         "legendgroup": "Journal of Paleontology",
         "marker": {
          "color": "#636efa",
          "size": [
           0,
           1,
           16,
           4
          ],
          "sizemode": "area",
          "sizeref": 0.3475,
          "symbol": "circle"
         },
         "mode": "markers",
         "name": "Journal of Paleontology",
         "orientation": "v",
         "showlegend": true,
         "type": "scatter",
         "x": [
          2020,
          2018,
          2015,
          2012
         ],
         "xaxis": "x",
         "y": [
          8,
          3,
          8,
          3
         ],
         "yaxis": "y"
        },
        {
         "customdata": [
          [
           "Comparisons of Late Ordovician ecosystem dynamics before and after the Richmondian invasion reveal consequences of invasive species in benthic marine paleocommunities",
           "ian o.",
           "castro",
           "hybrid"
          ],
          [
           "Paleoecological and stratigraphic controls on eurypterid Lagersttten: a model for preservation in the mid-Paleozoic",
           "matthew b.",
           "vrazo",
           "closed"
          ],
          [
           "Cenozoic latitudinal response curves: individualistic changes in the latitudinal distributions of marine bivalves and gastropods",
           "andrew a.",
           "zaffos",
           "closed"
          ]
         ],
         "hovertemplate": "journal.title=Paleobiology<br>year=%{x}<br>altmetric=%{y}<br>times_cited=%{marker.size}<br>title=%{customdata[0]}<br>first_name=%{customdata[1]}<br>last_name=%{customdata[2]}<br>oa_status=%{customdata[3]}<extra></extra>",
         "legendgroup": "Paleobiology",
         "marker": {
          "color": "#EF553B",
          "size": [
           1,
           4,
           2
          ],
          "sizemode": "area",
          "sizeref": 0.3475,
          "symbol": "circle"
         },
         "mode": "markers",
         "name": "Paleobiology",
         "orientation": "v",
         "showlegend": true,
         "type": "scatter",
         "x": [
          2020,
          2017,
          2015
         ],
         "xaxis": "x",
         "y": [
          10,
          1,
          1
         ],
         "yaxis": "y"
        },
        {
         "customdata": [
          [
           "Interactions with ectoparasitic mites induce host metabolic and immune responses in flies at the expense of reproduction-associated factors",
           "joshua b.",
           "benoit",
           "closed"
          ]
         ],
         "hovertemplate": "journal.title=Parasitology<br>year=%{x}<br>altmetric=%{y}<br>times_cited=%{marker.size}<br>title=%{customdata[0]}<br>first_name=%{customdata[1]}<br>last_name=%{customdata[2]}<br>oa_status=%{customdata[3]}<extra></extra>",
         "legendgroup": "Parasitology",
         "marker": {
          "color": "#00cc96",
          "size": [
           2
          ],
          "sizemode": "area",
          "sizeref": 0.3475,
          "symbol": "circle"
         },
         "mode": "markers",
         "name": "Parasitology",
         "orientation": "v",
         "showlegend": true,
         "type": "scatter",
         "x": [
          2020
         ],
         "xaxis": "x",
         "y": [
          6
         ],
         "yaxis": "y"
        },
        {
         "customdata": [
          [
           "Thinking with other minds",
           "anthony",
           "chemero",
           "closed"
          ],
          [
           "The problem with brain GUTs: Conflation of different senses of “prediction” threatens metaphysical disaster",
           "tony",
           "chemero",
           "closed"
          ]
         ],
         "hovertemplate": "journal.title=Behavioral and Brain Sciences<br>year=%{x}<br>altmetric=%{y}<br>times_cited=%{marker.size}<br>title=%{customdata[0]}<br>first_name=%{customdata[1]}<br>last_name=%{customdata[2]}<br>oa_status=%{customdata[3]}<extra></extra>",
         "legendgroup": "Behavioral and Brain Sciences",
         "marker": {
          "color": "#ab63fa",
          "size": [
           0,
           32
          ],
          "sizemode": "area",
          "sizeref": 0.3475,
          "symbol": "circle"
         },
         "mode": "markers",
         "name": "Behavioral and Brain Sciences",
         "orientation": "v",
         "showlegend": true,
         "type": "scatter",
         "x": [
          2020,
          2013
         ],
         "xaxis": "x",
         "y": [
          10,
          3
         ],
         "yaxis": "y"
        },
        {
         "customdata": [
          [
           "Cosmogenic 10Be and 36Cl geochronology of cryoplanation terraces in the Alaskan Yukon-Tanana Upland",
           "paula m.",
           "figueiredo",
           "closed"
          ],
          [
           "Surface exposure dating of the Pierre Sublobe of the James Lobe, Laurentide Ice Sheet",
           "stephanie l.",
           "heath",
           "closed"
          ],
          [
           "Subfossil lemur discoveries from the Beanka Protected Area in western Madagascar",
           "brooke e.",
           "crowley",
           "green"
          ],
          [
           "Aminochronology and time averaging of Quaternary land snail assemblages from colluvial deposits in the Madeira Archipelago, Portugal",
           "evan",
           "new",
           "closed"
          ],
          [
           "Quaternary chronostratigraphy and stable isotope paleoecology of Big Bone Lick, Kentucky, USA",
           "madhav krishna",
           "murari",
           "closed"
          ],
          [
           "Sensitivities of the equilibrium line altitude to temperature and precipitation changes along the Andes",
           "esteban a.",
           "sagredo",
           "closed"
          ]
         ],
         "hovertemplate": "journal.title=Quaternary Research<br>year=%{x}<br>altmetric=%{y}<br>times_cited=%{marker.size}<br>title=%{customdata[0]}<br>first_name=%{customdata[1]}<br>last_name=%{customdata[2]}<br>oa_status=%{customdata[3]}<extra></extra>",
         "legendgroup": "Quaternary Research",
         "marker": {
          "color": "#FFA15A",
          "size": [
           5,
           2,
           3,
           6,
           11,
           41
          ],
          "sizemode": "area",
          "sizeref": 0.3475,
          "symbol": "circle"
         },
         "mode": "markers",
         "name": "Quaternary Research",
         "orientation": "v",
         "showlegend": true,
         "type": "scatter",
         "x": [
          2020,
          2020,
          2019,
          2019,
          2015,
          2014
         ],
         "xaxis": "x",
         "y": [
          1,
          1,
          15,
          1,
          27,
          3
         ],
         "yaxis": "y"
        },
        {
         "customdata": [
          [
           "Genetic comparison of introduced and native populations of common buckthorn (Rhamnus cathartica), a woody shrub introduced into North America from Europe",
           "alexis",
           "wafer",
           "closed"
          ]
         ],
         "hovertemplate": "journal.title=Invasive Plant Science and Management<br>year=%{x}<br>altmetric=%{y}<br>times_cited=%{marker.size}<br>title=%{customdata[0]}<br>first_name=%{customdata[1]}<br>last_name=%{customdata[2]}<br>oa_status=%{customdata[3]}<extra></extra>",
         "legendgroup": "Invasive Plant Science and Management",
         "marker": {
          "color": "#19d3f3",
          "size": [
           0
          ],
          "sizemode": "area",
          "sizeref": 0.3475,
          "symbol": "circle"
         },
         "mode": "markers",
         "name": "Invasive Plant Science and Management",
         "orientation": "v",
         "showlegend": true,
         "type": "scatter",
         "x": [
          2020
         ],
         "xaxis": "x",
         "y": [
          1
         ],
         "yaxis": "y"
        },
        {
         "customdata": [
          [
           "173 It Smells Fishy: A Case Report and Discussion of Olfactory Reference Syndrome",
           "shafi",
           "lodhi",
           "bronze"
          ],
          [
           "Overview of the treatment of binge eating disorder",
           "nicole",
           "mori",
           "closed"
          ],
          [
           "A systematic review of the evidence for the treatment of acute depression in bipolar I disorder",
           "michael a.",
           "cerullo",
           "green"
          ],
          [
           "Cognitive behavioral treatments for posttraumatic stress disorder: Empirical foundation and new directions",
           "kathleen m.",
           "chard",
           "closed"
          ]
         ],
         "hovertemplate": "journal.title=CNS Spectrums<br>year=%{x}<br>altmetric=%{y}<br>times_cited=%{marker.size}<br>title=%{customdata[0]}<br>first_name=%{customdata[1]}<br>last_name=%{customdata[2]}<br>oa_status=%{customdata[3]}<extra></extra>",
         "legendgroup": "CNS Spectrums",
         "marker": {
          "color": "#FF6692",
          "size": [
           0,
           44,
           20,
           10
          ],
          "sizemode": "area",
          "sizeref": 0.3475,
          "symbol": "circle"
         },
         "mode": "markers",
         "name": "CNS Spectrums",
         "orientation": "v",
         "showlegend": true,
         "type": "scatter",
         "x": [
          2020,
          2015,
          2013,
          2013
         ],
         "xaxis": "x",
         "y": [
          3,
          5,
          1,
          1
         ],
         "yaxis": "y"
        },
        {
         "customdata": [
          [
           "Red Bird and Sequoyah: A Reply to Simek et al.",
           "kenneth barnett",
           "tankersley",
           "closed"
          ]
         ],
         "hovertemplate": "journal.title=American Antiquity<br>year=%{x}<br>altmetric=%{y}<br>times_cited=%{marker.size}<br>title=%{customdata[0]}<br>first_name=%{customdata[1]}<br>last_name=%{customdata[2]}<br>oa_status=%{customdata[3]}<extra></extra>",
         "legendgroup": "American Antiquity",
         "marker": {
          "color": "#B6E880",
          "size": [
           1
          ],
          "sizemode": "area",
          "sizeref": 0.3475,
          "symbol": "circle"
         },
         "mode": "markers",
         "name": "American Antiquity",
         "orientation": "v",
         "showlegend": true,
         "type": "scatter",
         "x": [
          2020
         ],
         "xaxis": "x",
         "y": [
          3
         ],
         "yaxis": "y"
        },
        {
         "customdata": [
          [
           "The generation mechanism of higher screech tone harmonics in supersonic jets",
           "bhupatindra",
           "malla",
           "hybrid"
          ],
          [
           "Locomotion of a single-flagellated bacterium",
           "sookkyung",
           "lim",
           "closed"
          ]
         ],
         "hovertemplate": "journal.title=Journal of Fluid Mechanics<br>year=%{x}<br>altmetric=%{y}<br>times_cited=%{marker.size}<br>title=%{customdata[0]}<br>first_name=%{customdata[1]}<br>last_name=%{customdata[2]}<br>oa_status=%{customdata[3]}<extra></extra>",
         "legendgroup": "Journal of Fluid Mechanics",
         "marker": {
          "color": "#FF97FF",
          "size": [
           5,
           3
          ],
          "sizemode": "area",
          "sizeref": 0.3475,
          "symbol": "circle"
         },
         "mode": "markers",
         "name": "Journal of Fluid Mechanics",
         "orientation": "v",
         "showlegend": true,
         "type": "scatter",
         "x": [
          2020,
          2018
         ],
         "xaxis": "x",
         "y": [
          1,
          1
         ],
         "yaxis": "y"
        },
        {
         "customdata": [
          [
           "Domain-general inhibition ability predicts the intensity of inhibition on non-target language in bilingual word production: An ERP study",
           "fengyang",
           "ma",
           "closed"
          ]
         ],
         "hovertemplate": "journal.title=Bilingualism Language and Cognition<br>year=%{x}<br>altmetric=%{y}<br>times_cited=%{marker.size}<br>title=%{customdata[0]}<br>first_name=%{customdata[1]}<br>last_name=%{customdata[2]}<br>oa_status=%{customdata[3]}<extra></extra>",
         "legendgroup": "Bilingualism Language and Cognition",
         "marker": {
          "color": "#FECB52",
          "size": [
           6
          ],
          "sizemode": "area",
          "sizeref": 0.3475,
          "symbol": "circle"
         },
         "mode": "markers",
         "name": "Bilingualism Language and Cognition",
         "orientation": "v",
         "showlegend": true,
         "type": "scatter",
         "x": [
          2020
         ],
         "xaxis": "x",
         "y": [
          3
         ],
         "yaxis": "y"
        },
        {
         "customdata": [
          [
           "Interagency Cooperation in the Twilight of the Great Society: Telemedicine, NASA, and the Papago Nation",
           "charles r.",
           "doarn",
           "closed"
          ]
         ],
         "hovertemplate": "journal.title=Journal of Policy History<br>year=%{x}<br>altmetric=%{y}<br>times_cited=%{marker.size}<br>title=%{customdata[0]}<br>first_name=%{customdata[1]}<br>last_name=%{customdata[2]}<br>oa_status=%{customdata[3]}<extra></extra>",
         "legendgroup": "Journal of Policy History",
         "marker": {
          "color": "#636efa",
          "size": [
           5
          ],
          "sizemode": "area",
          "sizeref": 0.3475,
          "symbol": "circle"
         },
         "mode": "markers",
         "name": "Journal of Policy History",
         "orientation": "v",
         "showlegend": true,
         "type": "scatter",
         "x": [
          2020
         ],
         "xaxis": "x",
         "y": [
          4
         ],
         "yaxis": "y"
        },
        {
         "customdata": [
          [
           "Maternal dietary selenium intake is associated with increased gestational length and decreased risk of preterm delivery",
           "ge",
           "zhang",
           "hybrid"
          ],
          [
           "Distance and percentage distance from median BMI as alternatives to BMI z score",
           "jessica g.",
           "woo",
           "closed"
          ]
         ],
         "hovertemplate": "journal.title=British Journal Of Nutrition<br>year=%{x}<br>altmetric=%{y}<br>times_cited=%{marker.size}<br>title=%{customdata[0]}<br>first_name=%{customdata[1]}<br>last_name=%{customdata[2]}<br>oa_status=%{customdata[3]}<extra></extra>",
         "legendgroup": "British Journal Of Nutrition",
         "marker": {
          "color": "#EF553B",
          "size": [
           7,
           14
          ],
          "sizemode": "area",
          "sizeref": 0.3475,
          "symbol": "circle"
         },
         "mode": "markers",
         "name": "British Journal Of Nutrition",
         "orientation": "v",
         "showlegend": true,
         "type": "scatter",
         "x": [
          2019,
          2019
         ],
         "xaxis": "x",
         "y": [
          3,
          1
         ],
         "yaxis": "y"
        },
        {
         "customdata": [
          [
           "Influence of Methylphenidate on Long-Term Neuropsychological and Everyday Executive Functioning After Traumatic Brain Injury in Children with Secondary Attention Problems",
           "elizabeth",
           "leblond",
           "closed"
          ],
          [
           "Increased Marijuana Use and Gender Predict Poorer Cognitive Functioning in Adolescents and Emerging Adults",
           "jenessa s.",
           "price",
           "green"
          ],
          [
           "Iowa Gambling Task Performance in Overweight Children and Adolescents at Risk for Obstructive Sleep Apnea",
           "paula k.",
           "shear",
           "green"
          ],
          [
           "Emotion Labeling and Socio-Emotional Outcomes 18 Months after Early Childhood Traumatic Brain Injury",
           "sarah j.",
           "tlustos",
           "green"
          ]
         ],
         "hovertemplate": "journal.title=Journal of the International Neuropsychological Society<br>year=%{x}<br>altmetric=%{y}<br>times_cited=%{marker.size}<br>title=%{customdata[0]}<br>first_name=%{customdata[1]}<br>last_name=%{customdata[2]}<br>oa_status=%{customdata[3]}<extra></extra>",
         "legendgroup": "Journal of the International Neuropsychological Society",
         "marker": {
          "color": "#00cc96",
          "size": [
           5,
           98,
           14,
           23
          ],
          "sizemode": "area",
          "sizeref": 0.3475,
          "symbol": "circle"
         },
         "mode": "markers",
         "name": "Journal of the International Neuropsychological Society",
         "orientation": "v",
         "showlegend": true,
         "type": "scatter",
         "x": [
          2019,
          2012,
          2012,
          2011
         ],
         "xaxis": "x",
         "y": [
          6,
          19,
          2,
          1
         ],
         "yaxis": "y"
        },
        {
         "customdata": [
          [
           "Wars of Law: Unintended Consequences in the Regulation of Armed Conflict. By Tanisha M. Fazal. Ithaca, NY: Cornell University Press, 2018. 342p. $39.95 cloth.",
           "rebecca",
           "sanders",
           "closed"
          ]
         ],
         "hovertemplate": "journal.title=Perspectives on Politics<br>year=%{x}<br>altmetric=%{y}<br>times_cited=%{marker.size}<br>title=%{customdata[0]}<br>first_name=%{customdata[1]}<br>last_name=%{customdata[2]}<br>oa_status=%{customdata[3]}<extra></extra>",
         "legendgroup": "Perspectives on Politics",
         "marker": {
          "color": "#ab63fa",
          "size": [
           0
          ],
          "sizemode": "area",
          "sizeref": 0.3475,
          "symbol": "circle"
         },
         "mode": "markers",
         "name": "Perspectives on Politics",
         "orientation": "v",
         "showlegend": true,
         "type": "scatter",
         "x": [
          2019
         ],
         "xaxis": "x",
         "y": [
          2
         ],
         "yaxis": "y"
        },
        {
         "customdata": [
          [
           "Collaborative Control of Multiple Robots Using Genetic Fuzzy Systems",
           "anoop",
           "sathyan",
           "closed"
          ]
         ],
         "hovertemplate": "journal.title=Robotica<br>year=%{x}<br>altmetric=%{y}<br>times_cited=%{marker.size}<br>title=%{customdata[0]}<br>first_name=%{customdata[1]}<br>last_name=%{customdata[2]}<br>oa_status=%{customdata[3]}<extra></extra>",
         "legendgroup": "Robotica",
         "marker": {
          "color": "#FFA15A",
          "size": [
           8
          ],
          "sizemode": "area",
          "sizeref": 0.3475,
          "symbol": "circle"
         },
         "mode": "markers",
         "name": "Robotica",
         "orientation": "v",
         "showlegend": true,
         "type": "scatter",
         "x": [
          2019
         ],
         "xaxis": "x",
         "y": [
          126
         ],
         "yaxis": "y"
        },
        {
         "customdata": [
          [
           "GEOCHRONOLOGY AND PALEOENVIRONMENTAL FRAMEWORK FOR THE OLDEST ARCHAEOLOGICAL SITE (7800–7900 cal BP) IN THE WEST INDIES, BANWARI TRACE, TRINIDAD",
           "lewis a.",
           "owen",
           "closed"
          ],
          [
           "The Sociopolitical Economy of an Ancient Maya Village: Cerén and its Sacbe",
           "venicia",
           "slotten",
           "closed"
          ]
         ],
         "hovertemplate": "journal.title=Latin American Antiquity<br>year=%{x}<br>altmetric=%{y}<br>times_cited=%{marker.size}<br>title=%{customdata[0]}<br>first_name=%{customdata[1]}<br>last_name=%{customdata[2]}<br>oa_status=%{customdata[3]}<extra></extra>",
         "legendgroup": "Latin American Antiquity",
         "marker": {
          "color": "#19d3f3",
          "size": [
           5,
           8
          ],
          "sizemode": "area",
          "sizeref": 0.3475,
          "symbol": "circle"
         },
         "mode": "markers",
         "name": "Latin American Antiquity",
         "orientation": "v",
         "showlegend": true,
         "type": "scatter",
         "x": [
          2018,
          2015
         ],
         "xaxis": "x",
         "y": [
          2,
          68
         ],
         "yaxis": "y"
        },
        {
         "customdata": [
          [
           "E Pluribus Unum? Searching for a common language in Russian ethnicity and nationality studies",
           "willard",
           "sunderland",
           "closed"
          ]
         ],
         "hovertemplate": "journal.title=Nationalities Papers<br>year=%{x}<br>altmetric=%{y}<br>times_cited=%{marker.size}<br>title=%{customdata[0]}<br>first_name=%{customdata[1]}<br>last_name=%{customdata[2]}<br>oa_status=%{customdata[3]}<extra></extra>",
         "legendgroup": "Nationalities Papers",
         "marker": {
          "color": "#FF6692",
          "size": [
           0
          ],
          "sizemode": "area",
          "sizeref": 0.3475,
          "symbol": "circle"
         },
         "mode": "markers",
         "name": "Nationalities Papers",
         "orientation": "v",
         "showlegend": true,
         "type": "scatter",
         "x": [
          2018
         ],
         "xaxis": "x",
         "y": [
          1
         ],
         "yaxis": "y"
        },
        {
         "customdata": [
          [
           "‘Sit and tilt’ preparation for subscapular system free flaps",
           "j",
           "mark",
           "closed"
          ]
         ],
         "hovertemplate": "journal.title=The Journal of Laryngology and Otology<br>year=%{x}<br>altmetric=%{y}<br>times_cited=%{marker.size}<br>title=%{customdata[0]}<br>first_name=%{customdata[1]}<br>last_name=%{customdata[2]}<br>oa_status=%{customdata[3]}<extra></extra>",
         "legendgroup": "The Journal of Laryngology and Otology",
         "marker": {
          "color": "#B6E880",
          "size": [
           1
          ],
          "sizemode": "area",
          "sizeref": 0.3475,
          "symbol": "circle"
         },
         "mode": "markers",
         "name": "The Journal of Laryngology and Otology",
         "orientation": "v",
         "showlegend": true,
         "type": "scatter",
         "x": [
          2018
         ],
         "xaxis": "x",
         "y": [
          1
         ],
         "yaxis": "y"
        },
        {
         "customdata": [
          [
           "Historicizing Slavery in the Medieval Islamic World",
           "craig",
           "perry",
           "bronze"
          ]
         ],
         "hovertemplate": "journal.title=International Journal Middle East Studies<br>year=%{x}<br>altmetric=%{y}<br>times_cited=%{marker.size}<br>title=%{customdata[0]}<br>first_name=%{customdata[1]}<br>last_name=%{customdata[2]}<br>oa_status=%{customdata[3]}<extra></extra>",
         "legendgroup": "International Journal Middle East Studies",
         "marker": {
          "color": "#FF97FF",
          "size": [
           0
          ],
          "sizemode": "area",
          "sizeref": 0.3475,
          "symbol": "circle"
         },
         "mode": "markers",
         "name": "International Journal Middle East Studies",
         "orientation": "v",
         "showlegend": true,
         "type": "scatter",
         "x": [
          2017
         ],
         "xaxis": "x",
         "y": [
          4
         ],
         "yaxis": "y"
        },
        {
         "customdata": [
          [
           "Concurrent Dawson’s Fingers and Area Postrema Lesion in a Mixed Neuroimmune Disorder",
           "ahmed z",
           "obeidat",
           "bronze"
          ]
         ],
         "hovertemplate": "journal.title=Canadian Journal of Neurological Sciences / Journal Canadien des Sciences Neurologiques<br>year=%{x}<br>altmetric=%{y}<br>times_cited=%{marker.size}<br>title=%{customdata[0]}<br>first_name=%{customdata[1]}<br>last_name=%{customdata[2]}<br>oa_status=%{customdata[3]}<extra></extra>",
         "legendgroup": "Canadian Journal of Neurological Sciences / Journal Canadien des Sciences Neurologiques",
         "marker": {
          "color": "#FECB52",
          "size": [
           0
          ],
          "sizemode": "area",
          "sizeref": 0.3475,
          "symbol": "circle"
         },
         "mode": "markers",
         "name": "Canadian Journal of Neurological Sciences / Journal Canadien des Sciences Neurologiques",
         "orientation": "v",
         "showlegend": true,
         "type": "scatter",
         "x": [
          2017
         ],
         "xaxis": "x",
         "y": [
          1
         ],
         "yaxis": "y"
        },
        {
         "customdata": [
          [
           "Proposing a Pedigree Risk Measurement Strategy: Capturing the Intergenerational Transmission of Antisocial Behavior in a Nationally Representative Sample of Adults",
           "joseph l.",
           "nedelec",
           "bronze"
          ]
         ],
         "hovertemplate": "journal.title=Twin Research and Human Genetics<br>year=%{x}<br>altmetric=%{y}<br>times_cited=%{marker.size}<br>title=%{customdata[0]}<br>first_name=%{customdata[1]}<br>last_name=%{customdata[2]}<br>oa_status=%{customdata[3]}<extra></extra>",
         "legendgroup": "Twin Research and Human Genetics",
         "marker": {
          "color": "#636efa",
          "size": [
           2
          ],
          "sizemode": "area",
          "sizeref": 0.3475,
          "symbol": "circle"
         },
         "mode": "markers",
         "name": "Twin Research and Human Genetics",
         "orientation": "v",
         "showlegend": true,
         "type": "scatter",
         "x": [
          2015
         ],
         "xaxis": "x",
         "y": [
          3
         ],
         "yaxis": "y"
        },
        {
         "customdata": [
          [
           "Local food environments are associated with girls’ energy, sugar-sweetened beverage and snack-food intakes",
           "susan m",
           "pinney",
           "bronze"
          ],
          [
           "BMI and obesity in US blood donors: a potential public health role for the blood centre",
           "ronald",
           "sacher",
           "bronze"
          ]
         ],
         "hovertemplate": "journal.title=Public Health Nutrition<br>year=%{x}<br>altmetric=%{y}<br>times_cited=%{marker.size}<br>title=%{customdata[0]}<br>first_name=%{customdata[1]}<br>last_name=%{customdata[2]}<br>oa_status=%{customdata[3]}<extra></extra>",
         "legendgroup": "Public Health Nutrition",
         "marker": {
          "color": "#EF553B",
          "size": [
           8,
           16
          ],
          "sizemode": "area",
          "sizeref": 0.3475,
          "symbol": "circle"
         },
         "mode": "markers",
         "name": "Public Health Nutrition",
         "orientation": "v",
         "showlegend": true,
         "type": "scatter",
         "x": [
          2014,
          2012
         ],
         "xaxis": "x",
         "y": [
          1,
          1
         ],
         "yaxis": "y"
        },
        {
         "customdata": [
          [
           "Histo-blood group antigens: a common niche for norovirus and rotavirus",
           "xi",
           "jiang",
           "closed"
          ]
         ],
         "hovertemplate": "journal.title=Expert Reviews in Molecular Medicine<br>year=%{x}<br>altmetric=%{y}<br>times_cited=%{marker.size}<br>title=%{customdata[0]}<br>first_name=%{customdata[1]}<br>last_name=%{customdata[2]}<br>oa_status=%{customdata[3]}<extra></extra>",
         "legendgroup": "Expert Reviews in Molecular Medicine",
         "marker": {
          "color": "#00cc96",
          "size": [
           109
          ],
          "sizemode": "area",
          "sizeref": 0.3475,
          "symbol": "circle"
         },
         "mode": "markers",
         "name": "Expert Reviews in Molecular Medicine",
         "orientation": "v",
         "showlegend": true,
         "type": "scatter",
         "x": [
          2014
         ],
         "xaxis": "x",
         "y": [
          2
         ],
         "yaxis": "y"
        },
        {
         "customdata": [
          [
           "The Work of Monuments: Reflections on Spatial, Temporal and Social Orientations in Mongolia and the Maya Lowlands",
           "sarah e.",
           "jackson",
           "closed"
          ]
         ],
         "hovertemplate": "journal.title=Cambridge Archaeological Journal<br>year=%{x}<br>altmetric=%{y}<br>times_cited=%{marker.size}<br>title=%{customdata[0]}<br>first_name=%{customdata[1]}<br>last_name=%{customdata[2]}<br>oa_status=%{customdata[3]}<extra></extra>",
         "legendgroup": "Cambridge Archaeological Journal",
         "marker": {
          "color": "#ab63fa",
          "size": [
           8
          ],
          "sizemode": "area",
          "sizeref": 0.3475,
          "symbol": "circle"
         },
         "mode": "markers",
         "name": "Cambridge Archaeological Journal",
         "orientation": "v",
         "showlegend": true,
         "type": "scatter",
         "x": [
          2014
         ],
         "xaxis": "x",
         "y": [
          1
         ],
         "yaxis": "y"
        },
        {
         "customdata": [
          [
           "A longitudinal study of several potential mediators of the relationship between child maltreatment and posttraumatic stress disorder symptoms",
           "joseph r.",
           "rausch",
           "green"
          ],
          [
           "Executive functioning, cortisol reactivity, and symptoms of psychopathology in girls with premature adrenarche",
           "lorah d.",
           "dorn",
           "green"
          ],
          [
           "Interaction of serotonin transporter linked polymorphic region and childhood neglect on criminal behavior and substance use for males and females",
           "jamie",
           "newsome",
           "closed"
          ]
         ],
         "hovertemplate": "journal.title=Development and Psychopathology<br>year=%{x}<br>altmetric=%{y}<br>times_cited=%{marker.size}<br>title=%{customdata[0]}<br>first_name=%{customdata[1]}<br>last_name=%{customdata[2]}<br>oa_status=%{customdata[3]}<extra></extra>",
         "legendgroup": "Development and Psychopathology",
         "marker": {
          "color": "#FFA15A",
          "size": [
           39,
           34,
           23
          ],
          "sizemode": "area",
          "sizeref": 0.3475,
          "symbol": "circle"
         },
         "mode": "markers",
         "name": "Development and Psychopathology",
         "orientation": "v",
         "showlegend": true,
         "type": "scatter",
         "x": [
          2014,
          2012,
          2012
         ],
         "xaxis": "x",
         "y": [
          11,
          1,
          7
         ],
         "yaxis": "y"
        },
        {
         "customdata": [
          [
           "Further analysis of a Late Jurassic dinosaur bone-bed from the Morrison Formation of Montana, USA, with a computed three-dimensional reconstruction",
           "mark",
           "aull",
           "closed"
          ]
         ],
         "hovertemplate": "journal.title=Earth and Environmental Science Transactions of the Royal Society of Edinburgh<br>year=%{x}<br>altmetric=%{y}<br>times_cited=%{marker.size}<br>title=%{customdata[0]}<br>first_name=%{customdata[1]}<br>last_name=%{customdata[2]}<br>oa_status=%{customdata[3]}<extra></extra>",
         "legendgroup": "Earth and Environmental Science Transactions of the Royal Society of Edinburgh",
         "marker": {
          "color": "#19d3f3",
          "size": [
           4
          ],
          "sizemode": "area",
          "sizeref": 0.3475,
          "symbol": "circle"
         },
         "mode": "markers",
         "name": "Earth and Environmental Science Transactions of the Royal Society of Edinburgh",
         "orientation": "v",
         "showlegend": true,
         "type": "scatter",
         "x": [
          2012
         ],
         "xaxis": "x",
         "y": [
          4
         ],
         "yaxis": "y"
        },
        {
         "customdata": [
          [
           "SpS5 - I. Obscured and distant clusters",
           "m. m.",
           "hanson",
           "bronze"
          ]
         ],
         "hovertemplate": "journal.title=Proceedings of the International Astronomical Union<br>year=%{x}<br>altmetric=%{y}<br>times_cited=%{marker.size}<br>title=%{customdata[0]}<br>first_name=%{customdata[1]}<br>last_name=%{customdata[2]}<br>oa_status=%{customdata[3]}<extra></extra>",
         "legendgroup": "Proceedings of the International Astronomical Union",
         "marker": {
          "color": "#FF6692",
          "size": [
           0
          ],
          "sizemode": "area",
          "sizeref": 0.3475,
          "symbol": "circle"
         },
         "mode": "markers",
         "name": "Proceedings of the International Astronomical Union",
         "orientation": "v",
         "showlegend": true,
         "type": "scatter",
         "x": [
          2012
         ],
         "xaxis": "x",
         "y": [
          7
         ],
         "yaxis": "y"
        },
        {
         "customdata": [
          [
           "Leadership Skills for Managing Paradoxes",
           "marianne w.",
           "lewis",
           "closed"
          ]
         ],
         "hovertemplate": "journal.title=Industrial and Organizational Psychology<br>year=%{x}<br>altmetric=%{y}<br>times_cited=%{marker.size}<br>title=%{customdata[0]}<br>first_name=%{customdata[1]}<br>last_name=%{customdata[2]}<br>oa_status=%{customdata[3]}<extra></extra>",
         "legendgroup": "Industrial and Organizational Psychology",
         "marker": {
          "color": "#B6E880",
          "size": [
           38
          ],
          "sizemode": "area",
          "sizeref": 0.3475,
          "symbol": "circle"
         },
         "mode": "markers",
         "name": "Industrial and Organizational Psychology",
         "orientation": "v",
         "showlegend": true,
         "type": "scatter",
         "x": [
          2012
         ],
         "xaxis": "x",
         "y": [
          3
         ],
         "yaxis": "y"
        },
        {
         "customdata": [
          [
           "GALEN AND THE GIRLS: SOURCES FOR WOMEN MEDICAL WRITERS REVISITED1",
           "holt n.",
           "parker",
           "closed"
          ]
         ],
         "hovertemplate": "journal.title=The Classical Quarterly<br>year=%{x}<br>altmetric=%{y}<br>times_cited=%{marker.size}<br>title=%{customdata[0]}<br>first_name=%{customdata[1]}<br>last_name=%{customdata[2]}<br>oa_status=%{customdata[3]}<extra></extra>",
         "legendgroup": "The Classical Quarterly",
         "marker": {
          "color": "#FF97FF",
          "size": [
           5
          ],
          "sizemode": "area",
          "sizeref": 0.3475,
          "symbol": "circle"
         },
         "mode": "markers",
         "name": "The Classical Quarterly",
         "orientation": "v",
         "showlegend": true,
         "type": "scatter",
         "x": [
          2012
         ],
         "xaxis": "x",
         "y": [
          3
         ],
         "yaxis": "y"
        },
        {
         "customdata": [
          [
           "Attentional Bias in Adolescents with Panic Disorder: Changes over an 8-day Intensive Treatment Program",
           "sarah",
           "whitton",
           "closed"
          ]
         ],
         "hovertemplate": "journal.title=Behavioural and Cognitive Psychotherapy<br>year=%{x}<br>altmetric=%{y}<br>times_cited=%{marker.size}<br>title=%{customdata[0]}<br>first_name=%{customdata[1]}<br>last_name=%{customdata[2]}<br>oa_status=%{customdata[3]}<extra></extra>",
         "legendgroup": "Behavioural and Cognitive Psychotherapy",
         "marker": {
          "color": "#FECB52",
          "size": [
           5
          ],
          "sizemode": "area",
          "sizeref": 0.3475,
          "symbol": "circle"
         },
         "mode": "markers",
         "name": "Behavioural and Cognitive Psychotherapy",
         "orientation": "v",
         "showlegend": true,
         "type": "scatter",
         "x": [
          2011
         ],
         "xaxis": "x",
         "y": [
          1
         ],
         "yaxis": "y"
        },
        {
         "customdata": [
          [
           "Performance of Portable Ventilators for Mass-Casualty Care",
           "thomas c.",
           "blakeman",
           "closed"
          ]
         ],
         "hovertemplate": "journal.title=Prehospital and Disaster Medicine<br>year=%{x}<br>altmetric=%{y}<br>times_cited=%{marker.size}<br>title=%{customdata[0]}<br>first_name=%{customdata[1]}<br>last_name=%{customdata[2]}<br>oa_status=%{customdata[3]}<extra></extra>",
         "legendgroup": "Prehospital and Disaster Medicine",
         "marker": {
          "color": "#636efa",
          "size": [
           2
          ],
          "sizemode": "area",
          "sizeref": 0.3475,
          "symbol": "circle"
         },
         "mode": "markers",
         "name": "Prehospital and Disaster Medicine",
         "orientation": "v",
         "showlegend": true,
         "type": "scatter",
         "x": [
          2011
         ],
         "xaxis": "x",
         "y": [
          1
         ],
         "yaxis": "y"
        },
        {
         "customdata": [
          [
           "Talking leaves and rocks that teach: the archaeological discovery of Sequoyah's oldest written record",
           "ken",
           "tankersley",
           "closed"
          ]
         ],
         "hovertemplate": "journal.title=Antiquity<br>year=%{x}<br>altmetric=%{y}<br>times_cited=%{marker.size}<br>title=%{customdata[0]}<br>first_name=%{customdata[1]}<br>last_name=%{customdata[2]}<br>oa_status=%{customdata[3]}<extra></extra>",
         "legendgroup": "Antiquity",
         "marker": {
          "color": "#EF553B",
          "size": [
           4
          ],
          "sizemode": "area",
          "sizeref": 0.3475,
          "symbol": "circle"
         },
         "mode": "markers",
         "name": "Antiquity",
         "orientation": "v",
         "showlegend": true,
         "type": "scatter",
         "x": [
          2011
         ],
         "xaxis": "x",
         "y": [
          9
         ],
         "yaxis": "y"
        }
       ],
       "layout": {
        "legend": {
         "itemsizing": "constant",
         "title": {
          "text": "journal.title"
         },
         "tracegroupgap": 0
        },
        "margin": {
         "t": 60
        },
        "template": {
         "data": {
          "bar": [
           {
            "error_x": {
             "color": "#2a3f5f"
            },
            "error_y": {
             "color": "#2a3f5f"
            },
            "marker": {
             "line": {
              "color": "#E5ECF6",
              "width": 0.5
             },
             "pattern": {
              "fillmode": "overlay",
              "size": 10,
              "solidity": 0.2
             }
            },
            "type": "bar"
           }
          ],
          "barpolar": [
           {
            "marker": {
             "line": {
              "color": "#E5ECF6",
              "width": 0.5
             },
             "pattern": {
              "fillmode": "overlay",
              "size": 10,
              "solidity": 0.2
             }
            },
            "type": "barpolar"
           }
          ],
          "carpet": [
           {
            "aaxis": {
             "endlinecolor": "#2a3f5f",
             "gridcolor": "white",
             "linecolor": "white",
             "minorgridcolor": "white",
             "startlinecolor": "#2a3f5f"
            },
            "baxis": {
             "endlinecolor": "#2a3f5f",
             "gridcolor": "white",
             "linecolor": "white",
             "minorgridcolor": "white",
             "startlinecolor": "#2a3f5f"
            },
            "type": "carpet"
           }
          ],
          "choropleth": [
           {
            "colorbar": {
             "outlinewidth": 0,
             "ticks": ""
            },
            "type": "choropleth"
           }
          ],
          "contour": [
           {
            "colorbar": {
             "outlinewidth": 0,
             "ticks": ""
            },
            "colorscale": [
             [
              0,
              "#0d0887"
             ],
             [
              0.1111111111111111,
              "#46039f"
             ],
             [
              0.2222222222222222,
              "#7201a8"
             ],
             [
              0.3333333333333333,
              "#9c179e"
             ],
             [
              0.4444444444444444,
              "#bd3786"
             ],
             [
              0.5555555555555556,
              "#d8576b"
             ],
             [
              0.6666666666666666,
              "#ed7953"
             ],
             [
              0.7777777777777778,
              "#fb9f3a"
             ],
             [
              0.8888888888888888,
              "#fdca26"
             ],
             [
              1,
              "#f0f921"
             ]
            ],
            "type": "contour"
           }
          ],
          "contourcarpet": [
           {
            "colorbar": {
             "outlinewidth": 0,
             "ticks": ""
            },
            "type": "contourcarpet"
           }
          ],
          "heatmap": [
           {
            "colorbar": {
             "outlinewidth": 0,
             "ticks": ""
            },
            "colorscale": [
             [
              0,
              "#0d0887"
             ],
             [
              0.1111111111111111,
              "#46039f"
             ],
             [
              0.2222222222222222,
              "#7201a8"
             ],
             [
              0.3333333333333333,
              "#9c179e"
             ],
             [
              0.4444444444444444,
              "#bd3786"
             ],
             [
              0.5555555555555556,
              "#d8576b"
             ],
             [
              0.6666666666666666,
              "#ed7953"
             ],
             [
              0.7777777777777778,
              "#fb9f3a"
             ],
             [
              0.8888888888888888,
              "#fdca26"
             ],
             [
              1,
              "#f0f921"
             ]
            ],
            "type": "heatmap"
           }
          ],
          "heatmapgl": [
           {
            "colorbar": {
             "outlinewidth": 0,
             "ticks": ""
            },
            "colorscale": [
             [
              0,
              "#0d0887"
             ],
             [
              0.1111111111111111,
              "#46039f"
             ],
             [
              0.2222222222222222,
              "#7201a8"
             ],
             [
              0.3333333333333333,
              "#9c179e"
             ],
             [
              0.4444444444444444,
              "#bd3786"
             ],
             [
              0.5555555555555556,
              "#d8576b"
             ],
             [
              0.6666666666666666,
              "#ed7953"
             ],
             [
              0.7777777777777778,
              "#fb9f3a"
             ],
             [
              0.8888888888888888,
              "#fdca26"
             ],
             [
              1,
              "#f0f921"
             ]
            ],
            "type": "heatmapgl"
           }
          ],
          "histogram": [
           {
            "marker": {
             "pattern": {
              "fillmode": "overlay",
              "size": 10,
              "solidity": 0.2
             }
            },
            "type": "histogram"
           }
          ],
          "histogram2d": [
           {
            "colorbar": {
             "outlinewidth": 0,
             "ticks": ""
            },
            "colorscale": [
             [
              0,
              "#0d0887"
             ],
             [
              0.1111111111111111,
              "#46039f"
             ],
             [
              0.2222222222222222,
              "#7201a8"
             ],
             [
              0.3333333333333333,
              "#9c179e"
             ],
             [
              0.4444444444444444,
              "#bd3786"
             ],
             [
              0.5555555555555556,
              "#d8576b"
             ],
             [
              0.6666666666666666,
              "#ed7953"
             ],
             [
              0.7777777777777778,
              "#fb9f3a"
             ],
             [
              0.8888888888888888,
              "#fdca26"
             ],
             [
              1,
              "#f0f921"
             ]
            ],
            "type": "histogram2d"
           }
          ],
          "histogram2dcontour": [
           {
            "colorbar": {
             "outlinewidth": 0,
             "ticks": ""
            },
            "colorscale": [
             [
              0,
              "#0d0887"
             ],
             [
              0.1111111111111111,
              "#46039f"
             ],
             [
              0.2222222222222222,
              "#7201a8"
             ],
             [
              0.3333333333333333,
              "#9c179e"
             ],
             [
              0.4444444444444444,
              "#bd3786"
             ],
             [
              0.5555555555555556,
              "#d8576b"
             ],
             [
              0.6666666666666666,
              "#ed7953"
             ],
             [
              0.7777777777777778,
              "#fb9f3a"
             ],
             [
              0.8888888888888888,
              "#fdca26"
             ],
             [
              1,
              "#f0f921"
             ]
            ],
            "type": "histogram2dcontour"
           }
          ],
          "mesh3d": [
           {
            "colorbar": {
             "outlinewidth": 0,
             "ticks": ""
            },
            "type": "mesh3d"
           }
          ],
          "parcoords": [
           {
            "line": {
             "colorbar": {
              "outlinewidth": 0,
              "ticks": ""
             }
            },
            "type": "parcoords"
           }
          ],
          "pie": [
           {
            "automargin": true,
            "type": "pie"
           }
          ],
          "scatter": [
           {
            "marker": {
             "colorbar": {
              "outlinewidth": 0,
              "ticks": ""
             }
            },
            "type": "scatter"
           }
          ],
          "scatter3d": [
           {
            "line": {
             "colorbar": {
              "outlinewidth": 0,
              "ticks": ""
             }
            },
            "marker": {
             "colorbar": {
              "outlinewidth": 0,
              "ticks": ""
             }
            },
            "type": "scatter3d"
           }
          ],
          "scattercarpet": [
           {
            "marker": {
             "colorbar": {
              "outlinewidth": 0,
              "ticks": ""
             }
            },
            "type": "scattercarpet"
           }
          ],
          "scattergeo": [
           {
            "marker": {
             "colorbar": {
              "outlinewidth": 0,
              "ticks": ""
             }
            },
            "type": "scattergeo"
           }
          ],
          "scattergl": [
           {
            "marker": {
             "colorbar": {
              "outlinewidth": 0,
              "ticks": ""
             }
            },
            "type": "scattergl"
           }
          ],
          "scattermapbox": [
           {
            "marker": {
             "colorbar": {
              "outlinewidth": 0,
              "ticks": ""
             }
            },
            "type": "scattermapbox"
           }
          ],
          "scatterpolar": [
           {
            "marker": {
             "colorbar": {
              "outlinewidth": 0,
              "ticks": ""
             }
            },
            "type": "scatterpolar"
           }
          ],
          "scatterpolargl": [
           {
            "marker": {
             "colorbar": {
              "outlinewidth": 0,
              "ticks": ""
             }
            },
            "type": "scatterpolargl"
           }
          ],
          "scatterternary": [
           {
            "marker": {
             "colorbar": {
              "outlinewidth": 0,
              "ticks": ""
             }
            },
            "type": "scatterternary"
           }
          ],
          "surface": [
           {
            "colorbar": {
             "outlinewidth": 0,
             "ticks": ""
            },
            "colorscale": [
             [
              0,
              "#0d0887"
             ],
             [
              0.1111111111111111,
              "#46039f"
             ],
             [
              0.2222222222222222,
              "#7201a8"
             ],
             [
              0.3333333333333333,
              "#9c179e"
             ],
             [
              0.4444444444444444,
              "#bd3786"
             ],
             [
              0.5555555555555556,
              "#d8576b"
             ],
             [
              0.6666666666666666,
              "#ed7953"
             ],
             [
              0.7777777777777778,
              "#fb9f3a"
             ],
             [
              0.8888888888888888,
              "#fdca26"
             ],
             [
              1,
              "#f0f921"
             ]
            ],
            "type": "surface"
           }
          ],
          "table": [
           {
            "cells": {
             "fill": {
              "color": "#EBF0F8"
             },
             "line": {
              "color": "white"
             }
            },
            "header": {
             "fill": {
              "color": "#C8D4E3"
             },
             "line": {
              "color": "white"
             }
            },
            "type": "table"
           }
          ]
         },
         "layout": {
          "annotationdefaults": {
           "arrowcolor": "#2a3f5f",
           "arrowhead": 0,
           "arrowwidth": 1
          },
          "autotypenumbers": "strict",
          "coloraxis": {
           "colorbar": {
            "outlinewidth": 0,
            "ticks": ""
           }
          },
          "colorscale": {
           "diverging": [
            [
             0,
             "#8e0152"
            ],
            [
             0.1,
             "#c51b7d"
            ],
            [
             0.2,
             "#de77ae"
            ],
            [
             0.3,
             "#f1b6da"
            ],
            [
             0.4,
             "#fde0ef"
            ],
            [
             0.5,
             "#f7f7f7"
            ],
            [
             0.6,
             "#e6f5d0"
            ],
            [
             0.7,
             "#b8e186"
            ],
            [
             0.8,
             "#7fbc41"
            ],
            [
             0.9,
             "#4d9221"
            ],
            [
             1,
             "#276419"
            ]
           ],
           "sequential": [
            [
             0,
             "#0d0887"
            ],
            [
             0.1111111111111111,
             "#46039f"
            ],
            [
             0.2222222222222222,
             "#7201a8"
            ],
            [
             0.3333333333333333,
             "#9c179e"
            ],
            [
             0.4444444444444444,
             "#bd3786"
            ],
            [
             0.5555555555555556,
             "#d8576b"
            ],
            [
             0.6666666666666666,
             "#ed7953"
            ],
            [
             0.7777777777777778,
             "#fb9f3a"
            ],
            [
             0.8888888888888888,
             "#fdca26"
            ],
            [
             1,
             "#f0f921"
            ]
           ],
           "sequentialminus": [
            [
             0,
             "#0d0887"
            ],
            [
             0.1111111111111111,
             "#46039f"
            ],
            [
             0.2222222222222222,
             "#7201a8"
            ],
            [
             0.3333333333333333,
             "#9c179e"
            ],
            [
             0.4444444444444444,
             "#bd3786"
            ],
            [
             0.5555555555555556,
             "#d8576b"
            ],
            [
             0.6666666666666666,
             "#ed7953"
            ],
            [
             0.7777777777777778,
             "#fb9f3a"
            ],
            [
             0.8888888888888888,
             "#fdca26"
            ],
            [
             1,
             "#f0f921"
            ]
           ]
          },
          "colorway": [
           "#636efa",
           "#EF553B",
           "#00cc96",
           "#ab63fa",
           "#FFA15A",
           "#19d3f3",
           "#FF6692",
           "#B6E880",
           "#FF97FF",
           "#FECB52"
          ],
          "font": {
           "color": "#2a3f5f"
          },
          "geo": {
           "bgcolor": "white",
           "lakecolor": "white",
           "landcolor": "#E5ECF6",
           "showlakes": true,
           "showland": true,
           "subunitcolor": "white"
          },
          "hoverlabel": {
           "align": "left"
          },
          "hovermode": "closest",
          "mapbox": {
           "style": "light"
          },
          "paper_bgcolor": "white",
          "plot_bgcolor": "#E5ECF6",
          "polar": {
           "angularaxis": {
            "gridcolor": "white",
            "linecolor": "white",
            "ticks": ""
           },
           "bgcolor": "#E5ECF6",
           "radialaxis": {
            "gridcolor": "white",
            "linecolor": "white",
            "ticks": ""
           }
          },
          "scene": {
           "xaxis": {
            "backgroundcolor": "#E5ECF6",
            "gridcolor": "white",
            "gridwidth": 2,
            "linecolor": "white",
            "showbackground": true,
            "ticks": "",
            "zerolinecolor": "white"
           },
           "yaxis": {
            "backgroundcolor": "#E5ECF6",
            "gridcolor": "white",
            "gridwidth": 2,
            "linecolor": "white",
            "showbackground": true,
            "ticks": "",
            "zerolinecolor": "white"
           },
           "zaxis": {
            "backgroundcolor": "#E5ECF6",
            "gridcolor": "white",
            "gridwidth": 2,
            "linecolor": "white",
            "showbackground": true,
            "ticks": "",
            "zerolinecolor": "white"
           }
          },
          "shapedefaults": {
           "line": {
            "color": "#2a3f5f"
           }
          },
          "ternary": {
           "aaxis": {
            "gridcolor": "white",
            "linecolor": "white",
            "ticks": ""
           },
           "baxis": {
            "gridcolor": "white",
            "linecolor": "white",
            "ticks": ""
           },
           "bgcolor": "#E5ECF6",
           "caxis": {
            "gridcolor": "white",
            "linecolor": "white",
            "ticks": ""
           }
          },
          "title": {
           "x": 0.05
          },
          "xaxis": {
           "automargin": true,
           "gridcolor": "white",
           "linecolor": "white",
           "ticks": "",
           "title": {
            "standoff": 15
           },
           "zerolinecolor": "white",
           "zerolinewidth": 2
          },
          "yaxis": {
           "automargin": true,
           "gridcolor": "white",
           "linecolor": "white",
           "ticks": "",
           "title": {
            "standoff": 15
           },
           "zerolinecolor": "white",
           "zerolinewidth": 2
          }
         }
        },
        "xaxis": {
         "anchor": "y",
         "domain": [
          0,
          1
         ],
         "title": {
          "text": "year"
         }
        },
        "yaxis": {
         "anchor": "x",
         "domain": [
          0,
          1
         ],
         "title": {
          "text": "altmetric"
         }
        }
       }
      },
      "text/html": [
       "<div>                            <div id=\"64600109-0c49-47b8-84e3-dcd768b10475\" class=\"plotly-graph-div\" style=\"height:525px; width:100%;\"></div>            <script type=\"text/javascript\">                require([\"plotly\"], function(Plotly) {                    window.PLOTLYENV=window.PLOTLYENV || {};                                    if (document.getElementById(\"64600109-0c49-47b8-84e3-dcd768b10475\")) {                    Plotly.newPlot(                        \"64600109-0c49-47b8-84e3-dcd768b10475\",                        [{\"customdata\":[[\"Cardiac responses in paediatric Pompe disease in the ADVANCE patient cohort.\",\"loren d m\",\"pe\\u00f1a\",\"hybrid\"],[\"Transient and persistent acute kidney injury phenotypes following the Norwood operation: a retrospective study.\",\"jeffrey a\",\"alten\",\"closed\"],[\"Characterisation of neurodevelopmental and psychological outcomes in CHD: a research agenda and recommendations from the cardiac neurodevelopmental outcome collaborative.\",\"julia\",\"anixt\",\"closed\"],[\"Neurodevelopmental and psychosocial interventions for individuals with CHD: a research agenda and recommendations from the Cardiac Neurodevelopmental Outcome Collaborative.\",\"lori e\",\"crosby\",\"closed\"],[\"Parent mental health and family functioning following diagnosis of CHD: a research agenda and recommendations from the Cardiac Neurodevelopmental Outcome Collaborative.\",\"nadine\",\"kasparian\",\"closed\"],[\"Meningitis and high-grade, second-degree atrioventricular block in an adolescent: causal effect or coincidence?\",\"richard j\",\"czosek\",\"closed\"],[\"Developing an adolescent and adult Fontan Management Programme.\",\"adam m\",\"lubert\",\"closed\"],[\"The Michigan Appropriateness Guide for Intravenous Catheters in children with congenital heart disease: miniMAGIC-CHD.\",\"tanya\",\"perry\",\"closed\"],[\"Dynamic exercise changes in venous pressure and liver stiffness in Fontan patients: effects of Treprostinil\",\"mathias\",\"possner\",\"closed\"],[\"The added value of the advanced practice provider in paediatric acute care cardiology.\",\"amanda\",\"hoerst\",\"closed\"],[\"Echocardiographic versus angiographic measurement of the aortic valve annulus in children undergoing balloon aortic valvuloplasty: method affects outcomes\",\"bryan h.\",\"goldstein\",\"closed\"],[\"The Fontan outcomes network: first steps towards building a lifespan registry for individuals with Fontan circulation in the United States.\",\"james s\",\"tweddell\",\"closed\"],[\"Lymphopenia in adults after the Fontan operation: prevalence and associations.\",\"nicole\",\"brown\",\"closed\"],[\"Collective quality improvement in the paediatric cardiology acute care unit: establishment of the Pediatric Acute Care Cardiology Collaborative (PAC3)\",\"margaret\",\"graupe\",\"closed\"]],\"hovertemplate\":\"journal.title=Cardiology in the Young<br>year=%{x}<br>altmetric=%{y}<br>times_cited=%{marker.size}<br>title=%{customdata[0]}<br>first_name=%{customdata[1]}<br>last_name=%{customdata[2]}<br>oa_status=%{customdata[3]}<extra></extra>\",\"legendgroup\":\"Cardiology in the Young\",\"marker\":{\"color\":\"#636efa\",\"size\":[0,0,3,4,3,0,0,0,0,2,0,5,3,19],\"sizemode\":\"area\",\"sizeref\":0.3475,\"symbol\":\"circle\"},\"mode\":\"markers\",\"name\":\"Cardiology in the Young\",\"orientation\":\"v\",\"showlegend\":true,\"type\":\"scatter\",\"x\":[2021,2021,2021,2021,2021,2021,2021,2021,2021,2020,2020,2020,2020,2018],\"xaxis\":\"x\",\"y\":[2.0,7.0,17.0,14.0,9.0,2.0,3.0,3.0,11.0,9.0,6.0,46.0,13.0,6.0],\"yaxis\":\"y\"},{\"customdata\":[[\"Oxygen and Ventilator Logistics during California's COVID-19 Surge-When Oxygen becomes a Scarce Resource.\",\"richard\",\"branson\",\"bronze\"],[\"Effects of Virtual Reality Simulation on Worker Emergency Evacuation of Neonates\",\"jun\",\"ying\",\"green\"]],\"hovertemplate\":\"journal.title=Disaster Medicine and Public Health Preparedness<br>year=%{x}<br>altmetric=%{y}<br>times_cited=%{marker.size}<br>title=%{customdata[0]}<br>first_name=%{customdata[1]}<br>last_name=%{customdata[2]}<br>oa_status=%{customdata[3]}<extra></extra>\",\"legendgroup\":\"Disaster Medicine and Public Health Preparedness\",\"marker\":{\"color\":\"#EF553B\",\"size\":[0,10],\"sizemode\":\"area\",\"sizeref\":0.3475,\"symbol\":\"circle\"},\"mode\":\"markers\",\"name\":\"Disaster Medicine and Public Health Preparedness\",\"orientation\":\"v\",\"showlegend\":true,\"type\":\"scatter\",\"x\":[2021,2018],\"xaxis\":\"x\",\"y\":[35.0,1.0],\"yaxis\":\"y\"},{\"customdata\":[[\"SHEA Pediatric Leadership Council commentary: Personal protective equipment during care of children with multisystem inflammatory syndrome in children (MIS-C).\",\"joshua k\",\"schaffzin\",\"green\"],[\"Risk factors for Clostridioides difficile colonization among hospitalized adults: A meta-analysis and systematic review.\",\"adam m\",\"brown\",\"closed\"],[\"When infection prevention enters the temple: Intergenerational social distancing and COVID-19\",\"david m.\",\"hartley\",\"hybrid\"],[\"Increased time spent on terminal cleaning of patient rooms may not improve disinfection of high-touch surfaces\",\"edmond a.\",\"hooker\",\"bronze\"],[\"Is the efficacy of antibiotic prophylaxis for surgical procedures decreasing? Systematic review and meta-analysis of randomized control trials\",\"joseph s.\",\"solomkin\",\"closed\"],[\"Effectiveness of Selected Surgical Masks in Arresting Vegetative Cells and Endospores When Worn by Simulated Contagious Patients\",\"christopher f.\",\"green\",\"closed\"]],\"hovertemplate\":\"journal.title=Infection Control and Hospital Epidemiology<br>year=%{x}<br>altmetric=%{y}<br>times_cited=%{marker.size}<br>title=%{customdata[0]}<br>first_name=%{customdata[1]}<br>last_name=%{customdata[2]}<br>oa_status=%{customdata[3]}<extra></extra>\",\"legendgroup\":\"Infection Control and Hospital Epidemiology\",\"marker\":{\"color\":\"#00cc96\",\"size\":[0,1,5,2,8,4],\"sizemode\":\"area\",\"sizeref\":0.3475,\"symbol\":\"circle\"},\"mode\":\"markers\",\"name\":\"Infection Control and Hospital Epidemiology\",\"orientation\":\"v\",\"showlegend\":true,\"type\":\"scatter\",\"x\":[2021,2020,2020,2019,2018,2012],\"xaxis\":\"x\",\"y\":[1.0,4.0,101.0,7.0,43.0,56.0],\"yaxis\":\"y\"},{\"customdata\":[[\"A comparison of self-reported risk and protective factors and the death implicit association test in the prediction of future suicide attempts in adolescent emergency department patients.\",\"e m\",\"mahabee-gittens\",\"closed\"],[\"Socio-demographic and trauma-related predictors of depression within eight weeks of motor vehicle collision in the AURORA study.\",\"brittany e\",\"punches\",\"closed\"],[\"Reward-related neural activity and structure predict future substance use in dysregulated youth\",\"s. k.\",\"holland\",\"green\"]],\"hovertemplate\":\"journal.title=Psychological Medicine<br>year=%{x}<br>altmetric=%{y}<br>times_cited=%{marker.size}<br>title=%{customdata[0]}<br>first_name=%{customdata[1]}<br>last_name=%{customdata[2]}<br>oa_status=%{customdata[3]}<extra></extra>\",\"legendgroup\":\"Psychological Medicine\",\"marker\":{\"color\":\"#ab63fa\",\"size\":[0,4,11],\"sizemode\":\"area\",\"sizeref\":0.3475,\"symbol\":\"circle\"},\"mode\":\"markers\",\"name\":\"Psychological Medicine\",\"orientation\":\"v\",\"showlegend\":true,\"type\":\"scatter\",\"x\":[2021,2020,2016],\"xaxis\":\"x\",\"y\":[5.0,1.0,10.0],\"yaxis\":\"y\"},{\"customdata\":[[\"COMPARING DIRECT CARBONATE AND STANDARD GRAPHITE 14C DETERMINATIONS OF BIOGENIC CARBONATES\",\"wesley g\",\"parker\",\"closed\"],[\"A New Radiocarbon Sequence from Lamanai, Belize: Two Bayesian Models from One of Mesoamerica\\u2019s Most Enduring Sites\",\"david l\",\"lentz\",\"green\"]],\"hovertemplate\":\"journal.title=Radiocarbon<br>year=%{x}<br>altmetric=%{y}<br>times_cited=%{marker.size}<br>title=%{customdata[0]}<br>first_name=%{customdata[1]}<br>last_name=%{customdata[2]}<br>oa_status=%{customdata[3]}<extra></extra>\",\"legendgroup\":\"Radiocarbon\",\"marker\":{\"color\":\"#FFA15A\",\"size\":[2,3],\"sizemode\":\"area\",\"sizeref\":0.3475,\"symbol\":\"circle\"},\"mode\":\"markers\",\"name\":\"Radiocarbon\",\"orientation\":\"v\",\"showlegend\":true,\"type\":\"scatter\",\"x\":[2021,2016],\"xaxis\":\"x\",\"y\":[3.0,3.0],\"yaxis\":\"y\"},{\"customdata\":[[\"Evaluating Resistance toward Muslim American Political Integration\",\"brian r.\",\"calfano\",\"closed\"]],\"hovertemplate\":\"journal.title=Politics and Religion<br>year=%{x}<br>altmetric=%{y}<br>times_cited=%{marker.size}<br>title=%{customdata[0]}<br>first_name=%{customdata[1]}<br>last_name=%{customdata[2]}<br>oa_status=%{customdata[3]}<extra></extra>\",\"legendgroup\":\"Politics and Religion\",\"marker\":{\"color\":\"#19d3f3\",\"size\":[0],\"sizemode\":\"area\",\"sizeref\":0.3475,\"symbol\":\"circle\"},\"mode\":\"markers\",\"name\":\"Politics and Religion\",\"orientation\":\"v\",\"showlegend\":true,\"type\":\"scatter\",\"x\":[2020],\"xaxis\":\"x\",\"y\":[44.0],\"yaxis\":\"y\"},{\"customdata\":[[\"Visiting Scholars Program to enhance career development among early-career KL2 investigators in Clinical and Translational Science: Implications from a quality improvement assessment\",\"jason t.\",\"blackard\",\"gold\"],[\"Statistical competencies for medical research learners: What is fundamental?\",\"christopher j.\",\"lindsell\",\"gold\"]],\"hovertemplate\":\"journal.title=Journal of Clinical and Translational Science<br>year=%{x}<br>altmetric=%{y}<br>times_cited=%{marker.size}<br>title=%{customdata[0]}<br>first_name=%{customdata[1]}<br>last_name=%{customdata[2]}<br>oa_status=%{customdata[3]}<extra></extra>\",\"legendgroup\":\"Journal of Clinical and Translational Science\",\"marker\":{\"color\":\"#FF6692\",\"size\":[0,4],\"sizemode\":\"area\",\"sizeref\":0.3475,\"symbol\":\"circle\"},\"mode\":\"markers\",\"name\":\"Journal of Clinical and Translational Science\",\"orientation\":\"v\",\"showlegend\":true,\"type\":\"scatter\",\"x\":[2020,2017],\"xaxis\":\"x\",\"y\":[1.0,8.0],\"yaxis\":\"y\"},{\"customdata\":[[\"Characterization of a hospital-based gastroenteritis outbreak caused by GII.6 norovirus in Jinshan, China\",\"m.\",\"tan\",\"gold\"],[\"Relative risk of irritable bowel syndrome following acute gastroenteritis and associated risk factors\",\"p. a.\",\"succop\",\"green\"]],\"hovertemplate\":\"journal.title=Epidemiology and Infection<br>year=%{x}<br>altmetric=%{y}<br>times_cited=%{marker.size}<br>title=%{customdata[0]}<br>first_name=%{customdata[1]}<br>last_name=%{customdata[2]}<br>oa_status=%{customdata[3]}<extra></extra>\",\"legendgroup\":\"Epidemiology and Infection\",\"marker\":{\"color\":\"#B6E880\",\"size\":[2,13],\"sizemode\":\"area\",\"sizeref\":0.3475,\"symbol\":\"circle\"},\"mode\":\"markers\",\"name\":\"Epidemiology and Infection\",\"orientation\":\"v\",\"showlegend\":true,\"type\":\"scatter\",\"x\":[2020,2013],\"xaxis\":\"x\",\"y\":[1.0,3.0],\"yaxis\":\"y\"},{\"customdata\":[[\"TRANSIT AFFINITIES\",\"derrick r.\",\"brooms\",\"closed\"],[\"THE IMPACT OF RACISM ON CLINICIAN COGNITION, BEHAVIOR, AND CLINICAL DECISION MAKING\",\"jennifer\",\"malat\",\"green\"]],\"hovertemplate\":\"journal.title=Du Bois Review Social Science Research on Race<br>year=%{x}<br>altmetric=%{y}<br>times_cited=%{marker.size}<br>title=%{customdata[0]}<br>first_name=%{customdata[1]}<br>last_name=%{customdata[2]}<br>oa_status=%{customdata[3]}<extra></extra>\",\"legendgroup\":\"Du Bois Review Social Science Research on Race\",\"marker\":{\"color\":\"#FF97FF\",\"size\":[0,139],\"sizemode\":\"area\",\"sizeref\":0.3475,\"symbol\":\"circle\"},\"mode\":\"markers\",\"name\":\"Du Bois Review Social Science Research on Race\",\"orientation\":\"v\",\"showlegend\":true,\"type\":\"scatter\",\"x\":[2020,2011],\"xaxis\":\"x\",\"y\":[8.0,49.0],\"yaxis\":\"y\"},{\"customdata\":[[\"Does fetal leptin and adiponectin influence children\\u2019s lung function and risk of wheeze?\",\"aimin\",\"chen\",\"closed\"]],\"hovertemplate\":\"journal.title=Journal of Developmental Origins of Health and Disease<br>year=%{x}<br>altmetric=%{y}<br>times_cited=%{marker.size}<br>title=%{customdata[0]}<br>first_name=%{customdata[1]}<br>last_name=%{customdata[2]}<br>oa_status=%{customdata[3]}<extra></extra>\",\"legendgroup\":\"Journal of Developmental Origins of Health and Disease\",\"marker\":{\"color\":\"#FECB52\",\"size\":[1],\"sizemode\":\"area\",\"sizeref\":0.3475,\"symbol\":\"circle\"},\"mode\":\"markers\",\"name\":\"Journal of Developmental Origins of Health and Disease\",\"orientation\":\"v\",\"showlegend\":true,\"type\":\"scatter\",\"x\":[2020],\"xaxis\":\"x\",\"y\":[7.0],\"yaxis\":\"y\"},{\"customdata\":[[\"Symbiotic embedment structures in Silurian Caryocrinites (Echinodermata, Rhombifera, Hemicosmitida)\",\"carlton e.\",\"brett\",\"closed\"],[\"Batocrinidae (Crinoidea) from the Lower Mississippian (lower Visan) Fort Payne Formation of Kentucky, Tennessee, and Alabama: systematics, geographic occurrences, and facies distribution\",\"david l.\",\"meyer\",\"closed\"],[\"A reexamination of Yuknessia from the Cambrian of British Columbia and Utah\",\"anthony\",\"kramer\",\"bronze\"],[\"Cladid Crinoids from the Late Kinderhookian Meadville Shale, Cuyahoga Formation of Ohio\",\"edgar w.\",\"roeser\",\"green\"]],\"hovertemplate\":\"journal.title=Journal of Paleontology<br>year=%{x}<br>altmetric=%{y}<br>times_cited=%{marker.size}<br>title=%{customdata[0]}<br>first_name=%{customdata[1]}<br>last_name=%{customdata[2]}<br>oa_status=%{customdata[3]}<extra></extra>\",\"legendgroup\":\"Journal of Paleontology\",\"marker\":{\"color\":\"#636efa\",\"size\":[0,1,16,4],\"sizemode\":\"area\",\"sizeref\":0.3475,\"symbol\":\"circle\"},\"mode\":\"markers\",\"name\":\"Journal of Paleontology\",\"orientation\":\"v\",\"showlegend\":true,\"type\":\"scatter\",\"x\":[2020,2018,2015,2012],\"xaxis\":\"x\",\"y\":[8.0,3.0,8.0,3.0],\"yaxis\":\"y\"},{\"customdata\":[[\"Comparisons of Late Ordovician ecosystem dynamics before and after the Richmondian invasion reveal consequences of invasive species in benthic marine paleocommunities\",\"ian o.\",\"castro\",\"hybrid\"],[\"Paleoecological and stratigraphic controls on eurypterid Lagersttten: a model for preservation in the mid-Paleozoic\",\"matthew b.\",\"vrazo\",\"closed\"],[\"Cenozoic latitudinal response curves: individualistic changes in the latitudinal distributions of marine bivalves and gastropods\",\"andrew a.\",\"zaffos\",\"closed\"]],\"hovertemplate\":\"journal.title=Paleobiology<br>year=%{x}<br>altmetric=%{y}<br>times_cited=%{marker.size}<br>title=%{customdata[0]}<br>first_name=%{customdata[1]}<br>last_name=%{customdata[2]}<br>oa_status=%{customdata[3]}<extra></extra>\",\"legendgroup\":\"Paleobiology\",\"marker\":{\"color\":\"#EF553B\",\"size\":[1,4,2],\"sizemode\":\"area\",\"sizeref\":0.3475,\"symbol\":\"circle\"},\"mode\":\"markers\",\"name\":\"Paleobiology\",\"orientation\":\"v\",\"showlegend\":true,\"type\":\"scatter\",\"x\":[2020,2017,2015],\"xaxis\":\"x\",\"y\":[10.0,1.0,1.0],\"yaxis\":\"y\"},{\"customdata\":[[\"Interactions with ectoparasitic mites induce host metabolic and immune responses in flies at the expense of reproduction-associated factors\",\"joshua b.\",\"benoit\",\"closed\"]],\"hovertemplate\":\"journal.title=Parasitology<br>year=%{x}<br>altmetric=%{y}<br>times_cited=%{marker.size}<br>title=%{customdata[0]}<br>first_name=%{customdata[1]}<br>last_name=%{customdata[2]}<br>oa_status=%{customdata[3]}<extra></extra>\",\"legendgroup\":\"Parasitology\",\"marker\":{\"color\":\"#00cc96\",\"size\":[2],\"sizemode\":\"area\",\"sizeref\":0.3475,\"symbol\":\"circle\"},\"mode\":\"markers\",\"name\":\"Parasitology\",\"orientation\":\"v\",\"showlegend\":true,\"type\":\"scatter\",\"x\":[2020],\"xaxis\":\"x\",\"y\":[6.0],\"yaxis\":\"y\"},{\"customdata\":[[\"Thinking with other minds\",\"anthony\",\"chemero\",\"closed\"],[\"The problem with brain GUTs: Conflation of different senses of \\u201cprediction\\u201d threatens metaphysical disaster\",\"tony\",\"chemero\",\"closed\"]],\"hovertemplate\":\"journal.title=Behavioral and Brain Sciences<br>year=%{x}<br>altmetric=%{y}<br>times_cited=%{marker.size}<br>title=%{customdata[0]}<br>first_name=%{customdata[1]}<br>last_name=%{customdata[2]}<br>oa_status=%{customdata[3]}<extra></extra>\",\"legendgroup\":\"Behavioral and Brain Sciences\",\"marker\":{\"color\":\"#ab63fa\",\"size\":[0,32],\"sizemode\":\"area\",\"sizeref\":0.3475,\"symbol\":\"circle\"},\"mode\":\"markers\",\"name\":\"Behavioral and Brain Sciences\",\"orientation\":\"v\",\"showlegend\":true,\"type\":\"scatter\",\"x\":[2020,2013],\"xaxis\":\"x\",\"y\":[10.0,3.0],\"yaxis\":\"y\"},{\"customdata\":[[\"Cosmogenic 10Be and 36Cl geochronology of cryoplanation terraces in the Alaskan Yukon-Tanana Upland\",\"paula m.\",\"figueiredo\",\"closed\"],[\"Surface exposure dating of the Pierre Sublobe of the James Lobe, Laurentide Ice Sheet\",\"stephanie l.\",\"heath\",\"closed\"],[\"Subfossil lemur discoveries from the Beanka Protected Area in western Madagascar\",\"brooke e.\",\"crowley\",\"green\"],[\"Aminochronology and time averaging of Quaternary land snail assemblages from colluvial deposits in the Madeira Archipelago, Portugal\",\"evan\",\"new\",\"closed\"],[\"Quaternary chronostratigraphy and stable isotope paleoecology of Big Bone Lick, Kentucky, USA\",\"madhav krishna\",\"murari\",\"closed\"],[\"Sensitivities of the equilibrium line altitude to temperature and precipitation changes along the Andes\",\"esteban a.\",\"sagredo\",\"closed\"]],\"hovertemplate\":\"journal.title=Quaternary Research<br>year=%{x}<br>altmetric=%{y}<br>times_cited=%{marker.size}<br>title=%{customdata[0]}<br>first_name=%{customdata[1]}<br>last_name=%{customdata[2]}<br>oa_status=%{customdata[3]}<extra></extra>\",\"legendgroup\":\"Quaternary Research\",\"marker\":{\"color\":\"#FFA15A\",\"size\":[5,2,3,6,11,41],\"sizemode\":\"area\",\"sizeref\":0.3475,\"symbol\":\"circle\"},\"mode\":\"markers\",\"name\":\"Quaternary Research\",\"orientation\":\"v\",\"showlegend\":true,\"type\":\"scatter\",\"x\":[2020,2020,2019,2019,2015,2014],\"xaxis\":\"x\",\"y\":[1.0,1.0,15.0,1.0,27.0,3.0],\"yaxis\":\"y\"},{\"customdata\":[[\"Genetic comparison of introduced and native populations of common buckthorn (Rhamnus cathartica), a woody shrub introduced into North America from Europe\",\"alexis\",\"wafer\",\"closed\"]],\"hovertemplate\":\"journal.title=Invasive Plant Science and Management<br>year=%{x}<br>altmetric=%{y}<br>times_cited=%{marker.size}<br>title=%{customdata[0]}<br>first_name=%{customdata[1]}<br>last_name=%{customdata[2]}<br>oa_status=%{customdata[3]}<extra></extra>\",\"legendgroup\":\"Invasive Plant Science and Management\",\"marker\":{\"color\":\"#19d3f3\",\"size\":[0],\"sizemode\":\"area\",\"sizeref\":0.3475,\"symbol\":\"circle\"},\"mode\":\"markers\",\"name\":\"Invasive Plant Science and Management\",\"orientation\":\"v\",\"showlegend\":true,\"type\":\"scatter\",\"x\":[2020],\"xaxis\":\"x\",\"y\":[1.0],\"yaxis\":\"y\"},{\"customdata\":[[\"173 It Smells Fishy: A Case Report and Discussion of Olfactory Reference Syndrome\",\"shafi\",\"lodhi\",\"bronze\"],[\"Overview of the treatment of binge eating disorder\",\"nicole\",\"mori\",\"closed\"],[\"A systematic review of the evidence for the treatment of acute depression in bipolar I disorder\",\"michael a.\",\"cerullo\",\"green\"],[\"Cognitive behavioral treatments for posttraumatic stress disorder: Empirical foundation and new directions\",\"kathleen m.\",\"chard\",\"closed\"]],\"hovertemplate\":\"journal.title=CNS Spectrums<br>year=%{x}<br>altmetric=%{y}<br>times_cited=%{marker.size}<br>title=%{customdata[0]}<br>first_name=%{customdata[1]}<br>last_name=%{customdata[2]}<br>oa_status=%{customdata[3]}<extra></extra>\",\"legendgroup\":\"CNS Spectrums\",\"marker\":{\"color\":\"#FF6692\",\"size\":[0,44,20,10],\"sizemode\":\"area\",\"sizeref\":0.3475,\"symbol\":\"circle\"},\"mode\":\"markers\",\"name\":\"CNS Spectrums\",\"orientation\":\"v\",\"showlegend\":true,\"type\":\"scatter\",\"x\":[2020,2015,2013,2013],\"xaxis\":\"x\",\"y\":[3.0,5.0,1.0,1.0],\"yaxis\":\"y\"},{\"customdata\":[[\"Red Bird and Sequoyah: A Reply to Simek et al.\",\"kenneth barnett\",\"tankersley\",\"closed\"]],\"hovertemplate\":\"journal.title=American Antiquity<br>year=%{x}<br>altmetric=%{y}<br>times_cited=%{marker.size}<br>title=%{customdata[0]}<br>first_name=%{customdata[1]}<br>last_name=%{customdata[2]}<br>oa_status=%{customdata[3]}<extra></extra>\",\"legendgroup\":\"American Antiquity\",\"marker\":{\"color\":\"#B6E880\",\"size\":[1],\"sizemode\":\"area\",\"sizeref\":0.3475,\"symbol\":\"circle\"},\"mode\":\"markers\",\"name\":\"American Antiquity\",\"orientation\":\"v\",\"showlegend\":true,\"type\":\"scatter\",\"x\":[2020],\"xaxis\":\"x\",\"y\":[3.0],\"yaxis\":\"y\"},{\"customdata\":[[\"The generation mechanism of higher screech tone harmonics in supersonic jets\",\"bhupatindra\",\"malla\",\"hybrid\"],[\"Locomotion of a single-flagellated bacterium\",\"sookkyung\",\"lim\",\"closed\"]],\"hovertemplate\":\"journal.title=Journal of Fluid Mechanics<br>year=%{x}<br>altmetric=%{y}<br>times_cited=%{marker.size}<br>title=%{customdata[0]}<br>first_name=%{customdata[1]}<br>last_name=%{customdata[2]}<br>oa_status=%{customdata[3]}<extra></extra>\",\"legendgroup\":\"Journal of Fluid Mechanics\",\"marker\":{\"color\":\"#FF97FF\",\"size\":[5,3],\"sizemode\":\"area\",\"sizeref\":0.3475,\"symbol\":\"circle\"},\"mode\":\"markers\",\"name\":\"Journal of Fluid Mechanics\",\"orientation\":\"v\",\"showlegend\":true,\"type\":\"scatter\",\"x\":[2020,2018],\"xaxis\":\"x\",\"y\":[1.0,1.0],\"yaxis\":\"y\"},{\"customdata\":[[\"Domain-general inhibition ability predicts the intensity of inhibition on non-target language in bilingual word production: An ERP study\",\"fengyang\",\"ma\",\"closed\"]],\"hovertemplate\":\"journal.title=Bilingualism Language and Cognition<br>year=%{x}<br>altmetric=%{y}<br>times_cited=%{marker.size}<br>title=%{customdata[0]}<br>first_name=%{customdata[1]}<br>last_name=%{customdata[2]}<br>oa_status=%{customdata[3]}<extra></extra>\",\"legendgroup\":\"Bilingualism Language and Cognition\",\"marker\":{\"color\":\"#FECB52\",\"size\":[6],\"sizemode\":\"area\",\"sizeref\":0.3475,\"symbol\":\"circle\"},\"mode\":\"markers\",\"name\":\"Bilingualism Language and Cognition\",\"orientation\":\"v\",\"showlegend\":true,\"type\":\"scatter\",\"x\":[2020],\"xaxis\":\"x\",\"y\":[3.0],\"yaxis\":\"y\"},{\"customdata\":[[\"Interagency Cooperation in the Twilight of the Great Society: Telemedicine, NASA, and the Papago Nation\",\"charles r.\",\"doarn\",\"closed\"]],\"hovertemplate\":\"journal.title=Journal of Policy History<br>year=%{x}<br>altmetric=%{y}<br>times_cited=%{marker.size}<br>title=%{customdata[0]}<br>first_name=%{customdata[1]}<br>last_name=%{customdata[2]}<br>oa_status=%{customdata[3]}<extra></extra>\",\"legendgroup\":\"Journal of Policy History\",\"marker\":{\"color\":\"#636efa\",\"size\":[5],\"sizemode\":\"area\",\"sizeref\":0.3475,\"symbol\":\"circle\"},\"mode\":\"markers\",\"name\":\"Journal of Policy History\",\"orientation\":\"v\",\"showlegend\":true,\"type\":\"scatter\",\"x\":[2020],\"xaxis\":\"x\",\"y\":[4.0],\"yaxis\":\"y\"},{\"customdata\":[[\"Maternal dietary selenium intake is associated with increased gestational length and decreased risk of preterm delivery\",\"ge\",\"zhang\",\"hybrid\"],[\"Distance and percentage distance from median BMI as alternatives to BMI z score\",\"jessica g.\",\"woo\",\"closed\"]],\"hovertemplate\":\"journal.title=British Journal Of Nutrition<br>year=%{x}<br>altmetric=%{y}<br>times_cited=%{marker.size}<br>title=%{customdata[0]}<br>first_name=%{customdata[1]}<br>last_name=%{customdata[2]}<br>oa_status=%{customdata[3]}<extra></extra>\",\"legendgroup\":\"British Journal Of Nutrition\",\"marker\":{\"color\":\"#EF553B\",\"size\":[7,14],\"sizemode\":\"area\",\"sizeref\":0.3475,\"symbol\":\"circle\"},\"mode\":\"markers\",\"name\":\"British Journal Of Nutrition\",\"orientation\":\"v\",\"showlegend\":true,\"type\":\"scatter\",\"x\":[2019,2019],\"xaxis\":\"x\",\"y\":[3.0,1.0],\"yaxis\":\"y\"},{\"customdata\":[[\"Influence of Methylphenidate on Long-Term Neuropsychological and Everyday Executive Functioning After Traumatic Brain Injury in Children with Secondary Attention Problems\",\"elizabeth\",\"leblond\",\"closed\"],[\"Increased Marijuana Use and Gender Predict Poorer Cognitive Functioning in Adolescents and Emerging Adults\",\"jenessa s.\",\"price\",\"green\"],[\"Iowa Gambling Task Performance in Overweight Children and Adolescents at Risk for Obstructive Sleep Apnea\",\"paula k.\",\"shear\",\"green\"],[\"Emotion Labeling and Socio-Emotional Outcomes 18 Months after Early Childhood Traumatic Brain Injury\",\"sarah j.\",\"tlustos\",\"green\"]],\"hovertemplate\":\"journal.title=Journal of the International Neuropsychological Society<br>year=%{x}<br>altmetric=%{y}<br>times_cited=%{marker.size}<br>title=%{customdata[0]}<br>first_name=%{customdata[1]}<br>last_name=%{customdata[2]}<br>oa_status=%{customdata[3]}<extra></extra>\",\"legendgroup\":\"Journal of the International Neuropsychological Society\",\"marker\":{\"color\":\"#00cc96\",\"size\":[5,98,14,23],\"sizemode\":\"area\",\"sizeref\":0.3475,\"symbol\":\"circle\"},\"mode\":\"markers\",\"name\":\"Journal of the International Neuropsychological Society\",\"orientation\":\"v\",\"showlegend\":true,\"type\":\"scatter\",\"x\":[2019,2012,2012,2011],\"xaxis\":\"x\",\"y\":[6.0,19.0,2.0,1.0],\"yaxis\":\"y\"},{\"customdata\":[[\"Wars of Law: Unintended Consequences in the Regulation of Armed Conflict. By Tanisha M. Fazal. Ithaca, NY: Cornell University Press, 2018. 342p. $39.95 cloth.\",\"rebecca\",\"sanders\",\"closed\"]],\"hovertemplate\":\"journal.title=Perspectives on Politics<br>year=%{x}<br>altmetric=%{y}<br>times_cited=%{marker.size}<br>title=%{customdata[0]}<br>first_name=%{customdata[1]}<br>last_name=%{customdata[2]}<br>oa_status=%{customdata[3]}<extra></extra>\",\"legendgroup\":\"Perspectives on Politics\",\"marker\":{\"color\":\"#ab63fa\",\"size\":[0],\"sizemode\":\"area\",\"sizeref\":0.3475,\"symbol\":\"circle\"},\"mode\":\"markers\",\"name\":\"Perspectives on Politics\",\"orientation\":\"v\",\"showlegend\":true,\"type\":\"scatter\",\"x\":[2019],\"xaxis\":\"x\",\"y\":[2.0],\"yaxis\":\"y\"},{\"customdata\":[[\"Collaborative Control of Multiple Robots Using Genetic Fuzzy Systems\",\"anoop\",\"sathyan\",\"closed\"]],\"hovertemplate\":\"journal.title=Robotica<br>year=%{x}<br>altmetric=%{y}<br>times_cited=%{marker.size}<br>title=%{customdata[0]}<br>first_name=%{customdata[1]}<br>last_name=%{customdata[2]}<br>oa_status=%{customdata[3]}<extra></extra>\",\"legendgroup\":\"Robotica\",\"marker\":{\"color\":\"#FFA15A\",\"size\":[8],\"sizemode\":\"area\",\"sizeref\":0.3475,\"symbol\":\"circle\"},\"mode\":\"markers\",\"name\":\"Robotica\",\"orientation\":\"v\",\"showlegend\":true,\"type\":\"scatter\",\"x\":[2019],\"xaxis\":\"x\",\"y\":[126.0],\"yaxis\":\"y\"},{\"customdata\":[[\"GEOCHRONOLOGY AND PALEOENVIRONMENTAL FRAMEWORK FOR THE OLDEST ARCHAEOLOGICAL SITE (7800\\u20137900 cal BP) IN THE WEST INDIES, BANWARI TRACE, TRINIDAD\",\"lewis a.\",\"owen\",\"closed\"],[\"The Sociopolitical Economy of an Ancient Maya Village: Cer\\u00e9n and its Sacbe\",\"venicia\",\"slotten\",\"closed\"]],\"hovertemplate\":\"journal.title=Latin American Antiquity<br>year=%{x}<br>altmetric=%{y}<br>times_cited=%{marker.size}<br>title=%{customdata[0]}<br>first_name=%{customdata[1]}<br>last_name=%{customdata[2]}<br>oa_status=%{customdata[3]}<extra></extra>\",\"legendgroup\":\"Latin American Antiquity\",\"marker\":{\"color\":\"#19d3f3\",\"size\":[5,8],\"sizemode\":\"area\",\"sizeref\":0.3475,\"symbol\":\"circle\"},\"mode\":\"markers\",\"name\":\"Latin American Antiquity\",\"orientation\":\"v\",\"showlegend\":true,\"type\":\"scatter\",\"x\":[2018,2015],\"xaxis\":\"x\",\"y\":[2.0,68.0],\"yaxis\":\"y\"},{\"customdata\":[[\"E Pluribus Unum? Searching for a common language in Russian ethnicity and nationality studies\",\"willard\",\"sunderland\",\"closed\"]],\"hovertemplate\":\"journal.title=Nationalities Papers<br>year=%{x}<br>altmetric=%{y}<br>times_cited=%{marker.size}<br>title=%{customdata[0]}<br>first_name=%{customdata[1]}<br>last_name=%{customdata[2]}<br>oa_status=%{customdata[3]}<extra></extra>\",\"legendgroup\":\"Nationalities Papers\",\"marker\":{\"color\":\"#FF6692\",\"size\":[0],\"sizemode\":\"area\",\"sizeref\":0.3475,\"symbol\":\"circle\"},\"mode\":\"markers\",\"name\":\"Nationalities Papers\",\"orientation\":\"v\",\"showlegend\":true,\"type\":\"scatter\",\"x\":[2018],\"xaxis\":\"x\",\"y\":[1.0],\"yaxis\":\"y\"},{\"customdata\":[[\"\\u2018Sit and tilt\\u2019 preparation for subscapular system free flaps\",\"j\",\"mark\",\"closed\"]],\"hovertemplate\":\"journal.title=The Journal of Laryngology and Otology<br>year=%{x}<br>altmetric=%{y}<br>times_cited=%{marker.size}<br>title=%{customdata[0]}<br>first_name=%{customdata[1]}<br>last_name=%{customdata[2]}<br>oa_status=%{customdata[3]}<extra></extra>\",\"legendgroup\":\"The Journal of Laryngology and Otology\",\"marker\":{\"color\":\"#B6E880\",\"size\":[1],\"sizemode\":\"area\",\"sizeref\":0.3475,\"symbol\":\"circle\"},\"mode\":\"markers\",\"name\":\"The Journal of Laryngology and Otology\",\"orientation\":\"v\",\"showlegend\":true,\"type\":\"scatter\",\"x\":[2018],\"xaxis\":\"x\",\"y\":[1.0],\"yaxis\":\"y\"},{\"customdata\":[[\"Historicizing Slavery in the Medieval Islamic World\",\"craig\",\"perry\",\"bronze\"]],\"hovertemplate\":\"journal.title=International Journal Middle East Studies<br>year=%{x}<br>altmetric=%{y}<br>times_cited=%{marker.size}<br>title=%{customdata[0]}<br>first_name=%{customdata[1]}<br>last_name=%{customdata[2]}<br>oa_status=%{customdata[3]}<extra></extra>\",\"legendgroup\":\"International Journal Middle East Studies\",\"marker\":{\"color\":\"#FF97FF\",\"size\":[0],\"sizemode\":\"area\",\"sizeref\":0.3475,\"symbol\":\"circle\"},\"mode\":\"markers\",\"name\":\"International Journal Middle East Studies\",\"orientation\":\"v\",\"showlegend\":true,\"type\":\"scatter\",\"x\":[2017],\"xaxis\":\"x\",\"y\":[4.0],\"yaxis\":\"y\"},{\"customdata\":[[\"Concurrent Dawson\\u2019s Fingers and Area Postrema Lesion in a Mixed Neuroimmune Disorder\",\"ahmed z\",\"obeidat\",\"bronze\"]],\"hovertemplate\":\"journal.title=Canadian Journal of Neurological Sciences / Journal Canadien des Sciences Neurologiques<br>year=%{x}<br>altmetric=%{y}<br>times_cited=%{marker.size}<br>title=%{customdata[0]}<br>first_name=%{customdata[1]}<br>last_name=%{customdata[2]}<br>oa_status=%{customdata[3]}<extra></extra>\",\"legendgroup\":\"Canadian Journal of Neurological Sciences / Journal Canadien des Sciences Neurologiques\",\"marker\":{\"color\":\"#FECB52\",\"size\":[0],\"sizemode\":\"area\",\"sizeref\":0.3475,\"symbol\":\"circle\"},\"mode\":\"markers\",\"name\":\"Canadian Journal of Neurological Sciences / Journal Canadien des Sciences Neurologiques\",\"orientation\":\"v\",\"showlegend\":true,\"type\":\"scatter\",\"x\":[2017],\"xaxis\":\"x\",\"y\":[1.0],\"yaxis\":\"y\"},{\"customdata\":[[\"Proposing a Pedigree Risk Measurement Strategy: Capturing the Intergenerational Transmission of Antisocial Behavior in a Nationally Representative Sample of Adults\",\"joseph l.\",\"nedelec\",\"bronze\"]],\"hovertemplate\":\"journal.title=Twin Research and Human Genetics<br>year=%{x}<br>altmetric=%{y}<br>times_cited=%{marker.size}<br>title=%{customdata[0]}<br>first_name=%{customdata[1]}<br>last_name=%{customdata[2]}<br>oa_status=%{customdata[3]}<extra></extra>\",\"legendgroup\":\"Twin Research and Human Genetics\",\"marker\":{\"color\":\"#636efa\",\"size\":[2],\"sizemode\":\"area\",\"sizeref\":0.3475,\"symbol\":\"circle\"},\"mode\":\"markers\",\"name\":\"Twin Research and Human Genetics\",\"orientation\":\"v\",\"showlegend\":true,\"type\":\"scatter\",\"x\":[2015],\"xaxis\":\"x\",\"y\":[3.0],\"yaxis\":\"y\"},{\"customdata\":[[\"Local food environments are associated with girls\\u2019 energy, sugar-sweetened beverage and snack-food intakes\",\"susan m\",\"pinney\",\"bronze\"],[\"BMI and obesity in US blood donors: a potential public health role for the blood centre\",\"ronald\",\"sacher\",\"bronze\"]],\"hovertemplate\":\"journal.title=Public Health Nutrition<br>year=%{x}<br>altmetric=%{y}<br>times_cited=%{marker.size}<br>title=%{customdata[0]}<br>first_name=%{customdata[1]}<br>last_name=%{customdata[2]}<br>oa_status=%{customdata[3]}<extra></extra>\",\"legendgroup\":\"Public Health Nutrition\",\"marker\":{\"color\":\"#EF553B\",\"size\":[8,16],\"sizemode\":\"area\",\"sizeref\":0.3475,\"symbol\":\"circle\"},\"mode\":\"markers\",\"name\":\"Public Health Nutrition\",\"orientation\":\"v\",\"showlegend\":true,\"type\":\"scatter\",\"x\":[2014,2012],\"xaxis\":\"x\",\"y\":[1.0,1.0],\"yaxis\":\"y\"},{\"customdata\":[[\"Histo-blood group antigens: a common niche for norovirus and rotavirus\",\"xi\",\"jiang\",\"closed\"]],\"hovertemplate\":\"journal.title=Expert Reviews in Molecular Medicine<br>year=%{x}<br>altmetric=%{y}<br>times_cited=%{marker.size}<br>title=%{customdata[0]}<br>first_name=%{customdata[1]}<br>last_name=%{customdata[2]}<br>oa_status=%{customdata[3]}<extra></extra>\",\"legendgroup\":\"Expert Reviews in Molecular Medicine\",\"marker\":{\"color\":\"#00cc96\",\"size\":[109],\"sizemode\":\"area\",\"sizeref\":0.3475,\"symbol\":\"circle\"},\"mode\":\"markers\",\"name\":\"Expert Reviews in Molecular Medicine\",\"orientation\":\"v\",\"showlegend\":true,\"type\":\"scatter\",\"x\":[2014],\"xaxis\":\"x\",\"y\":[2.0],\"yaxis\":\"y\"},{\"customdata\":[[\"The Work of Monuments: Reflections on Spatial, Temporal and Social Orientations in Mongolia and the Maya Lowlands\",\"sarah e.\",\"jackson\",\"closed\"]],\"hovertemplate\":\"journal.title=Cambridge Archaeological Journal<br>year=%{x}<br>altmetric=%{y}<br>times_cited=%{marker.size}<br>title=%{customdata[0]}<br>first_name=%{customdata[1]}<br>last_name=%{customdata[2]}<br>oa_status=%{customdata[3]}<extra></extra>\",\"legendgroup\":\"Cambridge Archaeological Journal\",\"marker\":{\"color\":\"#ab63fa\",\"size\":[8],\"sizemode\":\"area\",\"sizeref\":0.3475,\"symbol\":\"circle\"},\"mode\":\"markers\",\"name\":\"Cambridge Archaeological Journal\",\"orientation\":\"v\",\"showlegend\":true,\"type\":\"scatter\",\"x\":[2014],\"xaxis\":\"x\",\"y\":[1.0],\"yaxis\":\"y\"},{\"customdata\":[[\"A longitudinal study of several potential mediators of the relationship between child maltreatment and posttraumatic stress disorder symptoms\",\"joseph r.\",\"rausch\",\"green\"],[\"Executive functioning, cortisol reactivity, and symptoms of psychopathology in girls with premature adrenarche\",\"lorah d.\",\"dorn\",\"green\"],[\"Interaction of serotonin transporter linked polymorphic region and childhood neglect on criminal behavior and substance use for males and females\",\"jamie\",\"newsome\",\"closed\"]],\"hovertemplate\":\"journal.title=Development and Psychopathology<br>year=%{x}<br>altmetric=%{y}<br>times_cited=%{marker.size}<br>title=%{customdata[0]}<br>first_name=%{customdata[1]}<br>last_name=%{customdata[2]}<br>oa_status=%{customdata[3]}<extra></extra>\",\"legendgroup\":\"Development and Psychopathology\",\"marker\":{\"color\":\"#FFA15A\",\"size\":[39,34,23],\"sizemode\":\"area\",\"sizeref\":0.3475,\"symbol\":\"circle\"},\"mode\":\"markers\",\"name\":\"Development and Psychopathology\",\"orientation\":\"v\",\"showlegend\":true,\"type\":\"scatter\",\"x\":[2014,2012,2012],\"xaxis\":\"x\",\"y\":[11.0,1.0,7.0],\"yaxis\":\"y\"},{\"customdata\":[[\"Further analysis of a Late Jurassic dinosaur bone-bed from the Morrison Formation of Montana, USA, with a computed three-dimensional reconstruction\",\"mark\",\"aull\",\"closed\"]],\"hovertemplate\":\"journal.title=Earth and Environmental Science Transactions of the Royal Society of Edinburgh<br>year=%{x}<br>altmetric=%{y}<br>times_cited=%{marker.size}<br>title=%{customdata[0]}<br>first_name=%{customdata[1]}<br>last_name=%{customdata[2]}<br>oa_status=%{customdata[3]}<extra></extra>\",\"legendgroup\":\"Earth and Environmental Science Transactions of the Royal Society of Edinburgh\",\"marker\":{\"color\":\"#19d3f3\",\"size\":[4],\"sizemode\":\"area\",\"sizeref\":0.3475,\"symbol\":\"circle\"},\"mode\":\"markers\",\"name\":\"Earth and Environmental Science Transactions of the Royal Society of Edinburgh\",\"orientation\":\"v\",\"showlegend\":true,\"type\":\"scatter\",\"x\":[2012],\"xaxis\":\"x\",\"y\":[4.0],\"yaxis\":\"y\"},{\"customdata\":[[\"SpS5 - I. Obscured and distant clusters\",\"m. m.\",\"hanson\",\"bronze\"]],\"hovertemplate\":\"journal.title=Proceedings of the International Astronomical Union<br>year=%{x}<br>altmetric=%{y}<br>times_cited=%{marker.size}<br>title=%{customdata[0]}<br>first_name=%{customdata[1]}<br>last_name=%{customdata[2]}<br>oa_status=%{customdata[3]}<extra></extra>\",\"legendgroup\":\"Proceedings of the International Astronomical Union\",\"marker\":{\"color\":\"#FF6692\",\"size\":[0],\"sizemode\":\"area\",\"sizeref\":0.3475,\"symbol\":\"circle\"},\"mode\":\"markers\",\"name\":\"Proceedings of the International Astronomical Union\",\"orientation\":\"v\",\"showlegend\":true,\"type\":\"scatter\",\"x\":[2012],\"xaxis\":\"x\",\"y\":[7.0],\"yaxis\":\"y\"},{\"customdata\":[[\"Leadership Skills for Managing Paradoxes\",\"marianne w.\",\"lewis\",\"closed\"]],\"hovertemplate\":\"journal.title=Industrial and Organizational Psychology<br>year=%{x}<br>altmetric=%{y}<br>times_cited=%{marker.size}<br>title=%{customdata[0]}<br>first_name=%{customdata[1]}<br>last_name=%{customdata[2]}<br>oa_status=%{customdata[3]}<extra></extra>\",\"legendgroup\":\"Industrial and Organizational Psychology\",\"marker\":{\"color\":\"#B6E880\",\"size\":[38],\"sizemode\":\"area\",\"sizeref\":0.3475,\"symbol\":\"circle\"},\"mode\":\"markers\",\"name\":\"Industrial and Organizational Psychology\",\"orientation\":\"v\",\"showlegend\":true,\"type\":\"scatter\",\"x\":[2012],\"xaxis\":\"x\",\"y\":[3.0],\"yaxis\":\"y\"},{\"customdata\":[[\"GALEN AND THE GIRLS: SOURCES FOR WOMEN MEDICAL WRITERS REVISITED1\",\"holt n.\",\"parker\",\"closed\"]],\"hovertemplate\":\"journal.title=The Classical Quarterly<br>year=%{x}<br>altmetric=%{y}<br>times_cited=%{marker.size}<br>title=%{customdata[0]}<br>first_name=%{customdata[1]}<br>last_name=%{customdata[2]}<br>oa_status=%{customdata[3]}<extra></extra>\",\"legendgroup\":\"The Classical Quarterly\",\"marker\":{\"color\":\"#FF97FF\",\"size\":[5],\"sizemode\":\"area\",\"sizeref\":0.3475,\"symbol\":\"circle\"},\"mode\":\"markers\",\"name\":\"The Classical Quarterly\",\"orientation\":\"v\",\"showlegend\":true,\"type\":\"scatter\",\"x\":[2012],\"xaxis\":\"x\",\"y\":[3.0],\"yaxis\":\"y\"},{\"customdata\":[[\"Attentional Bias in Adolescents with Panic Disorder: Changes over an 8-day Intensive Treatment Program\",\"sarah\",\"whitton\",\"closed\"]],\"hovertemplate\":\"journal.title=Behavioural and Cognitive Psychotherapy<br>year=%{x}<br>altmetric=%{y}<br>times_cited=%{marker.size}<br>title=%{customdata[0]}<br>first_name=%{customdata[1]}<br>last_name=%{customdata[2]}<br>oa_status=%{customdata[3]}<extra></extra>\",\"legendgroup\":\"Behavioural and Cognitive Psychotherapy\",\"marker\":{\"color\":\"#FECB52\",\"size\":[5],\"sizemode\":\"area\",\"sizeref\":0.3475,\"symbol\":\"circle\"},\"mode\":\"markers\",\"name\":\"Behavioural and Cognitive Psychotherapy\",\"orientation\":\"v\",\"showlegend\":true,\"type\":\"scatter\",\"x\":[2011],\"xaxis\":\"x\",\"y\":[1.0],\"yaxis\":\"y\"},{\"customdata\":[[\"Performance of Portable Ventilators for Mass-Casualty Care\",\"thomas c.\",\"blakeman\",\"closed\"]],\"hovertemplate\":\"journal.title=Prehospital and Disaster Medicine<br>year=%{x}<br>altmetric=%{y}<br>times_cited=%{marker.size}<br>title=%{customdata[0]}<br>first_name=%{customdata[1]}<br>last_name=%{customdata[2]}<br>oa_status=%{customdata[3]}<extra></extra>\",\"legendgroup\":\"Prehospital and Disaster Medicine\",\"marker\":{\"color\":\"#636efa\",\"size\":[2],\"sizemode\":\"area\",\"sizeref\":0.3475,\"symbol\":\"circle\"},\"mode\":\"markers\",\"name\":\"Prehospital and Disaster Medicine\",\"orientation\":\"v\",\"showlegend\":true,\"type\":\"scatter\",\"x\":[2011],\"xaxis\":\"x\",\"y\":[1.0],\"yaxis\":\"y\"},{\"customdata\":[[\"Talking leaves and rocks that teach: the archaeological discovery of Sequoyah's oldest written record\",\"ken\",\"tankersley\",\"closed\"]],\"hovertemplate\":\"journal.title=Antiquity<br>year=%{x}<br>altmetric=%{y}<br>times_cited=%{marker.size}<br>title=%{customdata[0]}<br>first_name=%{customdata[1]}<br>last_name=%{customdata[2]}<br>oa_status=%{customdata[3]}<extra></extra>\",\"legendgroup\":\"Antiquity\",\"marker\":{\"color\":\"#EF553B\",\"size\":[4],\"sizemode\":\"area\",\"sizeref\":0.3475,\"symbol\":\"circle\"},\"mode\":\"markers\",\"name\":\"Antiquity\",\"orientation\":\"v\",\"showlegend\":true,\"type\":\"scatter\",\"x\":[2011],\"xaxis\":\"x\",\"y\":[9.0],\"yaxis\":\"y\"}],                        {\"legend\":{\"itemsizing\":\"constant\",\"title\":{\"text\":\"journal.title\"},\"tracegroupgap\":0},\"margin\":{\"t\":60},\"template\":{\"data\":{\"bar\":[{\"error_x\":{\"color\":\"#2a3f5f\"},\"error_y\":{\"color\":\"#2a3f5f\"},\"marker\":{\"line\":{\"color\":\"#E5ECF6\",\"width\":0.5},\"pattern\":{\"fillmode\":\"overlay\",\"size\":10,\"solidity\":0.2}},\"type\":\"bar\"}],\"barpolar\":[{\"marker\":{\"line\":{\"color\":\"#E5ECF6\",\"width\":0.5},\"pattern\":{\"fillmode\":\"overlay\",\"size\":10,\"solidity\":0.2}},\"type\":\"barpolar\"}],\"carpet\":[{\"aaxis\":{\"endlinecolor\":\"#2a3f5f\",\"gridcolor\":\"white\",\"linecolor\":\"white\",\"minorgridcolor\":\"white\",\"startlinecolor\":\"#2a3f5f\"},\"baxis\":{\"endlinecolor\":\"#2a3f5f\",\"gridcolor\":\"white\",\"linecolor\":\"white\",\"minorgridcolor\":\"white\",\"startlinecolor\":\"#2a3f5f\"},\"type\":\"carpet\"}],\"choropleth\":[{\"colorbar\":{\"outlinewidth\":0,\"ticks\":\"\"},\"type\":\"choropleth\"}],\"contour\":[{\"colorbar\":{\"outlinewidth\":0,\"ticks\":\"\"},\"colorscale\":[[0.0,\"#0d0887\"],[0.1111111111111111,\"#46039f\"],[0.2222222222222222,\"#7201a8\"],[0.3333333333333333,\"#9c179e\"],[0.4444444444444444,\"#bd3786\"],[0.5555555555555556,\"#d8576b\"],[0.6666666666666666,\"#ed7953\"],[0.7777777777777778,\"#fb9f3a\"],[0.8888888888888888,\"#fdca26\"],[1.0,\"#f0f921\"]],\"type\":\"contour\"}],\"contourcarpet\":[{\"colorbar\":{\"outlinewidth\":0,\"ticks\":\"\"},\"type\":\"contourcarpet\"}],\"heatmap\":[{\"colorbar\":{\"outlinewidth\":0,\"ticks\":\"\"},\"colorscale\":[[0.0,\"#0d0887\"],[0.1111111111111111,\"#46039f\"],[0.2222222222222222,\"#7201a8\"],[0.3333333333333333,\"#9c179e\"],[0.4444444444444444,\"#bd3786\"],[0.5555555555555556,\"#d8576b\"],[0.6666666666666666,\"#ed7953\"],[0.7777777777777778,\"#fb9f3a\"],[0.8888888888888888,\"#fdca26\"],[1.0,\"#f0f921\"]],\"type\":\"heatmap\"}],\"heatmapgl\":[{\"colorbar\":{\"outlinewidth\":0,\"ticks\":\"\"},\"colorscale\":[[0.0,\"#0d0887\"],[0.1111111111111111,\"#46039f\"],[0.2222222222222222,\"#7201a8\"],[0.3333333333333333,\"#9c179e\"],[0.4444444444444444,\"#bd3786\"],[0.5555555555555556,\"#d8576b\"],[0.6666666666666666,\"#ed7953\"],[0.7777777777777778,\"#fb9f3a\"],[0.8888888888888888,\"#fdca26\"],[1.0,\"#f0f921\"]],\"type\":\"heatmapgl\"}],\"histogram\":[{\"marker\":{\"pattern\":{\"fillmode\":\"overlay\",\"size\":10,\"solidity\":0.2}},\"type\":\"histogram\"}],\"histogram2d\":[{\"colorbar\":{\"outlinewidth\":0,\"ticks\":\"\"},\"colorscale\":[[0.0,\"#0d0887\"],[0.1111111111111111,\"#46039f\"],[0.2222222222222222,\"#7201a8\"],[0.3333333333333333,\"#9c179e\"],[0.4444444444444444,\"#bd3786\"],[0.5555555555555556,\"#d8576b\"],[0.6666666666666666,\"#ed7953\"],[0.7777777777777778,\"#fb9f3a\"],[0.8888888888888888,\"#fdca26\"],[1.0,\"#f0f921\"]],\"type\":\"histogram2d\"}],\"histogram2dcontour\":[{\"colorbar\":{\"outlinewidth\":0,\"ticks\":\"\"},\"colorscale\":[[0.0,\"#0d0887\"],[0.1111111111111111,\"#46039f\"],[0.2222222222222222,\"#7201a8\"],[0.3333333333333333,\"#9c179e\"],[0.4444444444444444,\"#bd3786\"],[0.5555555555555556,\"#d8576b\"],[0.6666666666666666,\"#ed7953\"],[0.7777777777777778,\"#fb9f3a\"],[0.8888888888888888,\"#fdca26\"],[1.0,\"#f0f921\"]],\"type\":\"histogram2dcontour\"}],\"mesh3d\":[{\"colorbar\":{\"outlinewidth\":0,\"ticks\":\"\"},\"type\":\"mesh3d\"}],\"parcoords\":[{\"line\":{\"colorbar\":{\"outlinewidth\":0,\"ticks\":\"\"}},\"type\":\"parcoords\"}],\"pie\":[{\"automargin\":true,\"type\":\"pie\"}],\"scatter\":[{\"marker\":{\"colorbar\":{\"outlinewidth\":0,\"ticks\":\"\"}},\"type\":\"scatter\"}],\"scatter3d\":[{\"line\":{\"colorbar\":{\"outlinewidth\":0,\"ticks\":\"\"}},\"marker\":{\"colorbar\":{\"outlinewidth\":0,\"ticks\":\"\"}},\"type\":\"scatter3d\"}],\"scattercarpet\":[{\"marker\":{\"colorbar\":{\"outlinewidth\":0,\"ticks\":\"\"}},\"type\":\"scattercarpet\"}],\"scattergeo\":[{\"marker\":{\"colorbar\":{\"outlinewidth\":0,\"ticks\":\"\"}},\"type\":\"scattergeo\"}],\"scattergl\":[{\"marker\":{\"colorbar\":{\"outlinewidth\":0,\"ticks\":\"\"}},\"type\":\"scattergl\"}],\"scattermapbox\":[{\"marker\":{\"colorbar\":{\"outlinewidth\":0,\"ticks\":\"\"}},\"type\":\"scattermapbox\"}],\"scatterpolar\":[{\"marker\":{\"colorbar\":{\"outlinewidth\":0,\"ticks\":\"\"}},\"type\":\"scatterpolar\"}],\"scatterpolargl\":[{\"marker\":{\"colorbar\":{\"outlinewidth\":0,\"ticks\":\"\"}},\"type\":\"scatterpolargl\"}],\"scatterternary\":[{\"marker\":{\"colorbar\":{\"outlinewidth\":0,\"ticks\":\"\"}},\"type\":\"scatterternary\"}],\"surface\":[{\"colorbar\":{\"outlinewidth\":0,\"ticks\":\"\"},\"colorscale\":[[0.0,\"#0d0887\"],[0.1111111111111111,\"#46039f\"],[0.2222222222222222,\"#7201a8\"],[0.3333333333333333,\"#9c179e\"],[0.4444444444444444,\"#bd3786\"],[0.5555555555555556,\"#d8576b\"],[0.6666666666666666,\"#ed7953\"],[0.7777777777777778,\"#fb9f3a\"],[0.8888888888888888,\"#fdca26\"],[1.0,\"#f0f921\"]],\"type\":\"surface\"}],\"table\":[{\"cells\":{\"fill\":{\"color\":\"#EBF0F8\"},\"line\":{\"color\":\"white\"}},\"header\":{\"fill\":{\"color\":\"#C8D4E3\"},\"line\":{\"color\":\"white\"}},\"type\":\"table\"}]},\"layout\":{\"annotationdefaults\":{\"arrowcolor\":\"#2a3f5f\",\"arrowhead\":0,\"arrowwidth\":1},\"autotypenumbers\":\"strict\",\"coloraxis\":{\"colorbar\":{\"outlinewidth\":0,\"ticks\":\"\"}},\"colorscale\":{\"diverging\":[[0,\"#8e0152\"],[0.1,\"#c51b7d\"],[0.2,\"#de77ae\"],[0.3,\"#f1b6da\"],[0.4,\"#fde0ef\"],[0.5,\"#f7f7f7\"],[0.6,\"#e6f5d0\"],[0.7,\"#b8e186\"],[0.8,\"#7fbc41\"],[0.9,\"#4d9221\"],[1,\"#276419\"]],\"sequential\":[[0.0,\"#0d0887\"],[0.1111111111111111,\"#46039f\"],[0.2222222222222222,\"#7201a8\"],[0.3333333333333333,\"#9c179e\"],[0.4444444444444444,\"#bd3786\"],[0.5555555555555556,\"#d8576b\"],[0.6666666666666666,\"#ed7953\"],[0.7777777777777778,\"#fb9f3a\"],[0.8888888888888888,\"#fdca26\"],[1.0,\"#f0f921\"]],\"sequentialminus\":[[0.0,\"#0d0887\"],[0.1111111111111111,\"#46039f\"],[0.2222222222222222,\"#7201a8\"],[0.3333333333333333,\"#9c179e\"],[0.4444444444444444,\"#bd3786\"],[0.5555555555555556,\"#d8576b\"],[0.6666666666666666,\"#ed7953\"],[0.7777777777777778,\"#fb9f3a\"],[0.8888888888888888,\"#fdca26\"],[1.0,\"#f0f921\"]]},\"colorway\":[\"#636efa\",\"#EF553B\",\"#00cc96\",\"#ab63fa\",\"#FFA15A\",\"#19d3f3\",\"#FF6692\",\"#B6E880\",\"#FF97FF\",\"#FECB52\"],\"font\":{\"color\":\"#2a3f5f\"},\"geo\":{\"bgcolor\":\"white\",\"lakecolor\":\"white\",\"landcolor\":\"#E5ECF6\",\"showlakes\":true,\"showland\":true,\"subunitcolor\":\"white\"},\"hoverlabel\":{\"align\":\"left\"},\"hovermode\":\"closest\",\"mapbox\":{\"style\":\"light\"},\"paper_bgcolor\":\"white\",\"plot_bgcolor\":\"#E5ECF6\",\"polar\":{\"angularaxis\":{\"gridcolor\":\"white\",\"linecolor\":\"white\",\"ticks\":\"\"},\"bgcolor\":\"#E5ECF6\",\"radialaxis\":{\"gridcolor\":\"white\",\"linecolor\":\"white\",\"ticks\":\"\"}},\"scene\":{\"xaxis\":{\"backgroundcolor\":\"#E5ECF6\",\"gridcolor\":\"white\",\"gridwidth\":2,\"linecolor\":\"white\",\"showbackground\":true,\"ticks\":\"\",\"zerolinecolor\":\"white\"},\"yaxis\":{\"backgroundcolor\":\"#E5ECF6\",\"gridcolor\":\"white\",\"gridwidth\":2,\"linecolor\":\"white\",\"showbackground\":true,\"ticks\":\"\",\"zerolinecolor\":\"white\"},\"zaxis\":{\"backgroundcolor\":\"#E5ECF6\",\"gridcolor\":\"white\",\"gridwidth\":2,\"linecolor\":\"white\",\"showbackground\":true,\"ticks\":\"\",\"zerolinecolor\":\"white\"}},\"shapedefaults\":{\"line\":{\"color\":\"#2a3f5f\"}},\"ternary\":{\"aaxis\":{\"gridcolor\":\"white\",\"linecolor\":\"white\",\"ticks\":\"\"},\"baxis\":{\"gridcolor\":\"white\",\"linecolor\":\"white\",\"ticks\":\"\"},\"bgcolor\":\"#E5ECF6\",\"caxis\":{\"gridcolor\":\"white\",\"linecolor\":\"white\",\"ticks\":\"\"}},\"title\":{\"x\":0.05},\"xaxis\":{\"automargin\":true,\"gridcolor\":\"white\",\"linecolor\":\"white\",\"ticks\":\"\",\"title\":{\"standoff\":15},\"zerolinecolor\":\"white\",\"zerolinewidth\":2},\"yaxis\":{\"automargin\":true,\"gridcolor\":\"white\",\"linecolor\":\"white\",\"ticks\":\"\",\"title\":{\"standoff\":15},\"zerolinecolor\":\"white\",\"zerolinewidth\":2}}},\"xaxis\":{\"anchor\":\"y\",\"domain\":[0.0,1.0],\"title\":{\"text\":\"year\"}},\"yaxis\":{\"anchor\":\"x\",\"domain\":[0.0,1.0],\"title\":{\"text\":\"altmetric\"}}},                        {\"responsive\": true}                    ).then(function(){\n",
       "                            \n",
       "var gd = document.getElementById('64600109-0c49-47b8-84e3-dcd768b10475');\n",
       "var x = new MutationObserver(function (mutations, observer) {{\n",
       "        var display = window.getComputedStyle(gd).display;\n",
       "        if (!display || display === 'none') {{\n",
       "            console.log([gd, 'removed!']);\n",
       "            Plotly.purge(gd);\n",
       "            observer.disconnect();\n",
       "        }}\n",
       "}});\n",
       "\n",
       "// Listen for the removal of the full notebook cells\n",
       "var notebookContainer = gd.closest('#notebook-container');\n",
       "if (notebookContainer) {{\n",
       "    x.observe(notebookContainer, {childList: true});\n",
       "}}\n",
       "\n",
       "// Listen for the clearing of the current output cell\n",
       "var outputEl = gd.closest('.output');\n",
       "if (outputEl) {{\n",
       "    x.observe(outputEl, {childList: true});\n",
       "}}\n",
       "\n",
       "                        })                };                });            </script>        </div>"
      ]
     },
     "metadata": {},
     "output_type": "display_data"
    }
   ],
   "source": [
    "years = [2010, 2011, 2012, 2013, 2014, 2015, 2016, 2017, 2018, 2019, 2020, 2021]\n",
    "\n",
    "#rslt_df = dataframe[(dataframe['Age'] == 21) &\n",
    "#          dataframe['Stream'].isin(options)]\n",
    "\n",
    "df1 = publication_df[(publication_df['altmetric'] >= 1) &\n",
    "      publication_df['year'].isin(years)]\n",
    "\n",
    "figscatter = px.scatter(df1, x=\"year\", y=\"altmetric\", \n",
    "                        size = \"times_cited\",\n",
    "                        color='journal.title',\n",
    "                        hover_data=['title',\"first_name\",\"last_name\", \"oa_status\"])\n",
    "\n",
    "\n",
    "\n",
    "figscatter.show()"
   ]
  },
  {
   "cell_type": "code",
   "execution_count": 46,
   "metadata": {},
   "outputs": [
    {
     "data": {
      "application/vnd.plotly.v1+json": {
       "config": {
        "plotlyServerURL": "https://plot.ly"
       },
       "data": [
        {
         "customdata": [
          [
           "Characterisation of neurodevelopmental and psychological outcomes in CHD: a research agenda and recommendations from the cardiac neurodevelopmental outcome collaborative.",
           "closed"
          ],
          [
           "Neurodevelopmental and psychosocial interventions for individuals with CHD: a research agenda and recommendations from the Cardiac Neurodevelopmental Outcome Collaborative.",
           "closed"
          ],
          [
           "Parent mental health and family functioning following diagnosis of CHD: a research agenda and recommendations from the Cardiac Neurodevelopmental Outcome Collaborative.",
           "closed"
          ],
          [
           "The added value of the advanced practice provider in paediatric acute care cardiology.",
           "closed"
          ],
          [
           "The Fontan outcomes network: first steps towards building a lifespan registry for individuals with Fontan circulation in the United States.",
           "closed"
          ],
          [
           "Lymphopenia in adults after the Fontan operation: prevalence and associations.",
           "closed"
          ],
          [
           "Collective quality improvement in the paediatric cardiology acute care unit: establishment of the Pediatric Acute Care Cardiology Collaborative (PAC3)",
           "closed"
          ]
         ],
         "hovertemplate": "journal.title=Cardiology in the Young<br>year=%{x}<br>times_cited=%{y}<br>altmetric=%{marker.size}<br>title=%{customdata[0]}<br>oa_status=%{customdata[1]}<extra></extra>",
         "legendgroup": "Cardiology in the Young",
         "marker": {
          "color": "#636efa",
          "size": [
           17,
           14,
           9,
           9,
           46,
           13,
           6
          ],
          "sizemode": "area",
          "sizeref": 0.315,
          "symbol": "circle"
         },
         "mode": "markers",
         "name": "Cardiology in the Young",
         "orientation": "v",
         "showlegend": true,
         "type": "scatter",
         "x": [
          2021,
          2021,
          2021,
          2020,
          2020,
          2020,
          2018
         ],
         "xaxis": "x",
         "y": [
          3,
          4,
          3,
          2,
          5,
          3,
          19
         ],
         "yaxis": "y"
        },
        {
         "customdata": [
          [
           "COMPARING DIRECT CARBONATE AND STANDARD GRAPHITE 14C DETERMINATIONS OF BIOGENIC CARBONATES",
           "closed"
          ],
          [
           "A New Radiocarbon Sequence from Lamanai, Belize: Two Bayesian Models from One of Mesoamerica’s Most Enduring Sites",
           "green"
          ]
         ],
         "hovertemplate": "journal.title=Radiocarbon<br>year=%{x}<br>times_cited=%{y}<br>altmetric=%{marker.size}<br>title=%{customdata[0]}<br>oa_status=%{customdata[1]}<extra></extra>",
         "legendgroup": "Radiocarbon",
         "marker": {
          "color": "#EF553B",
          "size": [
           3,
           3
          ],
          "sizemode": "area",
          "sizeref": 0.315,
          "symbol": "circle"
         },
         "mode": "markers",
         "name": "Radiocarbon",
         "orientation": "v",
         "showlegend": true,
         "type": "scatter",
         "x": [
          2021,
          2016
         ],
         "xaxis": "x",
         "y": [
          2,
          3
         ],
         "yaxis": "y"
        },
        {
         "customdata": [
          [
           "Characterization of a hospital-based gastroenteritis outbreak caused by GII.6 norovirus in Jinshan, China",
           "gold"
          ],
          [
           "Relative risk of irritable bowel syndrome following acute gastroenteritis and associated risk factors",
           "green"
          ]
         ],
         "hovertemplate": "journal.title=Epidemiology and Infection<br>year=%{x}<br>times_cited=%{y}<br>altmetric=%{marker.size}<br>title=%{customdata[0]}<br>oa_status=%{customdata[1]}<extra></extra>",
         "legendgroup": "Epidemiology and Infection",
         "marker": {
          "color": "#00cc96",
          "size": [
           1,
           3
          ],
          "sizemode": "area",
          "sizeref": 0.315,
          "symbol": "circle"
         },
         "mode": "markers",
         "name": "Epidemiology and Infection",
         "orientation": "v",
         "showlegend": true,
         "type": "scatter",
         "x": [
          2020,
          2013
         ],
         "xaxis": "x",
         "y": [
          2,
          13
         ],
         "yaxis": "y"
        },
        {
         "customdata": [
          [
           "Socio-demographic and trauma-related predictors of depression within eight weeks of motor vehicle collision in the AURORA study.",
           "closed"
          ],
          [
           "Reward-related neural activity and structure predict future substance use in dysregulated youth",
           "green"
          ]
         ],
         "hovertemplate": "journal.title=Psychological Medicine<br>year=%{x}<br>times_cited=%{y}<br>altmetric=%{marker.size}<br>title=%{customdata[0]}<br>oa_status=%{customdata[1]}<extra></extra>",
         "legendgroup": "Psychological Medicine",
         "marker": {
          "color": "#ab63fa",
          "size": [
           1,
           10
          ],
          "sizemode": "area",
          "sizeref": 0.315,
          "symbol": "circle"
         },
         "mode": "markers",
         "name": "Psychological Medicine",
         "orientation": "v",
         "showlegend": true,
         "type": "scatter",
         "x": [
          2020,
          2016
         ],
         "xaxis": "x",
         "y": [
          4,
          11
         ],
         "yaxis": "y"
        },
        {
         "customdata": [
          [
           "Risk factors for Clostridioides difficile colonization among hospitalized adults: A meta-analysis and systematic review.",
           "closed"
          ],
          [
           "When infection prevention enters the temple: Intergenerational social distancing and COVID-19",
           "hybrid"
          ],
          [
           "Increased time spent on terminal cleaning of patient rooms may not improve disinfection of high-touch surfaces",
           "bronze"
          ],
          [
           "Is the efficacy of antibiotic prophylaxis for surgical procedures decreasing? Systematic review and meta-analysis of randomized control trials",
           "closed"
          ],
          [
           "Effectiveness of Selected Surgical Masks in Arresting Vegetative Cells and Endospores When Worn by Simulated Contagious Patients",
           "closed"
          ]
         ],
         "hovertemplate": "journal.title=Infection Control and Hospital Epidemiology<br>year=%{x}<br>times_cited=%{y}<br>altmetric=%{marker.size}<br>title=%{customdata[0]}<br>oa_status=%{customdata[1]}<extra></extra>",
         "legendgroup": "Infection Control and Hospital Epidemiology",
         "marker": {
          "color": "#FFA15A",
          "size": [
           4,
           101,
           7,
           43,
           56
          ],
          "sizemode": "area",
          "sizeref": 0.315,
          "symbol": "circle"
         },
         "mode": "markers",
         "name": "Infection Control and Hospital Epidemiology",
         "orientation": "v",
         "showlegend": true,
         "type": "scatter",
         "x": [
          2020,
          2020,
          2019,
          2018,
          2012
         ],
         "xaxis": "x",
         "y": [
          1,
          5,
          2,
          8,
          4
         ],
         "yaxis": "y"
        },
        {
         "customdata": [
          [
           "Does fetal leptin and adiponectin influence children’s lung function and risk of wheeze?",
           "closed"
          ]
         ],
         "hovertemplate": "journal.title=Journal of Developmental Origins of Health and Disease<br>year=%{x}<br>times_cited=%{y}<br>altmetric=%{marker.size}<br>title=%{customdata[0]}<br>oa_status=%{customdata[1]}<extra></extra>",
         "legendgroup": "Journal of Developmental Origins of Health and Disease",
         "marker": {
          "color": "#19d3f3",
          "size": [
           7
          ],
          "sizemode": "area",
          "sizeref": 0.315,
          "symbol": "circle"
         },
         "mode": "markers",
         "name": "Journal of Developmental Origins of Health and Disease",
         "orientation": "v",
         "showlegend": true,
         "type": "scatter",
         "x": [
          2020
         ],
         "xaxis": "x",
         "y": [
          1
         ],
         "yaxis": "y"
        },
        {
         "customdata": [
          [
           "Comparisons of Late Ordovician ecosystem dynamics before and after the Richmondian invasion reveal consequences of invasive species in benthic marine paleocommunities",
           "hybrid"
          ],
          [
           "Paleoecological and stratigraphic controls on eurypterid Lagersttten: a model for preservation in the mid-Paleozoic",
           "closed"
          ],
          [
           "Cenozoic latitudinal response curves: individualistic changes in the latitudinal distributions of marine bivalves and gastropods",
           "closed"
          ]
         ],
         "hovertemplate": "journal.title=Paleobiology<br>year=%{x}<br>times_cited=%{y}<br>altmetric=%{marker.size}<br>title=%{customdata[0]}<br>oa_status=%{customdata[1]}<extra></extra>",
         "legendgroup": "Paleobiology",
         "marker": {
          "color": "#FF6692",
          "size": [
           10,
           1,
           1
          ],
          "sizemode": "area",
          "sizeref": 0.315,
          "symbol": "circle"
         },
         "mode": "markers",
         "name": "Paleobiology",
         "orientation": "v",
         "showlegend": true,
         "type": "scatter",
         "x": [
          2020,
          2017,
          2015
         ],
         "xaxis": "x",
         "y": [
          1,
          4,
          2
         ],
         "yaxis": "y"
        },
        {
         "customdata": [
          [
           "Interactions with ectoparasitic mites induce host metabolic and immune responses in flies at the expense of reproduction-associated factors",
           "closed"
          ]
         ],
         "hovertemplate": "journal.title=Parasitology<br>year=%{x}<br>times_cited=%{y}<br>altmetric=%{marker.size}<br>title=%{customdata[0]}<br>oa_status=%{customdata[1]}<extra></extra>",
         "legendgroup": "Parasitology",
         "marker": {
          "color": "#B6E880",
          "size": [
           6
          ],
          "sizemode": "area",
          "sizeref": 0.315,
          "symbol": "circle"
         },
         "mode": "markers",
         "name": "Parasitology",
         "orientation": "v",
         "showlegend": true,
         "type": "scatter",
         "x": [
          2020
         ],
         "xaxis": "x",
         "y": [
          2
         ],
         "yaxis": "y"
        },
        {
         "customdata": [
          [
           "Cosmogenic 10Be and 36Cl geochronology of cryoplanation terraces in the Alaskan Yukon-Tanana Upland",
           "closed"
          ],
          [
           "Surface exposure dating of the Pierre Sublobe of the James Lobe, Laurentide Ice Sheet",
           "closed"
          ],
          [
           "Subfossil lemur discoveries from the Beanka Protected Area in western Madagascar",
           "green"
          ],
          [
           "Aminochronology and time averaging of Quaternary land snail assemblages from colluvial deposits in the Madeira Archipelago, Portugal",
           "closed"
          ],
          [
           "Quaternary chronostratigraphy and stable isotope paleoecology of Big Bone Lick, Kentucky, USA",
           "closed"
          ],
          [
           "Sensitivities of the equilibrium line altitude to temperature and precipitation changes along the Andes",
           "closed"
          ]
         ],
         "hovertemplate": "journal.title=Quaternary Research<br>year=%{x}<br>times_cited=%{y}<br>altmetric=%{marker.size}<br>title=%{customdata[0]}<br>oa_status=%{customdata[1]}<extra></extra>",
         "legendgroup": "Quaternary Research",
         "marker": {
          "color": "#FF97FF",
          "size": [
           1,
           1,
           15,
           1,
           27,
           3
          ],
          "sizemode": "area",
          "sizeref": 0.315,
          "symbol": "circle"
         },
         "mode": "markers",
         "name": "Quaternary Research",
         "orientation": "v",
         "showlegend": true,
         "type": "scatter",
         "x": [
          2020,
          2020,
          2019,
          2019,
          2015,
          2014
         ],
         "xaxis": "x",
         "y": [
          5,
          2,
          3,
          6,
          11,
          41
         ],
         "yaxis": "y"
        },
        {
         "customdata": [
          [
           "Red Bird and Sequoyah: A Reply to Simek et al.",
           "closed"
          ]
         ],
         "hovertemplate": "journal.title=American Antiquity<br>year=%{x}<br>times_cited=%{y}<br>altmetric=%{marker.size}<br>title=%{customdata[0]}<br>oa_status=%{customdata[1]}<extra></extra>",
         "legendgroup": "American Antiquity",
         "marker": {
          "color": "#FECB52",
          "size": [
           3
          ],
          "sizemode": "area",
          "sizeref": 0.315,
          "symbol": "circle"
         },
         "mode": "markers",
         "name": "American Antiquity",
         "orientation": "v",
         "showlegend": true,
         "type": "scatter",
         "x": [
          2020
         ],
         "xaxis": "x",
         "y": [
          1
         ],
         "yaxis": "y"
        },
        {
         "customdata": [
          [
           "The generation mechanism of higher screech tone harmonics in supersonic jets",
           "hybrid"
          ],
          [
           "Locomotion of a single-flagellated bacterium",
           "closed"
          ]
         ],
         "hovertemplate": "journal.title=Journal of Fluid Mechanics<br>year=%{x}<br>times_cited=%{y}<br>altmetric=%{marker.size}<br>title=%{customdata[0]}<br>oa_status=%{customdata[1]}<extra></extra>",
         "legendgroup": "Journal of Fluid Mechanics",
         "marker": {
          "color": "#636efa",
          "size": [
           1,
           1
          ],
          "sizemode": "area",
          "sizeref": 0.315,
          "symbol": "circle"
         },
         "mode": "markers",
         "name": "Journal of Fluid Mechanics",
         "orientation": "v",
         "showlegend": true,
         "type": "scatter",
         "x": [
          2020,
          2018
         ],
         "xaxis": "x",
         "y": [
          5,
          3
         ],
         "yaxis": "y"
        },
        {
         "customdata": [
          [
           "Domain-general inhibition ability predicts the intensity of inhibition on non-target language in bilingual word production: An ERP study",
           "closed"
          ]
         ],
         "hovertemplate": "journal.title=Bilingualism Language and Cognition<br>year=%{x}<br>times_cited=%{y}<br>altmetric=%{marker.size}<br>title=%{customdata[0]}<br>oa_status=%{customdata[1]}<extra></extra>",
         "legendgroup": "Bilingualism Language and Cognition",
         "marker": {
          "color": "#EF553B",
          "size": [
           3
          ],
          "sizemode": "area",
          "sizeref": 0.315,
          "symbol": "circle"
         },
         "mode": "markers",
         "name": "Bilingualism Language and Cognition",
         "orientation": "v",
         "showlegend": true,
         "type": "scatter",
         "x": [
          2020
         ],
         "xaxis": "x",
         "y": [
          6
         ],
         "yaxis": "y"
        },
        {
         "customdata": [
          [
           "Interagency Cooperation in the Twilight of the Great Society: Telemedicine, NASA, and the Papago Nation",
           "closed"
          ]
         ],
         "hovertemplate": "journal.title=Journal of Policy History<br>year=%{x}<br>times_cited=%{y}<br>altmetric=%{marker.size}<br>title=%{customdata[0]}<br>oa_status=%{customdata[1]}<extra></extra>",
         "legendgroup": "Journal of Policy History",
         "marker": {
          "color": "#00cc96",
          "size": [
           4
          ],
          "sizemode": "area",
          "sizeref": 0.315,
          "symbol": "circle"
         },
         "mode": "markers",
         "name": "Journal of Policy History",
         "orientation": "v",
         "showlegend": true,
         "type": "scatter",
         "x": [
          2020
         ],
         "xaxis": "x",
         "y": [
          5
         ],
         "yaxis": "y"
        },
        {
         "customdata": [
          [
           "Maternal dietary selenium intake is associated with increased gestational length and decreased risk of preterm delivery",
           "hybrid"
          ],
          [
           "Distance and percentage distance from median BMI as alternatives to BMI z score",
           "closed"
          ]
         ],
         "hovertemplate": "journal.title=British Journal Of Nutrition<br>year=%{x}<br>times_cited=%{y}<br>altmetric=%{marker.size}<br>title=%{customdata[0]}<br>oa_status=%{customdata[1]}<extra></extra>",
         "legendgroup": "British Journal Of Nutrition",
         "marker": {
          "color": "#ab63fa",
          "size": [
           3,
           1
          ],
          "sizemode": "area",
          "sizeref": 0.315,
          "symbol": "circle"
         },
         "mode": "markers",
         "name": "British Journal Of Nutrition",
         "orientation": "v",
         "showlegend": true,
         "type": "scatter",
         "x": [
          2019,
          2019
         ],
         "xaxis": "x",
         "y": [
          7,
          14
         ],
         "yaxis": "y"
        },
        {
         "customdata": [
          [
           "Influence of Methylphenidate on Long-Term Neuropsychological and Everyday Executive Functioning After Traumatic Brain Injury in Children with Secondary Attention Problems",
           "closed"
          ],
          [
           "Increased Marijuana Use and Gender Predict Poorer Cognitive Functioning in Adolescents and Emerging Adults",
           "green"
          ],
          [
           "Iowa Gambling Task Performance in Overweight Children and Adolescents at Risk for Obstructive Sleep Apnea",
           "green"
          ],
          [
           "Emotion Labeling and Socio-Emotional Outcomes 18 Months after Early Childhood Traumatic Brain Injury",
           "green"
          ]
         ],
         "hovertemplate": "journal.title=Journal of the International Neuropsychological Society<br>year=%{x}<br>times_cited=%{y}<br>altmetric=%{marker.size}<br>title=%{customdata[0]}<br>oa_status=%{customdata[1]}<extra></extra>",
         "legendgroup": "Journal of the International Neuropsychological Society",
         "marker": {
          "color": "#FFA15A",
          "size": [
           6,
           19,
           2,
           1
          ],
          "sizemode": "area",
          "sizeref": 0.315,
          "symbol": "circle"
         },
         "mode": "markers",
         "name": "Journal of the International Neuropsychological Society",
         "orientation": "v",
         "showlegend": true,
         "type": "scatter",
         "x": [
          2019,
          2012,
          2012,
          2011
         ],
         "xaxis": "x",
         "y": [
          5,
          98,
          14,
          23
         ],
         "yaxis": "y"
        },
        {
         "customdata": [
          [
           "Collaborative Control of Multiple Robots Using Genetic Fuzzy Systems",
           "closed"
          ]
         ],
         "hovertemplate": "journal.title=Robotica<br>year=%{x}<br>times_cited=%{y}<br>altmetric=%{marker.size}<br>title=%{customdata[0]}<br>oa_status=%{customdata[1]}<extra></extra>",
         "legendgroup": "Robotica",
         "marker": {
          "color": "#19d3f3",
          "size": [
           126
          ],
          "sizemode": "area",
          "sizeref": 0.315,
          "symbol": "circle"
         },
         "mode": "markers",
         "name": "Robotica",
         "orientation": "v",
         "showlegend": true,
         "type": "scatter",
         "x": [
          2019
         ],
         "xaxis": "x",
         "y": [
          8
         ],
         "yaxis": "y"
        },
        {
         "customdata": [
          [
           "Effects of Virtual Reality Simulation on Worker Emergency Evacuation of Neonates",
           "green"
          ]
         ],
         "hovertemplate": "journal.title=Disaster Medicine and Public Health Preparedness<br>year=%{x}<br>times_cited=%{y}<br>altmetric=%{marker.size}<br>title=%{customdata[0]}<br>oa_status=%{customdata[1]}<extra></extra>",
         "legendgroup": "Disaster Medicine and Public Health Preparedness",
         "marker": {
          "color": "#FF6692",
          "size": [
           1
          ],
          "sizemode": "area",
          "sizeref": 0.315,
          "symbol": "circle"
         },
         "mode": "markers",
         "name": "Disaster Medicine and Public Health Preparedness",
         "orientation": "v",
         "showlegend": true,
         "type": "scatter",
         "x": [
          2018
         ],
         "xaxis": "x",
         "y": [
          10
         ],
         "yaxis": "y"
        },
        {
         "customdata": [
          [
           "GEOCHRONOLOGY AND PALEOENVIRONMENTAL FRAMEWORK FOR THE OLDEST ARCHAEOLOGICAL SITE (7800–7900 cal BP) IN THE WEST INDIES, BANWARI TRACE, TRINIDAD",
           "closed"
          ],
          [
           "The Sociopolitical Economy of an Ancient Maya Village: Cerén and its Sacbe",
           "closed"
          ]
         ],
         "hovertemplate": "journal.title=Latin American Antiquity<br>year=%{x}<br>times_cited=%{y}<br>altmetric=%{marker.size}<br>title=%{customdata[0]}<br>oa_status=%{customdata[1]}<extra></extra>",
         "legendgroup": "Latin American Antiquity",
         "marker": {
          "color": "#B6E880",
          "size": [
           2,
           68
          ],
          "sizemode": "area",
          "sizeref": 0.315,
          "symbol": "circle"
         },
         "mode": "markers",
         "name": "Latin American Antiquity",
         "orientation": "v",
         "showlegend": true,
         "type": "scatter",
         "x": [
          2018,
          2015
         ],
         "xaxis": "x",
         "y": [
          5,
          8
         ],
         "yaxis": "y"
        },
        {
         "customdata": [
          [
           "Batocrinidae (Crinoidea) from the Lower Mississippian (lower Visan) Fort Payne Formation of Kentucky, Tennessee, and Alabama: systematics, geographic occurrences, and facies distribution",
           "closed"
          ],
          [
           "A reexamination of Yuknessia from the Cambrian of British Columbia and Utah",
           "bronze"
          ],
          [
           "Cladid Crinoids from the Late Kinderhookian Meadville Shale, Cuyahoga Formation of Ohio",
           "green"
          ]
         ],
         "hovertemplate": "journal.title=Journal of Paleontology<br>year=%{x}<br>times_cited=%{y}<br>altmetric=%{marker.size}<br>title=%{customdata[0]}<br>oa_status=%{customdata[1]}<extra></extra>",
         "legendgroup": "Journal of Paleontology",
         "marker": {
          "color": "#FF97FF",
          "size": [
           3,
           8,
           3
          ],
          "sizemode": "area",
          "sizeref": 0.315,
          "symbol": "circle"
         },
         "mode": "markers",
         "name": "Journal of Paleontology",
         "orientation": "v",
         "showlegend": true,
         "type": "scatter",
         "x": [
          2018,
          2015,
          2012
         ],
         "xaxis": "x",
         "y": [
          1,
          16,
          4
         ],
         "yaxis": "y"
        },
        {
         "customdata": [
          [
           "‘Sit and tilt’ preparation for subscapular system free flaps",
           "closed"
          ]
         ],
         "hovertemplate": "journal.title=The Journal of Laryngology and Otology<br>year=%{x}<br>times_cited=%{y}<br>altmetric=%{marker.size}<br>title=%{customdata[0]}<br>oa_status=%{customdata[1]}<extra></extra>",
         "legendgroup": "The Journal of Laryngology and Otology",
         "marker": {
          "color": "#FECB52",
          "size": [
           1
          ],
          "sizemode": "area",
          "sizeref": 0.315,
          "symbol": "circle"
         },
         "mode": "markers",
         "name": "The Journal of Laryngology and Otology",
         "orientation": "v",
         "showlegend": true,
         "type": "scatter",
         "x": [
          2018
         ],
         "xaxis": "x",
         "y": [
          1
         ],
         "yaxis": "y"
        },
        {
         "customdata": [
          [
           "Statistical competencies for medical research learners: What is fundamental?",
           "gold"
          ]
         ],
         "hovertemplate": "journal.title=Journal of Clinical and Translational Science<br>year=%{x}<br>times_cited=%{y}<br>altmetric=%{marker.size}<br>title=%{customdata[0]}<br>oa_status=%{customdata[1]}<extra></extra>",
         "legendgroup": "Journal of Clinical and Translational Science",
         "marker": {
          "color": "#636efa",
          "size": [
           8
          ],
          "sizemode": "area",
          "sizeref": 0.315,
          "symbol": "circle"
         },
         "mode": "markers",
         "name": "Journal of Clinical and Translational Science",
         "orientation": "v",
         "showlegend": true,
         "type": "scatter",
         "x": [
          2017
         ],
         "xaxis": "x",
         "y": [
          4
         ],
         "yaxis": "y"
        },
        {
         "customdata": [
          [
           "Overview of the treatment of binge eating disorder",
           "closed"
          ],
          [
           "A systematic review of the evidence for the treatment of acute depression in bipolar I disorder",
           "green"
          ],
          [
           "Cognitive behavioral treatments for posttraumatic stress disorder: Empirical foundation and new directions",
           "closed"
          ]
         ],
         "hovertemplate": "journal.title=CNS Spectrums<br>year=%{x}<br>times_cited=%{y}<br>altmetric=%{marker.size}<br>title=%{customdata[0]}<br>oa_status=%{customdata[1]}<extra></extra>",
         "legendgroup": "CNS Spectrums",
         "marker": {
          "color": "#EF553B",
          "size": [
           5,
           1,
           1
          ],
          "sizemode": "area",
          "sizeref": 0.315,
          "symbol": "circle"
         },
         "mode": "markers",
         "name": "CNS Spectrums",
         "orientation": "v",
         "showlegend": true,
         "type": "scatter",
         "x": [
          2015,
          2013,
          2013
         ],
         "xaxis": "x",
         "y": [
          44,
          20,
          10
         ],
         "yaxis": "y"
        },
        {
         "customdata": [
          [
           "Proposing a Pedigree Risk Measurement Strategy: Capturing the Intergenerational Transmission of Antisocial Behavior in a Nationally Representative Sample of Adults",
           "bronze"
          ]
         ],
         "hovertemplate": "journal.title=Twin Research and Human Genetics<br>year=%{x}<br>times_cited=%{y}<br>altmetric=%{marker.size}<br>title=%{customdata[0]}<br>oa_status=%{customdata[1]}<extra></extra>",
         "legendgroup": "Twin Research and Human Genetics",
         "marker": {
          "color": "#00cc96",
          "size": [
           3
          ],
          "sizemode": "area",
          "sizeref": 0.315,
          "symbol": "circle"
         },
         "mode": "markers",
         "name": "Twin Research and Human Genetics",
         "orientation": "v",
         "showlegend": true,
         "type": "scatter",
         "x": [
          2015
         ],
         "xaxis": "x",
         "y": [
          2
         ],
         "yaxis": "y"
        },
        {
         "customdata": [
          [
           "Local food environments are associated with girls’ energy, sugar-sweetened beverage and snack-food intakes",
           "bronze"
          ],
          [
           "BMI and obesity in US blood donors: a potential public health role for the blood centre",
           "bronze"
          ]
         ],
         "hovertemplate": "journal.title=Public Health Nutrition<br>year=%{x}<br>times_cited=%{y}<br>altmetric=%{marker.size}<br>title=%{customdata[0]}<br>oa_status=%{customdata[1]}<extra></extra>",
         "legendgroup": "Public Health Nutrition",
         "marker": {
          "color": "#ab63fa",
          "size": [
           1,
           1
          ],
          "sizemode": "area",
          "sizeref": 0.315,
          "symbol": "circle"
         },
         "mode": "markers",
         "name": "Public Health Nutrition",
         "orientation": "v",
         "showlegend": true,
         "type": "scatter",
         "x": [
          2014,
          2012
         ],
         "xaxis": "x",
         "y": [
          8,
          16
         ],
         "yaxis": "y"
        },
        {
         "customdata": [
          [
           "Histo-blood group antigens: a common niche for norovirus and rotavirus",
           "closed"
          ]
         ],
         "hovertemplate": "journal.title=Expert Reviews in Molecular Medicine<br>year=%{x}<br>times_cited=%{y}<br>altmetric=%{marker.size}<br>title=%{customdata[0]}<br>oa_status=%{customdata[1]}<extra></extra>",
         "legendgroup": "Expert Reviews in Molecular Medicine",
         "marker": {
          "color": "#FFA15A",
          "size": [
           2
          ],
          "sizemode": "area",
          "sizeref": 0.315,
          "symbol": "circle"
         },
         "mode": "markers",
         "name": "Expert Reviews in Molecular Medicine",
         "orientation": "v",
         "showlegend": true,
         "type": "scatter",
         "x": [
          2014
         ],
         "xaxis": "x",
         "y": [
          109
         ],
         "yaxis": "y"
        },
        {
         "customdata": [
          [
           "The Work of Monuments: Reflections on Spatial, Temporal and Social Orientations in Mongolia and the Maya Lowlands",
           "closed"
          ]
         ],
         "hovertemplate": "journal.title=Cambridge Archaeological Journal<br>year=%{x}<br>times_cited=%{y}<br>altmetric=%{marker.size}<br>title=%{customdata[0]}<br>oa_status=%{customdata[1]}<extra></extra>",
         "legendgroup": "Cambridge Archaeological Journal",
         "marker": {
          "color": "#19d3f3",
          "size": [
           1
          ],
          "sizemode": "area",
          "sizeref": 0.315,
          "symbol": "circle"
         },
         "mode": "markers",
         "name": "Cambridge Archaeological Journal",
         "orientation": "v",
         "showlegend": true,
         "type": "scatter",
         "x": [
          2014
         ],
         "xaxis": "x",
         "y": [
          8
         ],
         "yaxis": "y"
        },
        {
         "customdata": [
          [
           "A longitudinal study of several potential mediators of the relationship between child maltreatment and posttraumatic stress disorder symptoms",
           "green"
          ],
          [
           "Executive functioning, cortisol reactivity, and symptoms of psychopathology in girls with premature adrenarche",
           "green"
          ],
          [
           "Interaction of serotonin transporter linked polymorphic region and childhood neglect on criminal behavior and substance use for males and females",
           "closed"
          ]
         ],
         "hovertemplate": "journal.title=Development and Psychopathology<br>year=%{x}<br>times_cited=%{y}<br>altmetric=%{marker.size}<br>title=%{customdata[0]}<br>oa_status=%{customdata[1]}<extra></extra>",
         "legendgroup": "Development and Psychopathology",
         "marker": {
          "color": "#FF6692",
          "size": [
           11,
           1,
           7
          ],
          "sizemode": "area",
          "sizeref": 0.315,
          "symbol": "circle"
         },
         "mode": "markers",
         "name": "Development and Psychopathology",
         "orientation": "v",
         "showlegend": true,
         "type": "scatter",
         "x": [
          2014,
          2012,
          2012
         ],
         "xaxis": "x",
         "y": [
          39,
          34,
          23
         ],
         "yaxis": "y"
        },
        {
         "customdata": [
          [
           "The problem with brain GUTs: Conflation of different senses of “prediction” threatens metaphysical disaster",
           "closed"
          ]
         ],
         "hovertemplate": "journal.title=Behavioral and Brain Sciences<br>year=%{x}<br>times_cited=%{y}<br>altmetric=%{marker.size}<br>title=%{customdata[0]}<br>oa_status=%{customdata[1]}<extra></extra>",
         "legendgroup": "Behavioral and Brain Sciences",
         "marker": {
          "color": "#B6E880",
          "size": [
           3
          ],
          "sizemode": "area",
          "sizeref": 0.315,
          "symbol": "circle"
         },
         "mode": "markers",
         "name": "Behavioral and Brain Sciences",
         "orientation": "v",
         "showlegend": true,
         "type": "scatter",
         "x": [
          2013
         ],
         "xaxis": "x",
         "y": [
          32
         ],
         "yaxis": "y"
        },
        {
         "customdata": [
          [
           "Further analysis of a Late Jurassic dinosaur bone-bed from the Morrison Formation of Montana, USA, with a computed three-dimensional reconstruction",
           "closed"
          ]
         ],
         "hovertemplate": "journal.title=Earth and Environmental Science Transactions of the Royal Society of Edinburgh<br>year=%{x}<br>times_cited=%{y}<br>altmetric=%{marker.size}<br>title=%{customdata[0]}<br>oa_status=%{customdata[1]}<extra></extra>",
         "legendgroup": "Earth and Environmental Science Transactions of the Royal Society of Edinburgh",
         "marker": {
          "color": "#FF97FF",
          "size": [
           4
          ],
          "sizemode": "area",
          "sizeref": 0.315,
          "symbol": "circle"
         },
         "mode": "markers",
         "name": "Earth and Environmental Science Transactions of the Royal Society of Edinburgh",
         "orientation": "v",
         "showlegend": true,
         "type": "scatter",
         "x": [
          2012
         ],
         "xaxis": "x",
         "y": [
          4
         ],
         "yaxis": "y"
        },
        {
         "customdata": [
          [
           "Leadership Skills for Managing Paradoxes",
           "closed"
          ]
         ],
         "hovertemplate": "journal.title=Industrial and Organizational Psychology<br>year=%{x}<br>times_cited=%{y}<br>altmetric=%{marker.size}<br>title=%{customdata[0]}<br>oa_status=%{customdata[1]}<extra></extra>",
         "legendgroup": "Industrial and Organizational Psychology",
         "marker": {
          "color": "#FECB52",
          "size": [
           3
          ],
          "sizemode": "area",
          "sizeref": 0.315,
          "symbol": "circle"
         },
         "mode": "markers",
         "name": "Industrial and Organizational Psychology",
         "orientation": "v",
         "showlegend": true,
         "type": "scatter",
         "x": [
          2012
         ],
         "xaxis": "x",
         "y": [
          38
         ],
         "yaxis": "y"
        },
        {
         "customdata": [
          [
           "GALEN AND THE GIRLS: SOURCES FOR WOMEN MEDICAL WRITERS REVISITED1",
           "closed"
          ]
         ],
         "hovertemplate": "journal.title=The Classical Quarterly<br>year=%{x}<br>times_cited=%{y}<br>altmetric=%{marker.size}<br>title=%{customdata[0]}<br>oa_status=%{customdata[1]}<extra></extra>",
         "legendgroup": "The Classical Quarterly",
         "marker": {
          "color": "#636efa",
          "size": [
           3
          ],
          "sizemode": "area",
          "sizeref": 0.315,
          "symbol": "circle"
         },
         "mode": "markers",
         "name": "The Classical Quarterly",
         "orientation": "v",
         "showlegend": true,
         "type": "scatter",
         "x": [
          2012
         ],
         "xaxis": "x",
         "y": [
          5
         ],
         "yaxis": "y"
        },
        {
         "customdata": [
          [
           "Attentional Bias in Adolescents with Panic Disorder: Changes over an 8-day Intensive Treatment Program",
           "closed"
          ]
         ],
         "hovertemplate": "journal.title=Behavioural and Cognitive Psychotherapy<br>year=%{x}<br>times_cited=%{y}<br>altmetric=%{marker.size}<br>title=%{customdata[0]}<br>oa_status=%{customdata[1]}<extra></extra>",
         "legendgroup": "Behavioural and Cognitive Psychotherapy",
         "marker": {
          "color": "#EF553B",
          "size": [
           1
          ],
          "sizemode": "area",
          "sizeref": 0.315,
          "symbol": "circle"
         },
         "mode": "markers",
         "name": "Behavioural and Cognitive Psychotherapy",
         "orientation": "v",
         "showlegend": true,
         "type": "scatter",
         "x": [
          2011
         ],
         "xaxis": "x",
         "y": [
          5
         ],
         "yaxis": "y"
        },
        {
         "customdata": [
          [
           "Performance of Portable Ventilators for Mass-Casualty Care",
           "closed"
          ]
         ],
         "hovertemplate": "journal.title=Prehospital and Disaster Medicine<br>year=%{x}<br>times_cited=%{y}<br>altmetric=%{marker.size}<br>title=%{customdata[0]}<br>oa_status=%{customdata[1]}<extra></extra>",
         "legendgroup": "Prehospital and Disaster Medicine",
         "marker": {
          "color": "#00cc96",
          "size": [
           1
          ],
          "sizemode": "area",
          "sizeref": 0.315,
          "symbol": "circle"
         },
         "mode": "markers",
         "name": "Prehospital and Disaster Medicine",
         "orientation": "v",
         "showlegend": true,
         "type": "scatter",
         "x": [
          2011
         ],
         "xaxis": "x",
         "y": [
          2
         ],
         "yaxis": "y"
        },
        {
         "customdata": [
          [
           "Talking leaves and rocks that teach: the archaeological discovery of Sequoyah's oldest written record",
           "closed"
          ]
         ],
         "hovertemplate": "journal.title=Antiquity<br>year=%{x}<br>times_cited=%{y}<br>altmetric=%{marker.size}<br>title=%{customdata[0]}<br>oa_status=%{customdata[1]}<extra></extra>",
         "legendgroup": "Antiquity",
         "marker": {
          "color": "#ab63fa",
          "size": [
           9
          ],
          "sizemode": "area",
          "sizeref": 0.315,
          "symbol": "circle"
         },
         "mode": "markers",
         "name": "Antiquity",
         "orientation": "v",
         "showlegend": true,
         "type": "scatter",
         "x": [
          2011
         ],
         "xaxis": "x",
         "y": [
          4
         ],
         "yaxis": "y"
        },
        {
         "customdata": [
          [
           "THE IMPACT OF RACISM ON CLINICIAN COGNITION, BEHAVIOR, AND CLINICAL DECISION MAKING",
           "green"
          ]
         ],
         "hovertemplate": "journal.title=Du Bois Review Social Science Research on Race<br>year=%{x}<br>times_cited=%{y}<br>altmetric=%{marker.size}<br>title=%{customdata[0]}<br>oa_status=%{customdata[1]}<extra></extra>",
         "legendgroup": "Du Bois Review Social Science Research on Race",
         "marker": {
          "color": "#FFA15A",
          "size": [
           49
          ],
          "sizemode": "area",
          "sizeref": 0.315,
          "symbol": "circle"
         },
         "mode": "markers",
         "name": "Du Bois Review Social Science Research on Race",
         "orientation": "v",
         "showlegend": true,
         "type": "scatter",
         "x": [
          2011
         ],
         "xaxis": "x",
         "y": [
          139
         ],
         "yaxis": "y"
        }
       ],
       "layout": {
        "legend": {
         "itemsizing": "constant",
         "title": {
          "text": "journal.title"
         },
         "tracegroupgap": 0
        },
        "margin": {
         "t": 60
        },
        "template": {
         "data": {
          "bar": [
           {
            "error_x": {
             "color": "#2a3f5f"
            },
            "error_y": {
             "color": "#2a3f5f"
            },
            "marker": {
             "line": {
              "color": "#E5ECF6",
              "width": 0.5
             },
             "pattern": {
              "fillmode": "overlay",
              "size": 10,
              "solidity": 0.2
             }
            },
            "type": "bar"
           }
          ],
          "barpolar": [
           {
            "marker": {
             "line": {
              "color": "#E5ECF6",
              "width": 0.5
             },
             "pattern": {
              "fillmode": "overlay",
              "size": 10,
              "solidity": 0.2
             }
            },
            "type": "barpolar"
           }
          ],
          "carpet": [
           {
            "aaxis": {
             "endlinecolor": "#2a3f5f",
             "gridcolor": "white",
             "linecolor": "white",
             "minorgridcolor": "white",
             "startlinecolor": "#2a3f5f"
            },
            "baxis": {
             "endlinecolor": "#2a3f5f",
             "gridcolor": "white",
             "linecolor": "white",
             "minorgridcolor": "white",
             "startlinecolor": "#2a3f5f"
            },
            "type": "carpet"
           }
          ],
          "choropleth": [
           {
            "colorbar": {
             "outlinewidth": 0,
             "ticks": ""
            },
            "type": "choropleth"
           }
          ],
          "contour": [
           {
            "colorbar": {
             "outlinewidth": 0,
             "ticks": ""
            },
            "colorscale": [
             [
              0,
              "#0d0887"
             ],
             [
              0.1111111111111111,
              "#46039f"
             ],
             [
              0.2222222222222222,
              "#7201a8"
             ],
             [
              0.3333333333333333,
              "#9c179e"
             ],
             [
              0.4444444444444444,
              "#bd3786"
             ],
             [
              0.5555555555555556,
              "#d8576b"
             ],
             [
              0.6666666666666666,
              "#ed7953"
             ],
             [
              0.7777777777777778,
              "#fb9f3a"
             ],
             [
              0.8888888888888888,
              "#fdca26"
             ],
             [
              1,
              "#f0f921"
             ]
            ],
            "type": "contour"
           }
          ],
          "contourcarpet": [
           {
            "colorbar": {
             "outlinewidth": 0,
             "ticks": ""
            },
            "type": "contourcarpet"
           }
          ],
          "heatmap": [
           {
            "colorbar": {
             "outlinewidth": 0,
             "ticks": ""
            },
            "colorscale": [
             [
              0,
              "#0d0887"
             ],
             [
              0.1111111111111111,
              "#46039f"
             ],
             [
              0.2222222222222222,
              "#7201a8"
             ],
             [
              0.3333333333333333,
              "#9c179e"
             ],
             [
              0.4444444444444444,
              "#bd3786"
             ],
             [
              0.5555555555555556,
              "#d8576b"
             ],
             [
              0.6666666666666666,
              "#ed7953"
             ],
             [
              0.7777777777777778,
              "#fb9f3a"
             ],
             [
              0.8888888888888888,
              "#fdca26"
             ],
             [
              1,
              "#f0f921"
             ]
            ],
            "type": "heatmap"
           }
          ],
          "heatmapgl": [
           {
            "colorbar": {
             "outlinewidth": 0,
             "ticks": ""
            },
            "colorscale": [
             [
              0,
              "#0d0887"
             ],
             [
              0.1111111111111111,
              "#46039f"
             ],
             [
              0.2222222222222222,
              "#7201a8"
             ],
             [
              0.3333333333333333,
              "#9c179e"
             ],
             [
              0.4444444444444444,
              "#bd3786"
             ],
             [
              0.5555555555555556,
              "#d8576b"
             ],
             [
              0.6666666666666666,
              "#ed7953"
             ],
             [
              0.7777777777777778,
              "#fb9f3a"
             ],
             [
              0.8888888888888888,
              "#fdca26"
             ],
             [
              1,
              "#f0f921"
             ]
            ],
            "type": "heatmapgl"
           }
          ],
          "histogram": [
           {
            "marker": {
             "pattern": {
              "fillmode": "overlay",
              "size": 10,
              "solidity": 0.2
             }
            },
            "type": "histogram"
           }
          ],
          "histogram2d": [
           {
            "colorbar": {
             "outlinewidth": 0,
             "ticks": ""
            },
            "colorscale": [
             [
              0,
              "#0d0887"
             ],
             [
              0.1111111111111111,
              "#46039f"
             ],
             [
              0.2222222222222222,
              "#7201a8"
             ],
             [
              0.3333333333333333,
              "#9c179e"
             ],
             [
              0.4444444444444444,
              "#bd3786"
             ],
             [
              0.5555555555555556,
              "#d8576b"
             ],
             [
              0.6666666666666666,
              "#ed7953"
             ],
             [
              0.7777777777777778,
              "#fb9f3a"
             ],
             [
              0.8888888888888888,
              "#fdca26"
             ],
             [
              1,
              "#f0f921"
             ]
            ],
            "type": "histogram2d"
           }
          ],
          "histogram2dcontour": [
           {
            "colorbar": {
             "outlinewidth": 0,
             "ticks": ""
            },
            "colorscale": [
             [
              0,
              "#0d0887"
             ],
             [
              0.1111111111111111,
              "#46039f"
             ],
             [
              0.2222222222222222,
              "#7201a8"
             ],
             [
              0.3333333333333333,
              "#9c179e"
             ],
             [
              0.4444444444444444,
              "#bd3786"
             ],
             [
              0.5555555555555556,
              "#d8576b"
             ],
             [
              0.6666666666666666,
              "#ed7953"
             ],
             [
              0.7777777777777778,
              "#fb9f3a"
             ],
             [
              0.8888888888888888,
              "#fdca26"
             ],
             [
              1,
              "#f0f921"
             ]
            ],
            "type": "histogram2dcontour"
           }
          ],
          "mesh3d": [
           {
            "colorbar": {
             "outlinewidth": 0,
             "ticks": ""
            },
            "type": "mesh3d"
           }
          ],
          "parcoords": [
           {
            "line": {
             "colorbar": {
              "outlinewidth": 0,
              "ticks": ""
             }
            },
            "type": "parcoords"
           }
          ],
          "pie": [
           {
            "automargin": true,
            "type": "pie"
           }
          ],
          "scatter": [
           {
            "marker": {
             "colorbar": {
              "outlinewidth": 0,
              "ticks": ""
             }
            },
            "type": "scatter"
           }
          ],
          "scatter3d": [
           {
            "line": {
             "colorbar": {
              "outlinewidth": 0,
              "ticks": ""
             }
            },
            "marker": {
             "colorbar": {
              "outlinewidth": 0,
              "ticks": ""
             }
            },
            "type": "scatter3d"
           }
          ],
          "scattercarpet": [
           {
            "marker": {
             "colorbar": {
              "outlinewidth": 0,
              "ticks": ""
             }
            },
            "type": "scattercarpet"
           }
          ],
          "scattergeo": [
           {
            "marker": {
             "colorbar": {
              "outlinewidth": 0,
              "ticks": ""
             }
            },
            "type": "scattergeo"
           }
          ],
          "scattergl": [
           {
            "marker": {
             "colorbar": {
              "outlinewidth": 0,
              "ticks": ""
             }
            },
            "type": "scattergl"
           }
          ],
          "scattermapbox": [
           {
            "marker": {
             "colorbar": {
              "outlinewidth": 0,
              "ticks": ""
             }
            },
            "type": "scattermapbox"
           }
          ],
          "scatterpolar": [
           {
            "marker": {
             "colorbar": {
              "outlinewidth": 0,
              "ticks": ""
             }
            },
            "type": "scatterpolar"
           }
          ],
          "scatterpolargl": [
           {
            "marker": {
             "colorbar": {
              "outlinewidth": 0,
              "ticks": ""
             }
            },
            "type": "scatterpolargl"
           }
          ],
          "scatterternary": [
           {
            "marker": {
             "colorbar": {
              "outlinewidth": 0,
              "ticks": ""
             }
            },
            "type": "scatterternary"
           }
          ],
          "surface": [
           {
            "colorbar": {
             "outlinewidth": 0,
             "ticks": ""
            },
            "colorscale": [
             [
              0,
              "#0d0887"
             ],
             [
              0.1111111111111111,
              "#46039f"
             ],
             [
              0.2222222222222222,
              "#7201a8"
             ],
             [
              0.3333333333333333,
              "#9c179e"
             ],
             [
              0.4444444444444444,
              "#bd3786"
             ],
             [
              0.5555555555555556,
              "#d8576b"
             ],
             [
              0.6666666666666666,
              "#ed7953"
             ],
             [
              0.7777777777777778,
              "#fb9f3a"
             ],
             [
              0.8888888888888888,
              "#fdca26"
             ],
             [
              1,
              "#f0f921"
             ]
            ],
            "type": "surface"
           }
          ],
          "table": [
           {
            "cells": {
             "fill": {
              "color": "#EBF0F8"
             },
             "line": {
              "color": "white"
             }
            },
            "header": {
             "fill": {
              "color": "#C8D4E3"
             },
             "line": {
              "color": "white"
             }
            },
            "type": "table"
           }
          ]
         },
         "layout": {
          "annotationdefaults": {
           "arrowcolor": "#2a3f5f",
           "arrowhead": 0,
           "arrowwidth": 1
          },
          "autotypenumbers": "strict",
          "coloraxis": {
           "colorbar": {
            "outlinewidth": 0,
            "ticks": ""
           }
          },
          "colorscale": {
           "diverging": [
            [
             0,
             "#8e0152"
            ],
            [
             0.1,
             "#c51b7d"
            ],
            [
             0.2,
             "#de77ae"
            ],
            [
             0.3,
             "#f1b6da"
            ],
            [
             0.4,
             "#fde0ef"
            ],
            [
             0.5,
             "#f7f7f7"
            ],
            [
             0.6,
             "#e6f5d0"
            ],
            [
             0.7,
             "#b8e186"
            ],
            [
             0.8,
             "#7fbc41"
            ],
            [
             0.9,
             "#4d9221"
            ],
            [
             1,
             "#276419"
            ]
           ],
           "sequential": [
            [
             0,
             "#0d0887"
            ],
            [
             0.1111111111111111,
             "#46039f"
            ],
            [
             0.2222222222222222,
             "#7201a8"
            ],
            [
             0.3333333333333333,
             "#9c179e"
            ],
            [
             0.4444444444444444,
             "#bd3786"
            ],
            [
             0.5555555555555556,
             "#d8576b"
            ],
            [
             0.6666666666666666,
             "#ed7953"
            ],
            [
             0.7777777777777778,
             "#fb9f3a"
            ],
            [
             0.8888888888888888,
             "#fdca26"
            ],
            [
             1,
             "#f0f921"
            ]
           ],
           "sequentialminus": [
            [
             0,
             "#0d0887"
            ],
            [
             0.1111111111111111,
             "#46039f"
            ],
            [
             0.2222222222222222,
             "#7201a8"
            ],
            [
             0.3333333333333333,
             "#9c179e"
            ],
            [
             0.4444444444444444,
             "#bd3786"
            ],
            [
             0.5555555555555556,
             "#d8576b"
            ],
            [
             0.6666666666666666,
             "#ed7953"
            ],
            [
             0.7777777777777778,
             "#fb9f3a"
            ],
            [
             0.8888888888888888,
             "#fdca26"
            ],
            [
             1,
             "#f0f921"
            ]
           ]
          },
          "colorway": [
           "#636efa",
           "#EF553B",
           "#00cc96",
           "#ab63fa",
           "#FFA15A",
           "#19d3f3",
           "#FF6692",
           "#B6E880",
           "#FF97FF",
           "#FECB52"
          ],
          "font": {
           "color": "#2a3f5f"
          },
          "geo": {
           "bgcolor": "white",
           "lakecolor": "white",
           "landcolor": "#E5ECF6",
           "showlakes": true,
           "showland": true,
           "subunitcolor": "white"
          },
          "hoverlabel": {
           "align": "left"
          },
          "hovermode": "closest",
          "mapbox": {
           "style": "light"
          },
          "paper_bgcolor": "white",
          "plot_bgcolor": "#E5ECF6",
          "polar": {
           "angularaxis": {
            "gridcolor": "white",
            "linecolor": "white",
            "ticks": ""
           },
           "bgcolor": "#E5ECF6",
           "radialaxis": {
            "gridcolor": "white",
            "linecolor": "white",
            "ticks": ""
           }
          },
          "scene": {
           "xaxis": {
            "backgroundcolor": "#E5ECF6",
            "gridcolor": "white",
            "gridwidth": 2,
            "linecolor": "white",
            "showbackground": true,
            "ticks": "",
            "zerolinecolor": "white"
           },
           "yaxis": {
            "backgroundcolor": "#E5ECF6",
            "gridcolor": "white",
            "gridwidth": 2,
            "linecolor": "white",
            "showbackground": true,
            "ticks": "",
            "zerolinecolor": "white"
           },
           "zaxis": {
            "backgroundcolor": "#E5ECF6",
            "gridcolor": "white",
            "gridwidth": 2,
            "linecolor": "white",
            "showbackground": true,
            "ticks": "",
            "zerolinecolor": "white"
           }
          },
          "shapedefaults": {
           "line": {
            "color": "#2a3f5f"
           }
          },
          "ternary": {
           "aaxis": {
            "gridcolor": "white",
            "linecolor": "white",
            "ticks": ""
           },
           "baxis": {
            "gridcolor": "white",
            "linecolor": "white",
            "ticks": ""
           },
           "bgcolor": "#E5ECF6",
           "caxis": {
            "gridcolor": "white",
            "linecolor": "white",
            "ticks": ""
           }
          },
          "title": {
           "x": 0.05
          },
          "xaxis": {
           "automargin": true,
           "gridcolor": "white",
           "linecolor": "white",
           "ticks": "",
           "title": {
            "standoff": 15
           },
           "zerolinecolor": "white",
           "zerolinewidth": 2
          },
          "yaxis": {
           "automargin": true,
           "gridcolor": "white",
           "linecolor": "white",
           "ticks": "",
           "title": {
            "standoff": 15
           },
           "zerolinecolor": "white",
           "zerolinewidth": 2
          }
         }
        },
        "xaxis": {
         "anchor": "y",
         "domain": [
          0,
          1
         ],
         "title": {
          "text": "year"
         }
        },
        "yaxis": {
         "anchor": "x",
         "domain": [
          0,
          1
         ],
         "title": {
          "text": "times_cited"
         }
        }
       }
      },
      "text/html": [
       "<div>                            <div id=\"2700ea1a-b378-404c-b22b-969e781a847b\" class=\"plotly-graph-div\" style=\"height:525px; width:100%;\"></div>            <script type=\"text/javascript\">                require([\"plotly\"], function(Plotly) {                    window.PLOTLYENV=window.PLOTLYENV || {};                                    if (document.getElementById(\"2700ea1a-b378-404c-b22b-969e781a847b\")) {                    Plotly.newPlot(                        \"2700ea1a-b378-404c-b22b-969e781a847b\",                        [{\"customdata\":[[\"Characterisation of neurodevelopmental and psychological outcomes in CHD: a research agenda and recommendations from the cardiac neurodevelopmental outcome collaborative.\",\"closed\"],[\"Neurodevelopmental and psychosocial interventions for individuals with CHD: a research agenda and recommendations from the Cardiac Neurodevelopmental Outcome Collaborative.\",\"closed\"],[\"Parent mental health and family functioning following diagnosis of CHD: a research agenda and recommendations from the Cardiac Neurodevelopmental Outcome Collaborative.\",\"closed\"],[\"The added value of the advanced practice provider in paediatric acute care cardiology.\",\"closed\"],[\"The Fontan outcomes network: first steps towards building a lifespan registry for individuals with Fontan circulation in the United States.\",\"closed\"],[\"Lymphopenia in adults after the Fontan operation: prevalence and associations.\",\"closed\"],[\"Collective quality improvement in the paediatric cardiology acute care unit: establishment of the Pediatric Acute Care Cardiology Collaborative (PAC3)\",\"closed\"]],\"hovertemplate\":\"journal.title=Cardiology in the Young<br>year=%{x}<br>times_cited=%{y}<br>altmetric=%{marker.size}<br>title=%{customdata[0]}<br>oa_status=%{customdata[1]}<extra></extra>\",\"legendgroup\":\"Cardiology in the Young\",\"marker\":{\"color\":\"#636efa\",\"size\":[17.0,14.0,9.0,9.0,46.0,13.0,6.0],\"sizemode\":\"area\",\"sizeref\":0.315,\"symbol\":\"circle\"},\"mode\":\"markers\",\"name\":\"Cardiology in the Young\",\"orientation\":\"v\",\"showlegend\":true,\"type\":\"scatter\",\"x\":[2021,2021,2021,2020,2020,2020,2018],\"xaxis\":\"x\",\"y\":[3,4,3,2,5,3,19],\"yaxis\":\"y\"},{\"customdata\":[[\"COMPARING DIRECT CARBONATE AND STANDARD GRAPHITE 14C DETERMINATIONS OF BIOGENIC CARBONATES\",\"closed\"],[\"A New Radiocarbon Sequence from Lamanai, Belize: Two Bayesian Models from One of Mesoamerica\\u2019s Most Enduring Sites\",\"green\"]],\"hovertemplate\":\"journal.title=Radiocarbon<br>year=%{x}<br>times_cited=%{y}<br>altmetric=%{marker.size}<br>title=%{customdata[0]}<br>oa_status=%{customdata[1]}<extra></extra>\",\"legendgroup\":\"Radiocarbon\",\"marker\":{\"color\":\"#EF553B\",\"size\":[3.0,3.0],\"sizemode\":\"area\",\"sizeref\":0.315,\"symbol\":\"circle\"},\"mode\":\"markers\",\"name\":\"Radiocarbon\",\"orientation\":\"v\",\"showlegend\":true,\"type\":\"scatter\",\"x\":[2021,2016],\"xaxis\":\"x\",\"y\":[2,3],\"yaxis\":\"y\"},{\"customdata\":[[\"Characterization of a hospital-based gastroenteritis outbreak caused by GII.6 norovirus in Jinshan, China\",\"gold\"],[\"Relative risk of irritable bowel syndrome following acute gastroenteritis and associated risk factors\",\"green\"]],\"hovertemplate\":\"journal.title=Epidemiology and Infection<br>year=%{x}<br>times_cited=%{y}<br>altmetric=%{marker.size}<br>title=%{customdata[0]}<br>oa_status=%{customdata[1]}<extra></extra>\",\"legendgroup\":\"Epidemiology and Infection\",\"marker\":{\"color\":\"#00cc96\",\"size\":[1.0,3.0],\"sizemode\":\"area\",\"sizeref\":0.315,\"symbol\":\"circle\"},\"mode\":\"markers\",\"name\":\"Epidemiology and Infection\",\"orientation\":\"v\",\"showlegend\":true,\"type\":\"scatter\",\"x\":[2020,2013],\"xaxis\":\"x\",\"y\":[2,13],\"yaxis\":\"y\"},{\"customdata\":[[\"Socio-demographic and trauma-related predictors of depression within eight weeks of motor vehicle collision in the AURORA study.\",\"closed\"],[\"Reward-related neural activity and structure predict future substance use in dysregulated youth\",\"green\"]],\"hovertemplate\":\"journal.title=Psychological Medicine<br>year=%{x}<br>times_cited=%{y}<br>altmetric=%{marker.size}<br>title=%{customdata[0]}<br>oa_status=%{customdata[1]}<extra></extra>\",\"legendgroup\":\"Psychological Medicine\",\"marker\":{\"color\":\"#ab63fa\",\"size\":[1.0,10.0],\"sizemode\":\"area\",\"sizeref\":0.315,\"symbol\":\"circle\"},\"mode\":\"markers\",\"name\":\"Psychological Medicine\",\"orientation\":\"v\",\"showlegend\":true,\"type\":\"scatter\",\"x\":[2020,2016],\"xaxis\":\"x\",\"y\":[4,11],\"yaxis\":\"y\"},{\"customdata\":[[\"Risk factors for Clostridioides difficile colonization among hospitalized adults: A meta-analysis and systematic review.\",\"closed\"],[\"When infection prevention enters the temple: Intergenerational social distancing and COVID-19\",\"hybrid\"],[\"Increased time spent on terminal cleaning of patient rooms may not improve disinfection of high-touch surfaces\",\"bronze\"],[\"Is the efficacy of antibiotic prophylaxis for surgical procedures decreasing? Systematic review and meta-analysis of randomized control trials\",\"closed\"],[\"Effectiveness of Selected Surgical Masks in Arresting Vegetative Cells and Endospores When Worn by Simulated Contagious Patients\",\"closed\"]],\"hovertemplate\":\"journal.title=Infection Control and Hospital Epidemiology<br>year=%{x}<br>times_cited=%{y}<br>altmetric=%{marker.size}<br>title=%{customdata[0]}<br>oa_status=%{customdata[1]}<extra></extra>\",\"legendgroup\":\"Infection Control and Hospital Epidemiology\",\"marker\":{\"color\":\"#FFA15A\",\"size\":[4.0,101.0,7.0,43.0,56.0],\"sizemode\":\"area\",\"sizeref\":0.315,\"symbol\":\"circle\"},\"mode\":\"markers\",\"name\":\"Infection Control and Hospital Epidemiology\",\"orientation\":\"v\",\"showlegend\":true,\"type\":\"scatter\",\"x\":[2020,2020,2019,2018,2012],\"xaxis\":\"x\",\"y\":[1,5,2,8,4],\"yaxis\":\"y\"},{\"customdata\":[[\"Does fetal leptin and adiponectin influence children\\u2019s lung function and risk of wheeze?\",\"closed\"]],\"hovertemplate\":\"journal.title=Journal of Developmental Origins of Health and Disease<br>year=%{x}<br>times_cited=%{y}<br>altmetric=%{marker.size}<br>title=%{customdata[0]}<br>oa_status=%{customdata[1]}<extra></extra>\",\"legendgroup\":\"Journal of Developmental Origins of Health and Disease\",\"marker\":{\"color\":\"#19d3f3\",\"size\":[7.0],\"sizemode\":\"area\",\"sizeref\":0.315,\"symbol\":\"circle\"},\"mode\":\"markers\",\"name\":\"Journal of Developmental Origins of Health and Disease\",\"orientation\":\"v\",\"showlegend\":true,\"type\":\"scatter\",\"x\":[2020],\"xaxis\":\"x\",\"y\":[1],\"yaxis\":\"y\"},{\"customdata\":[[\"Comparisons of Late Ordovician ecosystem dynamics before and after the Richmondian invasion reveal consequences of invasive species in benthic marine paleocommunities\",\"hybrid\"],[\"Paleoecological and stratigraphic controls on eurypterid Lagersttten: a model for preservation in the mid-Paleozoic\",\"closed\"],[\"Cenozoic latitudinal response curves: individualistic changes in the latitudinal distributions of marine bivalves and gastropods\",\"closed\"]],\"hovertemplate\":\"journal.title=Paleobiology<br>year=%{x}<br>times_cited=%{y}<br>altmetric=%{marker.size}<br>title=%{customdata[0]}<br>oa_status=%{customdata[1]}<extra></extra>\",\"legendgroup\":\"Paleobiology\",\"marker\":{\"color\":\"#FF6692\",\"size\":[10.0,1.0,1.0],\"sizemode\":\"area\",\"sizeref\":0.315,\"symbol\":\"circle\"},\"mode\":\"markers\",\"name\":\"Paleobiology\",\"orientation\":\"v\",\"showlegend\":true,\"type\":\"scatter\",\"x\":[2020,2017,2015],\"xaxis\":\"x\",\"y\":[1,4,2],\"yaxis\":\"y\"},{\"customdata\":[[\"Interactions with ectoparasitic mites induce host metabolic and immune responses in flies at the expense of reproduction-associated factors\",\"closed\"]],\"hovertemplate\":\"journal.title=Parasitology<br>year=%{x}<br>times_cited=%{y}<br>altmetric=%{marker.size}<br>title=%{customdata[0]}<br>oa_status=%{customdata[1]}<extra></extra>\",\"legendgroup\":\"Parasitology\",\"marker\":{\"color\":\"#B6E880\",\"size\":[6.0],\"sizemode\":\"area\",\"sizeref\":0.315,\"symbol\":\"circle\"},\"mode\":\"markers\",\"name\":\"Parasitology\",\"orientation\":\"v\",\"showlegend\":true,\"type\":\"scatter\",\"x\":[2020],\"xaxis\":\"x\",\"y\":[2],\"yaxis\":\"y\"},{\"customdata\":[[\"Cosmogenic 10Be and 36Cl geochronology of cryoplanation terraces in the Alaskan Yukon-Tanana Upland\",\"closed\"],[\"Surface exposure dating of the Pierre Sublobe of the James Lobe, Laurentide Ice Sheet\",\"closed\"],[\"Subfossil lemur discoveries from the Beanka Protected Area in western Madagascar\",\"green\"],[\"Aminochronology and time averaging of Quaternary land snail assemblages from colluvial deposits in the Madeira Archipelago, Portugal\",\"closed\"],[\"Quaternary chronostratigraphy and stable isotope paleoecology of Big Bone Lick, Kentucky, USA\",\"closed\"],[\"Sensitivities of the equilibrium line altitude to temperature and precipitation changes along the Andes\",\"closed\"]],\"hovertemplate\":\"journal.title=Quaternary Research<br>year=%{x}<br>times_cited=%{y}<br>altmetric=%{marker.size}<br>title=%{customdata[0]}<br>oa_status=%{customdata[1]}<extra></extra>\",\"legendgroup\":\"Quaternary Research\",\"marker\":{\"color\":\"#FF97FF\",\"size\":[1.0,1.0,15.0,1.0,27.0,3.0],\"sizemode\":\"area\",\"sizeref\":0.315,\"symbol\":\"circle\"},\"mode\":\"markers\",\"name\":\"Quaternary Research\",\"orientation\":\"v\",\"showlegend\":true,\"type\":\"scatter\",\"x\":[2020,2020,2019,2019,2015,2014],\"xaxis\":\"x\",\"y\":[5,2,3,6,11,41],\"yaxis\":\"y\"},{\"customdata\":[[\"Red Bird and Sequoyah: A Reply to Simek et al.\",\"closed\"]],\"hovertemplate\":\"journal.title=American Antiquity<br>year=%{x}<br>times_cited=%{y}<br>altmetric=%{marker.size}<br>title=%{customdata[0]}<br>oa_status=%{customdata[1]}<extra></extra>\",\"legendgroup\":\"American Antiquity\",\"marker\":{\"color\":\"#FECB52\",\"size\":[3.0],\"sizemode\":\"area\",\"sizeref\":0.315,\"symbol\":\"circle\"},\"mode\":\"markers\",\"name\":\"American Antiquity\",\"orientation\":\"v\",\"showlegend\":true,\"type\":\"scatter\",\"x\":[2020],\"xaxis\":\"x\",\"y\":[1],\"yaxis\":\"y\"},{\"customdata\":[[\"The generation mechanism of higher screech tone harmonics in supersonic jets\",\"hybrid\"],[\"Locomotion of a single-flagellated bacterium\",\"closed\"]],\"hovertemplate\":\"journal.title=Journal of Fluid Mechanics<br>year=%{x}<br>times_cited=%{y}<br>altmetric=%{marker.size}<br>title=%{customdata[0]}<br>oa_status=%{customdata[1]}<extra></extra>\",\"legendgroup\":\"Journal of Fluid Mechanics\",\"marker\":{\"color\":\"#636efa\",\"size\":[1.0,1.0],\"sizemode\":\"area\",\"sizeref\":0.315,\"symbol\":\"circle\"},\"mode\":\"markers\",\"name\":\"Journal of Fluid Mechanics\",\"orientation\":\"v\",\"showlegend\":true,\"type\":\"scatter\",\"x\":[2020,2018],\"xaxis\":\"x\",\"y\":[5,3],\"yaxis\":\"y\"},{\"customdata\":[[\"Domain-general inhibition ability predicts the intensity of inhibition on non-target language in bilingual word production: An ERP study\",\"closed\"]],\"hovertemplate\":\"journal.title=Bilingualism Language and Cognition<br>year=%{x}<br>times_cited=%{y}<br>altmetric=%{marker.size}<br>title=%{customdata[0]}<br>oa_status=%{customdata[1]}<extra></extra>\",\"legendgroup\":\"Bilingualism Language and Cognition\",\"marker\":{\"color\":\"#EF553B\",\"size\":[3.0],\"sizemode\":\"area\",\"sizeref\":0.315,\"symbol\":\"circle\"},\"mode\":\"markers\",\"name\":\"Bilingualism Language and Cognition\",\"orientation\":\"v\",\"showlegend\":true,\"type\":\"scatter\",\"x\":[2020],\"xaxis\":\"x\",\"y\":[6],\"yaxis\":\"y\"},{\"customdata\":[[\"Interagency Cooperation in the Twilight of the Great Society: Telemedicine, NASA, and the Papago Nation\",\"closed\"]],\"hovertemplate\":\"journal.title=Journal of Policy History<br>year=%{x}<br>times_cited=%{y}<br>altmetric=%{marker.size}<br>title=%{customdata[0]}<br>oa_status=%{customdata[1]}<extra></extra>\",\"legendgroup\":\"Journal of Policy History\",\"marker\":{\"color\":\"#00cc96\",\"size\":[4.0],\"sizemode\":\"area\",\"sizeref\":0.315,\"symbol\":\"circle\"},\"mode\":\"markers\",\"name\":\"Journal of Policy History\",\"orientation\":\"v\",\"showlegend\":true,\"type\":\"scatter\",\"x\":[2020],\"xaxis\":\"x\",\"y\":[5],\"yaxis\":\"y\"},{\"customdata\":[[\"Maternal dietary selenium intake is associated with increased gestational length and decreased risk of preterm delivery\",\"hybrid\"],[\"Distance and percentage distance from median BMI as alternatives to BMI z score\",\"closed\"]],\"hovertemplate\":\"journal.title=British Journal Of Nutrition<br>year=%{x}<br>times_cited=%{y}<br>altmetric=%{marker.size}<br>title=%{customdata[0]}<br>oa_status=%{customdata[1]}<extra></extra>\",\"legendgroup\":\"British Journal Of Nutrition\",\"marker\":{\"color\":\"#ab63fa\",\"size\":[3.0,1.0],\"sizemode\":\"area\",\"sizeref\":0.315,\"symbol\":\"circle\"},\"mode\":\"markers\",\"name\":\"British Journal Of Nutrition\",\"orientation\":\"v\",\"showlegend\":true,\"type\":\"scatter\",\"x\":[2019,2019],\"xaxis\":\"x\",\"y\":[7,14],\"yaxis\":\"y\"},{\"customdata\":[[\"Influence of Methylphenidate on Long-Term Neuropsychological and Everyday Executive Functioning After Traumatic Brain Injury in Children with Secondary Attention Problems\",\"closed\"],[\"Increased Marijuana Use and Gender Predict Poorer Cognitive Functioning in Adolescents and Emerging Adults\",\"green\"],[\"Iowa Gambling Task Performance in Overweight Children and Adolescents at Risk for Obstructive Sleep Apnea\",\"green\"],[\"Emotion Labeling and Socio-Emotional Outcomes 18 Months after Early Childhood Traumatic Brain Injury\",\"green\"]],\"hovertemplate\":\"journal.title=Journal of the International Neuropsychological Society<br>year=%{x}<br>times_cited=%{y}<br>altmetric=%{marker.size}<br>title=%{customdata[0]}<br>oa_status=%{customdata[1]}<extra></extra>\",\"legendgroup\":\"Journal of the International Neuropsychological Society\",\"marker\":{\"color\":\"#FFA15A\",\"size\":[6.0,19.0,2.0,1.0],\"sizemode\":\"area\",\"sizeref\":0.315,\"symbol\":\"circle\"},\"mode\":\"markers\",\"name\":\"Journal of the International Neuropsychological Society\",\"orientation\":\"v\",\"showlegend\":true,\"type\":\"scatter\",\"x\":[2019,2012,2012,2011],\"xaxis\":\"x\",\"y\":[5,98,14,23],\"yaxis\":\"y\"},{\"customdata\":[[\"Collaborative Control of Multiple Robots Using Genetic Fuzzy Systems\",\"closed\"]],\"hovertemplate\":\"journal.title=Robotica<br>year=%{x}<br>times_cited=%{y}<br>altmetric=%{marker.size}<br>title=%{customdata[0]}<br>oa_status=%{customdata[1]}<extra></extra>\",\"legendgroup\":\"Robotica\",\"marker\":{\"color\":\"#19d3f3\",\"size\":[126.0],\"sizemode\":\"area\",\"sizeref\":0.315,\"symbol\":\"circle\"},\"mode\":\"markers\",\"name\":\"Robotica\",\"orientation\":\"v\",\"showlegend\":true,\"type\":\"scatter\",\"x\":[2019],\"xaxis\":\"x\",\"y\":[8],\"yaxis\":\"y\"},{\"customdata\":[[\"Effects of Virtual Reality Simulation on Worker Emergency Evacuation of Neonates\",\"green\"]],\"hovertemplate\":\"journal.title=Disaster Medicine and Public Health Preparedness<br>year=%{x}<br>times_cited=%{y}<br>altmetric=%{marker.size}<br>title=%{customdata[0]}<br>oa_status=%{customdata[1]}<extra></extra>\",\"legendgroup\":\"Disaster Medicine and Public Health Preparedness\",\"marker\":{\"color\":\"#FF6692\",\"size\":[1.0],\"sizemode\":\"area\",\"sizeref\":0.315,\"symbol\":\"circle\"},\"mode\":\"markers\",\"name\":\"Disaster Medicine and Public Health Preparedness\",\"orientation\":\"v\",\"showlegend\":true,\"type\":\"scatter\",\"x\":[2018],\"xaxis\":\"x\",\"y\":[10],\"yaxis\":\"y\"},{\"customdata\":[[\"GEOCHRONOLOGY AND PALEOENVIRONMENTAL FRAMEWORK FOR THE OLDEST ARCHAEOLOGICAL SITE (7800\\u20137900 cal BP) IN THE WEST INDIES, BANWARI TRACE, TRINIDAD\",\"closed\"],[\"The Sociopolitical Economy of an Ancient Maya Village: Cer\\u00e9n and its Sacbe\",\"closed\"]],\"hovertemplate\":\"journal.title=Latin American Antiquity<br>year=%{x}<br>times_cited=%{y}<br>altmetric=%{marker.size}<br>title=%{customdata[0]}<br>oa_status=%{customdata[1]}<extra></extra>\",\"legendgroup\":\"Latin American Antiquity\",\"marker\":{\"color\":\"#B6E880\",\"size\":[2.0,68.0],\"sizemode\":\"area\",\"sizeref\":0.315,\"symbol\":\"circle\"},\"mode\":\"markers\",\"name\":\"Latin American Antiquity\",\"orientation\":\"v\",\"showlegend\":true,\"type\":\"scatter\",\"x\":[2018,2015],\"xaxis\":\"x\",\"y\":[5,8],\"yaxis\":\"y\"},{\"customdata\":[[\"Batocrinidae (Crinoidea) from the Lower Mississippian (lower Visan) Fort Payne Formation of Kentucky, Tennessee, and Alabama: systematics, geographic occurrences, and facies distribution\",\"closed\"],[\"A reexamination of Yuknessia from the Cambrian of British Columbia and Utah\",\"bronze\"],[\"Cladid Crinoids from the Late Kinderhookian Meadville Shale, Cuyahoga Formation of Ohio\",\"green\"]],\"hovertemplate\":\"journal.title=Journal of Paleontology<br>year=%{x}<br>times_cited=%{y}<br>altmetric=%{marker.size}<br>title=%{customdata[0]}<br>oa_status=%{customdata[1]}<extra></extra>\",\"legendgroup\":\"Journal of Paleontology\",\"marker\":{\"color\":\"#FF97FF\",\"size\":[3.0,8.0,3.0],\"sizemode\":\"area\",\"sizeref\":0.315,\"symbol\":\"circle\"},\"mode\":\"markers\",\"name\":\"Journal of Paleontology\",\"orientation\":\"v\",\"showlegend\":true,\"type\":\"scatter\",\"x\":[2018,2015,2012],\"xaxis\":\"x\",\"y\":[1,16,4],\"yaxis\":\"y\"},{\"customdata\":[[\"\\u2018Sit and tilt\\u2019 preparation for subscapular system free flaps\",\"closed\"]],\"hovertemplate\":\"journal.title=The Journal of Laryngology and Otology<br>year=%{x}<br>times_cited=%{y}<br>altmetric=%{marker.size}<br>title=%{customdata[0]}<br>oa_status=%{customdata[1]}<extra></extra>\",\"legendgroup\":\"The Journal of Laryngology and Otology\",\"marker\":{\"color\":\"#FECB52\",\"size\":[1.0],\"sizemode\":\"area\",\"sizeref\":0.315,\"symbol\":\"circle\"},\"mode\":\"markers\",\"name\":\"The Journal of Laryngology and Otology\",\"orientation\":\"v\",\"showlegend\":true,\"type\":\"scatter\",\"x\":[2018],\"xaxis\":\"x\",\"y\":[1],\"yaxis\":\"y\"},{\"customdata\":[[\"Statistical competencies for medical research learners: What is fundamental?\",\"gold\"]],\"hovertemplate\":\"journal.title=Journal of Clinical and Translational Science<br>year=%{x}<br>times_cited=%{y}<br>altmetric=%{marker.size}<br>title=%{customdata[0]}<br>oa_status=%{customdata[1]}<extra></extra>\",\"legendgroup\":\"Journal of Clinical and Translational Science\",\"marker\":{\"color\":\"#636efa\",\"size\":[8.0],\"sizemode\":\"area\",\"sizeref\":0.315,\"symbol\":\"circle\"},\"mode\":\"markers\",\"name\":\"Journal of Clinical and Translational Science\",\"orientation\":\"v\",\"showlegend\":true,\"type\":\"scatter\",\"x\":[2017],\"xaxis\":\"x\",\"y\":[4],\"yaxis\":\"y\"},{\"customdata\":[[\"Overview of the treatment of binge eating disorder\",\"closed\"],[\"A systematic review of the evidence for the treatment of acute depression in bipolar I disorder\",\"green\"],[\"Cognitive behavioral treatments for posttraumatic stress disorder: Empirical foundation and new directions\",\"closed\"]],\"hovertemplate\":\"journal.title=CNS Spectrums<br>year=%{x}<br>times_cited=%{y}<br>altmetric=%{marker.size}<br>title=%{customdata[0]}<br>oa_status=%{customdata[1]}<extra></extra>\",\"legendgroup\":\"CNS Spectrums\",\"marker\":{\"color\":\"#EF553B\",\"size\":[5.0,1.0,1.0],\"sizemode\":\"area\",\"sizeref\":0.315,\"symbol\":\"circle\"},\"mode\":\"markers\",\"name\":\"CNS Spectrums\",\"orientation\":\"v\",\"showlegend\":true,\"type\":\"scatter\",\"x\":[2015,2013,2013],\"xaxis\":\"x\",\"y\":[44,20,10],\"yaxis\":\"y\"},{\"customdata\":[[\"Proposing a Pedigree Risk Measurement Strategy: Capturing the Intergenerational Transmission of Antisocial Behavior in a Nationally Representative Sample of Adults\",\"bronze\"]],\"hovertemplate\":\"journal.title=Twin Research and Human Genetics<br>year=%{x}<br>times_cited=%{y}<br>altmetric=%{marker.size}<br>title=%{customdata[0]}<br>oa_status=%{customdata[1]}<extra></extra>\",\"legendgroup\":\"Twin Research and Human Genetics\",\"marker\":{\"color\":\"#00cc96\",\"size\":[3.0],\"sizemode\":\"area\",\"sizeref\":0.315,\"symbol\":\"circle\"},\"mode\":\"markers\",\"name\":\"Twin Research and Human Genetics\",\"orientation\":\"v\",\"showlegend\":true,\"type\":\"scatter\",\"x\":[2015],\"xaxis\":\"x\",\"y\":[2],\"yaxis\":\"y\"},{\"customdata\":[[\"Local food environments are associated with girls\\u2019 energy, sugar-sweetened beverage and snack-food intakes\",\"bronze\"],[\"BMI and obesity in US blood donors: a potential public health role for the blood centre\",\"bronze\"]],\"hovertemplate\":\"journal.title=Public Health Nutrition<br>year=%{x}<br>times_cited=%{y}<br>altmetric=%{marker.size}<br>title=%{customdata[0]}<br>oa_status=%{customdata[1]}<extra></extra>\",\"legendgroup\":\"Public Health Nutrition\",\"marker\":{\"color\":\"#ab63fa\",\"size\":[1.0,1.0],\"sizemode\":\"area\",\"sizeref\":0.315,\"symbol\":\"circle\"},\"mode\":\"markers\",\"name\":\"Public Health Nutrition\",\"orientation\":\"v\",\"showlegend\":true,\"type\":\"scatter\",\"x\":[2014,2012],\"xaxis\":\"x\",\"y\":[8,16],\"yaxis\":\"y\"},{\"customdata\":[[\"Histo-blood group antigens: a common niche for norovirus and rotavirus\",\"closed\"]],\"hovertemplate\":\"journal.title=Expert Reviews in Molecular Medicine<br>year=%{x}<br>times_cited=%{y}<br>altmetric=%{marker.size}<br>title=%{customdata[0]}<br>oa_status=%{customdata[1]}<extra></extra>\",\"legendgroup\":\"Expert Reviews in Molecular Medicine\",\"marker\":{\"color\":\"#FFA15A\",\"size\":[2.0],\"sizemode\":\"area\",\"sizeref\":0.315,\"symbol\":\"circle\"},\"mode\":\"markers\",\"name\":\"Expert Reviews in Molecular Medicine\",\"orientation\":\"v\",\"showlegend\":true,\"type\":\"scatter\",\"x\":[2014],\"xaxis\":\"x\",\"y\":[109],\"yaxis\":\"y\"},{\"customdata\":[[\"The Work of Monuments: Reflections on Spatial, Temporal and Social Orientations in Mongolia and the Maya Lowlands\",\"closed\"]],\"hovertemplate\":\"journal.title=Cambridge Archaeological Journal<br>year=%{x}<br>times_cited=%{y}<br>altmetric=%{marker.size}<br>title=%{customdata[0]}<br>oa_status=%{customdata[1]}<extra></extra>\",\"legendgroup\":\"Cambridge Archaeological Journal\",\"marker\":{\"color\":\"#19d3f3\",\"size\":[1.0],\"sizemode\":\"area\",\"sizeref\":0.315,\"symbol\":\"circle\"},\"mode\":\"markers\",\"name\":\"Cambridge Archaeological Journal\",\"orientation\":\"v\",\"showlegend\":true,\"type\":\"scatter\",\"x\":[2014],\"xaxis\":\"x\",\"y\":[8],\"yaxis\":\"y\"},{\"customdata\":[[\"A longitudinal study of several potential mediators of the relationship between child maltreatment and posttraumatic stress disorder symptoms\",\"green\"],[\"Executive functioning, cortisol reactivity, and symptoms of psychopathology in girls with premature adrenarche\",\"green\"],[\"Interaction of serotonin transporter linked polymorphic region and childhood neglect on criminal behavior and substance use for males and females\",\"closed\"]],\"hovertemplate\":\"journal.title=Development and Psychopathology<br>year=%{x}<br>times_cited=%{y}<br>altmetric=%{marker.size}<br>title=%{customdata[0]}<br>oa_status=%{customdata[1]}<extra></extra>\",\"legendgroup\":\"Development and Psychopathology\",\"marker\":{\"color\":\"#FF6692\",\"size\":[11.0,1.0,7.0],\"sizemode\":\"area\",\"sizeref\":0.315,\"symbol\":\"circle\"},\"mode\":\"markers\",\"name\":\"Development and Psychopathology\",\"orientation\":\"v\",\"showlegend\":true,\"type\":\"scatter\",\"x\":[2014,2012,2012],\"xaxis\":\"x\",\"y\":[39,34,23],\"yaxis\":\"y\"},{\"customdata\":[[\"The problem with brain GUTs: Conflation of different senses of \\u201cprediction\\u201d threatens metaphysical disaster\",\"closed\"]],\"hovertemplate\":\"journal.title=Behavioral and Brain Sciences<br>year=%{x}<br>times_cited=%{y}<br>altmetric=%{marker.size}<br>title=%{customdata[0]}<br>oa_status=%{customdata[1]}<extra></extra>\",\"legendgroup\":\"Behavioral and Brain Sciences\",\"marker\":{\"color\":\"#B6E880\",\"size\":[3.0],\"sizemode\":\"area\",\"sizeref\":0.315,\"symbol\":\"circle\"},\"mode\":\"markers\",\"name\":\"Behavioral and Brain Sciences\",\"orientation\":\"v\",\"showlegend\":true,\"type\":\"scatter\",\"x\":[2013],\"xaxis\":\"x\",\"y\":[32],\"yaxis\":\"y\"},{\"customdata\":[[\"Further analysis of a Late Jurassic dinosaur bone-bed from the Morrison Formation of Montana, USA, with a computed three-dimensional reconstruction\",\"closed\"]],\"hovertemplate\":\"journal.title=Earth and Environmental Science Transactions of the Royal Society of Edinburgh<br>year=%{x}<br>times_cited=%{y}<br>altmetric=%{marker.size}<br>title=%{customdata[0]}<br>oa_status=%{customdata[1]}<extra></extra>\",\"legendgroup\":\"Earth and Environmental Science Transactions of the Royal Society of Edinburgh\",\"marker\":{\"color\":\"#FF97FF\",\"size\":[4.0],\"sizemode\":\"area\",\"sizeref\":0.315,\"symbol\":\"circle\"},\"mode\":\"markers\",\"name\":\"Earth and Environmental Science Transactions of the Royal Society of Edinburgh\",\"orientation\":\"v\",\"showlegend\":true,\"type\":\"scatter\",\"x\":[2012],\"xaxis\":\"x\",\"y\":[4],\"yaxis\":\"y\"},{\"customdata\":[[\"Leadership Skills for Managing Paradoxes\",\"closed\"]],\"hovertemplate\":\"journal.title=Industrial and Organizational Psychology<br>year=%{x}<br>times_cited=%{y}<br>altmetric=%{marker.size}<br>title=%{customdata[0]}<br>oa_status=%{customdata[1]}<extra></extra>\",\"legendgroup\":\"Industrial and Organizational Psychology\",\"marker\":{\"color\":\"#FECB52\",\"size\":[3.0],\"sizemode\":\"area\",\"sizeref\":0.315,\"symbol\":\"circle\"},\"mode\":\"markers\",\"name\":\"Industrial and Organizational Psychology\",\"orientation\":\"v\",\"showlegend\":true,\"type\":\"scatter\",\"x\":[2012],\"xaxis\":\"x\",\"y\":[38],\"yaxis\":\"y\"},{\"customdata\":[[\"GALEN AND THE GIRLS: SOURCES FOR WOMEN MEDICAL WRITERS REVISITED1\",\"closed\"]],\"hovertemplate\":\"journal.title=The Classical Quarterly<br>year=%{x}<br>times_cited=%{y}<br>altmetric=%{marker.size}<br>title=%{customdata[0]}<br>oa_status=%{customdata[1]}<extra></extra>\",\"legendgroup\":\"The Classical Quarterly\",\"marker\":{\"color\":\"#636efa\",\"size\":[3.0],\"sizemode\":\"area\",\"sizeref\":0.315,\"symbol\":\"circle\"},\"mode\":\"markers\",\"name\":\"The Classical Quarterly\",\"orientation\":\"v\",\"showlegend\":true,\"type\":\"scatter\",\"x\":[2012],\"xaxis\":\"x\",\"y\":[5],\"yaxis\":\"y\"},{\"customdata\":[[\"Attentional Bias in Adolescents with Panic Disorder: Changes over an 8-day Intensive Treatment Program\",\"closed\"]],\"hovertemplate\":\"journal.title=Behavioural and Cognitive Psychotherapy<br>year=%{x}<br>times_cited=%{y}<br>altmetric=%{marker.size}<br>title=%{customdata[0]}<br>oa_status=%{customdata[1]}<extra></extra>\",\"legendgroup\":\"Behavioural and Cognitive Psychotherapy\",\"marker\":{\"color\":\"#EF553B\",\"size\":[1.0],\"sizemode\":\"area\",\"sizeref\":0.315,\"symbol\":\"circle\"},\"mode\":\"markers\",\"name\":\"Behavioural and Cognitive Psychotherapy\",\"orientation\":\"v\",\"showlegend\":true,\"type\":\"scatter\",\"x\":[2011],\"xaxis\":\"x\",\"y\":[5],\"yaxis\":\"y\"},{\"customdata\":[[\"Performance of Portable Ventilators for Mass-Casualty Care\",\"closed\"]],\"hovertemplate\":\"journal.title=Prehospital and Disaster Medicine<br>year=%{x}<br>times_cited=%{y}<br>altmetric=%{marker.size}<br>title=%{customdata[0]}<br>oa_status=%{customdata[1]}<extra></extra>\",\"legendgroup\":\"Prehospital and Disaster Medicine\",\"marker\":{\"color\":\"#00cc96\",\"size\":[1.0],\"sizemode\":\"area\",\"sizeref\":0.315,\"symbol\":\"circle\"},\"mode\":\"markers\",\"name\":\"Prehospital and Disaster Medicine\",\"orientation\":\"v\",\"showlegend\":true,\"type\":\"scatter\",\"x\":[2011],\"xaxis\":\"x\",\"y\":[2],\"yaxis\":\"y\"},{\"customdata\":[[\"Talking leaves and rocks that teach: the archaeological discovery of Sequoyah's oldest written record\",\"closed\"]],\"hovertemplate\":\"journal.title=Antiquity<br>year=%{x}<br>times_cited=%{y}<br>altmetric=%{marker.size}<br>title=%{customdata[0]}<br>oa_status=%{customdata[1]}<extra></extra>\",\"legendgroup\":\"Antiquity\",\"marker\":{\"color\":\"#ab63fa\",\"size\":[9.0],\"sizemode\":\"area\",\"sizeref\":0.315,\"symbol\":\"circle\"},\"mode\":\"markers\",\"name\":\"Antiquity\",\"orientation\":\"v\",\"showlegend\":true,\"type\":\"scatter\",\"x\":[2011],\"xaxis\":\"x\",\"y\":[4],\"yaxis\":\"y\"},{\"customdata\":[[\"THE IMPACT OF RACISM ON CLINICIAN COGNITION, BEHAVIOR, AND CLINICAL DECISION MAKING\",\"green\"]],\"hovertemplate\":\"journal.title=Du Bois Review Social Science Research on Race<br>year=%{x}<br>times_cited=%{y}<br>altmetric=%{marker.size}<br>title=%{customdata[0]}<br>oa_status=%{customdata[1]}<extra></extra>\",\"legendgroup\":\"Du Bois Review Social Science Research on Race\",\"marker\":{\"color\":\"#FFA15A\",\"size\":[49.0],\"sizemode\":\"area\",\"sizeref\":0.315,\"symbol\":\"circle\"},\"mode\":\"markers\",\"name\":\"Du Bois Review Social Science Research on Race\",\"orientation\":\"v\",\"showlegend\":true,\"type\":\"scatter\",\"x\":[2011],\"xaxis\":\"x\",\"y\":[139],\"yaxis\":\"y\"}],                        {\"legend\":{\"itemsizing\":\"constant\",\"title\":{\"text\":\"journal.title\"},\"tracegroupgap\":0},\"margin\":{\"t\":60},\"template\":{\"data\":{\"bar\":[{\"error_x\":{\"color\":\"#2a3f5f\"},\"error_y\":{\"color\":\"#2a3f5f\"},\"marker\":{\"line\":{\"color\":\"#E5ECF6\",\"width\":0.5},\"pattern\":{\"fillmode\":\"overlay\",\"size\":10,\"solidity\":0.2}},\"type\":\"bar\"}],\"barpolar\":[{\"marker\":{\"line\":{\"color\":\"#E5ECF6\",\"width\":0.5},\"pattern\":{\"fillmode\":\"overlay\",\"size\":10,\"solidity\":0.2}},\"type\":\"barpolar\"}],\"carpet\":[{\"aaxis\":{\"endlinecolor\":\"#2a3f5f\",\"gridcolor\":\"white\",\"linecolor\":\"white\",\"minorgridcolor\":\"white\",\"startlinecolor\":\"#2a3f5f\"},\"baxis\":{\"endlinecolor\":\"#2a3f5f\",\"gridcolor\":\"white\",\"linecolor\":\"white\",\"minorgridcolor\":\"white\",\"startlinecolor\":\"#2a3f5f\"},\"type\":\"carpet\"}],\"choropleth\":[{\"colorbar\":{\"outlinewidth\":0,\"ticks\":\"\"},\"type\":\"choropleth\"}],\"contour\":[{\"colorbar\":{\"outlinewidth\":0,\"ticks\":\"\"},\"colorscale\":[[0.0,\"#0d0887\"],[0.1111111111111111,\"#46039f\"],[0.2222222222222222,\"#7201a8\"],[0.3333333333333333,\"#9c179e\"],[0.4444444444444444,\"#bd3786\"],[0.5555555555555556,\"#d8576b\"],[0.6666666666666666,\"#ed7953\"],[0.7777777777777778,\"#fb9f3a\"],[0.8888888888888888,\"#fdca26\"],[1.0,\"#f0f921\"]],\"type\":\"contour\"}],\"contourcarpet\":[{\"colorbar\":{\"outlinewidth\":0,\"ticks\":\"\"},\"type\":\"contourcarpet\"}],\"heatmap\":[{\"colorbar\":{\"outlinewidth\":0,\"ticks\":\"\"},\"colorscale\":[[0.0,\"#0d0887\"],[0.1111111111111111,\"#46039f\"],[0.2222222222222222,\"#7201a8\"],[0.3333333333333333,\"#9c179e\"],[0.4444444444444444,\"#bd3786\"],[0.5555555555555556,\"#d8576b\"],[0.6666666666666666,\"#ed7953\"],[0.7777777777777778,\"#fb9f3a\"],[0.8888888888888888,\"#fdca26\"],[1.0,\"#f0f921\"]],\"type\":\"heatmap\"}],\"heatmapgl\":[{\"colorbar\":{\"outlinewidth\":0,\"ticks\":\"\"},\"colorscale\":[[0.0,\"#0d0887\"],[0.1111111111111111,\"#46039f\"],[0.2222222222222222,\"#7201a8\"],[0.3333333333333333,\"#9c179e\"],[0.4444444444444444,\"#bd3786\"],[0.5555555555555556,\"#d8576b\"],[0.6666666666666666,\"#ed7953\"],[0.7777777777777778,\"#fb9f3a\"],[0.8888888888888888,\"#fdca26\"],[1.0,\"#f0f921\"]],\"type\":\"heatmapgl\"}],\"histogram\":[{\"marker\":{\"pattern\":{\"fillmode\":\"overlay\",\"size\":10,\"solidity\":0.2}},\"type\":\"histogram\"}],\"histogram2d\":[{\"colorbar\":{\"outlinewidth\":0,\"ticks\":\"\"},\"colorscale\":[[0.0,\"#0d0887\"],[0.1111111111111111,\"#46039f\"],[0.2222222222222222,\"#7201a8\"],[0.3333333333333333,\"#9c179e\"],[0.4444444444444444,\"#bd3786\"],[0.5555555555555556,\"#d8576b\"],[0.6666666666666666,\"#ed7953\"],[0.7777777777777778,\"#fb9f3a\"],[0.8888888888888888,\"#fdca26\"],[1.0,\"#f0f921\"]],\"type\":\"histogram2d\"}],\"histogram2dcontour\":[{\"colorbar\":{\"outlinewidth\":0,\"ticks\":\"\"},\"colorscale\":[[0.0,\"#0d0887\"],[0.1111111111111111,\"#46039f\"],[0.2222222222222222,\"#7201a8\"],[0.3333333333333333,\"#9c179e\"],[0.4444444444444444,\"#bd3786\"],[0.5555555555555556,\"#d8576b\"],[0.6666666666666666,\"#ed7953\"],[0.7777777777777778,\"#fb9f3a\"],[0.8888888888888888,\"#fdca26\"],[1.0,\"#f0f921\"]],\"type\":\"histogram2dcontour\"}],\"mesh3d\":[{\"colorbar\":{\"outlinewidth\":0,\"ticks\":\"\"},\"type\":\"mesh3d\"}],\"parcoords\":[{\"line\":{\"colorbar\":{\"outlinewidth\":0,\"ticks\":\"\"}},\"type\":\"parcoords\"}],\"pie\":[{\"automargin\":true,\"type\":\"pie\"}],\"scatter\":[{\"marker\":{\"colorbar\":{\"outlinewidth\":0,\"ticks\":\"\"}},\"type\":\"scatter\"}],\"scatter3d\":[{\"line\":{\"colorbar\":{\"outlinewidth\":0,\"ticks\":\"\"}},\"marker\":{\"colorbar\":{\"outlinewidth\":0,\"ticks\":\"\"}},\"type\":\"scatter3d\"}],\"scattercarpet\":[{\"marker\":{\"colorbar\":{\"outlinewidth\":0,\"ticks\":\"\"}},\"type\":\"scattercarpet\"}],\"scattergeo\":[{\"marker\":{\"colorbar\":{\"outlinewidth\":0,\"ticks\":\"\"}},\"type\":\"scattergeo\"}],\"scattergl\":[{\"marker\":{\"colorbar\":{\"outlinewidth\":0,\"ticks\":\"\"}},\"type\":\"scattergl\"}],\"scattermapbox\":[{\"marker\":{\"colorbar\":{\"outlinewidth\":0,\"ticks\":\"\"}},\"type\":\"scattermapbox\"}],\"scatterpolar\":[{\"marker\":{\"colorbar\":{\"outlinewidth\":0,\"ticks\":\"\"}},\"type\":\"scatterpolar\"}],\"scatterpolargl\":[{\"marker\":{\"colorbar\":{\"outlinewidth\":0,\"ticks\":\"\"}},\"type\":\"scatterpolargl\"}],\"scatterternary\":[{\"marker\":{\"colorbar\":{\"outlinewidth\":0,\"ticks\":\"\"}},\"type\":\"scatterternary\"}],\"surface\":[{\"colorbar\":{\"outlinewidth\":0,\"ticks\":\"\"},\"colorscale\":[[0.0,\"#0d0887\"],[0.1111111111111111,\"#46039f\"],[0.2222222222222222,\"#7201a8\"],[0.3333333333333333,\"#9c179e\"],[0.4444444444444444,\"#bd3786\"],[0.5555555555555556,\"#d8576b\"],[0.6666666666666666,\"#ed7953\"],[0.7777777777777778,\"#fb9f3a\"],[0.8888888888888888,\"#fdca26\"],[1.0,\"#f0f921\"]],\"type\":\"surface\"}],\"table\":[{\"cells\":{\"fill\":{\"color\":\"#EBF0F8\"},\"line\":{\"color\":\"white\"}},\"header\":{\"fill\":{\"color\":\"#C8D4E3\"},\"line\":{\"color\":\"white\"}},\"type\":\"table\"}]},\"layout\":{\"annotationdefaults\":{\"arrowcolor\":\"#2a3f5f\",\"arrowhead\":0,\"arrowwidth\":1},\"autotypenumbers\":\"strict\",\"coloraxis\":{\"colorbar\":{\"outlinewidth\":0,\"ticks\":\"\"}},\"colorscale\":{\"diverging\":[[0,\"#8e0152\"],[0.1,\"#c51b7d\"],[0.2,\"#de77ae\"],[0.3,\"#f1b6da\"],[0.4,\"#fde0ef\"],[0.5,\"#f7f7f7\"],[0.6,\"#e6f5d0\"],[0.7,\"#b8e186\"],[0.8,\"#7fbc41\"],[0.9,\"#4d9221\"],[1,\"#276419\"]],\"sequential\":[[0.0,\"#0d0887\"],[0.1111111111111111,\"#46039f\"],[0.2222222222222222,\"#7201a8\"],[0.3333333333333333,\"#9c179e\"],[0.4444444444444444,\"#bd3786\"],[0.5555555555555556,\"#d8576b\"],[0.6666666666666666,\"#ed7953\"],[0.7777777777777778,\"#fb9f3a\"],[0.8888888888888888,\"#fdca26\"],[1.0,\"#f0f921\"]],\"sequentialminus\":[[0.0,\"#0d0887\"],[0.1111111111111111,\"#46039f\"],[0.2222222222222222,\"#7201a8\"],[0.3333333333333333,\"#9c179e\"],[0.4444444444444444,\"#bd3786\"],[0.5555555555555556,\"#d8576b\"],[0.6666666666666666,\"#ed7953\"],[0.7777777777777778,\"#fb9f3a\"],[0.8888888888888888,\"#fdca26\"],[1.0,\"#f0f921\"]]},\"colorway\":[\"#636efa\",\"#EF553B\",\"#00cc96\",\"#ab63fa\",\"#FFA15A\",\"#19d3f3\",\"#FF6692\",\"#B6E880\",\"#FF97FF\",\"#FECB52\"],\"font\":{\"color\":\"#2a3f5f\"},\"geo\":{\"bgcolor\":\"white\",\"lakecolor\":\"white\",\"landcolor\":\"#E5ECF6\",\"showlakes\":true,\"showland\":true,\"subunitcolor\":\"white\"},\"hoverlabel\":{\"align\":\"left\"},\"hovermode\":\"closest\",\"mapbox\":{\"style\":\"light\"},\"paper_bgcolor\":\"white\",\"plot_bgcolor\":\"#E5ECF6\",\"polar\":{\"angularaxis\":{\"gridcolor\":\"white\",\"linecolor\":\"white\",\"ticks\":\"\"},\"bgcolor\":\"#E5ECF6\",\"radialaxis\":{\"gridcolor\":\"white\",\"linecolor\":\"white\",\"ticks\":\"\"}},\"scene\":{\"xaxis\":{\"backgroundcolor\":\"#E5ECF6\",\"gridcolor\":\"white\",\"gridwidth\":2,\"linecolor\":\"white\",\"showbackground\":true,\"ticks\":\"\",\"zerolinecolor\":\"white\"},\"yaxis\":{\"backgroundcolor\":\"#E5ECF6\",\"gridcolor\":\"white\",\"gridwidth\":2,\"linecolor\":\"white\",\"showbackground\":true,\"ticks\":\"\",\"zerolinecolor\":\"white\"},\"zaxis\":{\"backgroundcolor\":\"#E5ECF6\",\"gridcolor\":\"white\",\"gridwidth\":2,\"linecolor\":\"white\",\"showbackground\":true,\"ticks\":\"\",\"zerolinecolor\":\"white\"}},\"shapedefaults\":{\"line\":{\"color\":\"#2a3f5f\"}},\"ternary\":{\"aaxis\":{\"gridcolor\":\"white\",\"linecolor\":\"white\",\"ticks\":\"\"},\"baxis\":{\"gridcolor\":\"white\",\"linecolor\":\"white\",\"ticks\":\"\"},\"bgcolor\":\"#E5ECF6\",\"caxis\":{\"gridcolor\":\"white\",\"linecolor\":\"white\",\"ticks\":\"\"}},\"title\":{\"x\":0.05},\"xaxis\":{\"automargin\":true,\"gridcolor\":\"white\",\"linecolor\":\"white\",\"ticks\":\"\",\"title\":{\"standoff\":15},\"zerolinecolor\":\"white\",\"zerolinewidth\":2},\"yaxis\":{\"automargin\":true,\"gridcolor\":\"white\",\"linecolor\":\"white\",\"ticks\":\"\",\"title\":{\"standoff\":15},\"zerolinecolor\":\"white\",\"zerolinewidth\":2}}},\"xaxis\":{\"anchor\":\"y\",\"domain\":[0.0,1.0],\"title\":{\"text\":\"year\"}},\"yaxis\":{\"anchor\":\"x\",\"domain\":[0.0,1.0],\"title\":{\"text\":\"times_cited\"}}},                        {\"responsive\": true}                    ).then(function(){\n",
       "                            \n",
       "var gd = document.getElementById('2700ea1a-b378-404c-b22b-969e781a847b');\n",
       "var x = new MutationObserver(function (mutations, observer) {{\n",
       "        var display = window.getComputedStyle(gd).display;\n",
       "        if (!display || display === 'none') {{\n",
       "            console.log([gd, 'removed!']);\n",
       "            Plotly.purge(gd);\n",
       "            observer.disconnect();\n",
       "        }}\n",
       "}});\n",
       "\n",
       "// Listen for the removal of the full notebook cells\n",
       "var notebookContainer = gd.closest('#notebook-container');\n",
       "if (notebookContainer) {{\n",
       "    x.observe(notebookContainer, {childList: true});\n",
       "}}\n",
       "\n",
       "// Listen for the clearing of the current output cell\n",
       "var outputEl = gd.closest('.output');\n",
       "if (outputEl) {{\n",
       "    x.observe(outputEl, {childList: true});\n",
       "}}\n",
       "\n",
       "                        })                };                });            </script>        </div>"
      ]
     },
     "metadata": {},
     "output_type": "display_data"
    }
   ],
   "source": [
    "years = [2010, 2011, 2012, 2013, 2014, 2015, 2016, 2017, 2018, 2019, 2020, 2021]\n",
    "\n",
    "df_scat = publication_df[(publication_df['times_cited'] >= 1) &\n",
    "             (publication_df['altmetric'] >= 1) &\n",
    "      publication_df['year'].isin(years)]\n",
    "\n",
    "figscatter2 = px.scatter(df_scat, x=\"year\", y=\"times_cited\", \n",
    "                        size = \"altmetric\",\n",
    "                        color='journal.title',\n",
    "                        hover_data=['title',\"oa_status\"])\n",
    "\n",
    "\n",
    "\n",
    "figscatter2.show()"
   ]
  },
  {
   "cell_type": "code",
   "execution_count": null,
   "metadata": {},
   "outputs": [],
   "source": []
  }
 ],
 "metadata": {
  "kernelspec": {
   "display_name": "Python 3",
   "language": "python",
   "name": "python3"
  },
  "language_info": {
   "codemirror_mode": {
    "name": "ipython",
    "version": 3
   },
   "file_extension": ".py",
   "mimetype": "text/x-python",
   "name": "python",
   "nbconvert_exporter": "python",
   "pygments_lexer": "ipython3",
   "version": "3.8.1"
  }
 },
 "nbformat": 4,
 "nbformat_minor": 4
}
